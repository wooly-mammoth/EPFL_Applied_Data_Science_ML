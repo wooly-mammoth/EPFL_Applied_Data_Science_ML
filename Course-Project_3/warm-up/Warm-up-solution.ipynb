{
 "cells": [
  {
   "cell_type": "markdown",
   "metadata": {},
   "source": [
    "# Warm-up\n",
    "## Task 1\n",
    "The first part of the project consists of two small tasks. You can find a .csv file for each one in the warm-up.zip archive from the resource section. Write the solution for all the tasks in a warm-up-solution.ipynb notebook that should run with the exts-ml course environment.\n",
    "\n",
    "The first task consists of fitting the following equation to a set of 50 x/y data points.\n",
    "\n",
    "y\n",
    "=\n",
    "a\n",
    "∗\n",
    "log\n",
    "(\n",
    "x\n",
    ")\n",
    "+\n",
    "b\n",
    "\n",
    "Your curve should be optimal with respect to the residual sum of squares metric (RSS). Perform the following steps\n",
    "\n",
    "- Fit the curve, \n",
    "- plot it\n",
    "- Compute the RSS and R2 measures\n",
    "- Discuss the results, is it a good \n",
    "R\n",
    "2\n",
    " score?"
   ]
  },
  {
   "cell_type": "code",
   "execution_count": 26,
   "metadata": {},
   "outputs": [],
   "source": [
    "import pandas as pd\n",
    "import numpy as np\n",
    "import os\n",
    "\n",
    "import matplotlib.pyplot as plt\n",
    "%matplotlib inline\n",
    "\n",
    "import seaborn as sns\n",
    "\n",
    "from sklearn.metrics import r2_score\n",
    "from sklearn.model_selection import train_test_split\n",
    "from sklearn.linear_model import LinearRegression\n",
    "from sklearn.linear_model import HuberRegressor"
   ]
  },
  {
   "cell_type": "code",
   "execution_count": 27,
   "metadata": {},
   "outputs": [],
   "source": [
    "data_df = pd.read_csv( 'task-1.csv')"
   ]
  },
  {
   "cell_type": "code",
   "execution_count": 28,
   "metadata": {},
   "outputs": [
    {
     "data": {
      "text/html": [
       "<div>\n",
       "<style scoped>\n",
       "    .dataframe tbody tr th:only-of-type {\n",
       "        vertical-align: middle;\n",
       "    }\n",
       "\n",
       "    .dataframe tbody tr th {\n",
       "        vertical-align: top;\n",
       "    }\n",
       "\n",
       "    .dataframe thead th {\n",
       "        text-align: right;\n",
       "    }\n",
       "</style>\n",
       "<table border=\"1\" class=\"dataframe\">\n",
       "  <thead>\n",
       "    <tr style=\"text-align: right;\">\n",
       "      <th></th>\n",
       "      <th>x</th>\n",
       "      <th>y</th>\n",
       "    </tr>\n",
       "  </thead>\n",
       "  <tbody>\n",
       "    <tr>\n",
       "      <th>0</th>\n",
       "      <td>10.529</td>\n",
       "      <td>39.105</td>\n",
       "    </tr>\n",
       "    <tr>\n",
       "      <th>1</th>\n",
       "      <td>10.799</td>\n",
       "      <td>40.584</td>\n",
       "    </tr>\n",
       "    <tr>\n",
       "      <th>2</th>\n",
       "      <td>11.698</td>\n",
       "      <td>39.883</td>\n",
       "    </tr>\n",
       "    <tr>\n",
       "      <th>3</th>\n",
       "      <td>12.851</td>\n",
       "      <td>39.411</td>\n",
       "    </tr>\n",
       "    <tr>\n",
       "      <th>4</th>\n",
       "      <td>13.565</td>\n",
       "      <td>40.760</td>\n",
       "    </tr>\n",
       "  </tbody>\n",
       "</table>\n",
       "</div>"
      ],
      "text/plain": [
       "        x       y\n",
       "0  10.529  39.105\n",
       "1  10.799  40.584\n",
       "2  11.698  39.883\n",
       "3  12.851  39.411\n",
       "4  13.565  40.760"
      ]
     },
     "execution_count": 28,
     "metadata": {},
     "output_type": "execute_result"
    }
   ],
   "source": [
    "data_df.head()"
   ]
  },
  {
   "cell_type": "code",
   "execution_count": 29,
   "metadata": {},
   "outputs": [
    {
     "data": {
      "text/plain": [
       "(50, 2)"
      ]
     },
     "execution_count": 29,
     "metadata": {},
     "output_type": "execute_result"
    }
   ],
   "source": [
    "data_df.shape"
   ]
  },
  {
   "cell_type": "code",
   "execution_count": 30,
   "metadata": {},
   "outputs": [],
   "source": [
    "x = data_df.x.values\n",
    "y = data_df.y.values"
   ]
  },
  {
   "cell_type": "code",
   "execution_count": 31,
   "metadata": {},
   "outputs": [
    {
     "data": {
      "text/plain": [
       "Text(0, 0.5, 'y')"
      ]
     },
     "execution_count": 31,
     "metadata": {},
     "output_type": "execute_result"
    },
    {
     "data": {
      "image/png": "[encoded data removed]",
      "text/plain": [
       "<Figure size 432x288 with 1 Axes>"
      ]
     },
     "metadata": {
      "needs_background": "light"
     },
     "output_type": "display_data"
    }
   ],
   "source": [
    "plt.scatter(x,y)\n",
    "plt.xlabel('x')\n",
    "plt.ylabel('y')"
   ]
  },
  {
   "cell_type": "code",
   "execution_count": 32,
   "metadata": {},
   "outputs": [
    {
     "data": {
      "text/plain": [
       "Text(0, 0.5, 'y')"
      ]
     },
     "execution_count": 32,
     "metadata": {},
     "output_type": "execute_result"
    },
    {
     "data": {
      "image/png": "[encoded data removed]",
      "text/plain": [
       "<Figure size 432x288 with 1 Axes>"
      ]
     },
     "metadata": {
      "needs_background": "light"
     },
     "output_type": "display_data"
    }
   ],
   "source": [
    "plt.semilogx(x,y)\n",
    "# plt.scatter(x, np.log(y))\n",
    "plt.xlabel('x')\n",
    "plt.ylabel('y')"
   ]
  },
  {
   "cell_type": "code",
   "execution_count": 33,
   "metadata": {},
   "outputs": [
    {
     "data": {
      "text/plain": [
       "Text(0, 0.5, 'y')"
      ]
     },
     "execution_count": 33,
     "metadata": {},
     "output_type": "execute_result"
    },
    {
     "data": {
      "image/png": "[encoded data removed]",
      "text/plain": [
       "<Figure size 432x288 with 1 Axes>"
      ]
     },
     "metadata": {
      "needs_background": "light"
     },
     "output_type": "display_data"
    }
   ],
   "source": [
    "plt.scatter(x, np.log(y))\n",
    "plt.xlabel('x')\n",
    "plt.ylabel('y')"
   ]
  },
  {
   "cell_type": "code",
   "execution_count": 34,
   "metadata": {},
   "outputs": [
    {
     "data": {
      "image/png": "[encoded data removed]",
      "text/plain": [
       "<Figure size 432x288 with 2 Axes>"
      ]
     },
     "metadata": {
      "needs_background": "light"
     },
     "output_type": "display_data"
    }
   ],
   "source": [
    "data_df.hist(bins = 30)\n",
    "plt.show()"
   ]
  },
  {
   "cell_type": "markdown",
   "metadata": {},
   "source": [
    "As we can see the histogram is skewed to the right and it is an indication that a log transformation could be useful in this case."
   ]
  },
  {
   "cell_type": "markdown",
   "metadata": {},
   "source": [
    "I will use the log transformation (feature engineering) for the input variable x. Then I will use a polynomial of degree = 1 (linear) in order to fit the transformed x. I check that there is no x == 0."
   ]
  },
  {
   "cell_type": "code",
   "execution_count": 35,
   "metadata": {},
   "outputs": [],
   "source": [
    "coefs, res, rank, singular_values, rcond = np.polyfit(np.log(x), y, deg = 1, full = True)\n",
    "y_pred = np.polyval(coefs, np.log(x))"
   ]
  },
  {
   "cell_type": "code",
   "execution_count": 36,
   "metadata": {},
   "outputs": [],
   "source": [
    "x_values = np.linspace(x.min(), x.max(), num = 100)\n",
    "y_values = np.polyval(coefs, np.log(x_values))"
   ]
  },
  {
   "cell_type": "code",
   "execution_count": 37,
   "metadata": {},
   "outputs": [
    {
     "data": {
      "image/png": "[encoded data removed]",
      "text/plain": [
       "<Figure size 432x288 with 1 Axes>"
      ]
     },
     "metadata": {
      "needs_background": "light"
     },
     "output_type": "display_data"
    }
   ],
   "source": [
    "plt.scatter(x,y)\n",
    "plt.plot(x_values, y_values, c = 'C3', label = 'prediction polyfit(log(x), degree = 1)')\n",
    "plt.legend()\n",
    "plt.xlabel('x')\n",
    "plt.ylabel('y')\n",
    "plt.show()\n"
   ]
  },
  {
   "cell_type": "markdown",
   "metadata": {},
   "source": [
    "the function polyfit is using the RSS as a cost function."
   ]
  },
  {
   "cell_type": "code",
   "execution_count": 38,
   "metadata": {},
   "outputs": [
    {
     "data": {
      "text/plain": [
       "array([ 3.390241  , 31.52920122])"
      ]
     },
     "execution_count": 38,
     "metadata": {},
     "output_type": "execute_result"
    }
   ],
   "source": [
    "coefs"
   ]
  },
  {
   "cell_type": "code",
   "execution_count": 39,
   "metadata": {},
   "outputs": [
    {
     "data": {
      "text/plain": [
       "0.9411567093138288"
      ]
     },
     "execution_count": 39,
     "metadata": {},
     "output_type": "execute_result"
    }
   ],
   "source": [
    "r2 = r2_score(y, y_pred)\n",
    "r2"
   ]
  },
  {
   "cell_type": "markdown",
   "metadata": {},
   "source": [
    "just checking the parameters"
   ]
  },
  {
   "cell_type": "code",
   "execution_count": 40,
   "metadata": {},
   "outputs": [
    {
     "data": {
      "text/plain": [
       "array([31.84265175])"
      ]
     },
     "execution_count": 40,
     "metadata": {},
     "output_type": "execute_result"
    }
   ],
   "source": [
    "res"
   ]
  },
  {
   "cell_type": "code",
   "execution_count": 41,
   "metadata": {},
   "outputs": [
    {
     "data": {
      "text/plain": [
       "2"
      ]
     },
     "execution_count": 41,
     "metadata": {},
     "output_type": "execute_result"
    }
   ],
   "source": [
    "rank"
   ]
  },
  {
   "cell_type": "code",
   "execution_count": 42,
   "metadata": {},
   "outputs": [
    {
     "data": {
      "text/plain": [
       "1.1102230246251565e-14"
      ]
     },
     "execution_count": 42,
     "metadata": {},
     "output_type": "execute_result"
    }
   ],
   "source": [
    "rcond"
   ]
  },
  {
   "cell_type": "markdown",
   "metadata": {},
   "source": [
    "__Interpretation:__\n",
    "Variance is the quantification of noise in the data, i.e. the random fluctuation around the mean. The interpretation of the R2 score is that the model can predict the 94% of the variance present in the data, which is a very good result.\n",
    "\n",
    "R2 = 1- RSSmodel/RSSbaseline\n",
    "\n",
    "In this case R2 ≈ 1 which means that the our model perfroms better than the beseline."
   ]
  },
  {
   "cell_type": "code",
   "execution_count": 43,
   "metadata": {},
   "outputs": [],
   "source": [
    "def RSS(y, ypred):\n",
    "    return np.sum(np.square(y-ypred))"
   ]
  },
  {
   "cell_type": "code",
   "execution_count": 44,
   "metadata": {},
   "outputs": [
    {
     "data": {
      "text/plain": [
       "31.8426517527567"
      ]
     },
     "execution_count": 44,
     "metadata": {},
     "output_type": "execute_result"
    }
   ],
   "source": [
    "RSS(y,y_pred)"
   ]
  },
  {
   "cell_type": "code",
   "execution_count": 45,
   "metadata": {},
   "outputs": [
    {
     "data": {
      "text/plain": [
       "541.1432872199999"
      ]
     },
     "execution_count": 45,
     "metadata": {},
     "output_type": "execute_result"
    }
   ],
   "source": [
    "RSS(y, np.mean(y))"
   ]
  },
  {
   "cell_type": "markdown",
   "metadata": {},
   "source": [
    "Is obvious that the RSS obtained with fitting the model compared with the baeline is a very good one."
   ]
  },
  {
   "cell_type": "markdown",
   "metadata": {},
   "source": [
    "# Task 2\n",
    "The second task consists of fitting a model to a set of data points that contains outliers. \n",
    "\n",
    "The goal is to try and compare different approaches to handle outliers. Use the train/test split methodology (ex. 80-20 splits) and compare the test MAE score for each one of the following approaches\n",
    "\n",
    " - Fit a linear regression with the outliers\n",
    " - Fit a huber regression with the outliers\n",
    " - Fit a linear regression without the outliers\n",
    " \n",
    "The linear regression without outliers and huber regression models should both perform better than the linear regression with outliers."
   ]
  },
  {
   "cell_type": "code",
   "execution_count": 46,
   "metadata": {},
   "outputs": [],
   "source": [
    "data2_df = pd.read_csv( 'task-2.csv')"
   ]
  },
  {
   "cell_type": "code",
   "execution_count": 47,
   "metadata": {},
   "outputs": [
    {
     "data": {
      "text/html": [
       "<div>\n",
       "<style scoped>\n",
       "    .dataframe tbody tr th:only-of-type {\n",
       "        vertical-align: middle;\n",
       "    }\n",
       "\n",
       "    .dataframe tbody tr th {\n",
       "        vertical-align: top;\n",
       "    }\n",
       "\n",
       "    .dataframe thead th {\n",
       "        text-align: right;\n",
       "    }\n",
       "</style>\n",
       "<table border=\"1\" class=\"dataframe\">\n",
       "  <thead>\n",
       "    <tr style=\"text-align: right;\">\n",
       "      <th></th>\n",
       "      <th>x1</th>\n",
       "      <th>x2</th>\n",
       "      <th>x3</th>\n",
       "      <th>y</th>\n",
       "    </tr>\n",
       "  </thead>\n",
       "  <tbody>\n",
       "    <tr>\n",
       "      <th>0</th>\n",
       "      <td>7.892</td>\n",
       "      <td>318.818</td>\n",
       "      <td>162.970</td>\n",
       "      <td>2112.420</td>\n",
       "    </tr>\n",
       "    <tr>\n",
       "      <th>1</th>\n",
       "      <td>8.830</td>\n",
       "      <td>303.180</td>\n",
       "      <td>181.399</td>\n",
       "      <td>2096.231</td>\n",
       "    </tr>\n",
       "    <tr>\n",
       "      <th>2</th>\n",
       "      <td>13.811</td>\n",
       "      <td>296.231</td>\n",
       "      <td>145.849</td>\n",
       "      <td>2067.045</td>\n",
       "    </tr>\n",
       "    <tr>\n",
       "      <th>3</th>\n",
       "      <td>12.863</td>\n",
       "      <td>325.830</td>\n",
       "      <td>167.996</td>\n",
       "      <td>2269.262</td>\n",
       "    </tr>\n",
       "    <tr>\n",
       "      <th>4</th>\n",
       "      <td>13.698</td>\n",
       "      <td>254.035</td>\n",
       "      <td>171.892</td>\n",
       "      <td>1966.604</td>\n",
       "    </tr>\n",
       "  </tbody>\n",
       "</table>\n",
       "</div>"
      ],
      "text/plain": [
       "       x1       x2       x3         y\n",
       "0   7.892  318.818  162.970  2112.420\n",
       "1   8.830  303.180  181.399  2096.231\n",
       "2  13.811  296.231  145.849  2067.045\n",
       "3  12.863  325.830  167.996  2269.262\n",
       "4  13.698  254.035  171.892  1966.604"
      ]
     },
     "execution_count": 47,
     "metadata": {},
     "output_type": "execute_result"
    }
   ],
   "source": [
    "data2_df.head()"
   ]
  },
  {
   "cell_type": "code",
   "execution_count": 48,
   "metadata": {},
   "outputs": [
    {
     "data": {
      "text/plain": [
       "(1000, 4)"
      ]
     },
     "execution_count": 48,
     "metadata": {},
     "output_type": "execute_result"
    }
   ],
   "source": [
    "data2_df.shape"
   ]
  },
  {
   "cell_type": "code",
   "execution_count": 49,
   "metadata": {},
   "outputs": [
    {
     "data": {
      "image/png": "[encoded data removed]",
      "text/plain": [
       "<Figure size 432x288 with 4 Axes>"
      ]
     },
     "metadata": {
      "needs_background": "light"
     },
     "output_type": "display_data"
    }
   ],
   "source": [
    "data2_df.hist(bins = 30);"
   ]
  },
  {
   "cell_type": "code",
   "execution_count": 50,
   "metadata": {},
   "outputs": [
    {
     "data": {
      "image/png": "[encoded data removed]",
      "text/plain": [
       "<Figure size 1080x504 with 3 Axes>"
      ]
     },
     "metadata": {
      "needs_background": "light"
     },
     "output_type": "display_data"
    }
   ],
   "source": [
    "fig, axes = plt.subplots(nrows = 1, ncols = 3, figsize = (15, 7))\n",
    "# fig.subplots_adjust(hspace=.3, wspace=.175)\n",
    "for feature, ax in zip(['x1', 'x2', 'x3'], axes.ravel()):\n",
    "    ax.scatter(data2_df[feature], data2_df.y)\n",
    "    ax.set(title = 'feature {} vs. target'.format(feature))\n",
    "    ax.set(xlabel = feature)\n",
    "    ax.set(ylabel = 'y')\n",
    "\n",
    "    #axes[feature, ax].scatter(data2_df[feature], data2_df.y)\n",
    "    #data2_df[feature].plot(data2_df.y)\n",
    "    \n",
    "    \n",
    "    \n",
    "    \n",
    "    "
   ]
  },
  {
   "cell_type": "markdown",
   "metadata": {},
   "source": [
    "I observe that the distributions are symetrical with respect to the outliers (not skewed). That means that it makes sense to use the z-score method to identify the outliers, although the distributions are not gaussian or nearly gaussian."
   ]
  },
  {
   "cell_type": "code",
   "execution_count": 51,
   "metadata": {},
   "outputs": [
    {
     "name": "stderr",
     "output_type": "stream",
     "text": [
      "/Users/tgdstpej/opt/anaconda3/envs/exts-ml/lib/python3.6/site-packages/ipykernel_launcher.py:3: RuntimeWarning: invalid value encountered in log1p\n",
      "  This is separate from the ipykernel package so we can avoid doing imports until\n",
      "/Users/tgdstpej/opt/anaconda3/envs/exts-ml/lib/python3.6/site-packages/numpy/lib/histograms.py:754: RuntimeWarning: invalid value encountered in greater_equal\n",
      "  keep = (tmp_a >= first_edge)\n",
      "/Users/tgdstpej/opt/anaconda3/envs/exts-ml/lib/python3.6/site-packages/numpy/lib/histograms.py:755: RuntimeWarning: invalid value encountered in less_equal\n",
      "  keep &= (tmp_a <= last_edge)\n"
     ]
    },
    {
     "data": {
      "image/png": "[encoded data removed]",
      "text/plain": [
       "<Figure size 1080x360 with 3 Axes>"
      ]
     },
     "metadata": {
      "needs_background": "light"
     },
     "output_type": "display_data"
    }
   ],
   "source": [
    "fig, axes = plt.subplots(nrows = 1, ncols = 3, figsize = (15, 5))\n",
    "for feature, ax in zip(['x1', 'x2', 'x3'], axes.ravel()):\n",
    "    ax.hist(np.log1p(data2_df[feature]), bins = 35)\n",
    "    sns.despine()\n",
    "    ax.set(title = 'feature {} vs. target'.format(feature))\n",
    "    ax.set(xlabel = feature)\n",
    "    ax.set(ylabel = 'y')"
   ]
  },
  {
   "cell_type": "markdown",
   "metadata": {},
   "source": [
    "the log-transformation does not help in this case since none of the distributions result to a normal distribution after the transformation."
   ]
  },
  {
   "cell_type": "code",
   "execution_count": 52,
   "metadata": {},
   "outputs": [
    {
     "data": {
      "image/png": "[encoded data removed]",
      "text/plain": [
       "<Figure size 1080x432 with 6 Axes>"
      ]
     },
     "metadata": {
      "needs_background": "light"
     },
     "output_type": "display_data"
    }
   ],
   "source": [
    "fig, axes = plt.subplots(2, 3, gridspec_kw = {\"height_ratios\": (0.7, 0.3)}, figsize = (15,6))\n",
    "\n",
    "# pairing feature with column in plot\n",
    "for (feature, plot_col) in zip(['x1', 'x2', 'x3'], [0, 1, 2]):\n",
    "    axes[0, plot_col].hist(data2_df[feature], bins = 50)\n",
    "    axes[0, plot_col].set_title(\"Histogram and boxplot for {}\".format(feature))\n",
    "    sns.despine(ax = axes[0, plot_col])\n",
    "    sns.boxplot(data2_df[feature], ax = axes[1, plot_col], fliersize = 5)\n",
    "    axes[1, plot_col].set(yticks = [])\n",
    "    sns.despine(ax = axes[1, plot_col], left = True)\n",
    "    \n",
    "    "
   ]
  },
  {
   "cell_type": "raw",
   "metadata": {},
   "source": [
    "fig, axes = plt.subplots(2, 3, gridspec_kw = {\"height_ratios\": (0.7, 0.3)}, figsize = (15,6))\n",
    "# try log1p\n",
    "# pairing feature with column in plot\n",
    "for (feature, plot_col) in zip(['x1', 'x2', 'x3'], [0, 1, 2]):\n",
    "    axes[0, plot_col].hist(np.log1p(data2_df[feature]), bins = 50)\n",
    "    axes[0, plot_col].set_title(\"Histogram and boxplot for {}\".format(feature))\n",
    "    sns.despine(ax = axes[0, plot_col])\n",
    "    sns.boxplot(np.log(data2_df[feature]), ax = axes[1, plot_col], fliersize = 5)\n",
    "    axes[1, plot_col].set(yticks = [])\n",
    "    sns.despine(ax = axes[1, plot_col], left = True)"
   ]
  },
  {
   "cell_type": "markdown",
   "metadata": {},
   "source": [
    "### Split train and test data:\n",
    "split the data set 80-20%"
   ]
  },
  {
   "cell_type": "raw",
   "metadata": {},
   "source": [
    "X = data2_df.drop(['y'], axis = 1).values\n",
    "y = data2_df['y'].values"
   ]
  },
  {
   "cell_type": "raw",
   "metadata": {},
   "source": [
    "X.shape"
   ]
  },
  {
   "cell_type": "raw",
   "metadata": {},
   "source": [
    "y.shape"
   ]
  },
  {
   "cell_type": "raw",
   "metadata": {},
   "source": [
    "from sklearn.model_selection import train_test_split\n",
    "X_tr, X_te, y_tr, y_te = train_test_split(X, y, train_size = 0.8, test_size = 0.2, random_state = 0) "
   ]
  },
  {
   "cell_type": "markdown",
   "metadata": {},
   "source": [
    "more confident with panda"
   ]
  },
  {
   "cell_type": "code",
   "execution_count": 53,
   "metadata": {},
   "outputs": [],
   "source": [
    "train_df, test_df = train_test_split(data2_df, train_size = 0.8, test_size = 0.2, random_state = 0)"
   ]
  },
  {
   "cell_type": "code",
   "execution_count": 54,
   "metadata": {},
   "outputs": [],
   "source": [
    "X_tr = train_df.drop(['y'], axis = 1).values\n",
    "y_tr = train_df['y'].values\n",
    "X_te = test_df.drop(['y'], axis = 1).values\n",
    "y_te = test_df['y'].values"
   ]
  },
  {
   "cell_type": "code",
   "execution_count": 55,
   "metadata": {},
   "outputs": [],
   "source": [
    "def MAE(y, y_pred):\n",
    "    return np.mean(np.abs(y-y_pred))"
   ]
  },
  {
   "cell_type": "markdown",
   "metadata": {},
   "source": [
    "### Baseline"
   ]
  },
  {
   "cell_type": "code",
   "execution_count": 56,
   "metadata": {},
   "outputs": [
    {
     "name": "stdout",
     "output_type": "stream",
     "text": [
      "117.26195640000003\n"
     ]
    }
   ],
   "source": [
    "print(MAE(y_te, np.mean(y_tr)))"
   ]
  },
  {
   "cell_type": "markdown",
   "metadata": {},
   "source": [
    "### fit Linear Regression"
   ]
  },
  {
   "cell_type": "code",
   "execution_count": 57,
   "metadata": {},
   "outputs": [
    {
     "name": "stdout",
     "output_type": "stream",
     "text": [
      "Coefficients: [ 3.18946219  0.72611244 -0.29586984]\n",
      "Intercept: 1982.1964160299176\n",
      "R2 score: 0.17957703204094844\n",
      "104.78843301492127\n"
     ]
    }
   ],
   "source": [
    "lr = LinearRegression()\n",
    "lr.fit(X_tr, y_tr)\n",
    "\n",
    "print('Coefficients:', lr.coef_)\n",
    "print('Intercept:', lr.intercept_)\n",
    "print('R2 score:', lr.score(X_te, y_te))\n",
    "\n",
    "y_pred_lr = lr.predict(X_te)\n",
    "\n",
    "print(MAE(y_te, lr.predict(X_te)))"
   ]
  },
  {
   "cell_type": "markdown",
   "metadata": {},
   "source": [
    "### fit Huber Regressor"
   ]
  },
  {
   "cell_type": "code",
   "execution_count": 58,
   "metadata": {},
   "outputs": [
    {
     "name": "stdout",
     "output_type": "stream",
     "text": [
      "Coefficients: [11.70103553  2.21157023 -0.35049231]\n",
      "Intercept: 1413.3619951514472\n",
      "R2 score: 0.018986067381861926\n",
      "83.90812410598242\n"
     ]
    }
   ],
   "source": [
    "huber = HuberRegressor()\n",
    "huber.fit(X_tr, y_tr)\n",
    "\n",
    "print('Coefficients:', huber.coef_)\n",
    "print('Intercept:', huber.intercept_)\n",
    "print('R2 score:', huber.score(X_te, y_te))\n",
    "\n",
    "y_pred_huber = huber.predict(X_te)\n",
    "print(MAE(y_te, huber.predict(X_te)))"
   ]
  },
  {
   "cell_type": "markdown",
   "metadata": {},
   "source": [
    "### removing outliers"
   ]
  },
  {
   "cell_type": "markdown",
   "metadata": {},
   "source": [
    "I have observed that none of the features exhibit a normal distribution also after a log transformation. Therefore I will choose some a more statistically robust method to cutoff outliers in this case the median abslute deviation MAD with a constant of C = 2√3 ≈ 1.1547"
   ]
  },
  {
   "cell_type": "raw",
   "metadata": {},
   "source": [
    "def doubleMAD(X, C):\n",
    "    C = 2/np.sqrt(3)\n",
    "    m = np.median(X, axis = 0)\n",
    "    dev = np.abs(X-np.median(X, axis = 0))\n",
    "    X_left = X[X<m]\n",
    "    X_right = X[X>m]\n",
    "    left_mad = C*np.median(np.abs(X_left - np.median(X_left, axis = 0)), axis = 0)\n",
    "    right_mad = C*np.median(np.abs(X_right - np.median(X_right, axis = 0)), axis = 0)\n",
    "    "
   ]
  },
  {
   "cell_type": "raw",
   "metadata": {},
   "source": [
    "X_left = X[X<m]\n",
    "left_mad = C*np.median(np.abs(X_left - np.median(X_left, axis = 0)), axis = 0)\n",
    "left_mad\n",
    "# filter_mad = (X-np.median(X, axis = 0))/MAD(X,C) >"
   ]
  },
  {
   "cell_type": "markdown",
   "metadata": {},
   "source": [
    "### Method - 1: Inter-quantile Range (IQR)"
   ]
  },
  {
   "cell_type": "markdown",
   "metadata": {},
   "source": [
    "Since the distributions are not gaussian I will not apply the z-scores but the Interquantile range to filter the outliers."
   ]
  },
  {
   "cell_type": "code",
   "execution_count": 59,
   "metadata": {},
   "outputs": [],
   "source": [
    "# for one feature:\n",
    "## compute the interquartile range\n",
    "#Q1 = np.percentile(y, 25, axis=0)\n",
    "#Q3 = np.percentile(y, 75, axis=0)\n",
    "#IQR = Q3 - Q1 # interquatile range\n",
    "\n",
    "# select outliers\n",
    "#lower_bound = Q1 - 1.5 * IQR \n",
    "#upper_bound = Q3 + 1.5 * IQR\n",
    "#idx = (y < lower_bound) | (y > upper_bound)\n",
    "\n",
    "#coefs_iqr = np.polyfit(x[~idx], y[~idx], deg=1)"
   ]
  },
  {
   "cell_type": "code",
   "execution_count": 60,
   "metadata": {},
   "outputs": [
    {
     "name": "stdout",
     "output_type": "stream",
     "text": [
      "Feature 1: lower bound: 2.2347, upper bound: 21.8918\n",
      "Feature 2: lower bound: 218.5799, upper bound: 420.2484\n",
      "Feature 3: lower bound: 127.2128, upper bound: 191.0095\n"
     ]
    }
   ],
   "source": [
    "# compute the interquantile range IQR:\n",
    "train_df_X = train_df.drop('y', axis = 1)\n",
    "Q3 = np.quantile(train_df_X, 0.75, axis = 0)\n",
    "# or equivalently: Q3_ = np.percentile(X, 75, axis = 0)\n",
    "Q1 = np.quantile(train_df_X, 0.25, axis = 0)\n",
    "\n",
    "IQR = Q3 - Q1\n",
    "lower_bound = Q1 - 1.7*IQR\n",
    "upper_bound = Q3 + 1.7*IQR\n",
    "\n",
    "print(\"Feature 1: lower bound: {:.4f}, upper bound: {:.4f}\".format(lower_bound[0], upper_bound[0]))\n",
    "print(\"Feature 2: lower bound: {:.4f}, upper bound: {:.4f}\".format(lower_bound[1], upper_bound[1]))\n",
    "print(\"Feature 3: lower bound: {:.4f}, upper bound: {:.4f}\".format(lower_bound[2], upper_bound[2]))"
   ]
  },
  {
   "cell_type": "code",
   "execution_count": 61,
   "metadata": {},
   "outputs": [
    {
     "data": {
      "text/plain": [
       "Index(['x1', 'x2', 'x3'], dtype='object')"
      ]
     },
     "execution_count": 61,
     "metadata": {},
     "output_type": "execute_result"
    }
   ],
   "source": [
    "train_df_X.columns"
   ]
  },
  {
   "cell_type": "code",
   "execution_count": 62,
   "metadata": {},
   "outputs": [
    {
     "data": {
      "text/html": [
       "<div>\n",
       "<style scoped>\n",
       "    .dataframe tbody tr th:only-of-type {\n",
       "        vertical-align: middle;\n",
       "    }\n",
       "\n",
       "    .dataframe tbody tr th {\n",
       "        vertical-align: top;\n",
       "    }\n",
       "\n",
       "    .dataframe thead th {\n",
       "        text-align: right;\n",
       "    }\n",
       "</style>\n",
       "<table border=\"1\" class=\"dataframe\">\n",
       "  <thead>\n",
       "    <tr style=\"text-align: right;\">\n",
       "      <th></th>\n",
       "      <th>x1</th>\n",
       "      <th>x2</th>\n",
       "      <th>x3</th>\n",
       "    </tr>\n",
       "  </thead>\n",
       "  <tbody>\n",
       "    <tr>\n",
       "      <th>687</th>\n",
       "      <td>10.298</td>\n",
       "      <td>276.916</td>\n",
       "      <td>127.701</td>\n",
       "    </tr>\n",
       "    <tr>\n",
       "      <th>500</th>\n",
       "      <td>19.161</td>\n",
       "      <td>339.872</td>\n",
       "      <td>156.181</td>\n",
       "    </tr>\n",
       "    <tr>\n",
       "      <th>332</th>\n",
       "      <td>11.356</td>\n",
       "      <td>363.086</td>\n",
       "      <td>158.807</td>\n",
       "    </tr>\n",
       "    <tr>\n",
       "      <th>979</th>\n",
       "      <td>10.656</td>\n",
       "      <td>326.522</td>\n",
       "      <td>164.297</td>\n",
       "    </tr>\n",
       "    <tr>\n",
       "      <th>817</th>\n",
       "      <td>11.599</td>\n",
       "      <td>222.001</td>\n",
       "      <td>179.855</td>\n",
       "    </tr>\n",
       "  </tbody>\n",
       "</table>\n",
       "</div>"
      ],
      "text/plain": [
       "         x1       x2       x3\n",
       "687  10.298  276.916  127.701\n",
       "500  19.161  339.872  156.181\n",
       "332  11.356  363.086  158.807\n",
       "979  10.656  326.522  164.297\n",
       "817  11.599  222.001  179.855"
      ]
     },
     "execution_count": 62,
     "metadata": {},
     "output_type": "execute_result"
    }
   ],
   "source": [
    "train_df_X.head()"
   ]
  },
  {
   "cell_type": "code",
   "execution_count": 63,
   "metadata": {},
   "outputs": [
    {
     "data": {
      "text/html": [
       "<div>\n",
       "<style scoped>\n",
       "    .dataframe tbody tr th:only-of-type {\n",
       "        vertical-align: middle;\n",
       "    }\n",
       "\n",
       "    .dataframe tbody tr th {\n",
       "        vertical-align: top;\n",
       "    }\n",
       "\n",
       "    .dataframe thead th {\n",
       "        text-align: right;\n",
       "    }\n",
       "</style>\n",
       "<table border=\"1\" class=\"dataframe\">\n",
       "  <thead>\n",
       "    <tr style=\"text-align: right;\">\n",
       "      <th></th>\n",
       "      <th>count</th>\n",
       "      <th>mean</th>\n",
       "      <th>std</th>\n",
       "      <th>min</th>\n",
       "      <th>25%</th>\n",
       "      <th>50%</th>\n",
       "      <th>75%</th>\n",
       "      <th>max</th>\n",
       "    </tr>\n",
       "  </thead>\n",
       "  <tbody>\n",
       "    <tr>\n",
       "      <th>x1</th>\n",
       "      <td>800.0</td>\n",
       "      <td>12.414394</td>\n",
       "      <td>8.795636</td>\n",
       "      <td>-49.652</td>\n",
       "      <td>9.82950</td>\n",
       "      <td>12.2200</td>\n",
       "      <td>14.29700</td>\n",
       "      <td>100.692</td>\n",
       "    </tr>\n",
       "    <tr>\n",
       "      <th>x2</th>\n",
       "      <td>800.0</td>\n",
       "      <td>318.736139</td>\n",
       "      <td>71.723179</td>\n",
       "      <td>-375.335</td>\n",
       "      <td>296.49725</td>\n",
       "      <td>321.4560</td>\n",
       "      <td>342.33100</td>\n",
       "      <td>836.358</td>\n",
       "    </tr>\n",
       "    <tr>\n",
       "      <th>x3</th>\n",
       "      <td>800.0</td>\n",
       "      <td>158.183629</td>\n",
       "      <td>26.196022</td>\n",
       "      <td>-146.921</td>\n",
       "      <td>151.86150</td>\n",
       "      <td>159.3275</td>\n",
       "      <td>166.36075</td>\n",
       "      <td>344.797</td>\n",
       "    </tr>\n",
       "  </tbody>\n",
       "</table>\n",
       "</div>"
      ],
      "text/plain": [
       "    count        mean        std      min        25%       50%        75%  \\\n",
       "x1  800.0   12.414394   8.795636  -49.652    9.82950   12.2200   14.29700   \n",
       "x2  800.0  318.736139  71.723179 -375.335  296.49725  321.4560  342.33100   \n",
       "x3  800.0  158.183629  26.196022 -146.921  151.86150  159.3275  166.36075   \n",
       "\n",
       "        max  \n",
       "x1  100.692  \n",
       "x2  836.358  \n",
       "x3  344.797  "
      ]
     },
     "execution_count": 63,
     "metadata": {},
     "output_type": "execute_result"
    }
   ],
   "source": [
    "train_df_X.describe().T"
   ]
  },
  {
   "cell_type": "code",
   "execution_count": 64,
   "metadata": {},
   "outputs": [
    {
     "data": {
      "text/plain": [
       "array([ 14.297  , 342.331  , 166.36075])"
      ]
     },
     "execution_count": 64,
     "metadata": {},
     "output_type": "execute_result"
    }
   ],
   "source": [
    "Q3"
   ]
  },
  {
   "cell_type": "code",
   "execution_count": 65,
   "metadata": {},
   "outputs": [
    {
     "name": "stdout",
     "output_type": "stream",
     "text": [
      "total number of outliers per feature: \n",
      "x1    36\n",
      "x2    36\n",
      "x3    35\n",
      "dtype: int64\n"
     ]
    },
    {
     "data": {
      "text/plain": [
       "x1    36\n",
       "x2    36\n",
       "x3    35\n",
       "dtype: int64"
      ]
     },
     "execution_count": 65,
     "metadata": {},
     "output_type": "execute_result"
    }
   ],
   "source": [
    "#select outliers:\n",
    "idx = ((train_df_X < lower_bound) | (train_df_X > upper_bound))\n",
    "print(\"total number of outliers per feature: \")\n",
    "print(idx.sum(axis = 0))\n",
    "\n",
    "idx.sum(axis = 0)\n"
   ]
  },
  {
   "cell_type": "code",
   "execution_count": 66,
   "metadata": {},
   "outputs": [
    {
     "data": {
      "text/html": [
       "<div>\n",
       "<style scoped>\n",
       "    .dataframe tbody tr th:only-of-type {\n",
       "        vertical-align: middle;\n",
       "    }\n",
       "\n",
       "    .dataframe tbody tr th {\n",
       "        vertical-align: top;\n",
       "    }\n",
       "\n",
       "    .dataframe thead th {\n",
       "        text-align: right;\n",
       "    }\n",
       "</style>\n",
       "<table border=\"1\" class=\"dataframe\">\n",
       "  <thead>\n",
       "    <tr style=\"text-align: right;\">\n",
       "      <th></th>\n",
       "      <th>x1</th>\n",
       "      <th>x2</th>\n",
       "      <th>x3</th>\n",
       "    </tr>\n",
       "  </thead>\n",
       "  <tbody>\n",
       "    <tr>\n",
       "      <th>687</th>\n",
       "      <td>False</td>\n",
       "      <td>False</td>\n",
       "      <td>False</td>\n",
       "    </tr>\n",
       "    <tr>\n",
       "      <th>500</th>\n",
       "      <td>False</td>\n",
       "      <td>False</td>\n",
       "      <td>False</td>\n",
       "    </tr>\n",
       "    <tr>\n",
       "      <th>332</th>\n",
       "      <td>False</td>\n",
       "      <td>False</td>\n",
       "      <td>False</td>\n",
       "    </tr>\n",
       "    <tr>\n",
       "      <th>979</th>\n",
       "      <td>False</td>\n",
       "      <td>False</td>\n",
       "      <td>False</td>\n",
       "    </tr>\n",
       "    <tr>\n",
       "      <th>817</th>\n",
       "      <td>False</td>\n",
       "      <td>False</td>\n",
       "      <td>False</td>\n",
       "    </tr>\n",
       "    <tr>\n",
       "      <th>620</th>\n",
       "      <td>False</td>\n",
       "      <td>False</td>\n",
       "      <td>False</td>\n",
       "    </tr>\n",
       "    <tr>\n",
       "      <th>814</th>\n",
       "      <td>False</td>\n",
       "      <td>False</td>\n",
       "      <td>False</td>\n",
       "    </tr>\n",
       "    <tr>\n",
       "      <th>516</th>\n",
       "      <td>False</td>\n",
       "      <td>False</td>\n",
       "      <td>False</td>\n",
       "    </tr>\n",
       "    <tr>\n",
       "      <th>518</th>\n",
       "      <td>False</td>\n",
       "      <td>False</td>\n",
       "      <td>False</td>\n",
       "    </tr>\n",
       "    <tr>\n",
       "      <th>940</th>\n",
       "      <td>False</td>\n",
       "      <td>False</td>\n",
       "      <td>False</td>\n",
       "    </tr>\n",
       "    <tr>\n",
       "      <th>113</th>\n",
       "      <td>False</td>\n",
       "      <td>False</td>\n",
       "      <td>False</td>\n",
       "    </tr>\n",
       "    <tr>\n",
       "      <th>612</th>\n",
       "      <td>False</td>\n",
       "      <td>False</td>\n",
       "      <td>False</td>\n",
       "    </tr>\n",
       "    <tr>\n",
       "      <th>37</th>\n",
       "      <td>True</td>\n",
       "      <td>True</td>\n",
       "      <td>False</td>\n",
       "    </tr>\n",
       "    <tr>\n",
       "      <th>894</th>\n",
       "      <td>False</td>\n",
       "      <td>False</td>\n",
       "      <td>False</td>\n",
       "    </tr>\n",
       "    <tr>\n",
       "      <th>895</th>\n",
       "      <td>False</td>\n",
       "      <td>False</td>\n",
       "      <td>False</td>\n",
       "    </tr>\n",
       "    <tr>\n",
       "      <th>992</th>\n",
       "      <td>False</td>\n",
       "      <td>False</td>\n",
       "      <td>False</td>\n",
       "    </tr>\n",
       "    <tr>\n",
       "      <th>158</th>\n",
       "      <td>False</td>\n",
       "      <td>False</td>\n",
       "      <td>False</td>\n",
       "    </tr>\n",
       "    <tr>\n",
       "      <th>154</th>\n",
       "      <td>False</td>\n",
       "      <td>False</td>\n",
       "      <td>False</td>\n",
       "    </tr>\n",
       "    <tr>\n",
       "      <th>40</th>\n",
       "      <td>False</td>\n",
       "      <td>False</td>\n",
       "      <td>False</td>\n",
       "    </tr>\n",
       "    <tr>\n",
       "      <th>585</th>\n",
       "      <td>False</td>\n",
       "      <td>False</td>\n",
       "      <td>False</td>\n",
       "    </tr>\n",
       "    <tr>\n",
       "      <th>805</th>\n",
       "      <td>False</td>\n",
       "      <td>False</td>\n",
       "      <td>False</td>\n",
       "    </tr>\n",
       "    <tr>\n",
       "      <th>592</th>\n",
       "      <td>False</td>\n",
       "      <td>False</td>\n",
       "      <td>False</td>\n",
       "    </tr>\n",
       "    <tr>\n",
       "      <th>964</th>\n",
       "      <td>False</td>\n",
       "      <td>False</td>\n",
       "      <td>False</td>\n",
       "    </tr>\n",
       "    <tr>\n",
       "      <th>266</th>\n",
       "      <td>False</td>\n",
       "      <td>False</td>\n",
       "      <td>False</td>\n",
       "    </tr>\n",
       "    <tr>\n",
       "      <th>406</th>\n",
       "      <td>False</td>\n",
       "      <td>False</td>\n",
       "      <td>False</td>\n",
       "    </tr>\n",
       "    <tr>\n",
       "      <th>294</th>\n",
       "      <td>True</td>\n",
       "      <td>False</td>\n",
       "      <td>True</td>\n",
       "    </tr>\n",
       "    <tr>\n",
       "      <th>604</th>\n",
       "      <td>False</td>\n",
       "      <td>False</td>\n",
       "      <td>False</td>\n",
       "    </tr>\n",
       "    <tr>\n",
       "      <th>522</th>\n",
       "      <td>False</td>\n",
       "      <td>False</td>\n",
       "      <td>False</td>\n",
       "    </tr>\n",
       "    <tr>\n",
       "      <th>18</th>\n",
       "      <td>False</td>\n",
       "      <td>False</td>\n",
       "      <td>False</td>\n",
       "    </tr>\n",
       "    <tr>\n",
       "      <th>425</th>\n",
       "      <td>False</td>\n",
       "      <td>False</td>\n",
       "      <td>False</td>\n",
       "    </tr>\n",
       "    <tr>\n",
       "      <th>...</th>\n",
       "      <td>...</td>\n",
       "      <td>...</td>\n",
       "      <td>...</td>\n",
       "    </tr>\n",
       "    <tr>\n",
       "      <th>72</th>\n",
       "      <td>False</td>\n",
       "      <td>False</td>\n",
       "      <td>False</td>\n",
       "    </tr>\n",
       "    <tr>\n",
       "      <th>845</th>\n",
       "      <td>False</td>\n",
       "      <td>False</td>\n",
       "      <td>False</td>\n",
       "    </tr>\n",
       "    <tr>\n",
       "      <th>537</th>\n",
       "      <td>False</td>\n",
       "      <td>False</td>\n",
       "      <td>False</td>\n",
       "    </tr>\n",
       "    <tr>\n",
       "      <th>677</th>\n",
       "      <td>False</td>\n",
       "      <td>False</td>\n",
       "      <td>False</td>\n",
       "    </tr>\n",
       "    <tr>\n",
       "      <th>849</th>\n",
       "      <td>False</td>\n",
       "      <td>False</td>\n",
       "      <td>False</td>\n",
       "    </tr>\n",
       "    <tr>\n",
       "      <th>983</th>\n",
       "      <td>False</td>\n",
       "      <td>False</td>\n",
       "      <td>False</td>\n",
       "    </tr>\n",
       "    <tr>\n",
       "      <th>174</th>\n",
       "      <td>False</td>\n",
       "      <td>False</td>\n",
       "      <td>False</td>\n",
       "    </tr>\n",
       "    <tr>\n",
       "      <th>87</th>\n",
       "      <td>False</td>\n",
       "      <td>False</td>\n",
       "      <td>False</td>\n",
       "    </tr>\n",
       "    <tr>\n",
       "      <th>551</th>\n",
       "      <td>False</td>\n",
       "      <td>False</td>\n",
       "      <td>False</td>\n",
       "    </tr>\n",
       "    <tr>\n",
       "      <th>486</th>\n",
       "      <td>False</td>\n",
       "      <td>False</td>\n",
       "      <td>False</td>\n",
       "    </tr>\n",
       "    <tr>\n",
       "      <th>705</th>\n",
       "      <td>False</td>\n",
       "      <td>False</td>\n",
       "      <td>False</td>\n",
       "    </tr>\n",
       "    <tr>\n",
       "      <th>314</th>\n",
       "      <td>False</td>\n",
       "      <td>False</td>\n",
       "      <td>False</td>\n",
       "    </tr>\n",
       "    <tr>\n",
       "      <th>396</th>\n",
       "      <td>False</td>\n",
       "      <td>False</td>\n",
       "      <td>False</td>\n",
       "    </tr>\n",
       "    <tr>\n",
       "      <th>600</th>\n",
       "      <td>False</td>\n",
       "      <td>False</td>\n",
       "      <td>False</td>\n",
       "    </tr>\n",
       "    <tr>\n",
       "      <th>472</th>\n",
       "      <td>False</td>\n",
       "      <td>False</td>\n",
       "      <td>False</td>\n",
       "    </tr>\n",
       "    <tr>\n",
       "      <th>70</th>\n",
       "      <td>False</td>\n",
       "      <td>False</td>\n",
       "      <td>False</td>\n",
       "    </tr>\n",
       "    <tr>\n",
       "      <th>599</th>\n",
       "      <td>False</td>\n",
       "      <td>False</td>\n",
       "      <td>False</td>\n",
       "    </tr>\n",
       "    <tr>\n",
       "      <th>804</th>\n",
       "      <td>False</td>\n",
       "      <td>False</td>\n",
       "      <td>False</td>\n",
       "    </tr>\n",
       "    <tr>\n",
       "      <th>754</th>\n",
       "      <td>False</td>\n",
       "      <td>False</td>\n",
       "      <td>False</td>\n",
       "    </tr>\n",
       "    <tr>\n",
       "      <th>277</th>\n",
       "      <td>False</td>\n",
       "      <td>False</td>\n",
       "      <td>False</td>\n",
       "    </tr>\n",
       "    <tr>\n",
       "      <th>723</th>\n",
       "      <td>False</td>\n",
       "      <td>False</td>\n",
       "      <td>False</td>\n",
       "    </tr>\n",
       "    <tr>\n",
       "      <th>9</th>\n",
       "      <td>False</td>\n",
       "      <td>False</td>\n",
       "      <td>False</td>\n",
       "    </tr>\n",
       "    <tr>\n",
       "      <th>359</th>\n",
       "      <td>False</td>\n",
       "      <td>False</td>\n",
       "      <td>False</td>\n",
       "    </tr>\n",
       "    <tr>\n",
       "      <th>707</th>\n",
       "      <td>False</td>\n",
       "      <td>False</td>\n",
       "      <td>False</td>\n",
       "    </tr>\n",
       "    <tr>\n",
       "      <th>763</th>\n",
       "      <td>False</td>\n",
       "      <td>False</td>\n",
       "      <td>False</td>\n",
       "    </tr>\n",
       "    <tr>\n",
       "      <th>835</th>\n",
       "      <td>False</td>\n",
       "      <td>True</td>\n",
       "      <td>True</td>\n",
       "    </tr>\n",
       "    <tr>\n",
       "      <th>192</th>\n",
       "      <td>False</td>\n",
       "      <td>False</td>\n",
       "      <td>False</td>\n",
       "    </tr>\n",
       "    <tr>\n",
       "      <th>629</th>\n",
       "      <td>False</td>\n",
       "      <td>False</td>\n",
       "      <td>False</td>\n",
       "    </tr>\n",
       "    <tr>\n",
       "      <th>559</th>\n",
       "      <td>False</td>\n",
       "      <td>False</td>\n",
       "      <td>False</td>\n",
       "    </tr>\n",
       "    <tr>\n",
       "      <th>684</th>\n",
       "      <td>False</td>\n",
       "      <td>False</td>\n",
       "      <td>False</td>\n",
       "    </tr>\n",
       "  </tbody>\n",
       "</table>\n",
       "<p>800 rows × 3 columns</p>\n",
       "</div>"
      ],
      "text/plain": [
       "        x1     x2     x3\n",
       "687  False  False  False\n",
       "500  False  False  False\n",
       "332  False  False  False\n",
       "979  False  False  False\n",
       "817  False  False  False\n",
       "620  False  False  False\n",
       "814  False  False  False\n",
       "516  False  False  False\n",
       "518  False  False  False\n",
       "940  False  False  False\n",
       "113  False  False  False\n",
       "612  False  False  False\n",
       "37    True   True  False\n",
       "894  False  False  False\n",
       "895  False  False  False\n",
       "992  False  False  False\n",
       "158  False  False  False\n",
       "154  False  False  False\n",
       "40   False  False  False\n",
       "585  False  False  False\n",
       "805  False  False  False\n",
       "592  False  False  False\n",
       "964  False  False  False\n",
       "266  False  False  False\n",
       "406  False  False  False\n",
       "294   True  False   True\n",
       "604  False  False  False\n",
       "522  False  False  False\n",
       "18   False  False  False\n",
       "425  False  False  False\n",
       "..     ...    ...    ...\n",
       "72   False  False  False\n",
       "845  False  False  False\n",
       "537  False  False  False\n",
       "677  False  False  False\n",
       "849  False  False  False\n",
       "983  False  False  False\n",
       "174  False  False  False\n",
       "87   False  False  False\n",
       "551  False  False  False\n",
       "486  False  False  False\n",
       "705  False  False  False\n",
       "314  False  False  False\n",
       "396  False  False  False\n",
       "600  False  False  False\n",
       "472  False  False  False\n",
       "70   False  False  False\n",
       "599  False  False  False\n",
       "804  False  False  False\n",
       "754  False  False  False\n",
       "277  False  False  False\n",
       "723  False  False  False\n",
       "9    False  False  False\n",
       "359  False  False  False\n",
       "707  False  False  False\n",
       "763  False  False  False\n",
       "835  False   True   True\n",
       "192  False  False  False\n",
       "629  False  False  False\n",
       "559  False  False  False\n",
       "684  False  False  False\n",
       "\n",
       "[800 rows x 3 columns]"
      ]
     },
     "execution_count": 66,
     "metadata": {},
     "output_type": "execute_result"
    }
   ],
   "source": [
    "idx"
   ]
  },
  {
   "cell_type": "code",
   "execution_count": 67,
   "metadata": {},
   "outputs": [
    {
     "data": {
      "text/plain": [
       "107"
      ]
     },
     "execution_count": 67,
     "metadata": {},
     "output_type": "execute_result"
    }
   ],
   "source": [
    "idx.sum(axis=0).sum()"
   ]
  },
  {
   "cell_type": "code",
   "execution_count": 68,
   "metadata": {},
   "outputs": [],
   "source": [
    "idx_any = idx.any(axis = 1)"
   ]
  },
  {
   "cell_type": "code",
   "execution_count": 69,
   "metadata": {},
   "outputs": [
    {
     "data": {
      "text/plain": [
       "x1    True\n",
       "x2    True\n",
       "x3    True\n",
       "dtype: bool"
      ]
     },
     "execution_count": 69,
     "metadata": {},
     "output_type": "execute_result"
    }
   ],
   "source": [
    "idx.any(axis = 0)"
   ]
  },
  {
   "cell_type": "code",
   "execution_count": 70,
   "metadata": {},
   "outputs": [
    {
     "data": {
      "text/plain": [
       "687    False\n",
       "500    False\n",
       "332    False\n",
       "979    False\n",
       "817    False\n",
       "620    False\n",
       "814    False\n",
       "516    False\n",
       "518    False\n",
       "940    False\n",
       "113    False\n",
       "612    False\n",
       "37      True\n",
       "894    False\n",
       "895    False\n",
       "992    False\n",
       "158    False\n",
       "154    False\n",
       "40     False\n",
       "585    False\n",
       "805    False\n",
       "592    False\n",
       "964    False\n",
       "266    False\n",
       "406    False\n",
       "294     True\n",
       "604    False\n",
       "522    False\n",
       "18     False\n",
       "425    False\n",
       "       ...  \n",
       "72     False\n",
       "845    False\n",
       "537    False\n",
       "677    False\n",
       "849    False\n",
       "983    False\n",
       "174    False\n",
       "87     False\n",
       "551    False\n",
       "486    False\n",
       "705    False\n",
       "314    False\n",
       "396    False\n",
       "600    False\n",
       "472    False\n",
       "70     False\n",
       "599    False\n",
       "804    False\n",
       "754    False\n",
       "277    False\n",
       "723    False\n",
       "9      False\n",
       "359    False\n",
       "707    False\n",
       "763    False\n",
       "835     True\n",
       "192    False\n",
       "629    False\n",
       "559    False\n",
       "684    False\n",
       "Length: 800, dtype: bool"
      ]
     },
     "execution_count": 70,
     "metadata": {},
     "output_type": "execute_result"
    }
   ],
   "source": [
    "idx.any(axis = 1)"
   ]
  },
  {
   "cell_type": "code",
   "execution_count": 71,
   "metadata": {},
   "outputs": [
    {
     "data": {
      "text/plain": [
       "46"
      ]
     },
     "execution_count": 71,
     "metadata": {},
     "output_type": "execute_result"
    }
   ],
   "source": [
    "idx_any.sum()"
   ]
  },
  {
   "cell_type": "code",
   "execution_count": 72,
   "metadata": {},
   "outputs": [
    {
     "data": {
      "text/plain": [
       "(46, 3)"
      ]
     },
     "execution_count": 72,
     "metadata": {},
     "output_type": "execute_result"
    }
   ],
   "source": [
    "outliers = train_df_X.loc[idx_any, :]\n",
    "outliers.shape"
   ]
  },
  {
   "cell_type": "code",
   "execution_count": 73,
   "metadata": {},
   "outputs": [
    {
     "data": {
      "text/html": [
       "<div>\n",
       "<style scoped>\n",
       "    .dataframe tbody tr th:only-of-type {\n",
       "        vertical-align: middle;\n",
       "    }\n",
       "\n",
       "    .dataframe tbody tr th {\n",
       "        vertical-align: top;\n",
       "    }\n",
       "\n",
       "    .dataframe thead th {\n",
       "        text-align: right;\n",
       "    }\n",
       "</style>\n",
       "<table border=\"1\" class=\"dataframe\">\n",
       "  <thead>\n",
       "    <tr style=\"text-align: right;\">\n",
       "      <th></th>\n",
       "      <th>x1</th>\n",
       "      <th>x2</th>\n",
       "      <th>x3</th>\n",
       "    </tr>\n",
       "  </thead>\n",
       "  <tbody>\n",
       "    <tr>\n",
       "      <th>37</th>\n",
       "      <td>-29.581</td>\n",
       "      <td>522.695</td>\n",
       "      <td>139.120</td>\n",
       "    </tr>\n",
       "    <tr>\n",
       "      <th>294</th>\n",
       "      <td>49.970</td>\n",
       "      <td>265.393</td>\n",
       "      <td>96.210</td>\n",
       "    </tr>\n",
       "    <tr>\n",
       "      <th>342</th>\n",
       "      <td>62.745</td>\n",
       "      <td>693.286</td>\n",
       "      <td>148.828</td>\n",
       "    </tr>\n",
       "    <tr>\n",
       "      <th>162</th>\n",
       "      <td>-8.945</td>\n",
       "      <td>502.071</td>\n",
       "      <td>245.019</td>\n",
       "    </tr>\n",
       "    <tr>\n",
       "      <th>875</th>\n",
       "      <td>-8.608</td>\n",
       "      <td>420.773</td>\n",
       "      <td>208.850</td>\n",
       "    </tr>\n",
       "  </tbody>\n",
       "</table>\n",
       "</div>"
      ],
      "text/plain": [
       "         x1       x2       x3\n",
       "37  -29.581  522.695  139.120\n",
       "294  49.970  265.393   96.210\n",
       "342  62.745  693.286  148.828\n",
       "162  -8.945  502.071  245.019\n",
       "875  -8.608  420.773  208.850"
      ]
     },
     "execution_count": 73,
     "metadata": {},
     "output_type": "execute_result"
    }
   ],
   "source": [
    "outliers.head()"
   ]
  },
  {
   "cell_type": "code",
   "execution_count": 74,
   "metadata": {},
   "outputs": [
    {
     "data": {
      "text/html": [
       "<div>\n",
       "<style scoped>\n",
       "    .dataframe tbody tr th:only-of-type {\n",
       "        vertical-align: middle;\n",
       "    }\n",
       "\n",
       "    .dataframe tbody tr th {\n",
       "        vertical-align: top;\n",
       "    }\n",
       "\n",
       "    .dataframe thead th {\n",
       "        text-align: right;\n",
       "    }\n",
       "</style>\n",
       "<table border=\"1\" class=\"dataframe\">\n",
       "  <thead>\n",
       "    <tr style=\"text-align: right;\">\n",
       "      <th></th>\n",
       "      <th>x1</th>\n",
       "      <th>x2</th>\n",
       "      <th>x3</th>\n",
       "      <th>y</th>\n",
       "    </tr>\n",
       "  </thead>\n",
       "  <tbody>\n",
       "    <tr>\n",
       "      <th>687</th>\n",
       "      <td>10.298</td>\n",
       "      <td>276.916</td>\n",
       "      <td>127.701</td>\n",
       "      <td>1962.885</td>\n",
       "    </tr>\n",
       "    <tr>\n",
       "      <th>500</th>\n",
       "      <td>19.161</td>\n",
       "      <td>339.872</td>\n",
       "      <td>156.181</td>\n",
       "      <td>2442.675</td>\n",
       "    </tr>\n",
       "    <tr>\n",
       "      <th>332</th>\n",
       "      <td>11.356</td>\n",
       "      <td>363.086</td>\n",
       "      <td>158.807</td>\n",
       "      <td>2417.074</td>\n",
       "    </tr>\n",
       "    <tr>\n",
       "      <th>979</th>\n",
       "      <td>10.656</td>\n",
       "      <td>326.522</td>\n",
       "      <td>164.297</td>\n",
       "      <td>2220.691</td>\n",
       "    </tr>\n",
       "    <tr>\n",
       "      <th>817</th>\n",
       "      <td>11.599</td>\n",
       "      <td>222.001</td>\n",
       "      <td>179.855</td>\n",
       "      <td>1916.097</td>\n",
       "    </tr>\n",
       "  </tbody>\n",
       "</table>\n",
       "</div>"
      ],
      "text/plain": [
       "         x1       x2       x3         y\n",
       "687  10.298  276.916  127.701  1962.885\n",
       "500  19.161  339.872  156.181  2442.675\n",
       "332  11.356  363.086  158.807  2417.074\n",
       "979  10.656  326.522  164.297  2220.691\n",
       "817  11.599  222.001  179.855  1916.097"
      ]
     },
     "execution_count": 74,
     "metadata": {},
     "output_type": "execute_result"
    }
   ],
   "source": [
    "train_df_wo = train_df.drop(outliers.index, axis = 0)\n",
    "train_df_wo.head()"
   ]
  },
  {
   "cell_type": "code",
   "execution_count": 75,
   "metadata": {},
   "outputs": [
    {
     "data": {
      "text/plain": [
       "(754, 4)"
      ]
     },
     "execution_count": 75,
     "metadata": {},
     "output_type": "execute_result"
    }
   ],
   "source": [
    "train_df_wo.shape"
   ]
  },
  {
   "cell_type": "code",
   "execution_count": 76,
   "metadata": {},
   "outputs": [
    {
     "data": {
      "image/png": "[encoded data removed]",
      "text/plain": [
       "<Figure size 1080x504 with 3 Axes>"
      ]
     },
     "metadata": {
      "needs_background": "light"
     },
     "output_type": "display_data"
    }
   ],
   "source": [
    "fig, axes = plt.subplots(nrows = 1, ncols = 3, figsize = (15, 7))\n",
    "# fig.subplots_adjust(hspace=.3, wspace=.175)\n",
    "for feature, ax in zip(['x1', 'x2', 'x3'], axes.ravel()):\n",
    "    ax.scatter(data2_df[feature], data2_df.y, c= 'C3', alpha = 0.5)\n",
    "    ax.scatter(train_df_wo[feature], train_df_wo.y, alpha = 0.5)\n",
    "    ax.set(title = 'feature {} vs. target'.format(feature))\n",
    "    ax.set(xlabel = feature)\n",
    "    ax.set(ylabel = 'y')"
   ]
  },
  {
   "cell_type": "markdown",
   "metadata": {},
   "source": [
    "In the first look it looks strange that some points are marked as outliers although they overlap with the main distibution. This happens because these points that seem to not to be outliers with respect to feature x1 are outliers with respect to x2 or x3."
   ]
  },
  {
   "cell_type": "code",
   "execution_count": 77,
   "metadata": {},
   "outputs": [
    {
     "data": {
      "text/plain": [
       "(800, 4)"
      ]
     },
     "execution_count": 77,
     "metadata": {},
     "output_type": "execute_result"
    }
   ],
   "source": [
    "train_df.shape"
   ]
  },
  {
   "cell_type": "code",
   "execution_count": 78,
   "metadata": {},
   "outputs": [
    {
     "data": {
      "text/html": [
       "<div>\n",
       "<style scoped>\n",
       "    .dataframe tbody tr th:only-of-type {\n",
       "        vertical-align: middle;\n",
       "    }\n",
       "\n",
       "    .dataframe tbody tr th {\n",
       "        vertical-align: top;\n",
       "    }\n",
       "\n",
       "    .dataframe thead th {\n",
       "        text-align: right;\n",
       "    }\n",
       "</style>\n",
       "<table border=\"1\" class=\"dataframe\">\n",
       "  <thead>\n",
       "    <tr style=\"text-align: right;\">\n",
       "      <th></th>\n",
       "      <th>x1</th>\n",
       "      <th>x2</th>\n",
       "      <th>x3</th>\n",
       "      <th>y</th>\n",
       "    </tr>\n",
       "  </thead>\n",
       "  <tbody>\n",
       "    <tr>\n",
       "      <th>687</th>\n",
       "      <td>10.298</td>\n",
       "      <td>276.916</td>\n",
       "      <td>127.701</td>\n",
       "      <td>1962.885</td>\n",
       "    </tr>\n",
       "    <tr>\n",
       "      <th>500</th>\n",
       "      <td>19.161</td>\n",
       "      <td>339.872</td>\n",
       "      <td>156.181</td>\n",
       "      <td>2442.675</td>\n",
       "    </tr>\n",
       "    <tr>\n",
       "      <th>332</th>\n",
       "      <td>11.356</td>\n",
       "      <td>363.086</td>\n",
       "      <td>158.807</td>\n",
       "      <td>2417.074</td>\n",
       "    </tr>\n",
       "    <tr>\n",
       "      <th>979</th>\n",
       "      <td>10.656</td>\n",
       "      <td>326.522</td>\n",
       "      <td>164.297</td>\n",
       "      <td>2220.691</td>\n",
       "    </tr>\n",
       "    <tr>\n",
       "      <th>817</th>\n",
       "      <td>11.599</td>\n",
       "      <td>222.001</td>\n",
       "      <td>179.855</td>\n",
       "      <td>1916.097</td>\n",
       "    </tr>\n",
       "  </tbody>\n",
       "</table>\n",
       "</div>"
      ],
      "text/plain": [
       "         x1       x2       x3         y\n",
       "687  10.298  276.916  127.701  1962.885\n",
       "500  19.161  339.872  156.181  2442.675\n",
       "332  11.356  363.086  158.807  2417.074\n",
       "979  10.656  326.522  164.297  2220.691\n",
       "817  11.599  222.001  179.855  1916.097"
      ]
     },
     "execution_count": 78,
     "metadata": {},
     "output_type": "execute_result"
    }
   ],
   "source": [
    "train_df_wo.head()"
   ]
  },
  {
   "cell_type": "code",
   "execution_count": 79,
   "metadata": {},
   "outputs": [],
   "source": [
    "X_tr_wo = train_df_wo.drop(['y'], axis = 1).values\n",
    "y_tr_wo = train_df_wo['y'].values"
   ]
  },
  {
   "cell_type": "code",
   "execution_count": 80,
   "metadata": {},
   "outputs": [
    {
     "name": "stdout",
     "output_type": "stream",
     "text": [
      "Coefficients: [28.47348064  3.77208548  2.75902955]\n",
      "Intercept: 216.23714733791167\n",
      "R2 score: -1.072753366241133\n",
      "69.2791607757023\n"
     ]
    }
   ],
   "source": [
    "lr_wo = LinearRegression()\n",
    "lr_wo.fit(X_tr_wo, y_tr_wo)\n",
    "\n",
    "print('Coefficients:', lr_wo.coef_)\n",
    "print('Intercept:', lr_wo.intercept_)\n",
    "print('R2 score:', lr_wo.score(X_te, y_te))\n",
    "\n",
    "y_pred_wo = lr_wo.predict(X_te)\n",
    "print(MAE(y_te, lr_wo.predict(X_te)))"
   ]
  },
  {
   "cell_type": "markdown",
   "metadata": {},
   "source": [
    "### Method - 2: using z-scores \n",
    "#### (due to symmetry, abscense of skewness although not gaussian)"
   ]
  },
  {
   "cell_type": "markdown",
   "metadata": {},
   "source": [
    "using the z-scores we use the mean (μ) and the standard deviation (σ) to measure how many standard deviations away from the mean a data point is.\n",
    "\n",
    "$z=\\frac{x-\\mu}{\\sigma}$\n",
    "\n",
    "I will choose the 3 standard deviations from the mean to flag the potential outliers, that means $|\n",
    "z\n",
    "|\n",
    ">\n",
    "3$\n",
    " for each feature."
   ]
  },
  {
   "cell_type": "code",
   "execution_count": 81,
   "metadata": {},
   "outputs": [],
   "source": [
    "# zscores_df = np.abs(train_df-train_df.mean()) > 3*train_df.std()\n",
    "zscores_df = np.abs(train_df_X-train_df_X.mean())/train_df_X.std()"
   ]
  },
  {
   "cell_type": "code",
   "execution_count": 82,
   "metadata": {},
   "outputs": [
    {
     "data": {
      "text/html": [
       "<div>\n",
       "<style scoped>\n",
       "    .dataframe tbody tr th:only-of-type {\n",
       "        vertical-align: middle;\n",
       "    }\n",
       "\n",
       "    .dataframe tbody tr th {\n",
       "        vertical-align: top;\n",
       "    }\n",
       "\n",
       "    .dataframe thead th {\n",
       "        text-align: right;\n",
       "    }\n",
       "</style>\n",
       "<table border=\"1\" class=\"dataframe\">\n",
       "  <thead>\n",
       "    <tr style=\"text-align: right;\">\n",
       "      <th></th>\n",
       "      <th>x1</th>\n",
       "      <th>x2</th>\n",
       "      <th>x3</th>\n",
       "    </tr>\n",
       "  </thead>\n",
       "  <tbody>\n",
       "    <tr>\n",
       "      <th>687</th>\n",
       "      <td>0.240619</td>\n",
       "      <td>0.583077</td>\n",
       "      <td>1.163636</td>\n",
       "    </tr>\n",
       "    <tr>\n",
       "      <th>500</th>\n",
       "      <td>0.767040</td>\n",
       "      <td>0.294687</td>\n",
       "      <td>0.076448</td>\n",
       "    </tr>\n",
       "    <tr>\n",
       "      <th>332</th>\n",
       "      <td>0.120332</td>\n",
       "      <td>0.618348</td>\n",
       "      <td>0.023796</td>\n",
       "    </tr>\n",
       "    <tr>\n",
       "      <th>979</th>\n",
       "      <td>0.199917</td>\n",
       "      <td>0.108554</td>\n",
       "      <td>0.233370</td>\n",
       "    </tr>\n",
       "    <tr>\n",
       "      <th>817</th>\n",
       "      <td>0.092704</td>\n",
       "      <td>1.348729</td>\n",
       "      <td>0.827277</td>\n",
       "    </tr>\n",
       "  </tbody>\n",
       "</table>\n",
       "</div>"
      ],
      "text/plain": [
       "           x1        x2        x3\n",
       "687  0.240619  0.583077  1.163636\n",
       "500  0.767040  0.294687  0.076448\n",
       "332  0.120332  0.618348  0.023796\n",
       "979  0.199917  0.108554  0.233370\n",
       "817  0.092704  1.348729  0.827277"
      ]
     },
     "execution_count": 82,
     "metadata": {},
     "output_type": "execute_result"
    }
   ],
   "source": [
    "zscores_df.head()"
   ]
  },
  {
   "cell_type": "code",
   "execution_count": 83,
   "metadata": {},
   "outputs": [
    {
     "data": {
      "text/html": [
       "<div>\n",
       "<style scoped>\n",
       "    .dataframe tbody tr th:only-of-type {\n",
       "        vertical-align: middle;\n",
       "    }\n",
       "\n",
       "    .dataframe tbody tr th {\n",
       "        vertical-align: top;\n",
       "    }\n",
       "\n",
       "    .dataframe thead th {\n",
       "        text-align: right;\n",
       "    }\n",
       "</style>\n",
       "<table border=\"1\" class=\"dataframe\">\n",
       "  <thead>\n",
       "    <tr style=\"text-align: right;\">\n",
       "      <th></th>\n",
       "      <th>x1</th>\n",
       "      <th>x2</th>\n",
       "      <th>x3</th>\n",
       "    </tr>\n",
       "  </thead>\n",
       "  <tbody>\n",
       "    <tr>\n",
       "      <th>687</th>\n",
       "      <td>False</td>\n",
       "      <td>False</td>\n",
       "      <td>False</td>\n",
       "    </tr>\n",
       "    <tr>\n",
       "      <th>500</th>\n",
       "      <td>False</td>\n",
       "      <td>False</td>\n",
       "      <td>False</td>\n",
       "    </tr>\n",
       "    <tr>\n",
       "      <th>332</th>\n",
       "      <td>False</td>\n",
       "      <td>False</td>\n",
       "      <td>False</td>\n",
       "    </tr>\n",
       "    <tr>\n",
       "      <th>979</th>\n",
       "      <td>False</td>\n",
       "      <td>False</td>\n",
       "      <td>False</td>\n",
       "    </tr>\n",
       "    <tr>\n",
       "      <th>817</th>\n",
       "      <td>False</td>\n",
       "      <td>False</td>\n",
       "      <td>False</td>\n",
       "    </tr>\n",
       "  </tbody>\n",
       "</table>\n",
       "</div>"
      ],
      "text/plain": [
       "        x1     x2     x3\n",
       "687  False  False  False\n",
       "500  False  False  False\n",
       "332  False  False  False\n",
       "979  False  False  False\n",
       "817  False  False  False"
      ]
     },
     "execution_count": 83,
     "metadata": {},
     "output_type": "execute_result"
    }
   ],
   "source": [
    "zfilter_df = np.abs(zscores_df) > 3\n",
    "# or equivalently:\n",
    "# zfilter_df = np.abs(train_df-train_df.mean()) > 3*train_df.std()\n",
    "zfilter_df.head()"
   ]
  },
  {
   "cell_type": "markdown",
   "metadata": {},
   "source": [
    "I will filter outliers using all features. If a point is an outlier w.r.t at least one feature then it is flaged an outlier. "
   ]
  },
  {
   "cell_type": "code",
   "execution_count": 84,
   "metadata": {},
   "outputs": [],
   "source": [
    "zfilter_any = zfilter_df.any(axis = 1)"
   ]
  },
  {
   "cell_type": "code",
   "execution_count": 85,
   "metadata": {},
   "outputs": [
    {
     "data": {
      "text/plain": [
       "687    False\n",
       "500    False\n",
       "332    False\n",
       "979    False\n",
       "817    False\n",
       "dtype: bool"
      ]
     },
     "execution_count": 85,
     "metadata": {},
     "output_type": "execute_result"
    }
   ],
   "source": [
    "zfilter_df.any(axis = 1).head()"
   ]
  },
  {
   "cell_type": "code",
   "execution_count": 86,
   "metadata": {},
   "outputs": [
    {
     "data": {
      "text/plain": [
       "x1    True\n",
       "x2    True\n",
       "x3    True\n",
       "dtype: bool"
      ]
     },
     "execution_count": 86,
     "metadata": {},
     "output_type": "execute_result"
    }
   ],
   "source": [
    "zfilter_df.any(axis = 0)"
   ]
  },
  {
   "cell_type": "code",
   "execution_count": 87,
   "metadata": {},
   "outputs": [
    {
     "data": {
      "text/plain": [
       "(38, 4)"
      ]
     },
     "execution_count": 87,
     "metadata": {},
     "output_type": "execute_result"
    }
   ],
   "source": [
    "z_outliers = train_df.loc[zfilter_any, :]\n",
    "z_outliers.shape"
   ]
  },
  {
   "cell_type": "code",
   "execution_count": 88,
   "metadata": {},
   "outputs": [],
   "source": [
    "train_df_wo_z = train_df.drop(z_outliers.index, axis = 0)"
   ]
  },
  {
   "cell_type": "code",
   "execution_count": 89,
   "metadata": {},
   "outputs": [
    {
     "data": {
      "text/plain": [
       "(762, 4)"
      ]
     },
     "execution_count": 89,
     "metadata": {},
     "output_type": "execute_result"
    }
   ],
   "source": [
    "train_df_wo_z.shape"
   ]
  },
  {
   "cell_type": "code",
   "execution_count": 90,
   "metadata": {},
   "outputs": [],
   "source": [
    "X_tr_wo_z = train_df_wo_z.drop(['y'], axis = 1).values\n",
    "y_tr_wo_z = train_df_wo_z['y'].values"
   ]
  },
  {
   "cell_type": "code",
   "execution_count": 91,
   "metadata": {},
   "outputs": [
    {
     "name": "stdout",
     "output_type": "stream",
     "text": [
      "Coefficients: [28.47348064  3.77208548  2.75902955]\n",
      "Intercept: 216.23714733791167\n",
      "R2 score: -1.072753366241133\n",
      "69.2791607757023\n"
     ]
    }
   ],
   "source": [
    "lr_wo_z = LinearRegression()\n",
    "lr_wo_z.fit(X_tr_wo, y_tr_wo)\n",
    "\n",
    "print('Coefficients:', lr_wo_z.coef_)\n",
    "print('Intercept:', lr_wo_z.intercept_)\n",
    "print('R2 score:', lr_wo_z.score(X_te, y_te))\n",
    "\n",
    "y_pred_wo = lr_wo_z.predict(X_te)\n",
    "print(MAE(y_te, lr_wo_z.predict(X_te)))"
   ]
  },
  {
   "cell_type": "code",
   "execution_count": 92,
   "metadata": {},
   "outputs": [
    {
     "data": {
      "image/png": "[encoded data removed]",
      "text/plain": [
       "<Figure size 1080x504 with 3 Axes>"
      ]
     },
     "metadata": {
      "needs_background": "light"
     },
     "output_type": "display_data"
    }
   ],
   "source": [
    "fig, axes = plt.subplots(nrows = 1, ncols = 3, figsize = (15, 7))\n",
    "# fig.subplots_adjust(hspace=.3, wspace=.175)\n",
    "for feature, ax in zip(['x1', 'x2', 'x3'], axes.ravel()):\n",
    "    ax.scatter(data2_df[feature], data2_df.y, c= 'C3', alpha = 0.5)\n",
    "    ax.scatter(train_df_wo_z[feature], train_df_wo_z.y, alpha = 0.5)\n",
    "    ax.set(title = 'feature {} vs. target'.format(feature))\n",
    "    ax.set(xlabel = feature)\n",
    "    ax.set(ylabel = 'y')"
   ]
  },
  {
   "cell_type": "markdown",
   "metadata": {},
   "source": [
    "### Method - 3: Median Absolute Deviation (MAD)"
   ]
  },
  {
   "cell_type": "markdown",
   "metadata": {},
   "source": [
    "I will now try to filter outliers with more robust statistics, like the median, that are less affected by outliers. I will therefore use robust z-scores with MAD which mimick the idea of z-scores but the mean is replaced by the median and the standard deviation by the median absolute deviation (MAD).\n",
    "$z_{robust} = \\frac{x-\\textrm{median}}{\\textrm{MAD}} \n",
    "\\qquad \\textrm{where} \\qquad \n",
    "\\textrm{MAD} = C \\,\\cdot\\, \\textrm{median}\\vert(x-\\textrm{median})\\vert$\n"
   ]
  },
  {
   "cell_type": "code",
   "execution_count": 93,
   "metadata": {},
   "outputs": [
    {
     "data": {
      "text/plain": [
       "1.1547005383792517"
      ]
     },
     "execution_count": 93,
     "metadata": {},
     "output_type": "execute_result"
    }
   ],
   "source": [
    "C = 2/np.sqrt(3)\n",
    "C"
   ]
  },
  {
   "cell_type": "code",
   "execution_count": 94,
   "metadata": {},
   "outputs": [
    {
     "data": {
      "text/plain": [
       "array([ 19.161, 339.872, 156.181])"
      ]
     },
     "execution_count": 94,
     "metadata": {},
     "output_type": "execute_result"
    }
   ],
   "source": [
    "X_tr[1]"
   ]
  },
  {
   "cell_type": "code",
   "execution_count": 95,
   "metadata": {},
   "outputs": [],
   "source": [
    "def MAD(df):\n",
    "    C = 2/np.sqrt(3)\n",
    "    return C*np.median(np.abs(df - np.median(df, axis = 0)), axis = 0)"
   ]
  },
  {
   "cell_type": "code",
   "execution_count": 96,
   "metadata": {},
   "outputs": [
    {
     "data": {
      "text/plain": [
       "x1     12.2200\n",
       "x2    321.4560\n",
       "x3    159.3275\n",
       "dtype: float64"
      ]
     },
     "execution_count": 96,
     "metadata": {},
     "output_type": "execute_result"
    }
   ],
   "source": [
    "train_df_X.median(axis = 0)"
   ]
  },
  {
   "cell_type": "code",
   "execution_count": 97,
   "metadata": {},
   "outputs": [
    {
     "data": {
      "text/html": [
       "<div>\n",
       "<style scoped>\n",
       "    .dataframe tbody tr th:only-of-type {\n",
       "        vertical-align: middle;\n",
       "    }\n",
       "\n",
       "    .dataframe tbody tr th {\n",
       "        vertical-align: top;\n",
       "    }\n",
       "\n",
       "    .dataframe thead th {\n",
       "        text-align: right;\n",
       "    }\n",
       "</style>\n",
       "<table border=\"1\" class=\"dataframe\">\n",
       "  <thead>\n",
       "    <tr style=\"text-align: right;\">\n",
       "      <th></th>\n",
       "      <th>x1</th>\n",
       "      <th>x2</th>\n",
       "      <th>x3</th>\n",
       "    </tr>\n",
       "  </thead>\n",
       "  <tbody>\n",
       "    <tr>\n",
       "      <th>687</th>\n",
       "      <td>5.455707</td>\n",
       "      <td>264.763253</td>\n",
       "      <td>109.057349</td>\n",
       "    </tr>\n",
       "    <tr>\n",
       "      <th>500</th>\n",
       "      <td>14.318707</td>\n",
       "      <td>327.719253</td>\n",
       "      <td>137.537349</td>\n",
       "    </tr>\n",
       "    <tr>\n",
       "      <th>332</th>\n",
       "      <td>6.513707</td>\n",
       "      <td>350.933253</td>\n",
       "      <td>140.163349</td>\n",
       "    </tr>\n",
       "    <tr>\n",
       "      <th>979</th>\n",
       "      <td>5.813707</td>\n",
       "      <td>314.369253</td>\n",
       "      <td>145.653349</td>\n",
       "    </tr>\n",
       "    <tr>\n",
       "      <th>817</th>\n",
       "      <td>6.756707</td>\n",
       "      <td>209.848253</td>\n",
       "      <td>161.211349</td>\n",
       "    </tr>\n",
       "  </tbody>\n",
       "</table>\n",
       "</div>"
      ],
      "text/plain": [
       "            x1          x2          x3\n",
       "687   5.455707  264.763253  109.057349\n",
       "500  14.318707  327.719253  137.537349\n",
       "332   6.513707  350.933253  140.163349\n",
       "979   5.813707  314.369253  145.653349\n",
       "817   6.756707  209.848253  161.211349"
      ]
     },
     "execution_count": 97,
     "metadata": {},
     "output_type": "execute_result"
    }
   ],
   "source": [
    "z_rob_score_df = train_df_X-np.median(train_df_X, axis = 0)/MAD(train_df_X)\n",
    "z_rob_score_df.head()"
   ]
  },
  {
   "cell_type": "code",
   "execution_count": 98,
   "metadata": {},
   "outputs": [
    {
     "data": {
      "text/html": [
       "<div>\n",
       "<style scoped>\n",
       "    .dataframe tbody tr th:only-of-type {\n",
       "        vertical-align: middle;\n",
       "    }\n",
       "\n",
       "    .dataframe tbody tr th {\n",
       "        vertical-align: top;\n",
       "    }\n",
       "\n",
       "    .dataframe thead th {\n",
       "        text-align: right;\n",
       "    }\n",
       "</style>\n",
       "<table border=\"1\" class=\"dataframe\">\n",
       "  <thead>\n",
       "    <tr style=\"text-align: right;\">\n",
       "      <th></th>\n",
       "      <th>count</th>\n",
       "      <th>mean</th>\n",
       "      <th>std</th>\n",
       "      <th>min</th>\n",
       "      <th>25%</th>\n",
       "      <th>50%</th>\n",
       "      <th>75%</th>\n",
       "      <th>max</th>\n",
       "    </tr>\n",
       "  </thead>\n",
       "  <tbody>\n",
       "    <tr>\n",
       "      <th>x1</th>\n",
       "      <td>800.0</td>\n",
       "      <td>7.572101</td>\n",
       "      <td>8.795636</td>\n",
       "      <td>-54.494293</td>\n",
       "      <td>4.987207</td>\n",
       "      <td>7.377707</td>\n",
       "      <td>9.454707</td>\n",
       "      <td>95.849707</td>\n",
       "    </tr>\n",
       "    <tr>\n",
       "      <th>x2</th>\n",
       "      <td>800.0</td>\n",
       "      <td>306.583391</td>\n",
       "      <td>71.723179</td>\n",
       "      <td>-387.487747</td>\n",
       "      <td>284.344503</td>\n",
       "      <td>309.303253</td>\n",
       "      <td>330.178253</td>\n",
       "      <td>824.205253</td>\n",
       "    </tr>\n",
       "    <tr>\n",
       "      <th>x3</th>\n",
       "      <td>800.0</td>\n",
       "      <td>139.539978</td>\n",
       "      <td>26.196022</td>\n",
       "      <td>-165.564651</td>\n",
       "      <td>133.217849</td>\n",
       "      <td>140.683849</td>\n",
       "      <td>147.717099</td>\n",
       "      <td>326.153349</td>\n",
       "    </tr>\n",
       "  </tbody>\n",
       "</table>\n",
       "</div>"
      ],
      "text/plain": [
       "    count        mean        std         min         25%         50%  \\\n",
       "x1  800.0    7.572101   8.795636  -54.494293    4.987207    7.377707   \n",
       "x2  800.0  306.583391  71.723179 -387.487747  284.344503  309.303253   \n",
       "x3  800.0  139.539978  26.196022 -165.564651  133.217849  140.683849   \n",
       "\n",
       "           75%         max  \n",
       "x1    9.454707   95.849707  \n",
       "x2  330.178253  824.205253  \n",
       "x3  147.717099  326.153349  "
      ]
     },
     "execution_count": 98,
     "metadata": {},
     "output_type": "execute_result"
    }
   ],
   "source": [
    "z_rob_score_df.describe().T"
   ]
  },
  {
   "cell_type": "markdown",
   "metadata": {},
   "source": [
    "When we use MAD (z_robust scores) what are the upper and lower bounds that we use? Is there a rule of thumb?"
   ]
  },
  {
   "cell_type": "code",
   "execution_count": 99,
   "metadata": {},
   "outputs": [],
   "source": [
    "zrob_filter = np.abs(z_rob_score_df) > np.percentile(z_rob_score_df, 96, axis = 0)\n",
    "#np.percentile(y, 75, axis=0)"
   ]
  },
  {
   "cell_type": "code",
   "execution_count": 100,
   "metadata": {},
   "outputs": [
    {
     "data": {
      "text/plain": [
       "array([  9.91370742, 333.91245255, 149.8093488 ])"
      ]
     },
     "execution_count": 100,
     "metadata": {},
     "output_type": "execute_result"
    }
   ],
   "source": [
    "np.percentile(z_rob_score_df,80, axis = 0)"
   ]
  },
  {
   "cell_type": "code",
   "execution_count": 101,
   "metadata": {},
   "outputs": [
    {
     "data": {
      "text/html": [
       "<div>\n",
       "<style scoped>\n",
       "    .dataframe tbody tr th:only-of-type {\n",
       "        vertical-align: middle;\n",
       "    }\n",
       "\n",
       "    .dataframe tbody tr th {\n",
       "        vertical-align: top;\n",
       "    }\n",
       "\n",
       "    .dataframe thead th {\n",
       "        text-align: right;\n",
       "    }\n",
       "</style>\n",
       "<table border=\"1\" class=\"dataframe\">\n",
       "  <thead>\n",
       "    <tr style=\"text-align: right;\">\n",
       "      <th></th>\n",
       "      <th>x1</th>\n",
       "      <th>x2</th>\n",
       "      <th>x3</th>\n",
       "    </tr>\n",
       "  </thead>\n",
       "  <tbody>\n",
       "    <tr>\n",
       "      <th>687</th>\n",
       "      <td>False</td>\n",
       "      <td>False</td>\n",
       "      <td>False</td>\n",
       "    </tr>\n",
       "    <tr>\n",
       "      <th>500</th>\n",
       "      <td>True</td>\n",
       "      <td>False</td>\n",
       "      <td>False</td>\n",
       "    </tr>\n",
       "    <tr>\n",
       "      <th>332</th>\n",
       "      <td>False</td>\n",
       "      <td>False</td>\n",
       "      <td>False</td>\n",
       "    </tr>\n",
       "    <tr>\n",
       "      <th>979</th>\n",
       "      <td>False</td>\n",
       "      <td>False</td>\n",
       "      <td>False</td>\n",
       "    </tr>\n",
       "    <tr>\n",
       "      <th>817</th>\n",
       "      <td>False</td>\n",
       "      <td>False</td>\n",
       "      <td>True</td>\n",
       "    </tr>\n",
       "  </tbody>\n",
       "</table>\n",
       "</div>"
      ],
      "text/plain": [
       "        x1     x2     x3\n",
       "687  False  False  False\n",
       "500   True  False  False\n",
       "332  False  False  False\n",
       "979  False  False  False\n",
       "817  False  False   True"
      ]
     },
     "execution_count": 101,
     "metadata": {},
     "output_type": "execute_result"
    }
   ],
   "source": [
    "zrob_filter.head()"
   ]
  },
  {
   "cell_type": "code",
   "execution_count": 102,
   "metadata": {},
   "outputs": [
    {
     "data": {
      "text/plain": [
       "687    False\n",
       "500     True\n",
       "332    False\n",
       "979    False\n",
       "817     True\n",
       "620    False\n",
       "814    False\n",
       "516    False\n",
       "518    False\n",
       "940    False\n",
       "113    False\n",
       "612     True\n",
       "37      True\n",
       "894    False\n",
       "895    False\n",
       "992    False\n",
       "158    False\n",
       "154    False\n",
       "40     False\n",
       "585    False\n",
       "805    False\n",
       "592    False\n",
       "964    False\n",
       "266    False\n",
       "406    False\n",
       "294     True\n",
       "604    False\n",
       "522    False\n",
       "18     False\n",
       "425    False\n",
       "       ...  \n",
       "72     False\n",
       "845    False\n",
       "537    False\n",
       "677    False\n",
       "849    False\n",
       "983     True\n",
       "174    False\n",
       "87     False\n",
       "551    False\n",
       "486    False\n",
       "705    False\n",
       "314    False\n",
       "396    False\n",
       "600    False\n",
       "472    False\n",
       "70     False\n",
       "599    False\n",
       "804    False\n",
       "754    False\n",
       "277    False\n",
       "723    False\n",
       "9      False\n",
       "359    False\n",
       "707    False\n",
       "763    False\n",
       "835     True\n",
       "192    False\n",
       "629    False\n",
       "559    False\n",
       "684    False\n",
       "Length: 800, dtype: bool"
      ]
     },
     "execution_count": 102,
     "metadata": {},
     "output_type": "execute_result"
    }
   ],
   "source": [
    "zrob_filter_any = zrob_filter.any(axis = 1)\n",
    "zrob_filter_any"
   ]
  },
  {
   "cell_type": "code",
   "execution_count": 103,
   "metadata": {},
   "outputs": [
    {
     "data": {
      "text/plain": [
       "(800, 4)"
      ]
     },
     "execution_count": 103,
     "metadata": {},
     "output_type": "execute_result"
    }
   ],
   "source": [
    "train_df.shape"
   ]
  },
  {
   "cell_type": "code",
   "execution_count": 104,
   "metadata": {},
   "outputs": [
    {
     "data": {
      "text/plain": [
       "(78, 4)"
      ]
     },
     "execution_count": 104,
     "metadata": {},
     "output_type": "execute_result"
    }
   ],
   "source": [
    "zrob_outliers = train_df.loc[zrob_filter_any, :]\n",
    "zrob_outliers.shape"
   ]
  },
  {
   "cell_type": "code",
   "execution_count": 105,
   "metadata": {},
   "outputs": [],
   "source": [
    "train_df_wo_zrob = train_df.drop(zrob_outliers.index, axis = 0)"
   ]
  },
  {
   "cell_type": "code",
   "execution_count": 106,
   "metadata": {},
   "outputs": [
    {
     "data": {
      "text/plain": [
       "(722, 4)"
      ]
     },
     "execution_count": 106,
     "metadata": {},
     "output_type": "execute_result"
    }
   ],
   "source": [
    "train_df_wo_zrob.shape"
   ]
  },
  {
   "cell_type": "code",
   "execution_count": 107,
   "metadata": {},
   "outputs": [],
   "source": [
    "X_tr_wo_zrob = train_df_wo_zrob.drop(['y'], axis = 1).values\n",
    "y_tr_wo_zrob = train_df_wo_zrob['y'].values"
   ]
  },
  {
   "cell_type": "code",
   "execution_count": 108,
   "metadata": {},
   "outputs": [
    {
     "name": "stdout",
     "output_type": "stream",
     "text": [
      "Coefficients: [28.47348064  3.77208548  2.75902955]\n",
      "Intercept: 216.23714733791167\n",
      "R2 score: -1.072753366241133\n",
      "69.2791607757023\n"
     ]
    },
    {
     "data": {
      "image/png": "[encoded data removed]",
      "text/plain": [
       "<Figure size 1080x504 with 3 Axes>"
      ]
     },
     "metadata": {
      "needs_background": "light"
     },
     "output_type": "display_data"
    }
   ],
   "source": [
    "lr_wo_zrob = LinearRegression()\n",
    "lr_wo_zrob.fit(X_tr_wo, y_tr_wo)\n",
    "\n",
    "print('Coefficients:', lr_wo_z.coef_)\n",
    "print('Intercept:', lr_wo_z.intercept_)\n",
    "print('R2 score:', lr_wo_z.score(X_te, y_te))\n",
    "\n",
    "y_pred_wo_zrob = lr_wo_zrob.predict(X_te)\n",
    "print(MAE(y_te, lr_wo_zrob.predict(X_te)))\n",
    "\n",
    "fig, axes = plt.subplots(nrows = 1, ncols = 3, figsize = (15, 7))\n",
    "# fig.subplots_adjust(hspace=.3, wspace=.175)\n",
    "for feature, ax in zip(['x1', 'x2', 'x3'], axes.ravel()):\n",
    "    ax.scatter(data2_df[feature], data2_df.y, c= 'C3', alpha = 0.5)\n",
    "    ax.scatter(train_df_wo_zrob[feature], train_df_wo_zrob.y, alpha = 0.5)\n",
    "    ax.set(title = 'feature {} vs. target'.format(feature))\n",
    "    ax.set(xlabel = feature)\n",
    "    ax.set(ylabel = 'y')"
   ]
  },
  {
   "cell_type": "markdown",
   "metadata": {},
   "source": [
    "### Compare the errors (MAE)"
   ]
  },
  {
   "cell_type": "code",
   "execution_count": 109,
   "metadata": {},
   "outputs": [],
   "source": [
    "mae_baseline = MAE(y_te, np.mean(y_tr))\n",
    "mae_lr = MAE(y_te, lr.predict(X_te))\n",
    "mae_huber = MAE(y_te, huber.predict(X_te))\n",
    "mae_wo_outliers = MAE(y_te, lr_wo.predict(X_te))\n",
    "mae_wo_outliers_z = MAE(y_te, lr_wo_z.predict(X_te))\n",
    "mae_wo_outliers_zrob = MAE(y_te, lr_wo_zrob.predict(X_te))\n",
    "\n",
    "mae_values = [mae_baseline, mae_lr, mae_huber, mae_wo_outliers, mae_wo_outliers_z, mae_wo_outliers_zrob]"
   ]
  },
  {
   "cell_type": "code",
   "execution_count": 110,
   "metadata": {},
   "outputs": [],
   "source": [
    "titles = ['baseline', 'lr', 'huber', 'lr_no_outliers-IRQ', 'lr_no_outliers-z-score', 'lr_no_outliers-MAD']"
   ]
  },
  {
   "cell_type": "code",
   "execution_count": 111,
   "metadata": {},
   "outputs": [
    {
     "data": {
      "image/png": "[encoded data removed]",
      "text/plain": [
       "<Figure size 1080x504 with 1 Axes>"
      ]
     },
     "metadata": {
      "needs_background": "light"
     },
     "output_type": "display_data"
    }
   ],
   "source": [
    "xcor = np.arange(len(mae_values))\n",
    "\n",
    "fig, axes = plt.subplots(nrows = 1, ncols = 1, figsize = (15, 7))\n",
    "plt.bar(xcor, mae_values)\n",
    "plt.xticks(xcor, titles)\n",
    "plt.ylabel('MAE')\n",
    "plt.show()\n"
   ]
  },
  {
   "cell_type": "markdown",
   "metadata": {},
   "source": [
    "As expected the linear regression after removing outliers has the best results (smaller error)"
   ]
  }
 ],
 "metadata": {
  "kernelspec": {
   "display_name": "Python 3",
   "language": "python",
   "name": "python3"
  },
  "language_info": {
   "codemirror_mode": {
    "name": "ipython",
    "version": 3
   },
   "file_extension": ".py",
   "mimetype": "text/x-python",
   "name": "python",
   "nbconvert_exporter": "python",
   "pygments_lexer": "ipython3",
   "version": "3.6.13"
  }
 },
 "nbformat": 4,
 "nbformat_minor": 4
}
