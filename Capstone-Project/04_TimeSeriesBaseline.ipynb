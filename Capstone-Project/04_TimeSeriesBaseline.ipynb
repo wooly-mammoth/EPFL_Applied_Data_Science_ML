{
 "cells": [
  {
   "cell_type": "markdown",
   "id": "cec01b1a",
   "metadata": {},
   "source": [
    "# 04 Time Series Baseline"
   ]
  },
  {
   "cell_type": "markdown",
   "id": "c3196d13",
   "metadata": {},
   "source": [
    "I read the data after the preliminary EDA performed as part of the project proposal."
   ]
  },
  {
   "cell_type": "code",
   "execution_count": 1,
   "id": "ecf83e12",
   "metadata": {},
   "outputs": [],
   "source": [
    "import numpy as np\n",
    "import pandas as pd\n",
    "import os\n",
    "from sklearn.metrics import r2_score"
   ]
  },
  {
   "cell_type": "markdown",
   "id": "923e54cd",
   "metadata": {},
   "source": [
    "I read the training and the test set."
   ]
  },
  {
   "cell_type": "code",
   "execution_count": 2,
   "id": "c5c987da",
   "metadata": {},
   "outputs": [],
   "source": [
    "X_train = np.load('X_tr_imputed.npy')\n",
    "y_train = np.load('y_tr.npy')\n",
    "\n",
    "# X_valid = np.load('features_valid.npy')\n",
    "# y_valid = np.load('labels_valid.npy')\n",
    "\n",
    "X_test = np.load('X_te_imputed.npy')\n",
    "y_test = np.load('y_te.npy')"
   ]
  },
  {
   "cell_type": "markdown",
   "id": "69c1080a",
   "metadata": {},
   "source": [
    "the data training and test data have One-Hot-Encoding for all categorical variables so no further processing is needed. As a first baseline would be to choose the mean values of the target vector."
   ]
  },
  {
   "cell_type": "code",
   "execution_count": 3,
   "id": "cdbd67ab",
   "metadata": {},
   "outputs": [],
   "source": [
    "df_tr = pd.read_pickle('training_dataset_df.csv')"
   ]
  },
  {
   "cell_type": "markdown",
   "id": "2cbc3cb5",
   "metadata": {},
   "source": [
    "I define the error functions "
   ]
  },
  {
   "cell_type": "code",
   "execution_count": 4,
   "id": "630601b4",
   "metadata": {},
   "outputs": [],
   "source": [
    "# Mean Absolute error (MAE)\n",
    "def MAE(y,y_pred):    \n",
    "    return(np.mean(np.abs(y-y_pred)))"
   ]
  },
  {
   "cell_type": "code",
   "execution_count": 5,
   "id": "627bbd94",
   "metadata": {},
   "outputs": [
    {
     "data": {
      "text/plain": [
       "82.63073380111149"
      ]
     },
     "execution_count": 5,
     "metadata": {},
     "output_type": "execute_result"
    }
   ],
   "source": [
    "np.mean(y_train)"
   ]
  },
  {
   "cell_type": "code",
   "execution_count": 6,
   "id": "52075690",
   "metadata": {},
   "outputs": [],
   "source": [
    "baseline_avg_mae = MAE(y_test, np.mean(y_train))"
   ]
  },
  {
   "cell_type": "raw",
   "id": "75309255",
   "metadata": {},
   "source": [
    "baseline_avg = r2_score(y_test, np.mean(y_train),  multioutput= 'raw_values')\n",
    "# error is raised because the r2_score expects two arrays not an array and a float (np.mean())"
   ]
  },
  {
   "cell_type": "markdown",
   "id": "6c8b4ca2",
   "metadata": {},
   "source": [
    "Since the baseline is based on the average values of the train set the coefficient of determination R^2 is zero."
   ]
  },
  {
   "cell_type": "code",
   "execution_count": 7,
   "id": "31b40cc5",
   "metadata": {},
   "outputs": [],
   "source": [
    "baseline_avg_r2 = 0"
   ]
  },
  {
   "cell_type": "markdown",
   "id": "b18240a5",
   "metadata": {},
   "source": [
    "A second baseline would be to choose the last hour lag of the target vector."
   ]
  },
  {
   "cell_type": "code",
   "execution_count": 8,
   "id": "507b7b9f",
   "metadata": {},
   "outputs": [
    {
     "data": {
      "text/plain": [
       "(4344,)"
      ]
     },
     "execution_count": 8,
     "metadata": {},
     "output_type": "execute_result"
    }
   ],
   "source": [
    "y_test.shape"
   ]
  },
  {
   "cell_type": "code",
   "execution_count": 9,
   "id": "68977d42",
   "metadata": {},
   "outputs": [
    {
     "data": {
      "text/plain": [
       "(4343,)"
      ]
     },
     "execution_count": 9,
     "metadata": {},
     "output_type": "execute_result"
    }
   ],
   "source": [
    "y_test[:4343].shape"
   ]
  },
  {
   "cell_type": "markdown",
   "id": "20de93bd",
   "metadata": {},
   "source": [
    "Since the .shift(1) is not supported for arrays but only for dataframes, I will equivalently take the y_train(1:4344) for the first lag of the train set. After calculating the lag (e.g. with shift(1) the first element is NaN and has to be omited.). Therefore the test set is also reduced by one sample, y_test[:4343] instead of y_test[:4344]."
   ]
  },
  {
   "cell_type": "code",
   "execution_count": 10,
   "id": "82f3d8c8",
   "metadata": {},
   "outputs": [],
   "source": [
    "# 1st lag: y_test.shift(1)[:4343] if y_test were a dataframe\n",
    "baseline_lag_mae = MAE(y_test[:4343], y_test[1:4344])\n",
    "baseline_lag_r2 = r2_score(y_test[:4343], y_test[1:4344])"
   ]
  },
  {
   "cell_type": "code",
   "execution_count": 11,
   "id": "3b68cde2",
   "metadata": {},
   "outputs": [],
   "source": [
    "results_baseline_avg = {'model': ['baseline_avg'], 'r2_score': baseline_avg_r2, 'MAE': baseline_avg_mae}\n",
    "results_baseline_lag = {'model': ['baseline_lag'], 'r2_score': baseline_lag_r2, 'MAE': baseline_lag_mae}\n",
    "\n",
    "results_baseline_avg = pd.DataFrame(results_baseline_avg)\n",
    "results_baseline_lag = pd.DataFrame(results_baseline_lag)\n",
    "\n",
    "np.save('results_baseline_avg', results_baseline_avg)\n",
    "np.save('results_baseline_lag', results_baseline_lag)"
   ]
  },
  {
   "cell_type": "code",
   "execution_count": 12,
   "id": "85063f04",
   "metadata": {},
   "outputs": [
    {
     "data": {
      "text/html": [
       "<div>\n",
       "<style scoped>\n",
       "    .dataframe tbody tr th:only-of-type {\n",
       "        vertical-align: middle;\n",
       "    }\n",
       "\n",
       "    .dataframe tbody tr th {\n",
       "        vertical-align: top;\n",
       "    }\n",
       "\n",
       "    .dataframe thead th {\n",
       "        text-align: right;\n",
       "    }\n",
       "</style>\n",
       "<table border=\"1\" class=\"dataframe\">\n",
       "  <thead>\n",
       "    <tr style=\"text-align: right;\">\n",
       "      <th></th>\n",
       "      <th>model</th>\n",
       "      <th>r2_score</th>\n",
       "      <th>MAE</th>\n",
       "    </tr>\n",
       "  </thead>\n",
       "  <tbody>\n",
       "    <tr>\n",
       "      <th>0</th>\n",
       "      <td>baseline_avg</td>\n",
       "      <td>0</td>\n",
       "      <td>78.770295</td>\n",
       "    </tr>\n",
       "  </tbody>\n",
       "</table>\n",
       "</div>"
      ],
      "text/plain": [
       "          model  r2_score        MAE\n",
       "0  baseline_avg         0  78.770295"
      ]
     },
     "execution_count": 12,
     "metadata": {},
     "output_type": "execute_result"
    }
   ],
   "source": [
    "results_baseline_avg"
   ]
  },
  {
   "cell_type": "markdown",
   "id": "ff1bc197",
   "metadata": {},
   "source": [
    "A r2 score of 0 means that the model and the estimator have the same performance which is the case here. The estimator baseline_avg is actually the baseline used for the r2 score."
   ]
  },
  {
   "cell_type": "code",
   "execution_count": 13,
   "id": "304611ca",
   "metadata": {},
   "outputs": [
    {
     "data": {
      "text/html": [
       "<div>\n",
       "<style scoped>\n",
       "    .dataframe tbody tr th:only-of-type {\n",
       "        vertical-align: middle;\n",
       "    }\n",
       "\n",
       "    .dataframe tbody tr th {\n",
       "        vertical-align: top;\n",
       "    }\n",
       "\n",
       "    .dataframe thead th {\n",
       "        text-align: right;\n",
       "    }\n",
       "</style>\n",
       "<table border=\"1\" class=\"dataframe\">\n",
       "  <thead>\n",
       "    <tr style=\"text-align: right;\">\n",
       "      <th></th>\n",
       "      <th>model</th>\n",
       "      <th>r2_score</th>\n",
       "      <th>MAE</th>\n",
       "    </tr>\n",
       "  </thead>\n",
       "  <tbody>\n",
       "    <tr>\n",
       "      <th>0</th>\n",
       "      <td>baseline_lag</td>\n",
       "      <td>0.942308</td>\n",
       "      <td>12.366245</td>\n",
       "    </tr>\n",
       "  </tbody>\n",
       "</table>\n",
       "</div>"
      ],
      "text/plain": [
       "          model  r2_score        MAE\n",
       "0  baseline_lag  0.942308  12.366245"
      ]
     },
     "execution_count": 13,
     "metadata": {},
     "output_type": "execute_result"
    }
   ],
   "source": [
    "results_baseline_lag"
   ]
  },
  {
   "cell_type": "markdown",
   "id": "e80d97f9",
   "metadata": {},
   "source": [
    "a r2 score close to 1 indicates that the estimator, in this case the baseline_avg iperforms way better than the baselien (baseline_avg). The MAE score is much less than in hte previous case."
   ]
  },
  {
   "cell_type": "code",
   "execution_count": null,
   "id": "c8953dc1",
   "metadata": {},
   "outputs": [],
   "source": []
  }
 ],
 "metadata": {
  "kernelspec": {
   "display_name": "Python 3",
   "language": "python",
   "name": "python3"
  },
  "language_info": {
   "codemirror_mode": {
    "name": "ipython",
    "version": 3
   },
   "file_extension": ".py",
   "mimetype": "text/x-python",
   "name": "python",
   "nbconvert_exporter": "python",
   "pygments_lexer": "ipython3",
   "version": "3.6.13"
  }
 },
 "nbformat": 4,
 "nbformat_minor": 5
}
