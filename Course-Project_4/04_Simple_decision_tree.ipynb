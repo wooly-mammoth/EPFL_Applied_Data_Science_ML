{
 "cells": [
  {
   "cell_type": "markdown",
   "metadata": {},
   "source": [
    "## Simple decision trees\n",
    "Can you do better than the k-NN model with decision trees?\n",
    "\n",
    " - What accuracy can you achieve with a depth of 3?\n",
    " - Plot the corresponding tree with graphviz\n",
    " - Do you get better results if you reduce the number of dimensions with PCA first?"
   ]
  },
  {
   "cell_type": "code",
   "execution_count": 1,
   "metadata": {},
   "outputs": [
    {
     "name": "stderr",
     "output_type": "stream",
     "text": [
      "WARNING:absl:Some hub symbols are not available because TensorFlow version is less than 1.14\n"
     ]
    }
   ],
   "source": [
    "import tensorflow as tf\n",
    "import tensorflow_hub as hub\n",
    "import numpy as np\n",
    "import pandas as pd\n",
    "import os\n",
    "import PIL.Image as Image\n",
    "from tensorflow.keras.preprocessing.image import ImageDataGenerator\n",
    "from sklearn.pipeline import Pipeline\n",
    "from sklearn.model_selection import GridSearchCV\n",
    "from sklearn.preprocessing import StandardScaler\n",
    "from sklearn.tree import DecisionTreeClassifier\n",
    "from sklearn.decomposition import PCA\n",
    "import matplotlib.pyplot as plt\n",
    "%matplotlib inline"
   ]
  },
  {
   "cell_type": "code",
   "execution_count": 2,
   "metadata": {},
   "outputs": [],
   "source": [
    "X_tr = np.load('features_tr.npy')\n",
    "y_tr = np.load('labels_tr.npy')\n",
    "\n",
    "X_valid = np.load('features_valid.npy')\n",
    "y_valid = np.load('labels_valid.npy')\n",
    "\n",
    "X_test = np.load('features_test.npy')\n",
    "y_test = np.load('labels_test.npy')"
   ]
  },
  {
   "cell_type": "code",
   "execution_count": 3,
   "metadata": {},
   "outputs": [
    {
     "data": {
      "text/plain": [
       "(139, 2048)"
      ]
     },
     "execution_count": 3,
     "metadata": {},
     "output_type": "execute_result"
    }
   ],
   "source": [
    "X_valid.shape"
   ]
  },
  {
   "cell_type": "code",
   "execution_count": 4,
   "metadata": {},
   "outputs": [
    {
     "data": {
      "text/plain": [
       "(280, 2048)"
      ]
     },
     "execution_count": 4,
     "metadata": {},
     "output_type": "execute_result"
    }
   ],
   "source": [
    "X_tr.shape"
   ]
  },
  {
   "cell_type": "code",
   "execution_count": 5,
   "metadata": {},
   "outputs": [
    {
     "data": {
      "text/plain": [
       "(419, 2048)"
      ]
     },
     "execution_count": 5,
     "metadata": {},
     "output_type": "execute_result"
    }
   ],
   "source": [
    "X_cv = np.concatenate((X_tr, X_valid), axis = 0)\n",
    "X_cv.shape"
   ]
  },
  {
   "cell_type": "code",
   "execution_count": 6,
   "metadata": {},
   "outputs": [],
   "source": [
    "y_cv = np.concatenate((y_tr, y_valid), axis = 0)"
   ]
  },
  {
   "cell_type": "markdown",
   "metadata": {},
   "source": [
    "I concatenate the X_valid and the X_tr in one set in order to run a grid search GridSearchCV."
   ]
  },
  {
   "cell_type": "markdown",
   "metadata": {},
   "source": [
    "First I check without GridSearchCV."
   ]
  },
  {
   "cell_type": "code",
   "execution_count": 7,
   "metadata": {},
   "outputs": [
    {
     "name": "stdout",
     "output_type": "stream",
     "text": [
      "Accuracy: 0.760\n"
     ]
    },
    {
     "data": {
      "text/plain": [
       "0.76"
      ]
     },
     "execution_count": 7,
     "metadata": {},
     "output_type": "execute_result"
    }
   ],
   "source": [
    "tree_pipe = Pipeline([\n",
    "    ('scaler', None),\n",
    "    ('pca', PCA(n_components = 170)),\n",
    "    ('simple_tree', DecisionTreeClassifier(max_depth = 3))\n",
    "                ])\n",
    "tree_pipe.fit(X_tr, y_tr)\n",
    "accuracy = tree_pipe.score(X_valid, y_valid)\n",
    "accuracy = tree_pipe.score(X_test, y_test)\n",
    "\n",
    "print('Accuracy: {:.3f}'.format(accuracy))\n",
    "accuracy"
   ]
  },
  {
   "cell_type": "code",
   "execution_count": 8,
   "metadata": {},
   "outputs": [
    {
     "data": {
      "text/plain": [
       "0.0    0.235714\n",
       "1.0    0.228571\n",
       "2.0    0.182143\n",
       "4.0    0.150000\n",
       "3.0    0.114286\n",
       "5.0    0.089286\n",
       "dtype: float64"
      ]
     },
     "execution_count": 8,
     "metadata": {},
     "output_type": "execute_result"
    }
   ],
   "source": [
    "pd.value_counts(y_tr, normalize = True)"
   ]
  },
  {
   "cell_type": "code",
   "execution_count": 9,
   "metadata": {},
   "outputs": [
    {
     "name": "stdout",
     "output_type": "stream",
     "text": [
      "Accuracy: 0.700\n"
     ]
    },
    {
     "data": {
      "text/plain": [
       "0.7"
      ]
     },
     "execution_count": 9,
     "metadata": {},
     "output_type": "execute_result"
    }
   ],
   "source": [
    "tree_pipe_o = Pipeline([\n",
    "    ('scaler', None),\n",
    "    ('pca', None),\n",
    "    ('simple_tree', DecisionTreeClassifier(max_depth = 3))\n",
    "                ])\n",
    "tree_pipe_o.fit(X_tr, y_tr)\n",
    "accuracy_o = tree_pipe_o.score(X_test, y_test)\n",
    "\n",
    "print('Accuracy: {:.3f}'.format(accuracy_o))\n",
    "accuracy_o"
   ]
  },
  {
   "cell_type": "markdown",
   "metadata": {},
   "source": [
    "I observe that I get better results with PCA. I assume that this happens because with PCA the complexity is reduced and that helps as a countermeasure for overfitting. "
   ]
  },
  {
   "cell_type": "markdown",
   "metadata": {},
   "source": [
    "Without PCA the accuracy is less compared to the case of having PCA (170 first components)."
   ]
  },
  {
   "cell_type": "markdown",
   "metadata": {},
   "source": [
    "I apply GridSearch for the case of PCA is included and then I will plot the tree."
   ]
  },
  {
   "cell_type": "code",
   "execution_count": 10,
   "metadata": {},
   "outputs": [],
   "source": [
    "grid = { 'simple_tree__criterion' : ['gini', 'entropy']}\n",
    "grid_cv = GridSearchCV( tree_pipe, grid, cv = 3, return_train_score = True, verbose = 1, n_jobs = -1)"
   ]
  },
  {
   "cell_type": "markdown",
   "metadata": {},
   "source": [
    "The best soution is by default retrofitted."
   ]
  },
  {
   "cell_type": "code",
   "execution_count": 11,
   "metadata": {},
   "outputs": [
    {
     "name": "stdout",
     "output_type": "stream",
     "text": [
      "Fitting 3 folds for each of 2 candidates, totalling 6 fits\n"
     ]
    },
    {
     "name": "stderr",
     "output_type": "stream",
     "text": [
      "[Parallel(n_jobs=-1)]: Using backend LokyBackend with 8 concurrent workers.\n",
      "[Parallel(n_jobs=-1)]: Done   6 out of   6 | elapsed:    9.6s finished\n"
     ]
    },
    {
     "data": {
      "text/plain": [
       "GridSearchCV(cv=3, error_score='raise-deprecating',\n",
       "       estimator=Pipeline(memory=None,\n",
       "     steps=[('scaler', None), ('pca', PCA(copy=True, iterated_power='auto', n_components=170, random_state=None,\n",
       "  svd_solver='auto', tol=0.0, whiten=False)), ('simple_tree', DecisionTreeClassifier(class_weight=None, criterion='gini', max_depth=3,\n",
       "            max_features=None, max_leaf_nodes=None,\n",
       "     ...      min_weight_fraction_leaf=0.0, presort=False, random_state=None,\n",
       "            splitter='best'))]),\n",
       "       fit_params=None, iid='warn', n_jobs=-1,\n",
       "       param_grid={'simple_tree__criterion': ['gini', 'entropy']},\n",
       "       pre_dispatch='2*n_jobs', refit=True, return_train_score=True,\n",
       "       scoring=None, verbose=1)"
      ]
     },
     "execution_count": 11,
     "metadata": {},
     "output_type": "execute_result"
    }
   ],
   "source": [
    "grid_cv.fit(X_cv, y_cv)"
   ]
  },
  {
   "cell_type": "code",
   "execution_count": 12,
   "metadata": {},
   "outputs": [
    {
     "data": {
      "text/plain": [
       "dict_keys(['mean_fit_time', 'std_fit_time', 'mean_score_time', 'std_score_time', 'param_simple_tree__criterion', 'params', 'split0_test_score', 'split1_test_score', 'split2_test_score', 'mean_test_score', 'std_test_score', 'rank_test_score', 'split0_train_score', 'split1_train_score', 'split2_train_score', 'mean_train_score', 'std_train_score'])"
      ]
     },
     "execution_count": 12,
     "metadata": {},
     "output_type": "execute_result"
    }
   ],
   "source": [
    "grid_cv.cv_results_.keys()"
   ]
  },
  {
   "cell_type": "code",
   "execution_count": 13,
   "metadata": {},
   "outputs": [],
   "source": [
    "from sklearn.tree import export_graphviz\n",
    "from sklearn import tree\n",
    "import graphviz"
   ]
  },
  {
   "cell_type": "code",
   "execution_count": 14,
   "metadata": {},
   "outputs": [
    {
     "data": {
      "text/plain": [
       "'0.20.4'"
      ]
     },
     "execution_count": 14,
     "metadata": {},
     "output_type": "execute_result"
    }
   ],
   "source": [
    "import sklearn; sklearn.__version__"
   ]
  },
  {
   "cell_type": "markdown",
   "metadata": {},
   "source": [
    "We cannot give names to the features (feature_names parameter) since we use the high level features."
   ]
  },
  {
   "cell_type": "markdown",
   "metadata": {},
   "source": [
    "Let us check which is the best solution from GridSearchCV."
   ]
  },
  {
   "cell_type": "code",
   "execution_count": 15,
   "metadata": {},
   "outputs": [
    {
     "data": {
      "text/plain": [
       "[('scaler', None),\n",
       " ('pca',\n",
       "  PCA(copy=True, iterated_power='auto', n_components=170, random_state=None,\n",
       "    svd_solver='auto', tol=0.0, whiten=False)),\n",
       " ('simple_tree',\n",
       "  DecisionTreeClassifier(class_weight=None, criterion='entropy', max_depth=3,\n",
       "              max_features=None, max_leaf_nodes=None,\n",
       "              min_impurity_decrease=0.0, min_impurity_split=None,\n",
       "              min_samples_leaf=1, min_samples_split=2,\n",
       "              min_weight_fraction_leaf=0.0, presort=False, random_state=None,\n",
       "              splitter='best'))]"
      ]
     },
     "execution_count": 15,
     "metadata": {},
     "output_type": "execute_result"
    }
   ],
   "source": [
    "grid_cv.best_estimator_.steps"
   ]
  },
  {
   "cell_type": "markdown",
   "metadata": {},
   "source": [
    "I need the third step which is the simple_tree."
   ]
  },
  {
   "cell_type": "code",
   "execution_count": 16,
   "metadata": {},
   "outputs": [
    {
     "data": {
      "text/plain": [
       "('simple_tree',\n",
       " DecisionTreeClassifier(class_weight=None, criterion='entropy', max_depth=3,\n",
       "             max_features=None, max_leaf_nodes=None,\n",
       "             min_impurity_decrease=0.0, min_impurity_split=None,\n",
       "             min_samples_leaf=1, min_samples_split=2,\n",
       "             min_weight_fraction_leaf=0.0, presort=False, random_state=None,\n",
       "             splitter='best'))"
      ]
     },
     "execution_count": 16,
     "metadata": {},
     "output_type": "execute_result"
    }
   ],
   "source": [
    "grid_cv.best_estimator_.steps[2]"
   ]
  },
  {
   "cell_type": "markdown",
   "metadata": {},
   "source": [
    "From this tuple I need the second key which is the DecisionTreeClassifier with the optimum solution from GridSearchCV."
   ]
  },
  {
   "cell_type": "code",
   "execution_count": 17,
   "metadata": {},
   "outputs": [
    {
     "data": {
      "text/plain": [
       "DecisionTreeClassifier(class_weight=None, criterion='entropy', max_depth=3,\n",
       "            max_features=None, max_leaf_nodes=None,\n",
       "            min_impurity_decrease=0.0, min_impurity_split=None,\n",
       "            min_samples_leaf=1, min_samples_split=2,\n",
       "            min_weight_fraction_leaf=0.0, presort=False, random_state=None,\n",
       "            splitter='best')"
      ]
     },
     "execution_count": 17,
     "metadata": {},
     "output_type": "execute_result"
    }
   ],
   "source": [
    "grid_cv.best_estimator_.steps[2][1]"
   ]
  },
  {
   "cell_type": "code",
   "execution_count": 18,
   "metadata": {},
   "outputs": [
    {
     "data": {
      "text/plain": [
       "dict_keys(['mean_fit_time', 'std_fit_time', 'mean_score_time', 'std_score_time', 'param_simple_tree__criterion', 'params', 'split0_test_score', 'split1_test_score', 'split2_test_score', 'mean_test_score', 'std_test_score', 'rank_test_score', 'split0_train_score', 'split1_train_score', 'split2_train_score', 'mean_train_score', 'std_train_score'])"
      ]
     },
     "execution_count": 18,
     "metadata": {},
     "output_type": "execute_result"
    }
   ],
   "source": [
    "grid_cv.cv_results_.keys()"
   ]
  },
  {
   "cell_type": "code",
   "execution_count": 19,
   "metadata": {},
   "outputs": [
    {
     "data": {
      "text/plain": [
       "array([0.77804296, 0.78520286])"
      ]
     },
     "execution_count": 19,
     "metadata": {},
     "output_type": "execute_result"
    }
   ],
   "source": [
    "grid_cv.cv_results_['mean_test_score']"
   ]
  },
  {
   "cell_type": "code",
   "execution_count": 20,
   "metadata": {},
   "outputs": [
    {
     "name": "stdout",
     "output_type": "stream",
     "text": [
      "Accuracy: 0.760\n"
     ]
    },
    {
     "data": {
      "text/plain": [
       "0.76"
      ]
     },
     "execution_count": 20,
     "metadata": {},
     "output_type": "execute_result"
    }
   ],
   "source": [
    "tree_pipe_tuned = Pipeline([\n",
    "    ('scaler', None),\n",
    "    ('pca', PCA(n_components = 170)),\n",
    "    ('simple_tree', DecisionTreeClassifier(max_depth = 3, criterion='entropy'))\n",
    "                ])\n",
    "tree_pipe_tuned.fit(X_tr, y_tr)\n",
    "accuracy = tree_pipe_tuned.score(X_valid, y_valid)\n",
    "accuracy = tree_pipe_tuned.score(X_test, y_test)\n",
    "\n",
    "print('Accuracy: {:.3f}'.format(accuracy))\n",
    "accuracy"
   ]
  },
  {
   "cell_type": "code",
   "execution_count": 21,
   "metadata": {},
   "outputs": [
    {
     "data": {
      "text/html": [
       "<div>\n",
       "<style scoped>\n",
       "    .dataframe tbody tr th:only-of-type {\n",
       "        vertical-align: middle;\n",
       "    }\n",
       "\n",
       "    .dataframe tbody tr th {\n",
       "        vertical-align: top;\n",
       "    }\n",
       "\n",
       "    .dataframe thead th {\n",
       "        text-align: right;\n",
       "    }\n",
       "</style>\n",
       "<table border=\"1\" class=\"dataframe\">\n",
       "  <thead>\n",
       "    <tr style=\"text-align: right;\">\n",
       "      <th></th>\n",
       "      <th>model</th>\n",
       "      <th>accuracy</th>\n",
       "    </tr>\n",
       "  </thead>\n",
       "  <tbody>\n",
       "    <tr>\n",
       "      <th>0</th>\n",
       "      <td>decision tree</td>\n",
       "      <td>0.76</td>\n",
       "    </tr>\n",
       "  </tbody>\n",
       "</table>\n",
       "</div>"
      ],
      "text/plain": [
       "           model  accuracy\n",
       "0  decision tree      0.76"
      ]
     },
     "execution_count": 21,
     "metadata": {},
     "output_type": "execute_result"
    }
   ],
   "source": [
    "results_dt = { 'model': ['decision tree'], 'accuracy' : [accuracy] }\n",
    "results_dt = pd.DataFrame(results_dt)\n",
    "np.save('results_df', results_dt)\n",
    "results_dt"
   ]
  },
  {
   "cell_type": "code",
   "execution_count": 22,
   "metadata": {},
   "outputs": [],
   "source": [
    "np.save('results_df', results_dt)"
   ]
  },
  {
   "cell_type": "markdown",
   "metadata": {},
   "source": [
    "We cannot give names to the features (feature_names parameter) since we use the high level features."
   ]
  },
  {
   "cell_type": "code",
   "execution_count": 23,
   "metadata": {},
   "outputs": [],
   "source": [
    "from sklearn.tree import export_graphviz\n",
    "dot_data = export_graphviz(\n",
    "            grid_cv.best_estimator_.steps[2][1], out_file = None,\n",
    "            class_names = ['bike', 'car', 'motorcycle', 'other', 'truck', 'van'],\n",
    "            filled = True,\n",
    "            rounded = True,\n",
    "            proportion = True)"
   ]
  },
  {
   "cell_type": "code",
   "execution_count": 24,
   "metadata": {},
   "outputs": [
    {
     "data": {
      "image/svg+xml": [
       "<?xml version=\"1.0\" encoding=\"UTF-8\" standalone=\"no\"?>\n",
       "<!DOCTYPE svg PUBLIC \"-//W3C//DTD SVG 1.1//EN\"\n",
       " \"http://www.w3.org/Graphics/SVG/1.1/DTD/svg11.dtd\">\n",
       "<!-- Generated by graphviz version 2.38.0 (20140413.2041)\n",
       " -->\n",
       "<!-- Title: Tree Pages: 1 -->\n",
       "<svg width=\"1611pt\" height=\"414pt\"\n",
       " viewBox=\"0.00 0.00 1611.44 414.00\" xmlns=\"http://www.w3.org/2000/svg\" xmlns:xlink=\"http://www.w3.org/1999/xlink\">\n",
       "<g id=\"graph0\" class=\"graph\" transform=\"scale(1 1) rotate(0) translate(4 410)\">\n",
       "<title>Tree</title>\n",
       "<polygon fill=\"white\" stroke=\"none\" points=\"-4,4 -4,-410 1607.44,-410 1607.44,4 -4,4\"/>\n",
       "<!-- 0 -->\n",
       "<g id=\"node1\" class=\"node\"><title>0</title>\n",
       "<path fill=\"#e58139\" fill-opacity=\"0.007843\" stroke=\"black\" d=\"M1184.99,-406C1184.99,-406 895.021,-406 895.021,-406 889.021,-406 883.021,-400 883.021,-394 883.021,-394 883.021,-340 883.021,-340 883.021,-334 889.021,-328 895.021,-328 895.021,-328 1184.99,-328 1184.99,-328 1190.99,-328 1196.99,-334 1196.99,-340 1196.99,-340 1196.99,-394 1196.99,-394 1196.99,-400 1190.99,-406 1184.99,-406\"/>\n",
       "<text text-anchor=\"middle\" x=\"1040.01\" y=\"-390.8\" font-family=\"Helvetica,sans-Serif\" font-size=\"14.00\">X[1] &lt;= 1.266</text>\n",
       "<text text-anchor=\"middle\" x=\"1040.01\" y=\"-376.8\" font-family=\"Helvetica,sans-Serif\" font-size=\"14.00\">entropy = 2.504</text>\n",
       "<text text-anchor=\"middle\" x=\"1040.01\" y=\"-362.8\" font-family=\"Helvetica,sans-Serif\" font-size=\"14.00\">samples = 100.0%</text>\n",
       "<text text-anchor=\"middle\" x=\"1040.01\" y=\"-348.8\" font-family=\"Helvetica,sans-Serif\" font-size=\"14.00\">value = [0.236, 0.229, 0.181, 0.115, 0.15, 0.088]</text>\n",
       "<text text-anchor=\"middle\" x=\"1040.01\" y=\"-334.8\" font-family=\"Helvetica,sans-Serif\" font-size=\"14.00\">class = bike</text>\n",
       "</g>\n",
       "<!-- 1 -->\n",
       "<g id=\"node2\" class=\"node\"><title>1</title>\n",
       "<path fill=\"#9de539\" fill-opacity=\"0.082353\" stroke=\"black\" d=\"M979.708,-292C979.708,-292 698.307,-292 698.307,-292 692.307,-292 686.307,-286 686.307,-280 686.307,-280 686.307,-226 686.307,-226 686.307,-220 692.307,-214 698.307,-214 698.307,-214 979.708,-214 979.708,-214 985.708,-214 991.708,-220 991.708,-226 991.708,-226 991.708,-280 991.708,-280 991.708,-286 985.708,-292 979.708,-292\"/>\n",
       "<text text-anchor=\"middle\" x=\"839.008\" y=\"-276.8\" font-family=\"Helvetica,sans-Serif\" font-size=\"14.00\">X[2] &lt;= &#45;0.335</text>\n",
       "<text text-anchor=\"middle\" x=\"839.008\" y=\"-262.8\" font-family=\"Helvetica,sans-Serif\" font-size=\"14.00\">entropy = 2.242</text>\n",
       "<text text-anchor=\"middle\" x=\"839.008\" y=\"-248.8\" font-family=\"Helvetica,sans-Serif\" font-size=\"14.00\">samples = 75.9%</text>\n",
       "<text text-anchor=\"middle\" x=\"839.008\" y=\"-234.8\" font-family=\"Helvetica,sans-Serif\" font-size=\"14.00\">value = [0.0, 0.302, 0.239, 0.145, 0.198, 0.116]</text>\n",
       "<text text-anchor=\"middle\" x=\"839.008\" y=\"-220.8\" font-family=\"Helvetica,sans-Serif\" font-size=\"14.00\">class = car</text>\n",
       "</g>\n",
       "<!-- 0&#45;&gt;1 -->\n",
       "<g id=\"edge1\" class=\"edge\"><title>0&#45;&gt;1</title>\n",
       "<path fill=\"none\" stroke=\"black\" d=\"M971.678,-327.926C953.877,-318.007 934.572,-307.25 916.342,-297.092\"/>\n",
       "<polygon fill=\"black\" stroke=\"black\" points=\"917.929,-293.969 907.49,-292.159 914.522,-300.084 917.929,-293.969\"/>\n",
       "<text text-anchor=\"middle\" x=\"914.328\" y=\"-312.006\" font-family=\"Helvetica,sans-Serif\" font-size=\"14.00\">True</text>\n",
       "</g>\n",
       "<!-- 8 -->\n",
       "<g id=\"node9\" class=\"node\"><title>8</title>\n",
       "<path fill=\"#e58139\" fill-opacity=\"0.980392\" stroke=\"black\" d=\"M1352.45,-292C1352.45,-292 1131.56,-292 1131.56,-292 1125.56,-292 1119.56,-286 1119.56,-280 1119.56,-280 1119.56,-226 1119.56,-226 1119.56,-220 1125.56,-214 1131.56,-214 1131.56,-214 1352.45,-214 1352.45,-214 1358.45,-214 1364.45,-220 1364.45,-226 1364.45,-226 1364.45,-280 1364.45,-280 1364.45,-286 1358.45,-292 1352.45,-292\"/>\n",
       "<text text-anchor=\"middle\" x=\"1242.01\" y=\"-276.8\" font-family=\"Helvetica,sans-Serif\" font-size=\"14.00\">X[1] &lt;= 3.022</text>\n",
       "<text text-anchor=\"middle\" x=\"1242.01\" y=\"-262.8\" font-family=\"Helvetica,sans-Serif\" font-size=\"14.00\">entropy = 0.14</text>\n",
       "<text text-anchor=\"middle\" x=\"1242.01\" y=\"-248.8\" font-family=\"Helvetica,sans-Serif\" font-size=\"14.00\">samples = 24.1%</text>\n",
       "<text text-anchor=\"middle\" x=\"1242.01\" y=\"-234.8\" font-family=\"Helvetica,sans-Serif\" font-size=\"14.00\">value = [0.98, 0.0, 0.0, 0.02, 0.0, 0.0]</text>\n",
       "<text text-anchor=\"middle\" x=\"1242.01\" y=\"-220.8\" font-family=\"Helvetica,sans-Serif\" font-size=\"14.00\">class = bike</text>\n",
       "</g>\n",
       "<!-- 0&#45;&gt;8 -->\n",
       "<g id=\"edge8\" class=\"edge\"><title>0&#45;&gt;8</title>\n",
       "<path fill=\"none\" stroke=\"black\" d=\"M1108.68,-327.926C1126.57,-318.007 1145.97,-307.25 1164.29,-297.092\"/>\n",
       "<polygon fill=\"black\" stroke=\"black\" points=\"1166.14,-300.069 1173.18,-292.159 1162.74,-293.947 1166.14,-300.069\"/>\n",
       "<text text-anchor=\"middle\" x=\"1166.3\" y=\"-311.992\" font-family=\"Helvetica,sans-Serif\" font-size=\"14.00\">False</text>\n",
       "</g>\n",
       "<!-- 2 -->\n",
       "<g id=\"node3\" class=\"node\"><title>2</title>\n",
       "<path fill=\"#8139e5\" fill-opacity=\"0.207843\" stroke=\"black\" d=\"M557.668,-178C557.668,-178 290.348,-178 290.348,-178 284.348,-178 278.348,-172 278.348,-166 278.348,-166 278.348,-112 278.348,-112 278.348,-106 284.348,-100 290.348,-100 290.348,-100 557.668,-100 557.668,-100 563.668,-100 569.668,-106 569.668,-112 569.668,-112 569.668,-166 569.668,-166 569.668,-172 563.668,-178 557.668,-178\"/>\n",
       "<text text-anchor=\"middle\" x=\"424.008\" y=\"-162.8\" font-family=\"Helvetica,sans-Serif\" font-size=\"14.00\">X[1] &lt;= &#45;2.495</text>\n",
       "<text text-anchor=\"middle\" x=\"424.008\" y=\"-148.8\" font-family=\"Helvetica,sans-Serif\" font-size=\"14.00\">entropy = 1.588</text>\n",
       "<text text-anchor=\"middle\" x=\"424.008\" y=\"-134.8\" font-family=\"Helvetica,sans-Serif\" font-size=\"14.00\">samples = 32.2%</text>\n",
       "<text text-anchor=\"middle\" x=\"424.008\" y=\"-120.8\" font-family=\"Helvetica,sans-Serif\" font-size=\"14.00\">value = [0.0, 0.015, 0.0, 0.326, 0.467, 0.193]</text>\n",
       "<text text-anchor=\"middle\" x=\"424.008\" y=\"-106.8\" font-family=\"Helvetica,sans-Serif\" font-size=\"14.00\">class = truck</text>\n",
       "</g>\n",
       "<!-- 1&#45;&gt;2 -->\n",
       "<g id=\"edge2\" class=\"edge\"><title>1&#45;&gt;2</title>\n",
       "<path fill=\"none\" stroke=\"black\" d=\"M697.929,-213.926C658.312,-203.234 615.083,-191.567 574.918,-180.728\"/>\n",
       "<polygon fill=\"black\" stroke=\"black\" points=\"575.616,-177.291 565.049,-178.064 573.792,-184.049 575.616,-177.291\"/>\n",
       "</g>\n",
       "<!-- 5 -->\n",
       "<g id=\"node6\" class=\"node\"><title>5</title>\n",
       "<path fill=\"#9de539\" fill-opacity=\"0.168627\" stroke=\"black\" d=\"M968.35,-178C968.35,-178 709.666,-178 709.666,-178 703.666,-178 697.666,-172 697.666,-166 697.666,-166 697.666,-112 697.666,-112 697.666,-106 703.666,-100 709.666,-100 709.666,-100 968.35,-100 968.35,-100 974.35,-100 980.35,-106 980.35,-112 980.35,-112 980.35,-166 980.35,-166 980.35,-172 974.35,-178 968.35,-178\"/>\n",
       "<text text-anchor=\"middle\" x=\"839.008\" y=\"-162.8\" font-family=\"Helvetica,sans-Serif\" font-size=\"14.00\">X[0] &lt;= &#45;1.16</text>\n",
       "<text text-anchor=\"middle\" x=\"839.008\" y=\"-148.8\" font-family=\"Helvetica,sans-Serif\" font-size=\"14.00\">entropy = 1.335</text>\n",
       "<text text-anchor=\"middle\" x=\"839.008\" y=\"-134.8\" font-family=\"Helvetica,sans-Serif\" font-size=\"14.00\">samples = 43.7%</text>\n",
       "<text text-anchor=\"middle\" x=\"839.008\" y=\"-120.8\" font-family=\"Helvetica,sans-Serif\" font-size=\"14.00\">value = [0.0, 0.514, 0.415, 0.011, 0.0, 0.06]</text>\n",
       "<text text-anchor=\"middle\" x=\"839.008\" y=\"-106.8\" font-family=\"Helvetica,sans-Serif\" font-size=\"14.00\">class = car</text>\n",
       "</g>\n",
       "<!-- 1&#45;&gt;5 -->\n",
       "<g id=\"edge5\" class=\"edge\"><title>1&#45;&gt;5</title>\n",
       "<path fill=\"none\" stroke=\"black\" d=\"M839.008,-213.769C839.008,-205.57 839.008,-196.803 839.008,-188.28\"/>\n",
       "<polygon fill=\"black\" stroke=\"black\" points=\"842.508,-188.058 839.008,-178.058 835.508,-188.059 842.508,-188.058\"/>\n",
       "</g>\n",
       "<!-- 3 -->\n",
       "<g id=\"node4\" class=\"node\"><title>3</title>\n",
       "<path fill=\"#8139e5\" fill-opacity=\"0.376471\" stroke=\"black\" d=\"M248.023,-64C248.023,-64 11.9922,-64 11.9922,-64 5.99219,-64 -0.00781297,-58 -0.00781297,-52 -0.00781297,-52 -0.00781297,-12 -0.00781297,-12 -0.00781297,-6 5.99219,-0 11.9922,-0 11.9922,-0 248.023,-0 248.023,-0 254.023,-0 260.023,-6 260.023,-12 260.023,-12 260.023,-52 260.023,-52 260.023,-58 254.023,-64 248.023,-64\"/>\n",
       "<text text-anchor=\"middle\" x=\"130.008\" y=\"-48.8\" font-family=\"Helvetica,sans-Serif\" font-size=\"14.00\">entropy = 1.167</text>\n",
       "<text text-anchor=\"middle\" x=\"130.008\" y=\"-34.8\" font-family=\"Helvetica,sans-Serif\" font-size=\"14.00\">samples = 16.7%</text>\n",
       "<text text-anchor=\"middle\" x=\"130.008\" y=\"-20.8\" font-family=\"Helvetica,sans-Serif\" font-size=\"14.00\">value = [0.0, 0.0, 0.0, 0.043, 0.6, 0.357]</text>\n",
       "<text text-anchor=\"middle\" x=\"130.008\" y=\"-6.8\" font-family=\"Helvetica,sans-Serif\" font-size=\"14.00\">class = truck</text>\n",
       "</g>\n",
       "<!-- 2&#45;&gt;3 -->\n",
       "<g id=\"edge3\" class=\"edge\"><title>2&#45;&gt;3</title>\n",
       "<path fill=\"none\" stroke=\"black\" d=\"M317.451,-99.9441C287.775,-89.3456 255.715,-77.8954 226.644,-67.5128\"/>\n",
       "<polygon fill=\"black\" stroke=\"black\" points=\"227.502,-64.1028 216.907,-64.0355 225.147,-70.695 227.502,-64.1028\"/>\n",
       "</g>\n",
       "<!-- 4 -->\n",
       "<g id=\"node5\" class=\"node\"><title>4</title>\n",
       "<path fill=\"#399de5\" fill-opacity=\"0.454902\" stroke=\"black\" d=\"M557.668,-64C557.668,-64 290.348,-64 290.348,-64 284.348,-64 278.348,-58 278.348,-52 278.348,-52 278.348,-12 278.348,-12 278.348,-6 284.348,-0 290.348,-0 290.348,-0 557.668,-0 557.668,-0 563.668,-0 569.668,-6 569.668,-12 569.668,-12 569.668,-52 569.668,-52 569.668,-58 563.668,-64 557.668,-64\"/>\n",
       "<text text-anchor=\"middle\" x=\"424.008\" y=\"-48.8\" font-family=\"Helvetica,sans-Serif\" font-size=\"14.00\">entropy = 1.193</text>\n",
       "<text text-anchor=\"middle\" x=\"424.008\" y=\"-34.8\" font-family=\"Helvetica,sans-Serif\" font-size=\"14.00\">samples = 15.5%</text>\n",
       "<text text-anchor=\"middle\" x=\"424.008\" y=\"-20.8\" font-family=\"Helvetica,sans-Serif\" font-size=\"14.00\">value = [0.0, 0.031, 0.0, 0.631, 0.323, 0.015]</text>\n",
       "<text text-anchor=\"middle\" x=\"424.008\" y=\"-6.8\" font-family=\"Helvetica,sans-Serif\" font-size=\"14.00\">class = other</text>\n",
       "</g>\n",
       "<!-- 2&#45;&gt;4 -->\n",
       "<g id=\"edge4\" class=\"edge\"><title>2&#45;&gt;4</title>\n",
       "<path fill=\"none\" stroke=\"black\" d=\"M424.008,-99.7956C424.008,-91.4581 424.008,-82.6 424.008,-74.1534\"/>\n",
       "<polygon fill=\"black\" stroke=\"black\" points=\"427.508,-74.1171 424.008,-64.1172 420.508,-74.1172 427.508,-74.1171\"/>\n",
       "</g>\n",
       "<!-- 6 -->\n",
       "<g id=\"node7\" class=\"node\"><title>6</title>\n",
       "<path fill=\"#9de539\" fill-opacity=\"0.862745\" stroke=\"black\" d=\"M850.596,-64C850.596,-64 599.42,-64 599.42,-64 593.42,-64 587.42,-58 587.42,-52 587.42,-52 587.42,-12 587.42,-12 587.42,-6 593.42,-0 599.42,-0 599.42,-0 850.596,-0 850.596,-0 856.596,-0 862.596,-6 862.596,-12 862.596,-12 862.596,-52 862.596,-52 862.596,-58 856.596,-64 850.596,-64\"/>\n",
       "<text text-anchor=\"middle\" x=\"725.008\" y=\"-48.8\" font-family=\"Helvetica,sans-Serif\" font-size=\"14.00\">entropy = 0.609</text>\n",
       "<text text-anchor=\"middle\" x=\"725.008\" y=\"-34.8\" font-family=\"Helvetica,sans-Serif\" font-size=\"14.00\">samples = 25.5%</text>\n",
       "<text text-anchor=\"middle\" x=\"725.008\" y=\"-20.8\" font-family=\"Helvetica,sans-Serif\" font-size=\"14.00\">value = [0.0, 0.879, 0.0, 0.019, 0.0, 0.103]</text>\n",
       "<text text-anchor=\"middle\" x=\"725.008\" y=\"-6.8\" font-family=\"Helvetica,sans-Serif\" font-size=\"14.00\">class = car</text>\n",
       "</g>\n",
       "<!-- 5&#45;&gt;6 -->\n",
       "<g id=\"edge6\" class=\"edge\"><title>5&#45;&gt;6</title>\n",
       "<path fill=\"none\" stroke=\"black\" d=\"M797.529,-99.7956C787.382,-90.4503 776.526,-80.4509 766.384,-71.11\"/>\n",
       "<polygon fill=\"black\" stroke=\"black\" points=\"768.519,-68.3175 758.792,-64.1172 763.776,-73.4664 768.519,-68.3175\"/>\n",
       "</g>\n",
       "<!-- 7 -->\n",
       "<g id=\"node8\" class=\"node\"><title>7</title>\n",
       "<path fill=\"#39e581\" stroke=\"black\" d=\"M1097.38,-64C1097.38,-64 892.637,-64 892.637,-64 886.637,-64 880.637,-58 880.637,-52 880.637,-52 880.637,-12 880.637,-12 880.637,-6 886.637,-0 892.637,-0 892.637,-0 1097.38,-0 1097.38,-0 1103.38,-0 1109.38,-6 1109.38,-12 1109.38,-12 1109.38,-52 1109.38,-52 1109.38,-58 1103.38,-64 1097.38,-64\"/>\n",
       "<text text-anchor=\"middle\" x=\"995.008\" y=\"-48.8\" font-family=\"Helvetica,sans-Serif\" font-size=\"14.00\">entropy = 0.0</text>\n",
       "<text text-anchor=\"middle\" x=\"995.008\" y=\"-34.8\" font-family=\"Helvetica,sans-Serif\" font-size=\"14.00\">samples = 18.1%</text>\n",
       "<text text-anchor=\"middle\" x=\"995.008\" y=\"-20.8\" font-family=\"Helvetica,sans-Serif\" font-size=\"14.00\">value = [0.0, 0.0, 1.0, 0.0, 0.0, 0.0]</text>\n",
       "<text text-anchor=\"middle\" x=\"995.008\" y=\"-6.8\" font-family=\"Helvetica,sans-Serif\" font-size=\"14.00\">class = motorcycle</text>\n",
       "</g>\n",
       "<!-- 5&#45;&gt;7 -->\n",
       "<g id=\"edge7\" class=\"edge\"><title>5&#45;&gt;7</title>\n",
       "<path fill=\"none\" stroke=\"black\" d=\"M895.769,-99.7956C910.334,-89.9922 925.968,-79.469 940.421,-69.7413\"/>\n",
       "<polygon fill=\"black\" stroke=\"black\" points=\"942.435,-72.6045 948.777,-64.1172 938.526,-66.7974 942.435,-72.6045\"/>\n",
       "</g>\n",
       "<!-- 9 -->\n",
       "<g id=\"node10\" class=\"node\"><title>9</title>\n",
       "<path fill=\"none\" stroke=\"black\" d=\"M1344.38,-178C1344.38,-178 1139.64,-178 1139.64,-178 1133.64,-178 1127.64,-172 1127.64,-166 1127.64,-166 1127.64,-112 1127.64,-112 1127.64,-106 1133.64,-100 1139.64,-100 1139.64,-100 1344.38,-100 1344.38,-100 1350.38,-100 1356.38,-106 1356.38,-112 1356.38,-112 1356.38,-166 1356.38,-166 1356.38,-172 1350.38,-178 1344.38,-178\"/>\n",
       "<text text-anchor=\"middle\" x=\"1242.01\" y=\"-162.8\" font-family=\"Helvetica,sans-Serif\" font-size=\"14.00\">X[111] &lt;= &#45;0.176</text>\n",
       "<text text-anchor=\"middle\" x=\"1242.01\" y=\"-148.8\" font-family=\"Helvetica,sans-Serif\" font-size=\"14.00\">entropy = 1.0</text>\n",
       "<text text-anchor=\"middle\" x=\"1242.01\" y=\"-134.8\" font-family=\"Helvetica,sans-Serif\" font-size=\"14.00\">samples = 1.0%</text>\n",
       "<text text-anchor=\"middle\" x=\"1242.01\" y=\"-120.8\" font-family=\"Helvetica,sans-Serif\" font-size=\"14.00\">value = [0.5, 0.0, 0.0, 0.5, 0.0, 0.0]</text>\n",
       "<text text-anchor=\"middle\" x=\"1242.01\" y=\"-106.8\" font-family=\"Helvetica,sans-Serif\" font-size=\"14.00\">class = bike</text>\n",
       "</g>\n",
       "<!-- 8&#45;&gt;9 -->\n",
       "<g id=\"edge9\" class=\"edge\"><title>8&#45;&gt;9</title>\n",
       "<path fill=\"none\" stroke=\"black\" d=\"M1242.01,-213.769C1242.01,-205.57 1242.01,-196.803 1242.01,-188.28\"/>\n",
       "<polygon fill=\"black\" stroke=\"black\" points=\"1245.51,-188.058 1242.01,-178.058 1238.51,-188.059 1245.51,-188.058\"/>\n",
       "</g>\n",
       "<!-- 12 -->\n",
       "<g id=\"node13\" class=\"node\"><title>12</title>\n",
       "<path fill=\"#e58139\" stroke=\"black\" d=\"M1591.38,-171C1591.38,-171 1386.64,-171 1386.64,-171 1380.64,-171 1374.64,-165 1374.64,-159 1374.64,-159 1374.64,-119 1374.64,-119 1374.64,-113 1380.64,-107 1386.64,-107 1386.64,-107 1591.38,-107 1591.38,-107 1597.38,-107 1603.38,-113 1603.38,-119 1603.38,-119 1603.38,-159 1603.38,-159 1603.38,-165 1597.38,-171 1591.38,-171\"/>\n",
       "<text text-anchor=\"middle\" x=\"1489.01\" y=\"-155.8\" font-family=\"Helvetica,sans-Serif\" font-size=\"14.00\">entropy = 0.0</text>\n",
       "<text text-anchor=\"middle\" x=\"1489.01\" y=\"-141.8\" font-family=\"Helvetica,sans-Serif\" font-size=\"14.00\">samples = 23.2%</text>\n",
       "<text text-anchor=\"middle\" x=\"1489.01\" y=\"-127.8\" font-family=\"Helvetica,sans-Serif\" font-size=\"14.00\">value = [1.0, 0.0, 0.0, 0.0, 0.0, 0.0]</text>\n",
       "<text text-anchor=\"middle\" x=\"1489.01\" y=\"-113.8\" font-family=\"Helvetica,sans-Serif\" font-size=\"14.00\">class = bike</text>\n",
       "</g>\n",
       "<!-- 8&#45;&gt;12 -->\n",
       "<g id=\"edge12\" class=\"edge\"><title>8&#45;&gt;12</title>\n",
       "<path fill=\"none\" stroke=\"black\" d=\"M1325.98,-213.926C1353.5,-201.446 1383.95,-187.638 1411.01,-175.366\"/>\n",
       "<polygon fill=\"black\" stroke=\"black\" points=\"1412.77,-178.412 1420.43,-171.095 1409.88,-172.037 1412.77,-178.412\"/>\n",
       "</g>\n",
       "<!-- 10 -->\n",
       "<g id=\"node11\" class=\"node\"><title>10</title>\n",
       "<path fill=\"#399de5\" stroke=\"black\" d=\"M1344.38,-64C1344.38,-64 1139.64,-64 1139.64,-64 1133.64,-64 1127.64,-58 1127.64,-52 1127.64,-52 1127.64,-12 1127.64,-12 1127.64,-6 1133.64,-0 1139.64,-0 1139.64,-0 1344.38,-0 1344.38,-0 1350.38,-0 1356.38,-6 1356.38,-12 1356.38,-12 1356.38,-52 1356.38,-52 1356.38,-58 1350.38,-64 1344.38,-64\"/>\n",
       "<text text-anchor=\"middle\" x=\"1242.01\" y=\"-48.8\" font-family=\"Helvetica,sans-Serif\" font-size=\"14.00\">entropy = 0.0</text>\n",
       "<text text-anchor=\"middle\" x=\"1242.01\" y=\"-34.8\" font-family=\"Helvetica,sans-Serif\" font-size=\"14.00\">samples = 0.5%</text>\n",
       "<text text-anchor=\"middle\" x=\"1242.01\" y=\"-20.8\" font-family=\"Helvetica,sans-Serif\" font-size=\"14.00\">value = [0.0, 0.0, 0.0, 1.0, 0.0, 0.0]</text>\n",
       "<text text-anchor=\"middle\" x=\"1242.01\" y=\"-6.8\" font-family=\"Helvetica,sans-Serif\" font-size=\"14.00\">class = other</text>\n",
       "</g>\n",
       "<!-- 9&#45;&gt;10 -->\n",
       "<g id=\"edge10\" class=\"edge\"><title>9&#45;&gt;10</title>\n",
       "<path fill=\"none\" stroke=\"black\" d=\"M1242.01,-99.7956C1242.01,-91.4581 1242.01,-82.6 1242.01,-74.1534\"/>\n",
       "<polygon fill=\"black\" stroke=\"black\" points=\"1245.51,-74.1171 1242.01,-64.1172 1238.51,-74.1172 1245.51,-74.1171\"/>\n",
       "</g>\n",
       "<!-- 11 -->\n",
       "<g id=\"node12\" class=\"node\"><title>11</title>\n",
       "<path fill=\"#e58139\" stroke=\"black\" d=\"M1591.38,-64C1591.38,-64 1386.64,-64 1386.64,-64 1380.64,-64 1374.64,-58 1374.64,-52 1374.64,-52 1374.64,-12 1374.64,-12 1374.64,-6 1380.64,-0 1386.64,-0 1386.64,-0 1591.38,-0 1591.38,-0 1597.38,-0 1603.38,-6 1603.38,-12 1603.38,-12 1603.38,-52 1603.38,-52 1603.38,-58 1597.38,-64 1591.38,-64\"/>\n",
       "<text text-anchor=\"middle\" x=\"1489.01\" y=\"-48.8\" font-family=\"Helvetica,sans-Serif\" font-size=\"14.00\">entropy = 0.0</text>\n",
       "<text text-anchor=\"middle\" x=\"1489.01\" y=\"-34.8\" font-family=\"Helvetica,sans-Serif\" font-size=\"14.00\">samples = 0.5%</text>\n",
       "<text text-anchor=\"middle\" x=\"1489.01\" y=\"-20.8\" font-family=\"Helvetica,sans-Serif\" font-size=\"14.00\">value = [1.0, 0.0, 0.0, 0.0, 0.0, 0.0]</text>\n",
       "<text text-anchor=\"middle\" x=\"1489.01\" y=\"-6.8\" font-family=\"Helvetica,sans-Serif\" font-size=\"14.00\">class = bike</text>\n",
       "</g>\n",
       "<!-- 9&#45;&gt;11 -->\n",
       "<g id=\"edge11\" class=\"edge\"><title>9&#45;&gt;11</title>\n",
       "<path fill=\"none\" stroke=\"black\" d=\"M1331.53,-99.9441C1356.03,-89.5299 1382.46,-78.2934 1406.54,-68.0555\"/>\n",
       "<polygon fill=\"black\" stroke=\"black\" points=\"1408.17,-71.1688 1416,-64.0355 1405.43,-64.7267 1408.17,-71.1688\"/>\n",
       "</g>\n",
       "</g>\n",
       "</svg>\n"
      ],
      "text/plain": [
       "<graphviz.files.Source at 0x7fe4453a0ba8>"
      ]
     },
     "execution_count": 24,
     "metadata": {},
     "output_type": "execute_result"
    }
   ],
   "source": [
    "import graphviz\n",
    "graphviz.Source(dot_data)"
   ]
  },
  {
   "cell_type": "markdown",
   "metadata": {},
   "source": [
    "### Predictions"
   ]
  },
  {
   "cell_type": "code",
   "execution_count": 25,
   "metadata": {},
   "outputs": [
    {
     "data": {
      "text/plain": [
       "array([2.], dtype=float32)"
      ]
     },
     "execution_count": 25,
     "metadata": {},
     "output_type": "execute_result"
    }
   ],
   "source": [
    "tree_pipe.predict(X_tr[180].reshape(1,-1))"
   ]
  },
  {
   "cell_type": "markdown",
   "metadata": {},
   "source": [
    "it is class 2"
   ]
  },
  {
   "cell_type": "code",
   "execution_count": 26,
   "metadata": {},
   "outputs": [
    {
     "data": {
      "text/plain": [
       "(50, 2048)"
      ]
     },
     "execution_count": 26,
     "metadata": {},
     "output_type": "execute_result"
    }
   ],
   "source": [
    "X_test.shape"
   ]
  },
  {
   "cell_type": "code",
   "execution_count": 27,
   "metadata": {},
   "outputs": [
    {
     "data": {
      "text/plain": [
       "array([4.], dtype=float32)"
      ]
     },
     "execution_count": 27,
     "metadata": {},
     "output_type": "execute_result"
    }
   ],
   "source": [
    "tree_pipe.predict(X_test[49].reshape(1,-1))"
   ]
  },
  {
   "cell_type": "code",
   "execution_count": 28,
   "metadata": {},
   "outputs": [
    {
     "data": {
      "text/plain": [
       "(2048,)"
      ]
     },
     "execution_count": 28,
     "metadata": {},
     "output_type": "execute_result"
    }
   ],
   "source": [
    "X_test[2].shape"
   ]
  },
  {
   "cell_type": "code",
   "execution_count": 29,
   "metadata": {},
   "outputs": [
    {
     "data": {
      "text/plain": [
       "(280, 2048)"
      ]
     },
     "execution_count": 29,
     "metadata": {},
     "output_type": "execute_result"
    }
   ],
   "source": [
    "X_tr.shape"
   ]
  },
  {
   "cell_type": "code",
   "execution_count": 30,
   "metadata": {},
   "outputs": [
    {
     "data": {
      "text/plain": [
       "(2048,)"
      ]
     },
     "execution_count": 30,
     "metadata": {},
     "output_type": "execute_result"
    }
   ],
   "source": [
    "X_tr[0].shape"
   ]
  },
  {
   "cell_type": "code",
   "execution_count": null,
   "metadata": {},
   "outputs": [],
   "source": []
  }
 ],
 "metadata": {
  "kernelspec": {
   "display_name": "Python 3",
   "language": "python",
   "name": "python3"
  },
  "language_info": {
   "codemirror_mode": {
    "name": "ipython",
    "version": 3
   },
   "file_extension": ".py",
   "mimetype": "text/x-python",
   "name": "python",
   "nbconvert_exporter": "python",
   "pygments_lexer": "ipython3",
   "version": "3.6.13"
  }
 },
 "nbformat": 4,
 "nbformat_minor": 4
}
