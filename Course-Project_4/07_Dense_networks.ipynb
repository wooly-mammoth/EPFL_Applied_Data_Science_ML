{
 "cells": [
  {
   "cell_type": "markdown",
   "metadata": {},
   "source": [
    "# Dense network\n",
    "Finally, try with neural networks\n",
    "\n",
    " - 1-layer dense network i.e. no hidden layer, just the input and output ones\n",
    " - 2-layer dense network i.e. one hidden layer"
   ]
  },
  {
   "cell_type": "markdown",
   "metadata": {},
   "source": [
    "1 layer dense network without hidden layers"
   ]
  },
  {
   "cell_type": "code",
   "execution_count": 1,
   "metadata": {},
   "outputs": [
    {
     "name": "stderr",
     "output_type": "stream",
     "text": [
      "WARNING:absl:Some hub symbols are not available because TensorFlow version is less than 1.14\n"
     ]
    }
   ],
   "source": [
    "import tensorflow as tf\n",
    "import tensorflow_hub as hub\n",
    "from tensorflow.keras import Sequential\n",
    "from tensorflow.keras.layers import Dense\n",
    "from tensorflow.keras import optimizers, losses, metrics\n",
    "from sklearn.preprocessing import StandardScaler\n",
    "import tensorflow.keras as keras\n",
    "\n",
    "from tensorflow.keras import activations\n",
    "from tensorflow.keras import initializers\n",
    "\n",
    "import numpy as np\n",
    "import pandas as pd\n",
    "import os\n",
    "import PIL.Image as Image\n",
    "from tensorflow.keras.preprocessing.image import ImageDataGenerator\n",
    "from sklearn.pipeline import Pipeline\n",
    "from sklearn.pipeline import make_pipeline\n",
    "from sklearn.model_selection import GridSearchCV\n",
    "from sklearn.preprocessing import StandardScaler\n",
    "from sklearn.decomposition import PCA\n",
    "import matplotlib.pyplot as plt\n",
    "%matplotlib inline"
   ]
  },
  {
   "cell_type": "code",
   "execution_count": 2,
   "metadata": {},
   "outputs": [],
   "source": [
    "X_tr = np.load('features_tr.npy')\n",
    "y_tr = np.load('labels_tr.npy')\n",
    "\n",
    "X_valid = np.load('features_valid.npy')\n",
    "y_valid = np.load('labels_valid.npy')\n",
    "\n",
    "X_test = np.load('features_test.npy')\n",
    "y_test = np.load('labels_test.npy')"
   ]
  },
  {
   "cell_type": "code",
   "execution_count": 3,
   "metadata": {},
   "outputs": [],
   "source": [
    "X_cv = np.concatenate((X_tr, X_valid), axis = 0)\n",
    "y_cv = np.concatenate((y_tr, y_valid), axis = 0)"
   ]
  },
  {
   "cell_type": "code",
   "execution_count": 4,
   "metadata": {},
   "outputs": [
    {
     "data": {
      "text/plain": [
       "2048"
      ]
     },
     "execution_count": 4,
     "metadata": {},
     "output_type": "execute_result"
    }
   ],
   "source": [
    "X_tr.shape[1]"
   ]
  },
  {
   "cell_type": "markdown",
   "metadata": {},
   "source": [
    "I will train my data with image generator"
   ]
  },
  {
   "cell_type": "code",
   "execution_count": 5,
   "metadata": {},
   "outputs": [],
   "source": [
    "from tensorflow.keras.preprocessing.image import ImageDataGenerator\n",
    "\n",
    "# or we do not need to do image augmantation to change the dataset here\n",
    "train_generator = ImageDataGenerator(rescale = 1/255)\n",
    "valid_generator = ImageDataGenerator(rescale = 1/255)\n",
    "test_generator = ImageDataGenerator(rescale = 1/255)"
   ]
  },
  {
   "cell_type": "code",
   "execution_count": 6,
   "metadata": {},
   "outputs": [
    {
     "name": "stdout",
     "output_type": "stream",
     "text": [
      "Found 280 images belonging to 6 classes.\n",
      "Found 139 images belonging to 6 classes.\n",
      "Found 50 images belonging to 6 classes.\n"
     ]
    }
   ],
   "source": [
    "trainset = train_generator.flow_from_directory(\n",
    "    os.path.join('swissroads','train'), batch_size = 280, target_size = (299,299), shuffle = False, class_mode = 'sparse')\n",
    "\n",
    "validset = valid_generator.flow_from_directory(\n",
    "    os.path.join('swissroads', 'valid'), batch_size = 139, target_size = (299, 299), shuffle = False, class_mode = 'sparse')\n",
    "\n",
    "testset = test_generator.flow_from_directory(\n",
    "    os.path.join('swissroads', 'test'), batch_size = 50, target_size = (299,299), shuffle = False, class_mode = 'sparse')"
   ]
  },
  {
   "cell_type": "code",
   "execution_count": 7,
   "metadata": {},
   "outputs": [
    {
     "data": {
      "text/plain": [
       "1"
      ]
     },
     "execution_count": 7,
     "metadata": {},
     "output_type": "execute_result"
    }
   ],
   "source": [
    "len(trainset)"
   ]
  },
  {
   "cell_type": "markdown",
   "metadata": {},
   "source": [
    "### Pipeline ? can we define a pipeline? -->Wrapper "
   ]
  },
  {
   "cell_type": "code",
   "execution_count": 8,
   "metadata": {},
   "outputs": [],
   "source": [
    "pca = PCA(n_components = 170)\n",
    "pca.fit(X_tr, y = None)\n",
    "X_tr_preprocessed = pca.transform(X_tr)\n",
    "X_te_preprocessed = pca.transform(X_test)\n",
    "X_valid_preprocessed = pca.transform(X_valid)"
   ]
  },
  {
   "cell_type": "markdown",
   "metadata": {},
   "source": [
    "I will mainly work with the objects from its layers keras submodule and assemble them in a Sequential model."
   ]
  },
  {
   "cell_type": "markdown",
   "metadata": {},
   "source": [
    "### Model 1L"
   ]
  },
  {
   "cell_type": "code",
   "execution_count": 9,
   "metadata": {},
   "outputs": [
    {
     "name": "stdout",
     "output_type": "stream",
     "text": [
      "_________________________________________________________________\n",
      "Layer (type)                 Output Shape              Param #   \n",
      "=================================================================\n",
      "dense (Dense)                (None, 6)                 1026      \n",
      "=================================================================\n",
      "Total params: 1,026\n",
      "Trainable params: 1,026\n",
      "Non-trainable params: 0\n",
      "_________________________________________________________________\n"
     ]
    }
   ],
   "source": [
    "### How do we choose the size of the hidden layers (number of neurons)? Guidelines?\n",
    "\n",
    "\n",
    "model1 = Sequential()\n",
    "\n",
    "# build a dense 1L neural network, add one dense layer\n",
    "\n",
    "# model.add(Dense(30, activation = 'relu', input_dim = X_tr_preprocessed.shape[1]))\n",
    "# model.add(Dense(30, activation = 'relu', input_shape = (180, 299, 299, 3)))\n",
    "\n",
    "# if no generators used (scaler may not be needed)\n",
    "# scaler = StandardScaler()\n",
    "# X_tr_preprocessed = scaler.fit_transform(X_tr.reshape([-1, 2048]).astype(float))\n",
    "# X_te_preprocessed = scaler.transform( X_test.reshape([-1, 2048]).astype(float))\n",
    "# print('Train:', X_tr_preprocessed.shape) # (60000, 784)\n",
    "# print('Test:', X_te_preprocessed.shape) # (10000, 784)\n",
    "# model.add(Dense(30, activation = 'relu', input_dim = X_tr.shape[1]))\n",
    "\n",
    "#add an output layer\n",
    "model1.add(Dense(6, activation = 'softmax', input_dim = X_tr_preprocessed.shape[1]))\n",
    "\n",
    "model1.summary()"
   ]
  },
  {
   "cell_type": "code",
   "execution_count": 10,
   "metadata": {},
   "outputs": [],
   "source": [
    "model1.compile(optimizer = optimizers.SGD(lr=0.01), # .. or optimizer='sgd' or 'adam'\n",
    "              # .. or losses.sparse_categorical_crossentropy\n",
    "              loss = 'sparse_categorical_crossentropy',\n",
    "              metrics = ['acc'])  # .. or metrics.sparse_categorical_accuracy"
   ]
  },
  {
   "cell_type": "code",
   "execution_count": 11,
   "metadata": {},
   "outputs": [],
   "source": [
    "early_stopping = keras.callbacks.EarlyStopping(monitor='val_loss', patience=6)"
   ]
  },
  {
   "cell_type": "raw",
   "metadata": {},
   "source": [
    "# Train model: that does not work???\n",
    "history1 = model1.fit_generator(\n",
    "    generator=trainset, validation_data=validset, epochs=100, callbacks=[early_stopping])"
   ]
  },
  {
   "cell_type": "code",
   "execution_count": 12,
   "metadata": {},
   "outputs": [
    {
     "name": "stdout",
     "output_type": "stream",
     "text": [
      "Train on 280 samples, validate on 139 samples\n",
      "Epoch 1/50\n",
      "280/280 [==============================] - 1s 4ms/step - loss: 1.9173 - acc: 0.2929 - val_loss: 1.4645 - val_acc: 0.3813\n",
      "Epoch 2/50\n",
      "280/280 [==============================] - 0s 77us/step - loss: 1.4019 - acc: 0.4964 - val_loss: 1.1099 - val_acc: 0.5827\n",
      "Epoch 3/50\n",
      "280/280 [==============================] - 0s 79us/step - loss: 1.0937 - acc: 0.6357 - val_loss: 0.9039 - val_acc: 0.7122\n",
      "Epoch 4/50\n",
      "280/280 [==============================] - 0s 78us/step - loss: 0.9029 - acc: 0.7107 - val_loss: 0.7754 - val_acc: 0.7194\n",
      "Epoch 5/50\n",
      "280/280 [==============================] - 0s 80us/step - loss: 0.7766 - acc: 0.7393 - val_loss: 0.6884 - val_acc: 0.7626\n",
      "Epoch 6/50\n",
      "280/280 [==============================] - 0s 83us/step - loss: 0.6850 - acc: 0.7714 - val_loss: 0.6248 - val_acc: 0.7698\n",
      "Epoch 7/50\n",
      "280/280 [==============================] - 0s 77us/step - loss: 0.6142 - acc: 0.7786 - val_loss: 0.5761 - val_acc: 0.7842\n",
      "Epoch 8/50\n",
      "280/280 [==============================] - 0s 76us/step - loss: 0.5582 - acc: 0.8000 - val_loss: 0.5380 - val_acc: 0.7914\n",
      "Epoch 9/50\n",
      "280/280 [==============================] - 0s 101us/step - loss: 0.5122 - acc: 0.8179 - val_loss: 0.5074 - val_acc: 0.7986\n",
      "Epoch 10/50\n",
      "280/280 [==============================] - 0s 95us/step - loss: 0.4751 - acc: 0.8357 - val_loss: 0.4818 - val_acc: 0.8345\n",
      "Epoch 11/50\n",
      "280/280 [==============================] - 0s 103us/step - loss: 0.4437 - acc: 0.8607 - val_loss: 0.4604 - val_acc: 0.8489\n",
      "Epoch 12/50\n",
      "280/280 [==============================] - 0s 98us/step - loss: 0.4150 - acc: 0.8679 - val_loss: 0.4420 - val_acc: 0.8561\n",
      "Epoch 13/50\n",
      "280/280 [==============================] - 0s 99us/step - loss: 0.3914 - acc: 0.8821 - val_loss: 0.4264 - val_acc: 0.8561\n",
      "Epoch 14/50\n",
      "280/280 [==============================] - 0s 98us/step - loss: 0.3709 - acc: 0.8964 - val_loss: 0.4127 - val_acc: 0.8561\n",
      "Epoch 15/50\n",
      "280/280 [==============================] - 0s 125us/step - loss: 0.3529 - acc: 0.9000 - val_loss: 0.4007 - val_acc: 0.8633\n",
      "Epoch 16/50\n",
      "280/280 [==============================] - 0s 102us/step - loss: 0.3366 - acc: 0.9071 - val_loss: 0.3901 - val_acc: 0.8633\n",
      "Epoch 17/50\n",
      "280/280 [==============================] - 0s 112us/step - loss: 0.3224 - acc: 0.9179 - val_loss: 0.3809 - val_acc: 0.8633\n",
      "Epoch 18/50\n",
      "280/280 [==============================] - 0s 114us/step - loss: 0.3093 - acc: 0.9179 - val_loss: 0.3723 - val_acc: 0.8633\n",
      "Epoch 19/50\n",
      "280/280 [==============================] - 0s 125us/step - loss: 0.2978 - acc: 0.9250 - val_loss: 0.3651 - val_acc: 0.8633\n",
      "Epoch 20/50\n",
      "280/280 [==============================] - 0s 117us/step - loss: 0.2867 - acc: 0.9286 - val_loss: 0.3584 - val_acc: 0.8633\n",
      "Epoch 21/50\n",
      "280/280 [==============================] - 0s 98us/step - loss: 0.2769 - acc: 0.9286 - val_loss: 0.3525 - val_acc: 0.8633\n",
      "Epoch 22/50\n",
      "280/280 [==============================] - 0s 110us/step - loss: 0.2680 - acc: 0.9286 - val_loss: 0.3466 - val_acc: 0.8633\n",
      "Epoch 23/50\n",
      "280/280 [==============================] - 0s 95us/step - loss: 0.2595 - acc: 0.9321 - val_loss: 0.3416 - val_acc: 0.8633\n",
      "Epoch 24/50\n",
      "280/280 [==============================] - 0s 93us/step - loss: 0.2518 - acc: 0.9321 - val_loss: 0.3367 - val_acc: 0.8705\n",
      "Epoch 25/50\n",
      "280/280 [==============================] - 0s 110us/step - loss: 0.2447 - acc: 0.9357 - val_loss: 0.3324 - val_acc: 0.8777\n",
      "Epoch 26/50\n",
      "280/280 [==============================] - 0s 117us/step - loss: 0.2379 - acc: 0.9357 - val_loss: 0.3284 - val_acc: 0.8777\n",
      "Epoch 27/50\n",
      "280/280 [==============================] - 0s 95us/step - loss: 0.2319 - acc: 0.9357 - val_loss: 0.3247 - val_acc: 0.8777\n",
      "Epoch 28/50\n",
      "280/280 [==============================] - 0s 114us/step - loss: 0.2262 - acc: 0.9393 - val_loss: 0.3213 - val_acc: 0.8777\n",
      "Epoch 29/50\n",
      "280/280 [==============================] - 0s 107us/step - loss: 0.2208 - acc: 0.9393 - val_loss: 0.3181 - val_acc: 0.8777\n",
      "Epoch 30/50\n",
      "280/280 [==============================] - 0s 117us/step - loss: 0.2156 - acc: 0.9429 - val_loss: 0.3153 - val_acc: 0.8777\n",
      "Epoch 31/50\n",
      "280/280 [==============================] - 0s 124us/step - loss: 0.2108 - acc: 0.9429 - val_loss: 0.3123 - val_acc: 0.8777\n",
      "Epoch 32/50\n",
      "280/280 [==============================] - 0s 124us/step - loss: 0.2063 - acc: 0.9429 - val_loss: 0.3098 - val_acc: 0.8777\n",
      "Epoch 33/50\n",
      "280/280 [==============================] - 0s 113us/step - loss: 0.2017 - acc: 0.9429 - val_loss: 0.3074 - val_acc: 0.8777\n",
      "Epoch 34/50\n",
      "280/280 [==============================] - 0s 133us/step - loss: 0.1975 - acc: 0.9464 - val_loss: 0.3051 - val_acc: 0.8777\n",
      "Epoch 35/50\n",
      "280/280 [==============================] - 0s 117us/step - loss: 0.1936 - acc: 0.9500 - val_loss: 0.3029 - val_acc: 0.8777\n",
      "Epoch 36/50\n",
      "280/280 [==============================] - 0s 105us/step - loss: 0.1897 - acc: 0.9536 - val_loss: 0.3010 - val_acc: 0.8777\n",
      "Epoch 37/50\n",
      "280/280 [==============================] - 0s 112us/step - loss: 0.1863 - acc: 0.9536 - val_loss: 0.2992 - val_acc: 0.8777\n",
      "Epoch 38/50\n",
      "280/280 [==============================] - 0s 103us/step - loss: 0.1828 - acc: 0.9571 - val_loss: 0.2974 - val_acc: 0.8777\n",
      "Epoch 39/50\n",
      "280/280 [==============================] - 0s 108us/step - loss: 0.1794 - acc: 0.9571 - val_loss: 0.2958 - val_acc: 0.8777\n",
      "Epoch 40/50\n",
      "280/280 [==============================] - 0s 145us/step - loss: 0.1764 - acc: 0.9571 - val_loss: 0.2942 - val_acc: 0.8777\n",
      "Epoch 41/50\n",
      "280/280 [==============================] - 0s 116us/step - loss: 0.1732 - acc: 0.9571 - val_loss: 0.2927 - val_acc: 0.8777\n",
      "Epoch 42/50\n",
      "280/280 [==============================] - 0s 111us/step - loss: 0.1706 - acc: 0.9571 - val_loss: 0.2913 - val_acc: 0.8777\n",
      "Epoch 43/50\n",
      "280/280 [==============================] - 0s 97us/step - loss: 0.1676 - acc: 0.9571 - val_loss: 0.2899 - val_acc: 0.8777\n",
      "Epoch 44/50\n",
      "280/280 [==============================] - 0s 110us/step - loss: 0.1651 - acc: 0.9571 - val_loss: 0.2886 - val_acc: 0.8777\n",
      "Epoch 45/50\n",
      "280/280 [==============================] - 0s 109us/step - loss: 0.1623 - acc: 0.9607 - val_loss: 0.2873 - val_acc: 0.8777\n",
      "Epoch 46/50\n",
      "280/280 [==============================] - 0s 97us/step - loss: 0.1598 - acc: 0.9607 - val_loss: 0.2862 - val_acc: 0.8777\n",
      "Epoch 47/50\n",
      "280/280 [==============================] - ETA: 0s - loss: 0.1537 - acc: 0.968 - 0s 116us/step - loss: 0.1575 - acc: 0.9607 - val_loss: 0.2849 - val_acc: 0.8777\n",
      "Epoch 48/50\n",
      "280/280 [==============================] - 0s 152us/step - loss: 0.1549 - acc: 0.9643 - val_loss: 0.2839 - val_acc: 0.8777\n",
      "Epoch 49/50\n",
      "280/280 [==============================] - 0s 118us/step - loss: 0.1527 - acc: 0.9643 - val_loss: 0.2829 - val_acc: 0.8777\n",
      "Epoch 50/50\n",
      "280/280 [==============================] - 0s 122us/step - loss: 0.1506 - acc: 0.9714 - val_loss: 0.2819 - val_acc: 0.8849\n"
     ]
    }
   ],
   "source": [
    "# fit the model\n",
    "history1 = model1.fit(\n",
    "                x=X_tr_preprocessed, \n",
    "                y=y_tr,\n",
    "                #validation_split=0.2, \n",
    "                batch_size=32, \n",
    "                epochs=50,\n",
    "                validation_data=(X_valid_preprocessed, y_valid),\n",
    "                shuffle=True # Shuffle training samples\n",
    "                )"
   ]
  },
  {
   "cell_type": "code",
   "execution_count": 13,
   "metadata": {},
   "outputs": [
    {
     "data": {
      "text/plain": [
       "dict_keys(['val_loss', 'val_acc', 'loss', 'acc'])"
      ]
     },
     "execution_count": 13,
     "metadata": {},
     "output_type": "execute_result"
    }
   ],
   "source": [
    "history1.history.keys()"
   ]
  },
  {
   "cell_type": "code",
   "execution_count": 14,
   "metadata": {},
   "outputs": [
    {
     "data": {
      "image/png": "[encoded data removed]",
      "text/plain": [
       "<Figure size 864x288 with 2 Axes>"
      ]
     },
     "metadata": {
      "needs_background": "light"
     },
     "output_type": "display_data"
    }
   ],
   "source": [
    "fig, (ax1, ax2) = plt.subplots(nrows = 1, ncols = 2, figsize = (12,4))\n",
    "\n",
    "ax1.plot(history1.history['loss'], label = 'train loss')\n",
    "ax1.plot(history1.history['val_loss'], label = 'val loss')\n",
    "ax1.set_title('Validation loss {:.3f} (mean last3)'.format(np.mean(history1.history['val_acc'][-3:])))\n",
    "ax1.set_label('epoch')\n",
    "ax1.set_ylabel('loss value')\n",
    "ax1.legend()\n",
    "\n",
    "ax2.plot(history1.history['acc'], label = 'train acc')\n",
    "ax2.plot(history1.history['val_acc'], label = 'val acc')\n",
    "ax2.set_xlabel('epoch')\n",
    "ax2.set_ylabel('accuracy')\n",
    "ax2.legend()\n",
    "plt.show()"
   ]
  },
  {
   "cell_type": "code",
   "execution_count": 15,
   "metadata": {},
   "outputs": [
    {
     "name": "stdout",
     "output_type": "stream",
     "text": [
      "50/50 [==============================] - 0s 87us/step\n",
      "Test loss: 0.18\n",
      "Test accuracy: 92.00%\n"
     ]
    }
   ],
   "source": [
    "(test_loss, test_accuracy) = model1.evaluate(X_te_preprocessed, y_test)\n",
    "\n",
    "print('Test loss: {:.2f}'.format(test_loss))\n",
    "print('Test accuracy: {:.2f}%'.format(100*test_accuracy))"
   ]
  },
  {
   "cell_type": "code",
   "execution_count": 16,
   "metadata": {},
   "outputs": [],
   "source": [
    "test_accuracy_1L = test_accuracy"
   ]
  },
  {
   "cell_type": "code",
   "execution_count": 17,
   "metadata": {},
   "outputs": [
    {
     "data": {
      "text/html": [
       "<div>\n",
       "<style scoped>\n",
       "    .dataframe tbody tr th:only-of-type {\n",
       "        vertical-align: middle;\n",
       "    }\n",
       "\n",
       "    .dataframe tbody tr th {\n",
       "        vertical-align: top;\n",
       "    }\n",
       "\n",
       "    .dataframe thead th {\n",
       "        text-align: right;\n",
       "    }\n",
       "</style>\n",
       "<table border=\"1\" class=\"dataframe\">\n",
       "  <thead>\n",
       "    <tr style=\"text-align: right;\">\n",
       "      <th></th>\n",
       "      <th>model</th>\n",
       "      <th>accuracy</th>\n",
       "    </tr>\n",
       "  </thead>\n",
       "  <tbody>\n",
       "    <tr>\n",
       "      <th>0</th>\n",
       "      <td>1-layer_nn</td>\n",
       "      <td>0.92</td>\n",
       "    </tr>\n",
       "  </tbody>\n",
       "</table>\n",
       "</div>"
      ],
      "text/plain": [
       "        model  accuracy\n",
       "0  1-layer_nn      0.92"
      ]
     },
     "execution_count": 17,
     "metadata": {},
     "output_type": "execute_result"
    }
   ],
   "source": [
    "results_1L_nn = { 'model': ['1-layer_nn'], 'accuracy' : [test_accuracy_1L] }\n",
    "results_1L_nn = pd.DataFrame(results_1L_nn)\n",
    "np.save('results_1L_nn', results_1L_nn)\n",
    "results_1L_nn"
   ]
  },
  {
   "cell_type": "code",
   "execution_count": null,
   "metadata": {},
   "outputs": [],
   "source": []
  },
  {
   "cell_type": "code",
   "execution_count": null,
   "metadata": {},
   "outputs": [],
   "source": []
  },
  {
   "cell_type": "markdown",
   "metadata": {},
   "source": [
    "### Model 2L"
   ]
  },
  {
   "cell_type": "code",
   "execution_count": 18,
   "metadata": {},
   "outputs": [
    {
     "name": "stdout",
     "output_type": "stream",
     "text": [
      "_________________________________________________________________\n",
      "Layer (type)                 Output Shape              Param #   \n",
      "=================================================================\n",
      "dense_1 (Dense)              (None, 30)                5130      \n",
      "_________________________________________________________________\n",
      "dense_2 (Dense)              (None, 6)                 186       \n",
      "=================================================================\n",
      "Total params: 5,316\n",
      "Trainable params: 5,316\n",
      "Non-trainable params: 0\n",
      "_________________________________________________________________\n"
     ]
    }
   ],
   "source": [
    "model2 = Sequential()\n",
    "\n",
    "#build a dense 1L neural network, add one dense layer\n",
    "\n",
    "model2.add(Dense(30, activation = 'relu', input_dim = X_tr_preprocessed.shape[1]))\n",
    "# model.add(Dense(30, activation = 'relu', input_shape = (180, 299, 299, 3)))\n",
    "\n",
    "# if no generators used (scaler may not be needed)\n",
    "# scaler = StandardScaler()\n",
    "# X_tr_preprocessed = scaler.fit_transform(X_tr.reshape([-1, 2048]).astype(float))\n",
    "# X_te_preprocessed = scaler.transform( X_test.reshape([-1, 2048]).astype(float))\n",
    "# print('Train:', X_tr_preprocessed.shape) # (60000, 784)\n",
    "# print('Test:', X_te_preprocessed.shape) # (10000, 784)\n",
    "# model.add(Dense(30, activation = 'relu', input_dim = X_tr.shape[1]))\n",
    "\n",
    "#add an output layer\n",
    "model2.add(Dense(6, activation = 'softmax'))\n",
    "\n",
    "model2.summary()"
   ]
  },
  {
   "cell_type": "markdown",
   "metadata": {},
   "source": [
    "I specify the variance scaling technique for initializing the weights. Define the loss function and training operation."
   ]
  },
  {
   "cell_type": "code",
   "execution_count": 19,
   "metadata": {},
   "outputs": [],
   "source": [
    "model2.compile(optimizer = optimizers.SGD(lr=0.01), # .. or optimizer='sgd' or 'adam'\n",
    "              # .. or losses.sparse_categorical_crossentropy\n",
    "              loss = 'sparse_categorical_crossentropy',\n",
    "              metrics = ['acc'])  # .. or metrics.sparse_categorical_accuracy"
   ]
  },
  {
   "cell_type": "markdown",
   "metadata": {},
   "source": [
    "this step could be avoided, with additional scaling we might loose information"
   ]
  },
  {
   "cell_type": "raw",
   "metadata": {},
   "source": [
    "scaler = StandardScaler()\n",
    "X_tr_preprocessed = scaler.fit_transform(X_tr.reshape([-1, 2048]).astype(float))\n",
    "X_te_preprocessed = scaler.transform( X_test.reshape([-1, 2048]).astype(float))\n",
    "print('Train:', X_tr_preprocessed.shape) # (60000, 784)\n",
    "print('Test:', X_te_preprocessed.shape) # (10000, 784)"
   ]
  },
  {
   "cell_type": "code",
   "execution_count": 20,
   "metadata": {},
   "outputs": [],
   "source": [
    "early_stopping = keras.callbacks.EarlyStopping(monitor='val_loss', patience=6)"
   ]
  },
  {
   "cell_type": "raw",
   "metadata": {},
   "source": [
    "# Train model: that does not work???\n",
    "history = model2.fit_generator(\n",
    "    generator=trainset, validation_data=validset, epochs=100, callbacks=[early_stopping])"
   ]
  },
  {
   "cell_type": "code",
   "execution_count": 21,
   "metadata": {},
   "outputs": [
    {
     "name": "stdout",
     "output_type": "stream",
     "text": [
      "Train on 280 samples, validate on 139 samples\n",
      "Epoch 1/50\n",
      "280/280 [==============================] - 1s 2ms/step - loss: 2.1992 - acc: 0.1464 - val_loss: 1.8238 - val_acc: 0.1942\n",
      "Epoch 2/50\n",
      "280/280 [==============================] - 0s 89us/step - loss: 1.7008 - acc: 0.3679 - val_loss: 1.4274 - val_acc: 0.5324\n",
      "Epoch 3/50\n",
      "280/280 [==============================] - 0s 79us/step - loss: 1.3726 - acc: 0.5214 - val_loss: 1.1712 - val_acc: 0.6475\n",
      "Epoch 4/50\n",
      "280/280 [==============================] - 0s 75us/step - loss: 1.1501 - acc: 0.6357 - val_loss: 0.9964 - val_acc: 0.7122\n",
      "Epoch 5/50\n",
      "280/280 [==============================] - 0s 93us/step - loss: 0.9883 - acc: 0.7143 - val_loss: 0.8681 - val_acc: 0.7554\n",
      "Epoch 6/50\n",
      "280/280 [==============================] - 0s 78us/step - loss: 0.8641 - acc: 0.7607 - val_loss: 0.7717 - val_acc: 0.7698\n",
      "Epoch 7/50\n",
      "280/280 [==============================] - 0s 75us/step - loss: 0.7682 - acc: 0.8071 - val_loss: 0.6979 - val_acc: 0.7914\n",
      "Epoch 8/50\n",
      "280/280 [==============================] - 0s 85us/step - loss: 0.6923 - acc: 0.8179 - val_loss: 0.6410 - val_acc: 0.7986\n",
      "Epoch 9/50\n",
      "280/280 [==============================] - 0s 90us/step - loss: 0.6320 - acc: 0.8214 - val_loss: 0.5961 - val_acc: 0.8129\n",
      "Epoch 10/50\n",
      "280/280 [==============================] - 0s 94us/step - loss: 0.5826 - acc: 0.8464 - val_loss: 0.5588 - val_acc: 0.8129\n",
      "Epoch 11/50\n",
      "280/280 [==============================] - 0s 89us/step - loss: 0.5414 - acc: 0.8464 - val_loss: 0.5278 - val_acc: 0.8273\n",
      "Epoch 12/50\n",
      "280/280 [==============================] - 0s 88us/step - loss: 0.5069 - acc: 0.8571 - val_loss: 0.5014 - val_acc: 0.8273\n",
      "Epoch 13/50\n",
      "280/280 [==============================] - 0s 78us/step - loss: 0.4771 - acc: 0.8643 - val_loss: 0.4784 - val_acc: 0.8345\n",
      "Epoch 14/50\n",
      "280/280 [==============================] - 0s 86us/step - loss: 0.4500 - acc: 0.8750 - val_loss: 0.4581 - val_acc: 0.8417\n",
      "Epoch 15/50\n",
      "280/280 [==============================] - 0s 86us/step - loss: 0.4266 - acc: 0.8821 - val_loss: 0.4403 - val_acc: 0.8417\n",
      "Epoch 16/50\n",
      "280/280 [==============================] - 0s 91us/step - loss: 0.4055 - acc: 0.8857 - val_loss: 0.4246 - val_acc: 0.8489\n",
      "Epoch 17/50\n",
      "280/280 [==============================] - 0s 99us/step - loss: 0.3860 - acc: 0.8929 - val_loss: 0.4100 - val_acc: 0.8489\n",
      "Epoch 18/50\n",
      "280/280 [==============================] - 0s 126us/step - loss: 0.3685 - acc: 0.9000 - val_loss: 0.3964 - val_acc: 0.8489\n",
      "Epoch 19/50\n",
      "280/280 [==============================] - 0s 346us/step - loss: 0.3524 - acc: 0.9071 - val_loss: 0.3842 - val_acc: 0.8561\n",
      "Epoch 20/50\n",
      "280/280 [==============================] - 0s 367us/step - loss: 0.3372 - acc: 0.9107 - val_loss: 0.3730 - val_acc: 0.8633\n",
      "Epoch 21/50\n",
      "280/280 [==============================] - 0s 225us/step - loss: 0.3233 - acc: 0.9143 - val_loss: 0.3628 - val_acc: 0.8705\n",
      "Epoch 22/50\n",
      "280/280 [==============================] - 0s 242us/step - loss: 0.3108 - acc: 0.9214 - val_loss: 0.3528 - val_acc: 0.8777\n",
      "Epoch 23/50\n",
      "280/280 [==============================] - 0s 201us/step - loss: 0.2986 - acc: 0.9214 - val_loss: 0.3441 - val_acc: 0.8921\n",
      "Epoch 24/50\n",
      "280/280 [==============================] - 0s 242us/step - loss: 0.2875 - acc: 0.9286 - val_loss: 0.3358 - val_acc: 0.8921\n",
      "Epoch 25/50\n",
      "280/280 [==============================] - 0s 132us/step - loss: 0.2769 - acc: 0.9321 - val_loss: 0.3282 - val_acc: 0.8993\n",
      "Epoch 26/50\n",
      "280/280 [==============================] - 0s 126us/step - loss: 0.2673 - acc: 0.9321 - val_loss: 0.3211 - val_acc: 0.8993\n",
      "Epoch 27/50\n",
      "280/280 [==============================] - 0s 154us/step - loss: 0.2583 - acc: 0.9393 - val_loss: 0.3144 - val_acc: 0.8993\n",
      "Epoch 28/50\n",
      "280/280 [==============================] - 0s 168us/step - loss: 0.2497 - acc: 0.9393 - val_loss: 0.3080 - val_acc: 0.9065\n",
      "Epoch 29/50\n",
      "280/280 [==============================] - 0s 92us/step - loss: 0.2417 - acc: 0.9429 - val_loss: 0.3023 - val_acc: 0.9137\n",
      "Epoch 30/50\n",
      "280/280 [==============================] - 0s 145us/step - loss: 0.2344 - acc: 0.9429 - val_loss: 0.2968 - val_acc: 0.9137\n",
      "Epoch 31/50\n",
      "280/280 [==============================] - 0s 364us/step - loss: 0.2274 - acc: 0.9429 - val_loss: 0.2915 - val_acc: 0.9209\n",
      "Epoch 32/50\n",
      "280/280 [==============================] - 0s 250us/step - loss: 0.2208 - acc: 0.9429 - val_loss: 0.2868 - val_acc: 0.9209\n",
      "Epoch 33/50\n",
      "280/280 [==============================] - 0s 350us/step - loss: 0.2145 - acc: 0.9429 - val_loss: 0.2823 - val_acc: 0.9209\n",
      "Epoch 34/50\n",
      "280/280 [==============================] - 0s 203us/step - loss: 0.2085 - acc: 0.9464 - val_loss: 0.2781 - val_acc: 0.9209\n",
      "Epoch 35/50\n",
      "280/280 [==============================] - 0s 188us/step - loss: 0.2028 - acc: 0.9500 - val_loss: 0.2742 - val_acc: 0.9209\n",
      "Epoch 36/50\n",
      "280/280 [==============================] - 0s 197us/step - loss: 0.1976 - acc: 0.9464 - val_loss: 0.2702 - val_acc: 0.9209\n",
      "Epoch 37/50\n",
      "280/280 [==============================] - 0s 168us/step - loss: 0.1923 - acc: 0.9500 - val_loss: 0.2666 - val_acc: 0.9209\n",
      "Epoch 38/50\n",
      "280/280 [==============================] - 0s 130us/step - loss: 0.1877 - acc: 0.9500 - val_loss: 0.2632 - val_acc: 0.9209\n",
      "Epoch 39/50\n",
      "280/280 [==============================] - 0s 138us/step - loss: 0.1830 - acc: 0.9536 - val_loss: 0.2601 - val_acc: 0.9209\n",
      "Epoch 40/50\n",
      "280/280 [==============================] - 0s 154us/step - loss: 0.1786 - acc: 0.9536 - val_loss: 0.2571 - val_acc: 0.9209\n",
      "Epoch 41/50\n",
      "280/280 [==============================] - 0s 146us/step - loss: 0.1745 - acc: 0.9571 - val_loss: 0.2543 - val_acc: 0.9281\n",
      "Epoch 42/50\n",
      "280/280 [==============================] - 0s 92us/step - loss: 0.1706 - acc: 0.9571 - val_loss: 0.2515 - val_acc: 0.9281\n",
      "Epoch 43/50\n",
      "280/280 [==============================] - 0s 127us/step - loss: 0.1664 - acc: 0.9571 - val_loss: 0.2491 - val_acc: 0.9281\n",
      "Epoch 44/50\n",
      "280/280 [==============================] - 0s 269us/step - loss: 0.1628 - acc: 0.9643 - val_loss: 0.2469 - val_acc: 0.9281\n",
      "Epoch 45/50\n",
      "280/280 [==============================] - 0s 259us/step - loss: 0.1593 - acc: 0.9643 - val_loss: 0.2447 - val_acc: 0.9281\n",
      "Epoch 46/50\n",
      "280/280 [==============================] - 0s 228us/step - loss: 0.1557 - acc: 0.9643 - val_loss: 0.2426 - val_acc: 0.9281\n",
      "Epoch 47/50\n",
      "280/280 [==============================] - 0s 208us/step - loss: 0.1525 - acc: 0.9679 - val_loss: 0.2407 - val_acc: 0.9281\n",
      "Epoch 48/50\n",
      "280/280 [==============================] - 0s 205us/step - loss: 0.1495 - acc: 0.9679 - val_loss: 0.2389 - val_acc: 0.9281\n",
      "Epoch 49/50\n",
      "280/280 [==============================] - 0s 183us/step - loss: 0.1463 - acc: 0.9679 - val_loss: 0.2373 - val_acc: 0.9281\n",
      "Epoch 50/50\n",
      "280/280 [==============================] - 0s 245us/step - loss: 0.1435 - acc: 0.9679 - val_loss: 0.2356 - val_acc: 0.9281\n"
     ]
    }
   ],
   "source": [
    "# fit the model\n",
    "history = model2.fit(\n",
    "                x=X_tr_preprocessed, \n",
    "                y=y_tr,\n",
    "                #validation_split=0.2, \n",
    "                batch_size=32, \n",
    "                epochs=50,\n",
    "                validation_data=(X_valid_preprocessed, y_valid),\n",
    "                shuffle=True # Shuffle training samples\n",
    "                )"
   ]
  },
  {
   "cell_type": "code",
   "execution_count": 22,
   "metadata": {},
   "outputs": [
    {
     "data": {
      "text/plain": [
       "dict_keys(['val_loss', 'val_acc', 'loss', 'acc'])"
      ]
     },
     "execution_count": 22,
     "metadata": {},
     "output_type": "execute_result"
    }
   ],
   "source": [
    "history.history.keys()"
   ]
  },
  {
   "cell_type": "code",
   "execution_count": 23,
   "metadata": {
    "scrolled": true
   },
   "outputs": [
    {
     "data": {
      "image/png": "[encoded data removed]",
      "text/plain": [
       "<Figure size 864x288 with 2 Axes>"
      ]
     },
     "metadata": {
      "needs_background": "light"
     },
     "output_type": "display_data"
    }
   ],
   "source": [
    "fig, (ax1, ax2) = plt.subplots(nrows = 1, ncols = 2, figsize = (12,4))\n",
    "\n",
    "ax1.plot(history.history['loss'], label = 'train loss')\n",
    "ax1.plot(history.history['val_loss'], label = 'val loss')\n",
    "ax1.set_title('Validation loss {:.3f} (mean last3)'.format(np.mean(history.history['val_acc'][-3:])))\n",
    "ax1.set_label('epoch')\n",
    "ax1.set_ylabel('loss value')\n",
    "ax1.legend()\n",
    "\n",
    "ax2.plot(history.history['acc'], label = 'train acc')\n",
    "ax2.plot(history.history['val_acc'], label = 'val acc')\n",
    "ax2.set_xlabel('epoch')\n",
    "ax2.set_ylabel('accuracy')\n",
    "ax2.legend()\n",
    "plt.show()"
   ]
  },
  {
   "cell_type": "markdown",
   "metadata": {},
   "source": [
    "I will now evaluate the test scores."
   ]
  },
  {
   "cell_type": "code",
   "execution_count": 24,
   "metadata": {},
   "outputs": [
    {
     "name": "stdout",
     "output_type": "stream",
     "text": [
      "50/50 [==============================] - 0s 251us/step\n",
      "Test loss: 0.20\n",
      "Test accuracy: 92.00%\n"
     ]
    }
   ],
   "source": [
    "(test_loss, test_accuracy) = model2.evaluate(X_te_preprocessed, y_test)\n",
    "\n",
    "print('Test loss: {:.2f}'.format(test_loss))\n",
    "print('Test accuracy: {:.2f}%'.format(100*test_accuracy))"
   ]
  },
  {
   "cell_type": "code",
   "execution_count": 25,
   "metadata": {},
   "outputs": [],
   "source": [
    "test_accuracy_2L = test_accuracy"
   ]
  },
  {
   "cell_type": "code",
   "execution_count": 26,
   "metadata": {},
   "outputs": [
    {
     "data": {
      "text/html": [
       "<div>\n",
       "<style scoped>\n",
       "    .dataframe tbody tr th:only-of-type {\n",
       "        vertical-align: middle;\n",
       "    }\n",
       "\n",
       "    .dataframe tbody tr th {\n",
       "        vertical-align: top;\n",
       "    }\n",
       "\n",
       "    .dataframe thead th {\n",
       "        text-align: right;\n",
       "    }\n",
       "</style>\n",
       "<table border=\"1\" class=\"dataframe\">\n",
       "  <thead>\n",
       "    <tr style=\"text-align: right;\">\n",
       "      <th></th>\n",
       "      <th>model</th>\n",
       "      <th>accuracy</th>\n",
       "    </tr>\n",
       "  </thead>\n",
       "  <tbody>\n",
       "    <tr>\n",
       "      <th>0</th>\n",
       "      <td>2-layer_nn</td>\n",
       "      <td>0.92</td>\n",
       "    </tr>\n",
       "  </tbody>\n",
       "</table>\n",
       "</div>"
      ],
      "text/plain": [
       "        model  accuracy\n",
       "0  2-layer_nn      0.92"
      ]
     },
     "execution_count": 26,
     "metadata": {},
     "output_type": "execute_result"
    }
   ],
   "source": [
    "results_2L_nn = { 'model': ['2-layer_nn'], 'accuracy' : [test_accuracy_2L] }\n",
    "results_2L_nn = pd.DataFrame(results_2L_nn)\n",
    "np.save('results_2L_nn', results_1L_nn)\n",
    "results_2L_nn"
   ]
  },
  {
   "cell_type": "markdown",
   "metadata": {},
   "source": [
    "I will visualize the weights"
   ]
  },
  {
   "cell_type": "code",
   "execution_count": 27,
   "metadata": {},
   "outputs": [
    {
     "data": {
      "text/plain": [
       "[<tensorflow.python.keras.layers.core.Dense at 0x7fcf0c92d0f0>,\n",
       " <tensorflow.python.keras.layers.core.Dense at 0x7fcf0c92d1d0>]"
      ]
     },
     "execution_count": 27,
     "metadata": {},
     "output_type": "execute_result"
    }
   ],
   "source": [
    "model2.layers"
   ]
  },
  {
   "cell_type": "code",
   "execution_count": 28,
   "metadata": {},
   "outputs": [
    {
     "data": {
      "text/plain": [
       "<tensorflow.python.keras.layers.core.Dense at 0x7fcf0c92d0f0>"
      ]
     },
     "execution_count": 28,
     "metadata": {},
     "output_type": "execute_result"
    }
   ],
   "source": [
    "model2.layers[0]"
   ]
  },
  {
   "cell_type": "markdown",
   "metadata": {},
   "source": [
    "### Model 3L"
   ]
  },
  {
   "cell_type": "code",
   "execution_count": 29,
   "metadata": {},
   "outputs": [
    {
     "name": "stdout",
     "output_type": "stream",
     "text": [
      "_________________________________________________________________\n",
      "Layer (type)                 Output Shape              Param #   \n",
      "=================================================================\n",
      "dense_3 (Dense)              (None, 30)                5130      \n",
      "_________________________________________________________________\n",
      "dense_4 (Dense)              (None, 15)                465       \n",
      "_________________________________________________________________\n",
      "dense_5 (Dense)              (None, 6)                 96        \n",
      "=================================================================\n",
      "Total params: 5,691\n",
      "Trainable params: 5,691\n",
      "Non-trainable params: 0\n",
      "_________________________________________________________________\n"
     ]
    }
   ],
   "source": [
    "from tensorflow.keras import activations\n",
    "from tensorflow.keras import initializers\n",
    "\n",
    "model3 = Sequential()\n",
    "\n",
    "#build a dense 1L neural network, add one dense layer\n",
    "\n",
    "model3.add(Dense(30, activation = 'relu', input_dim = X_tr_preprocessed.shape[1], \n",
    "                 kernel_initializer=initializers.VarianceScaling(scale=2.0, seed=0)))\n",
    "model3.add(Dense(15, activation = 'relu'))\n",
    "\n",
    "# if no generators used (scaler may not be needed)\n",
    "# scaler = StandardScaler()\n",
    "# X_tr_preprocessed = scaler.fit_transform(X_tr.reshape([-1, 2048]).astype(float))\n",
    "# X_te_preprocessed = scaler.transform( X_test.reshape([-1, 2048]).astype(float))\n",
    "# print('Train:', X_tr_preprocessed.shape) # (60000, 784)\n",
    "# print('Test:', X_te_preprocessed.shape) # (10000, 784)\n",
    "# model.add(Dense(30, activation = 'relu', input_dim = X_tr.shape[1]))\n",
    "\n",
    "#add an output layer\n",
    "model3.add(Dense(6, activation = 'softmax'))\n",
    "\n",
    "model3.summary()"
   ]
  },
  {
   "cell_type": "code",
   "execution_count": 30,
   "metadata": {},
   "outputs": [],
   "source": [
    "model3.compile(optimizer = optimizers.SGD(lr=0.01), # .. or optimizer='sgd' or 'adam'\n",
    "              # .. or losses.sparse_categorical_crossentropy\n",
    "              loss = 'sparse_categorical_crossentropy',\n",
    "              metrics = ['acc'])  # .. or metrics.sparse_categorical_accuracy"
   ]
  },
  {
   "cell_type": "code",
   "execution_count": 31,
   "metadata": {},
   "outputs": [],
   "source": [
    "early_stopping = keras.callbacks.EarlyStopping(monitor='val_loss', patience=6)"
   ]
  },
  {
   "cell_type": "code",
   "execution_count": 32,
   "metadata": {},
   "outputs": [
    {
     "name": "stdout",
     "output_type": "stream",
     "text": [
      "Train on 280 samples, validate on 139 samples\n",
      "Epoch 1/50\n",
      "280/280 [==============================] - 2s 6ms/step - loss: 1.7103 - acc: 0.2286 - val_loss: 1.5039 - val_acc: 0.2950\n",
      "Epoch 2/50\n",
      "280/280 [==============================] - 0s 262us/step - loss: 1.5269 - acc: 0.3429 - val_loss: 1.3534 - val_acc: 0.4173\n",
      "Epoch 3/50\n",
      "280/280 [==============================] - 0s 194us/step - loss: 1.3824 - acc: 0.4500 - val_loss: 1.2404 - val_acc: 0.5108\n",
      "Epoch 4/50\n",
      "280/280 [==============================] - 0s 153us/step - loss: 1.2735 - acc: 0.4893 - val_loss: 1.1531 - val_acc: 0.5827\n",
      "Epoch 5/50\n",
      "280/280 [==============================] - 0s 188us/step - loss: 1.1867 - acc: 0.5643 - val_loss: 1.0830 - val_acc: 0.6475\n",
      "Epoch 6/50\n",
      "280/280 [==============================] - 0s 126us/step - loss: 1.1134 - acc: 0.6036 - val_loss: 1.0238 - val_acc: 0.6691\n",
      "Epoch 7/50\n",
      "280/280 [==============================] - 0s 159us/step - loss: 1.0516 - acc: 0.6571 - val_loss: 0.9728 - val_acc: 0.6978\n",
      "Epoch 8/50\n",
      "280/280 [==============================] - 0s 227us/step - loss: 0.9990 - acc: 0.6964 - val_loss: 0.9271 - val_acc: 0.7338\n",
      "Epoch 9/50\n",
      "280/280 [==============================] - 0s 291us/step - loss: 0.9503 - acc: 0.7286 - val_loss: 0.8852 - val_acc: 0.7626\n",
      "Epoch 10/50\n",
      "280/280 [==============================] - 0s 284us/step - loss: 0.9051 - acc: 0.7536 - val_loss: 0.8469 - val_acc: 0.7914\n",
      "Epoch 11/50\n",
      "280/280 [==============================] - 0s 220us/step - loss: 0.8621 - acc: 0.7750 - val_loss: 0.8101 - val_acc: 0.8058\n",
      "Epoch 12/50\n",
      "280/280 [==============================] - 0s 307us/step - loss: 0.8211 - acc: 0.7964 - val_loss: 0.7758 - val_acc: 0.8058\n",
      "Epoch 13/50\n",
      "280/280 [==============================] - 0s 236us/step - loss: 0.7821 - acc: 0.8071 - val_loss: 0.7432 - val_acc: 0.8058\n",
      "Epoch 14/50\n",
      "280/280 [==============================] - 0s 247us/step - loss: 0.7439 - acc: 0.8321 - val_loss: 0.7119 - val_acc: 0.8058\n",
      "Epoch 15/50\n",
      "280/280 [==============================] - 0s 147us/step - loss: 0.7069 - acc: 0.8393 - val_loss: 0.6827 - val_acc: 0.8129\n",
      "Epoch 16/50\n",
      "280/280 [==============================] - 0s 146us/step - loss: 0.6730 - acc: 0.8429 - val_loss: 0.6559 - val_acc: 0.8201\n",
      "Epoch 17/50\n",
      "280/280 [==============================] - 0s 165us/step - loss: 0.6411 - acc: 0.8500 - val_loss: 0.6309 - val_acc: 0.8201\n",
      "Epoch 18/50\n",
      "280/280 [==============================] - 0s 112us/step - loss: 0.6108 - acc: 0.8571 - val_loss: 0.6080 - val_acc: 0.8201\n",
      "Epoch 19/50\n",
      "280/280 [==============================] - 0s 131us/step - loss: 0.5820 - acc: 0.8643 - val_loss: 0.5872 - val_acc: 0.8201\n",
      "Epoch 20/50\n",
      "280/280 [==============================] - 0s 193us/step - loss: 0.5550 - acc: 0.8679 - val_loss: 0.5681 - val_acc: 0.8201\n",
      "Epoch 21/50\n",
      "280/280 [==============================] - 0s 188us/step - loss: 0.5300 - acc: 0.8750 - val_loss: 0.5502 - val_acc: 0.8273\n",
      "Epoch 22/50\n",
      "280/280 [==============================] - 0s 266us/step - loss: 0.5064 - acc: 0.8786 - val_loss: 0.5338 - val_acc: 0.8345\n",
      "Epoch 23/50\n",
      "280/280 [==============================] - 0s 281us/step - loss: 0.4848 - acc: 0.8821 - val_loss: 0.5188 - val_acc: 0.8345\n",
      "Epoch 24/50\n",
      "280/280 [==============================] - 0s 231us/step - loss: 0.4646 - acc: 0.8821 - val_loss: 0.5049 - val_acc: 0.8345\n",
      "Epoch 25/50\n",
      "280/280 [==============================] - 0s 249us/step - loss: 0.4453 - acc: 0.8857 - val_loss: 0.4918 - val_acc: 0.8417\n",
      "Epoch 26/50\n",
      "280/280 [==============================] - 0s 215us/step - loss: 0.4277 - acc: 0.8929 - val_loss: 0.4800 - val_acc: 0.8417\n",
      "Epoch 27/50\n",
      "280/280 [==============================] - 0s 160us/step - loss: 0.4114 - acc: 0.9071 - val_loss: 0.4692 - val_acc: 0.8417\n",
      "Epoch 28/50\n",
      "280/280 [==============================] - 0s 147us/step - loss: 0.3959 - acc: 0.9143 - val_loss: 0.4591 - val_acc: 0.8417\n",
      "Epoch 29/50\n",
      "280/280 [==============================] - 0s 154us/step - loss: 0.3813 - acc: 0.9214 - val_loss: 0.4499 - val_acc: 0.8489\n",
      "Epoch 30/50\n",
      "280/280 [==============================] - 0s 153us/step - loss: 0.3675 - acc: 0.9286 - val_loss: 0.4412 - val_acc: 0.8561\n",
      "Epoch 31/50\n",
      "280/280 [==============================] - 0s 111us/step - loss: 0.3549 - acc: 0.9321 - val_loss: 0.4330 - val_acc: 0.8705\n",
      "Epoch 32/50\n",
      "280/280 [==============================] - 0s 131us/step - loss: 0.3429 - acc: 0.9321 - val_loss: 0.4255 - val_acc: 0.8705\n",
      "Epoch 33/50\n",
      "280/280 [==============================] - 0s 229us/step - loss: 0.3313 - acc: 0.9357 - val_loss: 0.4185 - val_acc: 0.8777\n",
      "Epoch 34/50\n",
      "280/280 [==============================] - 0s 283us/step - loss: 0.3207 - acc: 0.9393 - val_loss: 0.4117 - val_acc: 0.8849\n",
      "Epoch 35/50\n",
      "280/280 [==============================] - 0s 210us/step - loss: 0.3104 - acc: 0.9393 - val_loss: 0.4049 - val_acc: 0.8921\n",
      "Epoch 36/50\n",
      "280/280 [==============================] - 0s 199us/step - loss: 0.3010 - acc: 0.9464 - val_loss: 0.3985 - val_acc: 0.8921\n",
      "Epoch 37/50\n",
      "280/280 [==============================] - 0s 192us/step - loss: 0.2913 - acc: 0.9536 - val_loss: 0.3926 - val_acc: 0.8921\n",
      "Epoch 38/50\n",
      "280/280 [==============================] - 0s 206us/step - loss: 0.2826 - acc: 0.9571 - val_loss: 0.3871 - val_acc: 0.8921\n",
      "Epoch 39/50\n",
      "280/280 [==============================] - 0s 155us/step - loss: 0.2744 - acc: 0.9571 - val_loss: 0.3814 - val_acc: 0.8921\n",
      "Epoch 40/50\n",
      "280/280 [==============================] - 0s 154us/step - loss: 0.2666 - acc: 0.9607 - val_loss: 0.3762 - val_acc: 0.8849\n",
      "Epoch 41/50\n",
      "280/280 [==============================] - 0s 144us/step - loss: 0.2589 - acc: 0.9643 - val_loss: 0.3717 - val_acc: 0.8849\n",
      "Epoch 42/50\n",
      "280/280 [==============================] - 0s 139us/step - loss: 0.2514 - acc: 0.9643 - val_loss: 0.3673 - val_acc: 0.8849\n",
      "Epoch 43/50\n",
      "280/280 [==============================] - 0s 101us/step - loss: 0.2446 - acc: 0.9643 - val_loss: 0.3634 - val_acc: 0.8921\n",
      "Epoch 44/50\n",
      "280/280 [==============================] - 0s 146us/step - loss: 0.2379 - acc: 0.9643 - val_loss: 0.3593 - val_acc: 0.8921\n",
      "Epoch 45/50\n",
      "280/280 [==============================] - 0s 198us/step - loss: 0.2314 - acc: 0.9643 - val_loss: 0.3556 - val_acc: 0.8921\n",
      "Epoch 46/50\n",
      "280/280 [==============================] - 0s 220us/step - loss: 0.2253 - acc: 0.9643 - val_loss: 0.3520 - val_acc: 0.9065\n",
      "Epoch 47/50\n",
      "280/280 [==============================] - 0s 263us/step - loss: 0.2193 - acc: 0.9643 - val_loss: 0.3490 - val_acc: 0.8993\n",
      "Epoch 48/50\n",
      "280/280 [==============================] - 0s 250us/step - loss: 0.2139 - acc: 0.9643 - val_loss: 0.3457 - val_acc: 0.9065\n",
      "Epoch 49/50\n",
      "280/280 [==============================] - 0s 165us/step - loss: 0.2084 - acc: 0.9643 - val_loss: 0.3420 - val_acc: 0.9065\n",
      "Epoch 50/50\n",
      "280/280 [==============================] - 0s 229us/step - loss: 0.2032 - acc: 0.9643 - val_loss: 0.3394 - val_acc: 0.9065\n"
     ]
    }
   ],
   "source": [
    "# fit the model\n",
    "history3 = model3.fit(\n",
    "                x=X_tr_preprocessed, \n",
    "                y=y_tr,\n",
    "                #validation_split=0.2, \n",
    "                batch_size=32, \n",
    "                epochs=50,\n",
    "                validation_data=(X_valid_preprocessed, y_valid),\n",
    "                shuffle=True # Shuffle training samples\n",
    "                )"
   ]
  },
  {
   "cell_type": "code",
   "execution_count": 33,
   "metadata": {},
   "outputs": [
    {
     "data": {
      "text/plain": [
       "dict_keys(['val_loss', 'val_acc', 'loss', 'acc'])"
      ]
     },
     "execution_count": 33,
     "metadata": {},
     "output_type": "execute_result"
    }
   ],
   "source": [
    "history3.history.keys()"
   ]
  },
  {
   "cell_type": "code",
   "execution_count": 34,
   "metadata": {},
   "outputs": [
    {
     "data": {
      "image/png": "[encoded data removed]",
      "text/plain": [
       "<Figure size 864x288 with 2 Axes>"
      ]
     },
     "metadata": {
      "needs_background": "light"
     },
     "output_type": "display_data"
    }
   ],
   "source": [
    "fig, (ax1, ax2) = plt.subplots(nrows = 1, ncols = 2, figsize = (12,4))\n",
    "\n",
    "ax1.plot(history3.history['loss'], label = 'train loss')\n",
    "ax1.plot(history3.history['val_loss'], label = 'val loss')\n",
    "ax1.set_title('Validation loss {:.3f} (mean last3)'.format(np.mean(history3.history['val_acc'][-3:])))\n",
    "ax1.set_label('epoch')\n",
    "ax1.set_ylabel('loss value')\n",
    "ax1.legend()\n",
    "\n",
    "ax2.plot(history3.history['acc'], label = 'train acc')\n",
    "ax2.plot(history3.history['val_acc'], label = 'val acc')\n",
    "ax2.set_xlabel('epoch')\n",
    "ax2.set_ylabel('accuracy')\n",
    "ax2.legend()\n",
    "plt.show()"
   ]
  },
  {
   "cell_type": "code",
   "execution_count": 35,
   "metadata": {},
   "outputs": [
    {
     "name": "stdout",
     "output_type": "stream",
     "text": [
      "50/50 [==============================] - 0s 396us/step\n",
      "Test loss: 0.29\n",
      "Test accuracy: 92.00%\n"
     ]
    }
   ],
   "source": [
    "(test_loss, test_accuracy) = model3.evaluate(X_te_preprocessed, y_test)\n",
    "\n",
    "print('Test loss: {:.2f}'.format(test_loss))\n",
    "print('Test accuracy: {:.2f}%'.format(100*test_accuracy))"
   ]
  },
  {
   "cell_type": "code",
   "execution_count": 36,
   "metadata": {},
   "outputs": [
    {
     "data": {
      "text/plain": [
       "[<tensorflow.python.keras.layers.core.Dense at 0x7fcf05801550>,\n",
       " <tensorflow.python.keras.layers.core.Dense at 0x7fcf058010b8>,\n",
       " <tensorflow.python.keras.layers.core.Dense at 0x7fcf0a89b0b8>]"
      ]
     },
     "execution_count": 36,
     "metadata": {},
     "output_type": "execute_result"
    }
   ],
   "source": [
    "model3.layers"
   ]
  },
  {
   "cell_type": "code",
   "execution_count": 37,
   "metadata": {},
   "outputs": [],
   "source": [
    "test_accuracy_3L = test_accuracy"
   ]
  },
  {
   "cell_type": "code",
   "execution_count": 38,
   "metadata": {},
   "outputs": [
    {
     "data": {
      "text/html": [
       "<div>\n",
       "<style scoped>\n",
       "    .dataframe tbody tr th:only-of-type {\n",
       "        vertical-align: middle;\n",
       "    }\n",
       "\n",
       "    .dataframe tbody tr th {\n",
       "        vertical-align: top;\n",
       "    }\n",
       "\n",
       "    .dataframe thead th {\n",
       "        text-align: right;\n",
       "    }\n",
       "</style>\n",
       "<table border=\"1\" class=\"dataframe\">\n",
       "  <thead>\n",
       "    <tr style=\"text-align: right;\">\n",
       "      <th></th>\n",
       "      <th>model</th>\n",
       "      <th>accuracy</th>\n",
       "    </tr>\n",
       "  </thead>\n",
       "  <tbody>\n",
       "    <tr>\n",
       "      <th>0</th>\n",
       "      <td>3-layer_nn</td>\n",
       "      <td>0.92</td>\n",
       "    </tr>\n",
       "  </tbody>\n",
       "</table>\n",
       "</div>"
      ],
      "text/plain": [
       "        model  accuracy\n",
       "0  3-layer_nn      0.92"
      ]
     },
     "execution_count": 38,
     "metadata": {},
     "output_type": "execute_result"
    }
   ],
   "source": [
    "results_3L_nn = { 'model': ['3-layer_nn'], 'accuracy' : [test_accuracy_3L] }\n",
    "results_3L_nn = pd.DataFrame(results_3L_nn)\n",
    "np.save('results_3L_nn', results_3L_nn)\n",
    "results_3L_nn"
   ]
  },
  {
   "cell_type": "code",
   "execution_count": null,
   "metadata": {},
   "outputs": [],
   "source": []
  },
  {
   "cell_type": "code",
   "execution_count": null,
   "metadata": {},
   "outputs": [],
   "source": []
  }
 ],
 "metadata": {
  "kernelspec": {
   "display_name": "Python 3",
   "language": "python",
   "name": "python3"
  },
  "language_info": {
   "codemirror_mode": {
    "name": "ipython",
    "version": 3
   },
   "file_extension": ".py",
   "mimetype": "text/x-python",
   "name": "python",
   "nbconvert_exporter": "python",
   "pygments_lexer": "ipython3",
   "version": "3.6.13"
  }
 },
 "nbformat": 4,
 "nbformat_minor": 4
}
