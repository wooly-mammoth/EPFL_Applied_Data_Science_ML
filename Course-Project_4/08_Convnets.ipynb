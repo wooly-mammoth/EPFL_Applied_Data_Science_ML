{
 "cells": [
  {
   "cell_type": "markdown",
   "metadata": {},
   "source": [
    "# Convolutional neural network\n",
    "You tested above different models with the set of high-level features extracted from a pretrained neural network. However, can you get similar results by creating a ConvNet from scratch and using the pixel values from the original images to train the model?\n",
    "\n",
    " - What accuracy can you achieve?\n",
    " - Can you get good results? - If not, why?"
   ]
  },
  {
   "cell_type": "code",
   "execution_count": 1,
   "metadata": {},
   "outputs": [
    {
     "name": "stderr",
     "output_type": "stream",
     "text": [
      "WARNING:absl:Some hub symbols are not available because TensorFlow version is less than 1.14\n"
     ]
    }
   ],
   "source": [
    "import tensorflow as tf\n",
    "import tensorflow_hub as hub\n",
    "from tensorflow.keras import Sequential\n",
    "from tensorflow.keras.layers import Dense\n",
    "from tensorflow.keras import optimizers, losses, metrics\n",
    "from sklearn.preprocessing import StandardScaler\n",
    "import tensorflow.keras as keras\n",
    "\n",
    "import numpy as np\n",
    "import pandas as pd\n",
    "import os\n",
    "import PIL.Image as Image\n",
    "from tensorflow.keras.preprocessing.image import ImageDataGenerator\n",
    "from sklearn.pipeline import Pipeline\n",
    "from sklearn.pipeline import make_pipeline\n",
    "from sklearn.model_selection import GridSearchCV\n",
    "from sklearn.preprocessing import StandardScaler\n",
    "from sklearn.decomposition import PCA\n",
    "import matplotlib.pyplot as plt\n",
    "%matplotlib inline"
   ]
  },
  {
   "cell_type": "code",
   "execution_count": 2,
   "metadata": {},
   "outputs": [],
   "source": [
    "from tensorflow.keras.preprocessing.image import ImageDataGenerator\n",
    "\n",
    "# or we do not need to do image augmantation to change the dataset here\n",
    "train_generator = ImageDataGenerator(rescale = 1/255)\n",
    "valid_generator = ImageDataGenerator(rescale = 1/255)\n",
    "test_generator = ImageDataGenerator(rescale = 1/255)"
   ]
  },
  {
   "cell_type": "code",
   "execution_count": 3,
   "metadata": {},
   "outputs": [
    {
     "name": "stdout",
     "output_type": "stream",
     "text": [
      "Found 280 images belonging to 6 classes.\n",
      "Found 139 images belonging to 6 classes.\n",
      "Found 50 images belonging to 6 classes.\n"
     ]
    }
   ],
   "source": [
    "trainset = train_generator.flow_from_directory(\n",
    "    os.path.join('swissroads','train'), batch_size = 280, target_size = (299,299), shuffle = False, class_mode = 'categorical')\n",
    "\n",
    "validset = valid_generator.flow_from_directory(\n",
    "    os.path.join('swissroads', 'valid'), batch_size = 139, target_size = (299, 299), shuffle = False, class_mode = 'categorical')\n",
    "\n",
    "testset = test_generator.flow_from_directory(\n",
    "    os.path.join('swissroads', 'test'), batch_size = 50, target_size = (299,299), shuffle = False, class_mode = 'categorical')"
   ]
  },
  {
   "cell_type": "markdown",
   "metadata": {},
   "source": [
    "Note: if in the above generator we set class_mode = 'sparse' then we get label encoding and not onehot encoding. The models expect one hot encoding so an error will be generated."
   ]
  },
  {
   "cell_type": "markdown",
   "metadata": {},
   "source": [
    "I check the output , at the very end to see wether I have a onehot encoding or label encoding."
   ]
  },
  {
   "cell_type": "code",
   "execution_count": 4,
   "metadata": {},
   "outputs": [
    {
     "data": {
      "text/plain": [
       "(array([[[[0.14901961, 0.15294118, 0.16862746],\n",
       "          [0.15686275, 0.16078432, 0.1764706 ],\n",
       "          [0.15294118, 0.15686275, 0.16862746],\n",
       "          ...,\n",
       "          [0.43921572, 0.43921572, 0.44705886],\n",
       "          [0.43921572, 0.43921572, 0.44705886],\n",
       "          [0.43137258, 0.43137258, 0.43921572]],\n",
       " \n",
       "         [[0.14117648, 0.14509805, 0.16078432],\n",
       "          [0.15294118, 0.15686275, 0.17254902],\n",
       "          [0.15294118, 0.15686275, 0.16862746],\n",
       "          ...,\n",
       "          [0.43921572, 0.43921572, 0.44705886],\n",
       "          [0.4431373 , 0.4431373 , 0.45098042],\n",
       "          [0.43921572, 0.43921572, 0.44705886]],\n",
       " \n",
       "         [[0.14509805, 0.14901961, 0.16470589],\n",
       "          [0.14901961, 0.15294118, 0.16862746],\n",
       "          [0.15294118, 0.15686275, 0.17254902],\n",
       "          ...,\n",
       "          [0.43137258, 0.43137258, 0.43921572],\n",
       "          [0.43921572, 0.43921572, 0.44705886],\n",
       "          [0.43137258, 0.43137258, 0.43921572]],\n",
       " \n",
       "         ...,\n",
       " \n",
       "         [[0.7686275 , 0.7411765 , 0.69411767],\n",
       "          [0.80392164, 0.7725491 , 0.7294118 ],\n",
       "          [0.8000001 , 0.77647066, 0.7294118 ],\n",
       "          ...,\n",
       "          [0.34901962, 0.33333334, 0.34117648],\n",
       "          [0.45882356, 0.4431373 , 0.43529415],\n",
       "          [0.50980395, 0.49411768, 0.48235297]],\n",
       " \n",
       "         [[0.8117648 , 0.7803922 , 0.7372549 ],\n",
       "          [0.79215693, 0.7607844 , 0.7176471 ],\n",
       "          [0.7960785 , 0.7686275 , 0.7294118 ],\n",
       "          ...,\n",
       "          [0.45098042, 0.43529415, 0.43137258],\n",
       "          [0.45882356, 0.44705886, 0.43529415],\n",
       "          [0.45882356, 0.44705886, 0.43137258]],\n",
       " \n",
       "         [[0.78823537, 0.7568628 , 0.7137255 ],\n",
       "          [0.77647066, 0.74509805, 0.7019608 ],\n",
       "          [0.8235295 , 0.79215693, 0.7490196 ],\n",
       "          ...,\n",
       "          [0.36862746, 0.36078432, 0.35686275],\n",
       "          [0.3529412 , 0.34509805, 0.34509805],\n",
       "          [0.41960788, 0.41176474, 0.4039216 ]]],\n",
       " \n",
       " \n",
       "        [[[0.12941177, 0.09019608, 0.01960784],\n",
       "          [0.43921572, 0.31764707, 0.0509804 ],\n",
       "          [0.46274513, 0.32941177, 0.04313726],\n",
       "          ...,\n",
       "          [0.3137255 , 0.29411766, 0.26666668],\n",
       "          [0.3137255 , 0.29411766, 0.25490198],\n",
       "          [0.32941177, 0.3019608 , 0.25882354]],\n",
       " \n",
       "         [[0.13333334, 0.09803922, 0.01568628],\n",
       "          [0.45882356, 0.34117648, 0.07058824],\n",
       "          [0.6       , 0.4431373 , 0.10588236],\n",
       "          ...,\n",
       "          [0.30980393, 0.2901961 , 0.24705884],\n",
       "          [0.30588236, 0.28627452, 0.2392157 ],\n",
       "          [0.3137255 , 0.28627452, 0.2392157 ]],\n",
       " \n",
       "         [[0.15686275, 0.10980393, 0.01960784],\n",
       "          [0.3529412 , 0.2509804 , 0.02745098],\n",
       "          [0.5529412 , 0.38823533, 0.05490196],\n",
       "          ...,\n",
       "          [0.3137255 , 0.2901961 , 0.2392157 ],\n",
       "          [0.3137255 , 0.28627452, 0.23137257],\n",
       "          [0.30980393, 0.28235295, 0.23137257]],\n",
       " \n",
       "         ...,\n",
       " \n",
       "         [[0.49411768, 0.44705886, 0.38431376],\n",
       "          [0.48627454, 0.43921572, 0.36862746],\n",
       "          [0.49803925, 0.45098042, 0.37254903],\n",
       "          ...,\n",
       "          [0.5058824 , 0.4784314 , 0.45098042],\n",
       "          [0.46274513, 0.43529415, 0.40784317],\n",
       "          [0.48235297, 0.44705886, 0.4156863 ]],\n",
       " \n",
       "         [[0.48235297, 0.4431373 , 0.37254903],\n",
       "          [0.52156866, 0.47450984, 0.38823533],\n",
       "          [0.5254902 , 0.4784314 , 0.38823533],\n",
       "          ...,\n",
       "          [0.4156863 , 0.3921569 , 0.34901962],\n",
       "          [0.49803925, 0.4666667 , 0.43529415],\n",
       "          [0.4784314 , 0.44705886, 0.41176474]],\n",
       " \n",
       "         [[0.3921569 , 0.36078432, 0.2901961 ],\n",
       "          [0.48627454, 0.4431373 , 0.3647059 ],\n",
       "          [0.454902  , 0.4156863 , 0.34509805],\n",
       "          ...,\n",
       "          [0.37647063, 0.34509805, 0.30980393],\n",
       "          [0.3921569 , 0.3647059 , 0.32156864],\n",
       "          [0.43921572, 0.41176474, 0.37254903]]],\n",
       " \n",
       " \n",
       "        [[[0.91372555, 0.92549026, 0.94117653],\n",
       "          [0.93725497, 0.9490197 , 0.9725491 ],\n",
       "          [0.92549026, 0.93725497, 0.9568628 ],\n",
       "          ...,\n",
       "          [0.6156863 , 0.6156863 , 0.60784316],\n",
       "          [0.6       , 0.6039216 , 0.6       ],\n",
       "          [0.5647059 , 0.5686275 , 0.5647059 ]],\n",
       " \n",
       "         [[0.9215687 , 0.93725497, 0.9490197 ],\n",
       "          [0.93725497, 0.9490197 , 0.96470594],\n",
       "          [0.91372555, 0.92549026, 0.9450981 ],\n",
       "          ...,\n",
       "          [0.7019608 , 0.7019608 , 0.70980394],\n",
       "          [0.6901961 , 0.69411767, 0.69803923],\n",
       "          [0.6431373 , 0.64705884, 0.6431373 ]],\n",
       " \n",
       "         [[0.9294118 , 0.94117653, 0.9568628 ],\n",
       "          [0.9333334 , 0.9450981 , 0.96470594],\n",
       "          [0.91372555, 0.92549026, 0.9450981 ],\n",
       "          ...,\n",
       "          [0.7176471 , 0.73333335, 0.74509805],\n",
       "          [0.7058824 , 0.7137255 , 0.7254902 ],\n",
       "          [0.6745098 , 0.6784314 , 0.68235296]],\n",
       " \n",
       "         ...,\n",
       " \n",
       "         [[0.47058827, 0.46274513, 0.47058827],\n",
       "          [0.5254902 , 0.52156866, 0.5176471 ],\n",
       "          [0.47450984, 0.47450984, 0.47450984],\n",
       "          ...,\n",
       "          [0.5921569 , 0.5882353 , 0.5803922 ],\n",
       "          [0.58431375, 0.5803922 , 0.57254905],\n",
       "          [0.5803922 , 0.5764706 , 0.5686275 ]],\n",
       " \n",
       "         [[0.46274513, 0.45882356, 0.46274513],\n",
       "          [0.44705886, 0.4431373 , 0.44705886],\n",
       "          [0.427451  , 0.427451  , 0.43137258],\n",
       "          ...,\n",
       "          [0.6156863 , 0.6117647 , 0.6039216 ],\n",
       "          [0.60784316, 0.6039216 , 0.59607846],\n",
       "          [0.5921569 , 0.5882353 , 0.5803922 ]],\n",
       " \n",
       "         [[0.43529415, 0.427451  , 0.43529415],\n",
       "          [0.39607847, 0.39607847, 0.40000004],\n",
       "          [0.47058827, 0.47058827, 0.4784314 ],\n",
       "          ...,\n",
       "          [0.5921569 , 0.5882353 , 0.58431375],\n",
       "          [0.59607846, 0.5921569 , 0.58431375],\n",
       "          [0.5882353 , 0.58431375, 0.5764706 ]]],\n",
       " \n",
       " \n",
       "        ...,\n",
       " \n",
       " \n",
       "        [[[0.8000001 , 0.82745105, 0.8588236 ],\n",
       "          [0.80392164, 0.8313726 , 0.86274517],\n",
       "          [0.80392164, 0.8313726 , 0.86274517],\n",
       "          ...,\n",
       "          [0.34901962, 0.33333334, 0.3254902 ],\n",
       "          [0.39607847, 0.36862746, 0.36078432],\n",
       "          [0.43137258, 0.4039216 , 0.38431376]],\n",
       " \n",
       "         [[0.80392164, 0.8313726 , 0.86274517],\n",
       "          [0.80392164, 0.8313726 , 0.86274517],\n",
       "          [0.80392164, 0.8313726 , 0.86274517],\n",
       "          ...,\n",
       "          [0.41960788, 0.39607847, 0.3803922 ],\n",
       "          [0.43529415, 0.40784317, 0.38431376],\n",
       "          [0.43921572, 0.41176474, 0.38823533]],\n",
       " \n",
       "         [[0.80392164, 0.8313726 , 0.86274517],\n",
       "          [0.80392164, 0.8313726 , 0.86274517],\n",
       "          [0.80392164, 0.8313726 , 0.86274517],\n",
       "          ...,\n",
       "          [0.4431373 , 0.4156863 , 0.3921569 ],\n",
       "          [0.4431373 , 0.4156863 , 0.3921569 ],\n",
       "          [0.43921572, 0.41176474, 0.38823533]],\n",
       " \n",
       "         ...,\n",
       " \n",
       "         [[0.5764706 , 0.56078434, 0.5529412 ],\n",
       "          [0.5921569 , 0.5764706 , 0.5647059 ],\n",
       "          [0.5764706 , 0.5647059 , 0.54901963],\n",
       "          ...,\n",
       "          [0.36862746, 0.31764707, 0.28235295],\n",
       "          [0.36078432, 0.30980393, 0.27450982],\n",
       "          [0.32156864, 0.2784314 , 0.24313727]],\n",
       " \n",
       "         [[0.5686275 , 0.56078434, 0.54901963],\n",
       "          [0.5686275 , 0.56078434, 0.5568628 ],\n",
       "          [0.5686275 , 0.5529412 , 0.54509807],\n",
       "          ...,\n",
       "          [0.34117648, 0.29803923, 0.27058825],\n",
       "          [0.34901962, 0.3019608 , 0.27058825],\n",
       "          [0.3529412 , 0.30588236, 0.27058825]],\n",
       " \n",
       "         [[0.58431375, 0.57254905, 0.56078434],\n",
       "          [0.5764706 , 0.56078434, 0.54901963],\n",
       "          [0.5803922 , 0.5647059 , 0.56078434],\n",
       "          ...,\n",
       "          [0.4039216 , 0.35686275, 0.32156864],\n",
       "          [0.3921569 , 0.34509805, 0.30980393],\n",
       "          [0.36862746, 0.31764707, 0.28627452]]],\n",
       " \n",
       " \n",
       "        [[[0.627451  , 0.5882353 , 0.5411765 ],\n",
       "          [0.5803922 , 0.54509807, 0.49803925],\n",
       "          [0.48627454, 0.44705886, 0.40000004],\n",
       "          ...,\n",
       "          [0.19607845, 0.21568629, 0.227451  ],\n",
       "          [0.17254902, 0.19215688, 0.20392159],\n",
       "          [0.1764706 , 0.19607845, 0.20784315]],\n",
       " \n",
       "         [[0.43921572, 0.4039216 , 0.3647059 ],\n",
       "          [0.5058824 , 0.4666667 , 0.42352945],\n",
       "          [0.45882356, 0.4156863 , 0.36862746],\n",
       "          ...,\n",
       "          [0.22352943, 0.24313727, 0.25490198],\n",
       "          [0.21176472, 0.23137257, 0.24313727],\n",
       "          [0.20392159, 0.22352943, 0.23529413]],\n",
       " \n",
       "         [[0.29803923, 0.27058825, 0.23137257],\n",
       "          [0.27058825, 0.23529413, 0.20392159],\n",
       "          [0.2627451 , 0.21960786, 0.19215688],\n",
       "          ...,\n",
       "          [0.21176472, 0.23137257, 0.24313727],\n",
       "          [0.1764706 , 0.19607845, 0.21176472],\n",
       "          [0.19215688, 0.21176472, 0.22352943]],\n",
       " \n",
       "         ...,\n",
       " \n",
       "         [[0.44705886, 0.44705886, 0.454902  ],\n",
       "          [0.47058827, 0.47058827, 0.4784314 ],\n",
       "          [0.4156863 , 0.4156863 , 0.427451  ],\n",
       "          ...,\n",
       "          [0.43921572, 0.43921572, 0.43137258],\n",
       "          [0.42352945, 0.42352945, 0.41176474],\n",
       "          [0.4039216 , 0.39607847, 0.38823533]],\n",
       " \n",
       "         [[0.5058824 , 0.5058824 , 0.5058824 ],\n",
       "          [0.50980395, 0.50980395, 0.50980395],\n",
       "          [0.5294118 , 0.5294118 , 0.5294118 ],\n",
       "          ...,\n",
       "          [0.34509805, 0.33333334, 0.32941177],\n",
       "          [0.37254903, 0.36862746, 0.36078432],\n",
       "          [0.4156863 , 0.41176474, 0.4039216 ]],\n",
       " \n",
       "         [[0.5372549 , 0.5372549 , 0.5294118 ],\n",
       "          [0.5411765 , 0.5411765 , 0.53333336],\n",
       "          [0.5372549 , 0.5372549 , 0.5294118 ],\n",
       "          ...,\n",
       "          [0.38823533, 0.38823533, 0.3803922 ],\n",
       "          [0.3803922 , 0.37647063, 0.36862746],\n",
       "          [0.43137258, 0.43137258, 0.42352945]]],\n",
       " \n",
       " \n",
       "        [[[0.63529414, 0.7176471 , 0.8196079 ],\n",
       "          [0.59607846, 0.7137255 , 0.8470589 ],\n",
       "          [0.59607846, 0.70980394, 0.8470589 ],\n",
       "          ...,\n",
       "          [0.41176474, 0.34509805, 0.27450982],\n",
       "          [0.40784317, 0.34509805, 0.27058825],\n",
       "          [0.39607847, 0.33333334, 0.25882354]],\n",
       " \n",
       "         [[0.6509804 , 0.7176471 , 0.81568635],\n",
       "          [0.5921569 , 0.70980394, 0.85098046],\n",
       "          [0.59607846, 0.70980394, 0.85098046],\n",
       "          ...,\n",
       "          [0.41176474, 0.33333334, 0.27058825],\n",
       "          [0.40784317, 0.33333334, 0.27058825],\n",
       "          [0.4156863 , 0.33333334, 0.27058825]],\n",
       " \n",
       "         [[0.6745098 , 0.7294118 , 0.8196079 ],\n",
       "          [0.59607846, 0.70980394, 0.85098046],\n",
       "          [0.59607846, 0.7137255 , 0.854902  ],\n",
       "          ...,\n",
       "          [0.53333336, 0.45098042, 0.36862746],\n",
       "          [0.6       , 0.50980395, 0.41960788],\n",
       "          [0.654902  , 0.5686275 , 0.47058827]],\n",
       " \n",
       "         ...,\n",
       " \n",
       "         [[0.30588236, 0.32941177, 0.37254903],\n",
       "          [0.29803923, 0.3254902 , 0.36862746],\n",
       "          [0.29803923, 0.3254902 , 0.36862746],\n",
       "          ...,\n",
       "          [0.2627451 , 0.2627451 , 0.27058825],\n",
       "          [0.2627451 , 0.2627451 , 0.27058825],\n",
       "          [0.25490198, 0.25490198, 0.26666668]],\n",
       " \n",
       "         [[0.3019608 , 0.32941177, 0.37254903],\n",
       "          [0.29411766, 0.32156864, 0.3647059 ],\n",
       "          [0.29803923, 0.32156864, 0.36862746],\n",
       "          ...,\n",
       "          [0.25490198, 0.25490198, 0.2627451 ],\n",
       "          [0.26666668, 0.26666668, 0.27450982],\n",
       "          [0.26666668, 0.2627451 , 0.27450982]],\n",
       " \n",
       "         [[0.29803923, 0.32156864, 0.36862746],\n",
       "          [0.28235295, 0.30980393, 0.3529412 ],\n",
       "          [0.2901961 , 0.3137255 , 0.35686275],\n",
       "          ...,\n",
       "          [0.2627451 , 0.25882354, 0.26666668],\n",
       "          [0.25882354, 0.25490198, 0.27058825],\n",
       "          [0.25490198, 0.2509804 , 0.27450982]]]], dtype=float32),\n",
       " array([[1., 0., 0., 0., 0., 0.],\n",
       "        [1., 0., 0., 0., 0., 0.],\n",
       "        [1., 0., 0., 0., 0., 0.],\n",
       "        ...,\n",
       "        [0., 0., 0., 0., 0., 1.],\n",
       "        [0., 0., 0., 0., 0., 1.],\n",
       "        [0., 0., 0., 0., 0., 1.]], dtype=float32))"
      ]
     },
     "execution_count": 4,
     "metadata": {},
     "output_type": "execute_result"
    }
   ],
   "source": [
    "trainset.next()"
   ]
  },
  {
   "cell_type": "markdown",
   "metadata": {},
   "source": [
    "Oconv = (i +2p - k)/s + 1\n",
    "\n",
    "\n",
    "Opool = (i-k)/s + 1\n",
    "\n",
    "i: input size\n",
    "p: padding\n",
    "k: kernel\n",
    "s: stride\n",
    "\n",
    "    same:  p = (k-1)/2\n",
    "    valid: p = 0"
   ]
  },
  {
   "cell_type": "markdown",
   "metadata": {},
   "source": [
    "$o_{\\text{conv}}=\\left\\lfloor \\frac{i+2p-k}{s}\\right\\rfloor +1\\qquad o_{\\text{pool}}=\\left\\lfloor \\frac{i-k}{s}\\right\\rfloor +1$"
   ]
  },
  {
   "cell_type": "code",
   "execution_count": 5,
   "metadata": {},
   "outputs": [
    {
     "data": {
      "text/plain": [
       "296.0"
      ]
     },
     "execution_count": 5,
     "metadata": {},
     "output_type": "execute_result"
    }
   ],
   "source": [
    "(299+2*0-4)/1 + 1 "
   ]
  },
  {
   "cell_type": "code",
   "execution_count": 6,
   "metadata": {},
   "outputs": [
    {
     "data": {
      "text/plain": [
       "148.5"
      ]
     },
     "execution_count": 6,
     "metadata": {},
     "output_type": "execute_result"
    }
   ],
   "source": [
    "(298-3)/2 + 1"
   ]
  },
  {
   "cell_type": "code",
   "execution_count": 7,
   "metadata": {},
   "outputs": [
    {
     "data": {
      "text/plain": [
       "68.5"
      ]
     },
     "execution_count": 7,
     "metadata": {},
     "output_type": "execute_result"
    }
   ],
   "source": [
    "(148 +2-15)/2 +1"
   ]
  },
  {
   "cell_type": "code",
   "execution_count": 8,
   "metadata": {},
   "outputs": [
    {
     "data": {
      "text/plain": [
       "12.0"
      ]
     },
     "execution_count": 8,
     "metadata": {},
     "output_type": "execute_result"
    }
   ],
   "source": [
    "(26-4)/2 + 1"
   ]
  },
  {
   "cell_type": "markdown",
   "metadata": {},
   "source": [
    "#### How do I choose the topology? --> GridSearchCV"
   ]
  },
  {
   "cell_type": "code",
   "execution_count": 9,
   "metadata": {},
   "outputs": [
    {
     "name": "stdout",
     "output_type": "stream",
     "text": [
      "_________________________________________________________________\n",
      "Layer (type)                 Output Shape              Param #   \n",
      "=================================================================\n",
      "conv2d (Conv2D)              (None, 295, 295, 16)      1216      \n",
      "_________________________________________________________________\n",
      "max_pooling2d (MaxPooling2D) (None, 147, 147, 16)      0         \n",
      "_________________________________________________________________\n",
      "conv2d_1 (Conv2D)            (None, 145, 145, 16)      2320      \n",
      "_________________________________________________________________\n",
      "max_pooling2d_1 (MaxPooling2 (None, 72, 72, 16)        0         \n",
      "_________________________________________________________________\n",
      "flatten (Flatten)            (None, 82944)             0         \n",
      "_________________________________________________________________\n",
      "dense (Dense)                (None, 16)                1327120   \n",
      "_________________________________________________________________\n",
      "dense_1 (Dense)              (None, 6)                 102       \n",
      "=================================================================\n",
      "Total params: 1,330,758\n",
      "Trainable params: 1,330,758\n",
      "Non-trainable params: 0\n",
      "_________________________________________________________________\n"
     ]
    }
   ],
   "source": [
    "model = keras.Sequential()\n",
    "model.add(keras.layers.Conv2D(filters = 16, kernel_size = 5, strides = 1, activation = 'relu', input_shape = (299,299,3)))\n",
    "model.add(keras.layers.MaxPool2D(pool_size=2))       \n",
    "model.add(keras.layers.Conv2D(filters = 16, kernel_size = 3, strides = 1, activation = 'relu'))\n",
    "# maxpool\n",
    "model.add(keras.layers.MaxPool2D(pool_size=2)) \n",
    "model.add(keras.layers.Flatten())\n",
    "# dense\n",
    "model.add(Dense(16, activation = 'relu'))\n",
    "model.add(keras.layers.Dense(units=trainset.num_classes, activation='softmax'))\n",
    "model.summary()"
   ]
  },
  {
   "cell_type": "code",
   "execution_count": 2,
   "metadata": {},
   "outputs": [
    {
     "ename": "NameError",
     "evalue": "name 'model1L' is not defined",
     "output_type": "error",
     "traceback": [
      "\u001b[0;31m---------------------------------------------------------------------------\u001b[0m",
      "\u001b[0;31mNameError\u001b[0m                                 Traceback (most recent call last)",
      "\u001b[0;32m<ipython-input-2-ff2d3a9e5af3>\u001b[0m in \u001b[0;36m<module>\u001b[0;34m\u001b[0m\n\u001b[0;32m----> 1\u001b[0;31m \u001b[0mmodel1L\u001b[0m\u001b[0;34m.\u001b[0m\u001b[0mcompile\u001b[0m\u001b[0;34m(\u001b[0m\u001b[0moptimizer\u001b[0m \u001b[0;34m=\u001b[0m \u001b[0mkeras\u001b[0m\u001b[0;34m.\u001b[0m\u001b[0moptimizers\u001b[0m\u001b[0;34m.\u001b[0m\u001b[0mAdam\u001b[0m\u001b[0;34m(\u001b[0m\u001b[0;34m)\u001b[0m\u001b[0;34m,\u001b[0m \u001b[0mloss\u001b[0m \u001b[0;34m=\u001b[0m \u001b[0;34m'mae'\u001b[0m\u001b[0;34m,\u001b[0m \u001b[0mmetrics\u001b[0m \u001b[0;34m=\u001b[0m \u001b[0;34m[\u001b[0m\u001b[0;34m'mae'\u001b[0m\u001b[0;34m]\u001b[0m\u001b[0;34m)\u001b[0m\u001b[0;34m\u001b[0m\u001b[0;34m\u001b[0m\u001b[0m\n\u001b[0m",
      "\u001b[0;31mNameError\u001b[0m: name 'model1L' is not defined"
     ]
    }
   ],
   "source": [
    "model.compile(optimizer = keras.optimizers.Adam(), loss = 'mae', metrics = ['mae'])"
   ]
  },
  {
   "cell_type": "code",
   "execution_count": 11,
   "metadata": {},
   "outputs": [],
   "source": [
    "early_stopping = keras.callbacks.EarlyStopping(monitor = 'val_loss', patience = 6)"
   ]
  },
  {
   "cell_type": "markdown",
   "metadata": {},
   "source": [
    "I will use the raw images to train the model"
   ]
  },
  {
   "cell_type": "code",
   "execution_count": 12,
   "metadata": {},
   "outputs": [
    {
     "name": "stdout",
     "output_type": "stream",
     "text": [
      "Epoch 1/100\n",
      "1/1 [==============================] - 34s 34s/step - loss: 1.8171 - acc: 0.1143 - val_loss: 2.6640 - val_acc: 0.2302\n",
      "Epoch 2/100\n",
      "1/1 [==============================] - 15s 15s/step - loss: 2.6713 - acc: 0.2286 - val_loss: 1.9203 - val_acc: 0.1151\n",
      "Epoch 3/100\n",
      "1/1 [==============================] - 14s 14s/step - loss: 1.9034 - acc: 0.1143 - val_loss: 1.8686 - val_acc: 0.1151\n",
      "Epoch 4/100\n",
      "1/1 [==============================] - 17s 17s/step - loss: 1.8368 - acc: 0.1107 - val_loss: 1.7808 - val_acc: 0.2590\n",
      "Epoch 5/100\n",
      "1/1 [==============================] - 14s 14s/step - loss: 1.7459 - acc: 0.2214 - val_loss: 1.7875 - val_acc: 0.2014\n",
      "Epoch 6/100\n",
      "1/1 [==============================] - 13s 13s/step - loss: 1.7669 - acc: 0.2821 - val_loss: 1.7864 - val_acc: 0.2014\n",
      "Epoch 7/100\n",
      "1/1 [==============================] - 13s 13s/step - loss: 1.7623 - acc: 0.2607 - val_loss: 1.7803 - val_acc: 0.1871\n",
      "Epoch 8/100\n",
      "1/1 [==============================] - 13s 13s/step - loss: 1.7465 - acc: 0.2071 - val_loss: 1.7835 - val_acc: 0.2158\n",
      "Epoch 9/100\n",
      "1/1 [==============================] - 13s 13s/step - loss: 1.7485 - acc: 0.2250 - val_loss: 1.7869 - val_acc: 0.2302\n",
      "Epoch 10/100\n",
      "1/1 [==============================] - 13s 13s/step - loss: 1.7509 - acc: 0.2321 - val_loss: 1.7850 - val_acc: 0.2302\n",
      "Epoch 11/100\n",
      "1/1 [==============================] - 13s 13s/step - loss: 1.7460 - acc: 0.2321 - val_loss: 1.7802 - val_acc: 0.2158\n",
      "Epoch 12/100\n",
      "1/1 [==============================] - 13s 13s/step - loss: 1.7371 - acc: 0.2250 - val_loss: 1.7765 - val_acc: 0.2014\n",
      "Epoch 13/100\n",
      "1/1 [==============================] - 13s 13s/step - loss: 1.7299 - acc: 0.2214 - val_loss: 1.7756 - val_acc: 0.1942\n",
      "Epoch 14/100\n",
      "1/1 [==============================] - 13s 13s/step - loss: 1.7278 - acc: 0.2250 - val_loss: 1.7750 - val_acc: 0.2014\n",
      "Epoch 15/100\n",
      "1/1 [==============================] - 14s 14s/step - loss: 1.7240 - acc: 0.2321 - val_loss: 1.7735 - val_acc: 0.2158\n",
      "Epoch 16/100\n",
      "1/1 [==============================] - 13s 13s/step - loss: 1.7132 - acc: 0.2214 - val_loss: 1.7750 - val_acc: 0.2302\n",
      "Epoch 17/100\n",
      "1/1 [==============================] - 13s 13s/step - loss: 1.7053 - acc: 0.2286 - val_loss: 1.7797 - val_acc: 0.2302\n",
      "Epoch 18/100\n",
      "1/1 [==============================] - 13s 13s/step - loss: 1.7013 - acc: 0.2286 - val_loss: 1.7795 - val_acc: 0.2302\n",
      "Epoch 19/100\n",
      "1/1 [==============================] - 13s 13s/step - loss: 1.6921 - acc: 0.2286 - val_loss: 1.7742 - val_acc: 0.2302\n",
      "Epoch 20/100\n",
      "1/1 [==============================] - 15s 15s/step - loss: 1.6795 - acc: 0.2321 - val_loss: 1.7700 - val_acc: 0.2302\n",
      "Epoch 21/100\n",
      "1/1 [==============================] - 13s 13s/step - loss: 1.6716 - acc: 0.2321 - val_loss: 1.7693 - val_acc: 0.2302\n",
      "Epoch 22/100\n",
      "1/1 [==============================] - 13s 13s/step - loss: 1.6624 - acc: 0.2393 - val_loss: 1.7753 - val_acc: 0.2302\n",
      "Epoch 23/100\n",
      "1/1 [==============================] - 12s 12s/step - loss: 1.6496 - acc: 0.2357 - val_loss: 1.7883 - val_acc: 0.2302\n",
      "Epoch 24/100\n",
      "1/1 [==============================] - 13s 13s/step - loss: 1.6416 - acc: 0.2321 - val_loss: 1.7856 - val_acc: 0.2302\n",
      "Epoch 25/100\n",
      "1/1 [==============================] - 12s 12s/step - loss: 1.6288 - acc: 0.2357 - val_loss: 1.7740 - val_acc: 0.2446\n",
      "Epoch 26/100\n",
      "1/1 [==============================] - 12s 12s/step - loss: 1.6163 - acc: 0.2357 - val_loss: 1.7705 - val_acc: 0.2662\n",
      "Epoch 27/100\n",
      "1/1 [==============================] - 12s 12s/step - loss: 1.6064 - acc: 0.3929 - val_loss: 1.7806 - val_acc: 0.2446\n"
     ]
    }
   ],
   "source": [
    "history = model.fit_generator(\n",
    "                generator = trainset, validation_data = validset, epochs = 100, callbacks = [early_stopping])"
   ]
  },
  {
   "cell_type": "code",
   "execution_count": 13,
   "metadata": {},
   "outputs": [
    {
     "data": {
      "text/plain": [
       "dict_keys(['val_loss', 'val_acc', 'loss', 'acc'])"
      ]
     },
     "execution_count": 13,
     "metadata": {},
     "output_type": "execute_result"
    }
   ],
   "source": [
    "history.history.keys()"
   ]
  },
  {
   "cell_type": "code",
   "execution_count": 14,
   "metadata": {},
   "outputs": [
    {
     "data": {
      "image/png": "[encoded data removed]",
      "text/plain": [
       "<Figure size 864x288 with 2 Axes>"
      ]
     },
     "metadata": {
      "needs_background": "light"
     },
     "output_type": "display_data"
    }
   ],
   "source": [
    "%matplotlib inline\n",
    "import matplotlib.pyplot as plt\n",
    "\n",
    "fig, (ax1, ax2) = plt.subplots(nrows=1, ncols=2, figsize=(12, 4))\n",
    "\n",
    "# Plot loss values\n",
    "ax1.set_title('loss: {:.4f}'.format(history.history['val_loss'][-1]))\n",
    "ax1.plot(history.history['val_loss'], label='validation')\n",
    "ax1.plot(history.history['loss'], label='training')\n",
    "ax1.legend()\n",
    "\n",
    "# plot accuracy values\n",
    "ax2.set_title('accuracy: {:.2f}%'.format(history.history['val_acc'][-1]*100))\n",
    "ax2.plot(history.history['val_acc'], label='validation')\n",
    "ax2.plot(history.history['acc'], label='training')\n",
    "ax2.legend()\n",
    "\n",
    "plt.show()"
   ]
  },
  {
   "cell_type": "markdown",
   "metadata": {},
   "source": [
    "The accuracy is very poor. The results will not be as good as when using the pretrained high-level features."
   ]
  },
  {
   "cell_type": "code",
   "execution_count": 15,
   "metadata": {},
   "outputs": [
    {
     "name": "stdout",
     "output_type": "stream",
     "text": [
      "Predictions: (50, 6)\n"
     ]
    }
   ],
   "source": [
    "test_preds = model.predict_generator(testset)\n",
    "print('Predictions:', test_preds.shape) "
   ]
  },
  {
   "cell_type": "code",
   "execution_count": 16,
   "metadata": {},
   "outputs": [
    {
     "data": {
      "text/html": [
       "<div>\n",
       "<style scoped>\n",
       "    .dataframe tbody tr th:only-of-type {\n",
       "        vertical-align: middle;\n",
       "    }\n",
       "\n",
       "    .dataframe tbody tr th {\n",
       "        vertical-align: top;\n",
       "    }\n",
       "\n",
       "    .dataframe thead th {\n",
       "        text-align: right;\n",
       "    }\n",
       "</style>\n",
       "<table border=\"1\" class=\"dataframe\">\n",
       "  <thead>\n",
       "    <tr style=\"text-align: right;\">\n",
       "      <th>Predictions</th>\n",
       "      <th>bike</th>\n",
       "      <th>car</th>\n",
       "      <th>motorcycle</th>\n",
       "      <th>other</th>\n",
       "      <th>truck</th>\n",
       "      <th>van</th>\n",
       "    </tr>\n",
       "    <tr>\n",
       "      <th>True class</th>\n",
       "      <th></th>\n",
       "      <th></th>\n",
       "      <th></th>\n",
       "      <th></th>\n",
       "      <th></th>\n",
       "      <th></th>\n",
       "    </tr>\n",
       "  </thead>\n",
       "  <tbody>\n",
       "    <tr>\n",
       "      <th>bike</th>\n",
       "      <td>0</td>\n",
       "      <td>12</td>\n",
       "      <td>0</td>\n",
       "      <td>0</td>\n",
       "      <td>0</td>\n",
       "      <td>0</td>\n",
       "    </tr>\n",
       "    <tr>\n",
       "      <th>car</th>\n",
       "      <td>0</td>\n",
       "      <td>10</td>\n",
       "      <td>1</td>\n",
       "      <td>0</td>\n",
       "      <td>0</td>\n",
       "      <td>0</td>\n",
       "    </tr>\n",
       "    <tr>\n",
       "      <th>motorcycle</th>\n",
       "      <td>0</td>\n",
       "      <td>8</td>\n",
       "      <td>1</td>\n",
       "      <td>0</td>\n",
       "      <td>0</td>\n",
       "      <td>0</td>\n",
       "    </tr>\n",
       "    <tr>\n",
       "      <th>other</th>\n",
       "      <td>0</td>\n",
       "      <td>5</td>\n",
       "      <td>1</td>\n",
       "      <td>0</td>\n",
       "      <td>0</td>\n",
       "      <td>0</td>\n",
       "    </tr>\n",
       "    <tr>\n",
       "      <th>truck</th>\n",
       "      <td>0</td>\n",
       "      <td>6</td>\n",
       "      <td>1</td>\n",
       "      <td>0</td>\n",
       "      <td>0</td>\n",
       "      <td>0</td>\n",
       "    </tr>\n",
       "    <tr>\n",
       "      <th>van</th>\n",
       "      <td>0</td>\n",
       "      <td>4</td>\n",
       "      <td>1</td>\n",
       "      <td>0</td>\n",
       "      <td>0</td>\n",
       "      <td>0</td>\n",
       "    </tr>\n",
       "  </tbody>\n",
       "</table>\n",
       "</div>"
      ],
      "text/plain": [
       "Predictions  bike  car  motorcycle  other  truck  van\n",
       "True class                                           \n",
       "bike            0   12           0      0      0    0\n",
       "car             0   10           1      0      0    0\n",
       "motorcycle      0    8           1      0      0    0\n",
       "other           0    5           1      0      0    0\n",
       "truck           0    6           1      0      0    0\n",
       "van             0    4           1      0      0    0"
      ]
     },
     "execution_count": 16,
     "metadata": {},
     "output_type": "execute_result"
    }
   ],
   "source": [
    "from sklearn.metrics import confusion_matrix\n",
    "import pandas as pd\n",
    "\n",
    "# Compute confusion matrix\n",
    "matrix = confusion_matrix(\n",
    "    y_true=testset.classes, # array with true labels\n",
    "    y_pred=test_preds.argmax(axis=1) # array with predicted labels\n",
    ")\n",
    "\n",
    "# Format as a DataFrame\n",
    "class_names = list(testset.class_indices.keys())\n",
    "matrix_df = pd.DataFrame(data=matrix, columns=class_names, index=class_names)\n",
    "matrix_df.columns.name = 'Predictions'\n",
    "matrix_df.index.name = 'True class'\n",
    "matrix_df"
   ]
  },
  {
   "cell_type": "markdown",
   "metadata": {},
   "source": [
    "We see that a lot of the predictions are totally wrong, e.g. for the truck, van."
   ]
  },
  {
   "cell_type": "code",
   "execution_count": 17,
   "metadata": {},
   "outputs": [
    {
     "name": "stdout",
     "output_type": "stream",
     "text": [
      "Test loss: 1.77, accuracy: 22.00%\n"
     ]
    }
   ],
   "source": [
    "(test_loss, test_accuracy) = model.evaluate_generator(testset)\n",
    "print('Test loss: {:.2f}, accuracy: {:.2f}%'.format(test_loss, test_accuracy*100))\n",
    "# Output varies with an accuracy score around 52% and a loss around 1.4"
   ]
  },
  {
   "cell_type": "code",
   "execution_count": 18,
   "metadata": {},
   "outputs": [
    {
     "data": {
      "text/plain": [
       "0.2199999988079071"
      ]
     },
     "execution_count": 18,
     "metadata": {},
     "output_type": "execute_result"
    }
   ],
   "source": [
    "accuracy_cnn = test_accuracy\n",
    "accuracy_cnn"
   ]
  },
  {
   "cell_type": "code",
   "execution_count": 19,
   "metadata": {},
   "outputs": [
    {
     "data": {
      "text/html": [
       "<div>\n",
       "<style scoped>\n",
       "    .dataframe tbody tr th:only-of-type {\n",
       "        vertical-align: middle;\n",
       "    }\n",
       "\n",
       "    .dataframe tbody tr th {\n",
       "        vertical-align: top;\n",
       "    }\n",
       "\n",
       "    .dataframe thead th {\n",
       "        text-align: right;\n",
       "    }\n",
       "</style>\n",
       "<table border=\"1\" class=\"dataframe\">\n",
       "  <thead>\n",
       "    <tr style=\"text-align: right;\">\n",
       "      <th></th>\n",
       "      <th>model</th>\n",
       "      <th>accuracy</th>\n",
       "    </tr>\n",
       "  </thead>\n",
       "  <tbody>\n",
       "    <tr>\n",
       "      <th>0</th>\n",
       "      <td>cnn</td>\n",
       "      <td>0.22</td>\n",
       "    </tr>\n",
       "  </tbody>\n",
       "</table>\n",
       "</div>"
      ],
      "text/plain": [
       "  model  accuracy\n",
       "0   cnn      0.22"
      ]
     },
     "execution_count": 19,
     "metadata": {},
     "output_type": "execute_result"
    }
   ],
   "source": [
    "results_cnn = { 'model': ['cnn'], 'accuracy' : [test_accuracy] }\n",
    "results_cnn = pd.DataFrame(results_cnn)\n",
    "np.save('results_cnn', results_cnn)\n",
    "results_cnn"
   ]
  },
  {
   "cell_type": "code",
   "execution_count": 20,
   "metadata": {},
   "outputs": [
    {
     "data": {
      "text/plain": [
       "[<tensorflow.python.keras.layers.convolutional.Conv2D at 0x7f9fdbad4128>,\n",
       " <tensorflow.python.keras.layers.pooling.MaxPooling2D at 0x7f9fdbad44e0>,\n",
       " <tensorflow.python.keras.layers.convolutional.Conv2D at 0x7f9fdbad4438>,\n",
       " <tensorflow.python.keras.layers.pooling.MaxPooling2D at 0x7f9fdbad4d68>,\n",
       " <tensorflow.python.keras.layers.core.Flatten at 0x7f9fdbb2f4e0>,\n",
       " <tensorflow.python.keras.layers.core.Dense at 0x7f9fdbb2f7b8>,\n",
       " <tensorflow.python.keras.layers.core.Dense at 0x7f9fdbba7d30>]"
      ]
     },
     "execution_count": 20,
     "metadata": {},
     "output_type": "execute_result"
    }
   ],
   "source": [
    "model.layers"
   ]
  },
  {
   "cell_type": "markdown",
   "metadata": {},
   "source": [
    "### Question: how do I plot the weights?"
   ]
  },
  {
   "cell_type": "code",
   "execution_count": 21,
   "metadata": {},
   "outputs": [
    {
     "data": {
      "text/plain": [
       "(5, 5, 3, 16)"
      ]
     },
     "execution_count": 21,
     "metadata": {},
     "output_type": "execute_result"
    }
   ],
   "source": [
    "# Retrieve first hidden layer\n",
    "hidden = model.layers[0]\n",
    "\n",
    "# Get weights/biases\n",
    "weights_hidden, biases_hidden = hidden.get_weights()\n",
    "\n",
    "# see weights\n",
    "weights_hidden.shape"
   ]
  },
  {
   "cell_type": "code",
   "execution_count": 22,
   "metadata": {},
   "outputs": [
    {
     "name": "stdout",
     "output_type": "stream",
     "text": [
      "(5, 5, 3, 16)\n"
     ]
    },
    {
     "name": "stderr",
     "output_type": "stream",
     "text": [
      "WARNING:matplotlib.image:Clipping input data to the valid range for imshow with RGB data ([0..1] for floats or [0..255] for integers).\n",
      "WARNING:matplotlib.image:Clipping input data to the valid range for imshow with RGB data ([0..1] for floats or [0..255] for integers).\n",
      "WARNING:matplotlib.image:Clipping input data to the valid range for imshow with RGB data ([0..1] for floats or [0..255] for integers).\n",
      "WARNING:matplotlib.image:Clipping input data to the valid range for imshow with RGB data ([0..1] for floats or [0..255] for integers).\n",
      "WARNING:matplotlib.image:Clipping input data to the valid range for imshow with RGB data ([0..1] for floats or [0..255] for integers).\n",
      "WARNING:matplotlib.image:Clipping input data to the valid range for imshow with RGB data ([0..1] for floats or [0..255] for integers).\n",
      "WARNING:matplotlib.image:Clipping input data to the valid range for imshow with RGB data ([0..1] for floats or [0..255] for integers).\n",
      "WARNING:matplotlib.image:Clipping input data to the valid range for imshow with RGB data ([0..1] for floats or [0..255] for integers).\n",
      "WARNING:matplotlib.image:Clipping input data to the valid range for imshow with RGB data ([0..1] for floats or [0..255] for integers).\n",
      "WARNING:matplotlib.image:Clipping input data to the valid range for imshow with RGB data ([0..1] for floats or [0..255] for integers).\n",
      "WARNING:matplotlib.image:Clipping input data to the valid range for imshow with RGB data ([0..1] for floats or [0..255] for integers).\n",
      "WARNING:matplotlib.image:Clipping input data to the valid range for imshow with RGB data ([0..1] for floats or [0..255] for integers).\n",
      "WARNING:matplotlib.image:Clipping input data to the valid range for imshow with RGB data ([0..1] for floats or [0..255] for integers).\n",
      "WARNING:matplotlib.image:Clipping input data to the valid range for imshow with RGB data ([0..1] for floats or [0..255] for integers).\n",
      "WARNING:matplotlib.image:Clipping input data to the valid range for imshow with RGB data ([0..1] for floats or [0..255] for integers).\n",
      "WARNING:matplotlib.image:Clipping input data to the valid range for imshow with RGB data ([0..1] for floats or [0..255] for integers).\n"
     ]
    },
    {
     "data": {
      "image/png": "[encoded data removed]",
      "text/plain": [
       "<Figure size 360x360 with 16 Axes>"
      ]
     },
     "metadata": {
      "needs_background": "light"
     },
     "output_type": "display_data"
    }
   ],
   "source": [
    "# Retrieve first hidden layer\n",
    "hidden = model.layers[0]\n",
    "\n",
    "# Get weights/biases\n",
    "weights_hidden, biases_hidden = hidden.get_weights()\n",
    "\n",
    "weights_hidden.shape\n",
    "\n",
    "print(weights_hidden.shape)\n",
    "# Create figure with 16 subplots\n",
    "fig, axes = plt.subplots(nrows = 4, ncols = 4, figsize = (5,5))\n",
    "\n",
    "# Plot the weights of the 16 hidden units\n",
    "for i, axis in enumerate(axes.flatten()):\n",
    "    # Get weights of i-th hidden unit\n",
    "    weights = weights_hidden[:,:,:,i]\n",
    "    weights.shape\n",
    "    \n",
    "    # Reshape into \n",
    "    weights = weights.reshape(5,5,3)\n",
    "    \n",
    "    # Plot weights\n",
    "    axis.set_title('unit {}'.format(i+1))\n",
    "   # axis.imshow(weights, cmap = plt.cm.gray_r)\n",
    "    axis.imshow(255*weights)\n",
    "    axis.get_xaxis().set_visible(False)\n",
    "    axis.get_yaxis().set_visible(False)\n",
    "    \n",
    "plt.show()    "
   ]
  },
  {
   "cell_type": "code",
   "execution_count": null,
   "metadata": {},
   "outputs": [],
   "source": []
  },
  {
   "cell_type": "code",
   "execution_count": null,
   "metadata": {},
   "outputs": [],
   "source": []
  },
  {
   "cell_type": "code",
   "execution_count": null,
   "metadata": {},
   "outputs": [],
   "source": []
  }
 ],
 "metadata": {
  "kernelspec": {
   "display_name": "Python 3",
   "language": "python",
   "name": "python3"
  },
  "language_info": {
   "codemirror_mode": {
    "name": "ipython",
    "version": 3
   },
   "file_extension": ".py",
   "mimetype": "text/x-python",
   "name": "python",
   "nbconvert_exporter": "python",
   "pygments_lexer": "ipython3",
   "version": "3.6.13"
  }
 },
 "nbformat": 4,
 "nbformat_minor": 4
}
