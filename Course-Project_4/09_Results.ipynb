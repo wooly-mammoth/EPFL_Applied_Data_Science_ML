{
 "cells": [
  {
   "cell_type": "markdown",
   "metadata": {},
   "source": [
    "# Final Comparison\n",
    "Collect the test accuracy of all of the models from above in a 09 Results.ipynb notebook. You can use a DataFrame to store your results for instance.\n",
    "\n",
    "Include a final visualization which summarizes the test accuracy of all of the models from above. For instance, you could use a bar chart."
   ]
  },
  {
   "cell_type": "code",
   "execution_count": 1,
   "metadata": {},
   "outputs": [],
   "source": [
    "import numpy as np\n",
    "import pandas as pd"
   ]
  },
  {
   "cell_type": "code",
   "execution_count": 2,
   "metadata": {},
   "outputs": [
    {
     "data": {
      "text/plain": [
       "(1, 2)"
      ]
     },
     "execution_count": 2,
     "metadata": {},
     "output_type": "execute_result"
    }
   ],
   "source": [
    "r_knn = np.load('results_kNN.npy')\n",
    "r_knn.shape"
   ]
  },
  {
   "cell_type": "code",
   "execution_count": 3,
   "metadata": {},
   "outputs": [],
   "source": [
    "r_knn = pd.DataFrame(np.load('results_kNN.npy'))\n",
    "r_df = pd.DataFrame(np.load('results_df.npy'))\n",
    "r_logreg = pd.DataFrame(np.load('results_logreg.npy'))\n",
    "r_rf = pd.DataFrame(np.load('results_rf.npy'))\n",
    "r_svm_linear = pd.DataFrame(np.load('results_svm_linear.npy'))\n",
    "r_svm_rbf = pd.DataFrame(np.load('results_svm_rbf.npy'))\n",
    "r_1L_nn = pd.DataFrame(np.load('results_1L_nn.npy'))\n",
    "r_2L_nn = pd.DataFrame(np.load('results_2L_nn.npy'))\n",
    "r_cnn = pd.DataFrame(np.load('results_cnn.npy'))"
   ]
  },
  {
   "cell_type": "code",
   "execution_count": 4,
   "metadata": {},
   "outputs": [],
   "source": [
    "results = pd.concat([r_knn, r_df, r_logreg, r_rf, r_svm_linear, r_svm_rbf, r_1L_nn, r_2L_nn, r_cnn], axis = 0,ignore_index = True)"
   ]
  },
  {
   "cell_type": "code",
   "execution_count": 5,
   "metadata": {},
   "outputs": [
    {
     "data": {
      "text/html": [
       "<div>\n",
       "<style scoped>\n",
       "    .dataframe tbody tr th:only-of-type {\n",
       "        vertical-align: middle;\n",
       "    }\n",
       "\n",
       "    .dataframe tbody tr th {\n",
       "        vertical-align: top;\n",
       "    }\n",
       "\n",
       "    .dataframe thead th {\n",
       "        text-align: right;\n",
       "    }\n",
       "</style>\n",
       "<table border=\"1\" class=\"dataframe\">\n",
       "  <thead>\n",
       "    <tr style=\"text-align: right;\">\n",
       "      <th></th>\n",
       "      <th>model</th>\n",
       "      <th>test_accuracy</th>\n",
       "    </tr>\n",
       "  </thead>\n",
       "  <tbody>\n",
       "    <tr>\n",
       "      <th>0</th>\n",
       "      <td>k-NN</td>\n",
       "      <td>0.94</td>\n",
       "    </tr>\n",
       "    <tr>\n",
       "      <th>1</th>\n",
       "      <td>decision tree</td>\n",
       "      <td>0.76</td>\n",
       "    </tr>\n",
       "    <tr>\n",
       "      <th>2</th>\n",
       "      <td>logistic</td>\n",
       "      <td>0.96</td>\n",
       "    </tr>\n",
       "    <tr>\n",
       "      <th>3</th>\n",
       "      <td>random_forest</td>\n",
       "      <td>0.86</td>\n",
       "    </tr>\n",
       "    <tr>\n",
       "      <th>4</th>\n",
       "      <td>svm_linear</td>\n",
       "      <td>0.94</td>\n",
       "    </tr>\n",
       "    <tr>\n",
       "      <th>5</th>\n",
       "      <td>svm_rbf</td>\n",
       "      <td>0.76</td>\n",
       "    </tr>\n",
       "    <tr>\n",
       "      <th>6</th>\n",
       "      <td>1-layer_nn</td>\n",
       "      <td>0.92</td>\n",
       "    </tr>\n",
       "    <tr>\n",
       "      <th>7</th>\n",
       "      <td>1-layer_nn</td>\n",
       "      <td>0.92</td>\n",
       "    </tr>\n",
       "    <tr>\n",
       "      <th>8</th>\n",
       "      <td>cnn</td>\n",
       "      <td>0.22</td>\n",
       "    </tr>\n",
       "  </tbody>\n",
       "</table>\n",
       "</div>"
      ],
      "text/plain": [
       "           model test_accuracy\n",
       "0           k-NN          0.94\n",
       "1  decision tree          0.76\n",
       "2       logistic          0.96\n",
       "3  random_forest          0.86\n",
       "4     svm_linear          0.94\n",
       "5        svm_rbf          0.76\n",
       "6     1-layer_nn          0.92\n",
       "7     1-layer_nn          0.92\n",
       "8            cnn          0.22"
      ]
     },
     "execution_count": 5,
     "metadata": {},
     "output_type": "execute_result"
    }
   ],
   "source": [
    "cols = ['model', 'test_accuracy']\n",
    "results.columns = cols\n",
    "results"
   ]
  },
  {
   "cell_type": "code",
   "execution_count": 6,
   "metadata": {},
   "outputs": [],
   "source": [
    "titles = ['k-NN', 'decision tree', 'logistic', 'random forest', 'svm linear', 'svm rbf', '1-layer nn', '2-layer nn', 'cnn']\n",
    "xcor = np.arange(len(results.test_accuracy))"
   ]
  },
  {
   "cell_type": "markdown",
   "metadata": {},
   "source": [
    "I will now do a benchmarking of the various models and compare the results."
   ]
  },
  {
   "cell_type": "code",
   "execution_count": 7,
   "metadata": {},
   "outputs": [
    {
     "data": {
      "image/png": "[encoded data removed]",
      "text/plain": [
       "<Figure size 1080x504 with 1 Axes>"
      ]
     },
     "metadata": {
      "needs_background": "light"
     },
     "output_type": "display_data"
    }
   ],
   "source": [
    "import matplotlib.pyplot as plt\n",
    "%matplotlib inline\n",
    "\n",
    "fig, axes = plt.subplots(nrows = 1, ncols = 1, figsize = (15,7))\n",
    "plt.bar(xcor, results.test_accuracy)\n",
    "plt.xticks(xcor, titles)\n",
    "plt.ylabel('test accuracy')\n",
    "plt.show()"
   ]
  },
  {
   "cell_type": "markdown",
   "metadata": {},
   "source": [
    "The most evident observation is that the mmodel that used the high.level features outperform the convolutional neural network that used the raw images.\n",
    "\n",
    "\n",
    "The best performance is achieved with the svm linear kernel. It looks like our data were linearly seperable and a linear kernel could work well in this case. On the other hand the nonlinear rbf kernel did not perform that well. Logistic Regression, kNN also performed well as well as the 1L-layer neural network."
   ]
  },
  {
   "cell_type": "code",
   "execution_count": null,
   "metadata": {},
   "outputs": [],
   "source": []
  }
 ],
 "metadata": {
  "kernelspec": {
   "display_name": "Python 3",
   "language": "python",
   "name": "python3"
  },
  "language_info": {
   "codemirror_mode": {
    "name": "ipython",
    "version": 3
   },
   "file_extension": ".py",
   "mimetype": "text/x-python",
   "name": "python",
   "nbconvert_exporter": "python",
   "pygments_lexer": "ipython3",
   "version": "3.6.13"
  }
 },
 "nbformat": 4,
 "nbformat_minor": 4
}
