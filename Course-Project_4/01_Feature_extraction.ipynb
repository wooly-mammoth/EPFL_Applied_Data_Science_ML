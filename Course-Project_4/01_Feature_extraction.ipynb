{
 "cells": [
  {
   "cell_type": "markdown",
   "metadata": {},
   "source": [
    "# Course Project-4\n",
    "For this project, you will work on the Swissroads data set which contains several hundreds images of vehicles found in the EPFL - Lausanne area including cars, trucks, vans, bikes, motorcycles and others.\n",
    "\n",
    "The goal of this project is to test the different classifiers and techniques from the course using high-level features extracted with a pretrained convolutional neural network from TensorFlow Hub and compare the results with your own ConvNet implementation trained from the raw image pixels."
   ]
  },
  {
   "cell_type": "markdown",
   "metadata": {},
   "source": [
    "## Feature extraction\n",
    "In this first part of the project, start by extracting a set of high-level features for each image in the data set. To achieve this, you can use ex. the Inception v3 or MobileNet v2 ConvNets which respectively extract 2048 and 1280 high-level features.\n",
    "\n",
    "This high-level features should then be used for all of the tasks in this project, except for when it is stated otherwise. In other words, the PCA exploration and all models (except for the Convolutional Neural Network) should use these high-level features. And in the case where we ask you to visualize the images, we of course mean to visualize the raw images with their pixel values.\n",
    "\n",
    "Suggestion: consider storing the extracted high-level features, e.g. in npz files (one for train, validation and test), for quickly reloading them into each of the following notebooks.\n",
    "\n",
    "Note: All your models should be trained on the training set, and the fine tuning of your hyperparameters should be validated on the validation set. The final test set should only be used for the final comparison to test the accuracies of your models on a new dataset. However, in the case where you use a cross-validation approach, you can of course merge the train and validation set into one bigger dataset and use this for model fitting."
   ]
  },
  {
   "cell_type": "raw",
   "metadata": {},
   "source": [
    "#  MobileNet V2 \n",
    "module = hub.Module(\"https://tfhub.dev/google/imagenet/mobilenet_v2_100_224/feature_vector/2\")\n",
    "height, width = hub.get_expected_image_size(module)\n",
    "images = ...  # A batch of images with shape [batch_size, height, width, 3].\n",
    "features = module(images)  # Features with shape [batch_size, num_features].\n",
    "\n",
    "# The output for each image in the batch is a feature vector of size num_features = 1280.\n",
    "\n",
    "# For this module, the size of the input image is fixed to height x width = 224 x 224 pixels. \n",
    "# The input images are expected to have color values in the range [0,1], \n",
    "# following the common image input conventions."
   ]
  },
  {
   "cell_type": "code",
   "execution_count": 1,
   "metadata": {},
   "outputs": [
    {
     "name": "stderr",
     "output_type": "stream",
     "text": [
      "WARNING:absl:Some hub symbols are not available because TensorFlow version is less than 1.14\n"
     ]
    }
   ],
   "source": [
    "import tensorflow as tf\n",
    "import tensorflow_hub as hub\n",
    "import numpy as np\n",
    "import pandas as pd\n",
    "import os\n",
    "import PIL.Image as Image\n",
    "from tensorflow.keras.preprocessing.image import ImageDataGenerator\n",
    "import matplotlib.pyplot as plt\n",
    "%matplotlib inline"
   ]
  },
  {
   "cell_type": "markdown",
   "metadata": {},
   "source": [
    "I will get the swissroads data in batches using three Image generators to create the training, validation and test set.\n",
    "We use the rescale parameter to normalize the images between zero and one, and the horizontal_flip and rotation_range transformations to get slightly different variants of the images each time we sample from the images to fight overfitting and virtually augment the data set to improve training. This is why we only use those parameters for the train_generator and valid_generator and not the test_generator one. the validation data will also go through the training transformations."
   ]
  },
  {
   "cell_type": "code",
   "execution_count": 22,
   "metadata": {},
   "outputs": [],
   "source": [
    "from tensorflow.keras.preprocessing.image import ImageDataGenerator\n",
    "\n",
    "# validation split not needed here, validation set is given in a separate folder\n",
    "# train_generator = ImageDataGenerator(rescale = 1/255, horizontal_flip = True, rotation_range = 5)\n",
    "# valid_generator = ImageDataGenerator(rescale = 1/255, horizontal_flip = True, rotation_range = 5)\n",
    "# test_generator = ImageDataGenerator(rescale = 1/255)\n",
    "\n",
    "# or we do not need to do image augmantation to change the dataset here\n",
    "train_generator = ImageDataGenerator(rescale = 1/255)\n",
    "valid_generator = ImageDataGenerator(rescale = 1/255)\n",
    "test_generator = ImageDataGenerator(rescale = 1/255)"
   ]
  },
  {
   "cell_type": "markdown",
   "metadata": {},
   "source": [
    "I create an iterator that iterates over the directory of .png images using the image generator instances (objects) previously created"
   ]
  },
  {
   "cell_type": "markdown",
   "metadata": {},
   "source": [
    "I resize the images to 299x299 because this is the size used for the Inception V3 model that I will use."
   ]
  },
  {
   "cell_type": "markdown",
   "metadata": {},
   "source": [
    "batches not necessary here, shuffling also not needed, for feature extraction not needed, only for training"
   ]
  },
  {
   "cell_type": "code",
   "execution_count": 23,
   "metadata": {},
   "outputs": [
    {
     "name": "stdout",
     "output_type": "stream",
     "text": [
      "Found 280 images belonging to 6 classes.\n",
      "Found 139 images belonging to 6 classes.\n",
      "Found 50 images belonging to 6 classes.\n"
     ]
    }
   ],
   "source": [
    "trainset = train_generator.flow_from_directory(\n",
    "    os.path.join('swissroads','train'), batch_size = 32, target_size = (299,299), shuffle = False, class_mode = 'sparse')\n",
    "\n",
    "validset = valid_generator.flow_from_directory(\n",
    "    os.path.join('swissroads', 'valid'), batch_size = 32, target_size = (299, 299), shuffle = False, class_mode = 'sparse')\n",
    "\n",
    "testset = test_generator.flow_from_directory(\n",
    "    os.path.join('swissroads', 'test'), batch_size = 32, target_size = (299,299), shuffle = False, class_mode = 'sparse')"
   ]
  },
  {
   "cell_type": "markdown",
   "metadata": {},
   "source": [
    "We create a trainset and a validset iterator for the images from the traindirectory and a testset one for the images from the test directory. Note that we don't need to shuffle the validation and test data (i.e we set shuffle=False) since shuffling only affects training."
   ]
  },
  {
   "cell_type": "code",
   "execution_count": null,
   "metadata": {},
   "outputs": [],
   "source": []
  },
  {
   "cell_type": "code",
   "execution_count": 24,
   "metadata": {},
   "outputs": [
    {
     "data": {
      "text/plain": [
       "9"
      ]
     },
     "execution_count": 24,
     "metadata": {},
     "output_type": "execute_result"
    }
   ],
   "source": [
    "len(trainset)"
   ]
  },
  {
   "cell_type": "code",
   "execution_count": 25,
   "metadata": {},
   "outputs": [
    {
     "data": {
      "text/plain": [
       "5"
      ]
     },
     "execution_count": 25,
     "metadata": {},
     "output_type": "execute_result"
    }
   ],
   "source": [
    "len(validset)"
   ]
  },
  {
   "cell_type": "code",
   "execution_count": 26,
   "metadata": {},
   "outputs": [
    {
     "data": {
      "text/plain": [
       "2"
      ]
     },
     "execution_count": 26,
     "metadata": {},
     "output_type": "execute_result"
    }
   ],
   "source": [
    "len(testset)"
   ]
  },
  {
   "cell_type": "code",
   "execution_count": 27,
   "metadata": {},
   "outputs": [
    {
     "data": {
      "text/plain": [
       "['bike/bike-0001.png',\n",
       " 'bike/bike-0002.png',\n",
       " 'bike/bike-0003.png',\n",
       " 'bike/bike-0004.png',\n",
       " 'bike/bike-0005.png',\n",
       " 'bike/bike-0006.png',\n",
       " 'bike/bike-0007.png',\n",
       " 'bike/bike-0008.png',\n",
       " 'bike/bike-0009.png',\n",
       " 'bike/bike-0010.png',\n",
       " 'bike/bike-0011.png',\n",
       " 'bike/bike-0012.png',\n",
       " 'bike/bike-0013.png',\n",
       " 'bike/bike-0014.png',\n",
       " 'bike/bike-0015.png',\n",
       " 'bike/bike-0016.png',\n",
       " 'bike/bike-0017.png',\n",
       " 'bike/bike-0018.png',\n",
       " 'bike/bike-0019.png',\n",
       " 'bike/bike-0020.png',\n",
       " 'bike/bike-0021.png',\n",
       " 'bike/bike-0022.png',\n",
       " 'bike/bike-0023.png',\n",
       " 'bike/bike-0024.png',\n",
       " 'bike/bike-0025.png',\n",
       " 'bike/bike-0026.png',\n",
       " 'bike/bike-0027.png',\n",
       " 'bike/bike-0028.png',\n",
       " 'bike/bike-0029.png',\n",
       " 'bike/bike-0030.png',\n",
       " 'bike/bike-0031.png',\n",
       " 'bike/bike-0032.png',\n",
       " 'bike/bike-0033.png',\n",
       " 'bike/bike-0034.png',\n",
       " 'bike/bike-0035.png',\n",
       " 'bike/bike-0036.png',\n",
       " 'bike/bike-0037.png',\n",
       " 'bike/bike-0038.png',\n",
       " 'bike/bike-0039.png',\n",
       " 'bike/bike-0040.png',\n",
       " 'bike/bike-0041.png',\n",
       " 'bike/bike-0042.png',\n",
       " 'bike/bike-0043.png',\n",
       " 'bike/bike-0044.png',\n",
       " 'bike/bike-0045.png',\n",
       " 'bike/bike-0046.png',\n",
       " 'bike/bike-0047.png',\n",
       " 'bike/bike-0048.png',\n",
       " 'bike/bike-0049.png',\n",
       " 'bike/bike-0050.png',\n",
       " 'bike/bike-0051.png',\n",
       " 'bike/bike-0052.png',\n",
       " 'bike/bike-0053.png',\n",
       " 'bike/bike-0054.png',\n",
       " 'bike/bike-0055.png',\n",
       " 'bike/bike-0056.png',\n",
       " 'bike/bike-0057.png',\n",
       " 'bike/bike-0058.png',\n",
       " 'bike/bike-0059.png',\n",
       " 'bike/bike-0060.png',\n",
       " 'bike/bike-0061.png',\n",
       " 'bike/bike-0062.png',\n",
       " 'bike/bike-0063.png',\n",
       " 'bike/bike-0064.png',\n",
       " 'bike/bike-0065.png',\n",
       " 'bike/bike-0066.png',\n",
       " 'car/car-0001.png',\n",
       " 'car/car-0002.png',\n",
       " 'car/car-0003.png',\n",
       " 'car/car-0004.png',\n",
       " 'car/car-0005.png',\n",
       " 'car/car-0006.png',\n",
       " 'car/car-0007.png',\n",
       " 'car/car-0008.png',\n",
       " 'car/car-0009.png',\n",
       " 'car/car-0010.png',\n",
       " 'car/car-0011.png',\n",
       " 'car/car-0012.png',\n",
       " 'car/car-0013.png',\n",
       " 'car/car-0014.png',\n",
       " 'car/car-0015.png',\n",
       " 'car/car-0016.png',\n",
       " 'car/car-0017.png',\n",
       " 'car/car-0018.png',\n",
       " 'car/car-0019.png',\n",
       " 'car/car-0020.png',\n",
       " 'car/car-0021.png',\n",
       " 'car/car-0022.png',\n",
       " 'car/car-0023.png',\n",
       " 'car/car-0024.png',\n",
       " 'car/car-0025.png',\n",
       " 'car/car-0026.png',\n",
       " 'car/car-0027.png',\n",
       " 'car/car-0028.png',\n",
       " 'car/car-0029.png',\n",
       " 'car/car-0030.png',\n",
       " 'car/car-0031.png',\n",
       " 'car/car-0032.png',\n",
       " 'car/car-0033.png',\n",
       " 'car/car-0034.png',\n",
       " 'car/car-0035.png',\n",
       " 'car/car-0036.png',\n",
       " 'car/car-0037.png',\n",
       " 'car/car-0038.png',\n",
       " 'car/car-0039.png',\n",
       " 'car/car-0040.png',\n",
       " 'car/car-0041.png',\n",
       " 'car/car-0042.png',\n",
       " 'car/car-0043.png',\n",
       " 'car/car-0044.png',\n",
       " 'car/car-0045.png',\n",
       " 'car/car-0046.png',\n",
       " 'car/car-0047.png',\n",
       " 'car/car-0048.png',\n",
       " 'car/car-0049.png',\n",
       " 'car/car-0050.png',\n",
       " 'car/car-0051.png',\n",
       " 'car/car-0052.png',\n",
       " 'car/car-0053.png',\n",
       " 'car/car-0054.png',\n",
       " 'car/car-0055.png',\n",
       " 'car/car-0056.png',\n",
       " 'car/car-0057.png',\n",
       " 'car/car-0058.png',\n",
       " 'car/car-0059.png',\n",
       " 'car/car-0060.png',\n",
       " 'car/car-0061.png',\n",
       " 'car/car-0062.png',\n",
       " 'car/car-0063.png',\n",
       " 'car/car-0064.png',\n",
       " 'motorcycle/motorcycle-0001.png',\n",
       " 'motorcycle/motorcycle-0002.png',\n",
       " 'motorcycle/motorcycle-0003.png',\n",
       " 'motorcycle/motorcycle-0004.png',\n",
       " 'motorcycle/motorcycle-0005.png',\n",
       " 'motorcycle/motorcycle-0006.png',\n",
       " 'motorcycle/motorcycle-0007.png',\n",
       " 'motorcycle/motorcycle-0008.png',\n",
       " 'motorcycle/motorcycle-0009.png',\n",
       " 'motorcycle/motorcycle-0010.png',\n",
       " 'motorcycle/motorcycle-0011.png',\n",
       " 'motorcycle/motorcycle-0012.png',\n",
       " 'motorcycle/motorcycle-0013.png',\n",
       " 'motorcycle/motorcycle-0014.png',\n",
       " 'motorcycle/motorcycle-0015.png',\n",
       " 'motorcycle/motorcycle-0016.png',\n",
       " 'motorcycle/motorcycle-0017.png',\n",
       " 'motorcycle/motorcycle-0018.png',\n",
       " 'motorcycle/motorcycle-0019.png',\n",
       " 'motorcycle/motorcycle-0020.png',\n",
       " 'motorcycle/motorcycle-0021.png',\n",
       " 'motorcycle/motorcycle-0022.png',\n",
       " 'motorcycle/motorcycle-0023.png',\n",
       " 'motorcycle/motorcycle-0024.png',\n",
       " 'motorcycle/motorcycle-0025.png',\n",
       " 'motorcycle/motorcycle-0026.png',\n",
       " 'motorcycle/motorcycle-0027.png',\n",
       " 'motorcycle/motorcycle-0028.png',\n",
       " 'motorcycle/motorcycle-0029.png',\n",
       " 'motorcycle/motorcycle-0030.png',\n",
       " 'motorcycle/motorcycle-0031.png',\n",
       " 'motorcycle/motorcycle-0032.png',\n",
       " 'motorcycle/motorcycle-0033.png',\n",
       " 'motorcycle/motorcycle-0034.png',\n",
       " 'motorcycle/motorcycle-0035.png',\n",
       " 'motorcycle/motorcycle-0036.png',\n",
       " 'motorcycle/motorcycle-0037.png',\n",
       " 'motorcycle/motorcycle-0038.png',\n",
       " 'motorcycle/motorcycle-0039.png',\n",
       " 'motorcycle/motorcycle-0040.png',\n",
       " 'motorcycle/motorcycle-0041.png',\n",
       " 'motorcycle/motorcycle-0042.png',\n",
       " 'motorcycle/motorcycle-0043.png',\n",
       " 'motorcycle/motorcycle-0044.png',\n",
       " 'motorcycle/motorcycle-0045.png',\n",
       " 'motorcycle/motorcycle-0046.png',\n",
       " 'motorcycle/motorcycle-0047.png',\n",
       " 'motorcycle/motorcycle-0048.png',\n",
       " 'motorcycle/motorcycle-0049.png',\n",
       " 'motorcycle/motorcycle-0050.png',\n",
       " 'motorcycle/motorcycle-0051.png',\n",
       " 'other/other-0001.png',\n",
       " 'other/other-0002.png',\n",
       " 'other/other-0003.png',\n",
       " 'other/other-0004.png',\n",
       " 'other/other-0005.png',\n",
       " 'other/other-0006.png',\n",
       " 'other/other-0007.png',\n",
       " 'other/other-0008.png',\n",
       " 'other/other-0009.png',\n",
       " 'other/other-0010.png',\n",
       " 'other/other-0011.png',\n",
       " 'other/other-0012.png',\n",
       " 'other/other-0013.png',\n",
       " 'other/other-0014.png',\n",
       " 'other/other-0015.png',\n",
       " 'other/other-0016.png',\n",
       " 'other/other-0017.png',\n",
       " 'other/other-0018.png',\n",
       " 'other/other-0019.png',\n",
       " 'other/other-0020.png',\n",
       " 'other/other-0021.png',\n",
       " 'other/other-0022.png',\n",
       " 'other/other-0023.png',\n",
       " 'other/other-0024.png',\n",
       " 'other/other-0025.png',\n",
       " 'other/other-0026.png',\n",
       " 'other/other-0027.png',\n",
       " 'other/other-0028.png',\n",
       " 'other/other-0029.png',\n",
       " 'other/other-0030.png',\n",
       " 'other/other-0031.png',\n",
       " 'other/other-0032.png',\n",
       " 'truck/truck-0001.png',\n",
       " 'truck/truck-0002.png',\n",
       " 'truck/truck-0003.png',\n",
       " 'truck/truck-0004.png',\n",
       " 'truck/truck-0005.png',\n",
       " 'truck/truck-0006.png',\n",
       " 'truck/truck-0007.png',\n",
       " 'truck/truck-0008.png',\n",
       " 'truck/truck-0009.png',\n",
       " 'truck/truck-0010.png',\n",
       " 'truck/truck-0011.png',\n",
       " 'truck/truck-0012.png',\n",
       " 'truck/truck-0013.png',\n",
       " 'truck/truck-0014.png',\n",
       " 'truck/truck-0015.png',\n",
       " 'truck/truck-0016.png',\n",
       " 'truck/truck-0017.png',\n",
       " 'truck/truck-0018.png',\n",
       " 'truck/truck-0019.png',\n",
       " 'truck/truck-0020.png',\n",
       " 'truck/truck-0021.png',\n",
       " 'truck/truck-0022.png',\n",
       " 'truck/truck-0023.png',\n",
       " 'truck/truck-0024.png',\n",
       " 'truck/truck-0025.png',\n",
       " 'truck/truck-0026.png',\n",
       " 'truck/truck-0027.png',\n",
       " 'truck/truck-0028.png',\n",
       " 'truck/truck-0029.png',\n",
       " 'truck/truck-0030.png',\n",
       " 'truck/truck-0031.png',\n",
       " 'truck/truck-0032.png',\n",
       " 'truck/truck-0033.png',\n",
       " 'truck/truck-0034.png',\n",
       " 'truck/truck-0035.png',\n",
       " 'truck/truck-0036.png',\n",
       " 'truck/truck-0037.png',\n",
       " 'truck/truck-0038.png',\n",
       " 'truck/truck-0039.png',\n",
       " 'truck/truck-0040.png',\n",
       " 'truck/truck-0041.png',\n",
       " 'truck/truck-0042.png',\n",
       " 'van/van-0001.png',\n",
       " 'van/van-0002.png',\n",
       " 'van/van-0003.png',\n",
       " 'van/van-0004.png',\n",
       " 'van/van-0005.png',\n",
       " 'van/van-0006.png',\n",
       " 'van/van-0007.png',\n",
       " 'van/van-0008.png',\n",
       " 'van/van-0009.png',\n",
       " 'van/van-0010.png',\n",
       " 'van/van-0011.png',\n",
       " 'van/van-0012.png',\n",
       " 'van/van-0013.png',\n",
       " 'van/van-0014.png',\n",
       " 'van/van-0015.png',\n",
       " 'van/van-0016.png',\n",
       " 'van/van-0017.png',\n",
       " 'van/van-0018.png',\n",
       " 'van/van-0019.png',\n",
       " 'van/van-0020.png',\n",
       " 'van/van-0021.png',\n",
       " 'van/van-0022.png',\n",
       " 'van/van-0023.png',\n",
       " 'van/van-0024.png',\n",
       " 'van/van-0025.png']"
      ]
     },
     "execution_count": 27,
     "metadata": {},
     "output_type": "execute_result"
    }
   ],
   "source": [
    "trainset.filenames[:]"
   ]
  },
  {
   "cell_type": "code",
   "execution_count": 28,
   "metadata": {},
   "outputs": [
    {
     "data": {
      "text/plain": [
       "['bike/bike-0067.png',\n",
       " 'bike/bike-0068.png',\n",
       " 'bike/bike-0069.png',\n",
       " 'bike/bike-0070.png',\n",
       " 'bike/bike-0071.png',\n",
       " 'bike/bike-0072.png',\n",
       " 'bike/bike-0073.png',\n",
       " 'bike/bike-0074.png',\n",
       " 'bike/bike-0075.png',\n",
       " 'bike/bike-0076.png',\n",
       " 'bike/bike-0077.png',\n",
       " 'bike/bike-0078.png',\n",
       " 'bike/bike-0079.png',\n",
       " 'bike/bike-0080.png',\n",
       " 'bike/bike-0081.png',\n",
       " 'bike/bike-0082.png',\n",
       " 'bike/bike-0083.png',\n",
       " 'bike/bike-0084.png',\n",
       " 'bike/bike-0085.png',\n",
       " 'bike/bike-0086.png',\n",
       " 'bike/bike-0087.png',\n",
       " 'bike/bike-0088.png',\n",
       " 'bike/bike-0089.png',\n",
       " 'bike/bike-0090.png',\n",
       " 'bike/bike-0091.png',\n",
       " 'bike/bike-0092.png',\n",
       " 'bike/bike-0093.png',\n",
       " 'bike/bike-0094.png',\n",
       " 'bike/bike-0095.png',\n",
       " 'bike/bike-0096.png',\n",
       " 'bike/bike-0097.png',\n",
       " 'bike/bike-0098.png',\n",
       " 'bike/bike-0099.png',\n",
       " 'car/car-0065.png',\n",
       " 'car/car-0066.png',\n",
       " 'car/car-0067.png',\n",
       " 'car/car-0068.png',\n",
       " 'car/car-0069.png',\n",
       " 'car/car-0070.png',\n",
       " 'car/car-0071.png',\n",
       " 'car/car-0072.png',\n",
       " 'car/car-0073.png',\n",
       " 'car/car-0074.png',\n",
       " 'car/car-0075.png',\n",
       " 'car/car-0076.png',\n",
       " 'car/car-0077.png',\n",
       " 'car/car-0078.png',\n",
       " 'car/car-0079.png',\n",
       " 'car/car-0080.png',\n",
       " 'car/car-0081.png',\n",
       " 'car/car-0082.png',\n",
       " 'car/car-0083.png',\n",
       " 'car/car-0084.png',\n",
       " 'car/car-0085.png',\n",
       " 'car/car-0086.png',\n",
       " 'car/car-0087.png',\n",
       " 'car/car-0088.png',\n",
       " 'car/car-0089.png',\n",
       " 'car/car-0090.png',\n",
       " 'car/car-0091.png',\n",
       " 'car/car-0092.png',\n",
       " 'car/car-0093.png',\n",
       " 'car/car-0094.png',\n",
       " 'car/car-0095.png',\n",
       " 'car/car-0096.png',\n",
       " 'motorcycle/motorcycle-0052.png',\n",
       " 'motorcycle/motorcycle-0053.png',\n",
       " 'motorcycle/motorcycle-0054.png',\n",
       " 'motorcycle/motorcycle-0055.png',\n",
       " 'motorcycle/motorcycle-0056.png',\n",
       " 'motorcycle/motorcycle-0057.png',\n",
       " 'motorcycle/motorcycle-0058.png',\n",
       " 'motorcycle/motorcycle-0059.png',\n",
       " 'motorcycle/motorcycle-0060.png',\n",
       " 'motorcycle/motorcycle-0061.png',\n",
       " 'motorcycle/motorcycle-0062.png',\n",
       " 'motorcycle/motorcycle-0063.png',\n",
       " 'motorcycle/motorcycle-0064.png',\n",
       " 'motorcycle/motorcycle-0065.png',\n",
       " 'motorcycle/motorcycle-0066.png',\n",
       " 'motorcycle/motorcycle-0067.png',\n",
       " 'motorcycle/motorcycle-0068.png',\n",
       " 'motorcycle/motorcycle-0069.png',\n",
       " 'motorcycle/motorcycle-0070.png',\n",
       " 'motorcycle/motorcycle-0071.png',\n",
       " 'motorcycle/motorcycle-0072.png',\n",
       " 'motorcycle/motorcycle-0073.png',\n",
       " 'motorcycle/motorcycle-0074.png',\n",
       " 'motorcycle/motorcycle-0075.png',\n",
       " 'motorcycle/motorcycle-0076.png',\n",
       " 'other/other-0033.png',\n",
       " 'other/other-0034.png',\n",
       " 'other/other-0035.png',\n",
       " 'other/other-0036.png',\n",
       " 'other/other-0037.png',\n",
       " 'other/other-0038.png',\n",
       " 'other/other-0039.png',\n",
       " 'other/other-0040.png',\n",
       " 'other/other-0041.png',\n",
       " 'other/other-0042.png',\n",
       " 'other/other-0043.png',\n",
       " 'other/other-0044.png',\n",
       " 'other/other-0045.png',\n",
       " 'other/other-0046.png',\n",
       " 'other/other-0047.png',\n",
       " 'other/other-0048.png',\n",
       " 'truck/truck-0043.png',\n",
       " 'truck/truck-0044.png',\n",
       " 'truck/truck-0045.png',\n",
       " 'truck/truck-0046.png',\n",
       " 'truck/truck-0047.png',\n",
       " 'truck/truck-0048.png',\n",
       " 'truck/truck-0049.png',\n",
       " 'truck/truck-0050.png',\n",
       " 'truck/truck-0051.png',\n",
       " 'truck/truck-0052.png',\n",
       " 'truck/truck-0053.png',\n",
       " 'truck/truck-0054.png',\n",
       " 'truck/truck-0055.png',\n",
       " 'truck/truck-0056.png',\n",
       " 'truck/truck-0057.png',\n",
       " 'truck/truck-0058.png',\n",
       " 'truck/truck-0059.png',\n",
       " 'truck/truck-0060.png',\n",
       " 'truck/truck-0061.png',\n",
       " 'truck/truck-0062.png',\n",
       " 'truck/truck-0063.png',\n",
       " 'van/van-0026.png',\n",
       " 'van/van-0027.png',\n",
       " 'van/van-0028.png',\n",
       " 'van/van-0029.png',\n",
       " 'van/van-0030.png',\n",
       " 'van/van-0031.png',\n",
       " 'van/van-0032.png',\n",
       " 'van/van-0033.png',\n",
       " 'van/van-0034.png',\n",
       " 'van/van-0035.png',\n",
       " 'van/van-0036.png',\n",
       " 'van/van-0037.png']"
      ]
     },
     "execution_count": 28,
     "metadata": {},
     "output_type": "execute_result"
    }
   ],
   "source": [
    "validset.filenames[:]"
   ]
  },
  {
   "cell_type": "code",
   "execution_count": 29,
   "metadata": {},
   "outputs": [
    {
     "data": {
      "text/plain": [
       "['bike/bike-0100.png',\n",
       " 'bike/bike-0101.png',\n",
       " 'bike/bike-0102.png',\n",
       " 'bike/bike-0103.png',\n",
       " 'bike/bike-0104.png',\n",
       " 'bike/bike-0105.png',\n",
       " 'bike/bike-0106.png',\n",
       " 'bike/bike-0107.png',\n",
       " 'bike/bike-0108.png',\n",
       " 'bike/bike-0109.png',\n",
       " 'bike/bike-0110.png',\n",
       " 'bike/bike-0111.png',\n",
       " 'car/car-0097.png',\n",
       " 'car/car-0098.png',\n",
       " 'car/car-0099.png',\n",
       " 'car/car-0100.png',\n",
       " 'car/car-0101.png',\n",
       " 'car/car-0102.png',\n",
       " 'car/car-0103.png',\n",
       " 'car/car-0104.png',\n",
       " 'car/car-0105.png',\n",
       " 'car/car-0106.png',\n",
       " 'car/car-0107.png',\n",
       " 'motorcycle/motorcycle-0077.png',\n",
       " 'motorcycle/motorcycle-0078.png',\n",
       " 'motorcycle/motorcycle-0079.png',\n",
       " 'motorcycle/motorcycle-0080.png',\n",
       " 'motorcycle/motorcycle-0081.png',\n",
       " 'motorcycle/motorcycle-0082.png',\n",
       " 'motorcycle/motorcycle-0083.png',\n",
       " 'motorcycle/motorcycle-0084.png',\n",
       " 'motorcycle/motorcycle-0085.png',\n",
       " 'other/other-0049.png',\n",
       " 'other/other-0050.png',\n",
       " 'other/other-0051.png',\n",
       " 'other/other-0052.png',\n",
       " 'other/other-0053.png',\n",
       " 'other/other-0054.png',\n",
       " 'truck/truck-0064.png',\n",
       " 'truck/truck-0065.png',\n",
       " 'truck/truck-0066.png',\n",
       " 'truck/truck-0067.png',\n",
       " 'truck/truck-0068.png',\n",
       " 'truck/truck-0069.png',\n",
       " 'truck/truck-0070.png',\n",
       " 'van/van-0038.png',\n",
       " 'van/van-0039.png',\n",
       " 'van/van-0040.png',\n",
       " 'van/van-0041.png',\n",
       " 'van/van-0042.png']"
      ]
     },
     "execution_count": 29,
     "metadata": {},
     "output_type": "execute_result"
    }
   ],
   "source": [
    "testset.filenames[:]"
   ]
  },
  {
   "cell_type": "code",
   "execution_count": 30,
   "metadata": {},
   "outputs": [
    {
     "data": {
      "text/plain": [
       "{'bike': 0, 'car': 1, 'motorcycle': 2, 'other': 3, 'truck': 4, 'van': 5}"
      ]
     },
     "execution_count": 30,
     "metadata": {},
     "output_type": "execute_result"
    }
   ],
   "source": [
    "trainset.class_indices"
   ]
  },
  {
   "cell_type": "code",
   "execution_count": 31,
   "metadata": {},
   "outputs": [],
   "source": [
    "class_names = trainset.class_indices"
   ]
  },
  {
   "cell_type": "code",
   "execution_count": 32,
   "metadata": {},
   "outputs": [
    {
     "data": {
      "text/plain": [
       "6"
      ]
     },
     "execution_count": 32,
     "metadata": {},
     "output_type": "execute_result"
    }
   ],
   "source": [
    "len(trainset.class_indices)"
   ]
  },
  {
   "cell_type": "code",
   "execution_count": 33,
   "metadata": {},
   "outputs": [
    {
     "data": {
      "text/plain": [
       "9"
      ]
     },
     "execution_count": 33,
     "metadata": {},
     "output_type": "execute_result"
    }
   ],
   "source": [
    "len(trainset)"
   ]
  },
  {
   "cell_type": "code",
   "execution_count": 34,
   "metadata": {},
   "outputs": [
    {
     "data": {
      "text/plain": [
       "280"
      ]
     },
     "execution_count": 34,
     "metadata": {},
     "output_type": "execute_result"
    }
   ],
   "source": [
    "trainset.samples"
   ]
  },
  {
   "cell_type": "code",
   "execution_count": 35,
   "metadata": {},
   "outputs": [],
   "source": [
    "# Inception v3 \n",
    "# module = hub.Module(\"https://tfhub.dev/google/imagenet/inception_v3/feature_vector/1\")\n",
    "# height, width = hub.get_expected_image_size(module)\n",
    "# images = ...  # A batch of images with shape [batch_size, height, width, 3].\n",
    "# features = module(images)  # Features with shape [batch_size, num_features].\n",
    "\n",
    "# The output for each image in the batch is a feature vector of size num_features = 2048.\n",
    "\n",
    "# For this module, the size of the input image is fixed to height x width = 299 x 299 pixels. \n",
    "# The input images are expected to have color values in the range [0,1], \n",
    "# following the common image input conventions."
   ]
  },
  {
   "cell_type": "code",
   "execution_count": 36,
   "metadata": {},
   "outputs": [
    {
     "data": {
      "text/plain": [
       "9"
      ]
     },
     "execution_count": 36,
     "metadata": {},
     "output_type": "execute_result"
    }
   ],
   "source": [
    "len(trainset)"
   ]
  },
  {
   "cell_type": "code",
   "execution_count": 37,
   "metadata": {},
   "outputs": [
    {
     "data": {
      "text/plain": [
       "range(0, 9)"
      ]
     },
     "execution_count": 37,
     "metadata": {},
     "output_type": "execute_result"
    }
   ],
   "source": [
    "range(len(trainset))"
   ]
  },
  {
   "cell_type": "markdown",
   "metadata": {},
   "source": [
    "I will extact the high-level features from the Inception V3 images and use them as the inputs to the machine learning algorithms"
   ]
  },
  {
   "cell_type": "code",
   "execution_count": 38,
   "metadata": {},
   "outputs": [
    {
     "name": "stdout",
     "output_type": "stream",
     "text": [
      "INFO:tensorflow:Saver not created because there are no variables in the graph to restore\n"
     ]
    },
    {
     "name": "stderr",
     "output_type": "stream",
     "text": [
      "INFO:tensorflow:Saver not created because there are no variables in the graph to restore\n"
     ]
    }
   ],
   "source": [
    "img_graph = tf.Graph()\n",
    "with img_graph.as_default():\n",
    "    # download the Mobile V2 model\n",
    "    module_url = 'https://tfhub.dev/google/imagenet/inception_v3/feature_vector/1'\n",
    "    feature_extractor = hub.Module(module_url)\n",
    "    \n",
    "    # create input placeholder\n",
    "    input_imgs = tf.placeholder(dtype = tf.float32, shape = [None, 299, 299, 3])\n",
    "    input_labels = tf.placeholder(dtype = tf.float32, shape = [None, len(trainset.class_indices)])\n",
    "    \n",
    "    # A node with the features: create a node and pass the placeholder to the node \n",
    "    imgs_features = feature_extractor(input_imgs)\n",
    "    # but the labels???????????? there ar eno labels\n",
    "    \n",
    "    # collect initializers\n",
    "    init_op = tf.group([tf.global_variables_initializer(), tf.tables_initializer()])\n",
    "    \n",
    "img_graph.finalize()"
   ]
  },
  {
   "cell_type": "markdown",
   "metadata": {},
   "source": [
    "# Disccussion on these results"
   ]
  },
  {
   "cell_type": "code",
   "execution_count": 39,
   "metadata": {},
   "outputs": [
    {
     "name": "stdout",
     "output_type": "stream",
     "text": [
      "------ Training ------------\n",
      "Batch size: (24, 299, 299, 3)\n",
      "Label size: (24,)\n",
      "Data type: float32\n",
      "Label type: float32\n",
      "------ Validation ------------\n",
      "Batch size: (11, 299, 299, 3)\n",
      "Label size: (11,)\n",
      "Data type: float32\n",
      "Label type: float32\n",
      "------ Test ------------\n",
      "Batch size: (18, 299, 299, 3)\n",
      "Label size: (18,)\n",
      "Data type: float32\n",
      "Label type: float32\n"
     ]
    }
   ],
   "source": [
    "# Create a session\n",
    "sess = tf.Session(graph = img_graph)\n",
    "\n",
    "# Initialize it\n",
    "sess.run(init_op)\n",
    "\n",
    "X_tr = []\n",
    "y_tr = []\n",
    "features_tr = []\n",
    "\n",
    "X_val = []\n",
    "y_val = []\n",
    "\n",
    "X_test = []\n",
    "y_test = []\n",
    "\n",
    "# Extract features and labels in batches (for loop) to constract the X matrix\n",
    "# feat_val, label_val = sess.run([feats, label])\n",
    "\n",
    "for i in range(len(trainset)):\n",
    "    img_batch, label_batch = trainset.next()\n",
    "    #features_in_batch, label_in_batch = sess.run(imgs_features, feed_dict = { input_imgs: img_batch} )\n",
    "        # in case of sdhuffling label are needed \n",
    "    features_in_batch = sess.run(imgs_features, feed_dict = { input_imgs: img_batch })\n",
    "    X_tr.extend(features_in_batch)\n",
    "    y_tr.extend(label_batch)\n",
    "print('------ Training ------------')\n",
    "print('Batch size:', img_batch.shape) # (batch_size, 299, 299, 3)\n",
    "print('Label size:', label_batch.shape)\n",
    "print('Data type:', img_batch.dtype) \n",
    "print('Label type:', label_batch.dtype) \n",
    "    # features = sess.run(imgs_features, feed_dict = { input_imgs: img_batch} )\n",
    "# print('X', X.shape)\n",
    "\n",
    "\n",
    "# I do the feature extraction only for the training data.\n",
    "for i in range(len(validset)):\n",
    "    img_batch, label_batch = validset.next()\n",
    "    features_in_batch = sess.run(imgs_features, feed_dict = { input_imgs: img_batch })\n",
    "    X_val.extend(features_in_batch)\n",
    "    y_val.extend(label_batch)\n",
    "print('------ Validation ------------')\n",
    "print('Batch size:', img_batch.shape) # (batch_size, 299, 299, 3)\n",
    "print('Label size:', label_batch.shape)\n",
    "print('Data type:', img_batch.dtype) \n",
    "print('Label type:', label_batch.dtype) \n",
    "\n",
    "\n",
    "for i in range(len(testset)):\n",
    "    img_batch, label_batch = testset.next()   \n",
    "    features_in_batch = sess.run(imgs_features, feed_dict = { input_imgs: img_batch })\n",
    "    X_test.extend(features_in_batch)\n",
    "    y_test.extend(label_batch)\n",
    "print('------ Test ------------')\n",
    "print('Batch size:', img_batch.shape) # (batch_size, 299, 299, 3)\n",
    "print('Label size:', label_batch.shape)\n",
    "print('Data type:', img_batch.dtype) \n",
    "print('Label type:', label_batch.dtype) \n",
    "\n",
    "\n",
    "features_tr = np.array(X_tr)\n",
    "labels_tr = np.array(y_tr)\n",
    "features_valid = np.array(X_val)\n",
    "labels_valid = np.array(y_val)\n",
    "features_test = np.array(X_test)\n",
    "labels_test = np.array(y_test)\n",
    "# all at once, without batches\n",
    "# features_train = sess.run(imgs_features, feed_dict={input_imgs: train_set})\n",
    "# load the pictures into an array X of shape (280, 224, 224, 3) (for the train data) \n",
    "\n",
    "# features.shape\n"
   ]
  },
  {
   "cell_type": "raw",
   "metadata": {},
   "source": [
    "for i in range(len(testset)):\n",
    "    img_batch, label_batch = testset.next()   \n",
    "    X_test.extend(img_batch)\n",
    "    y_test.extend(label_batch)\n",
    "print('------ Test ------------')\n",
    "print('Batch size:', img_batch.shape) # (batch_size, 299, 299, 3)\n",
    "print('Label size:', label_batch.shape)\n",
    "print('Data type:', img_batch.dtype) \n",
    "print('Label type:', label_batch.dtype) \n"
   ]
  },
  {
   "cell_type": "raw",
   "metadata": {},
   "source": [
    "for i in range(len(validset)):\n",
    "    img_batch, label_batch = validset.next()\n",
    "    X_val.extend(features_in_batch)\n",
    "    y_val.extend(label_batch)\n",
    "print('------ Validation ------------')\n",
    "print('Batch size:', img_batch.shape) # (batch_size, 299, 299, 3)\n",
    "print('Label size:', label_batch.shape)\n",
    "print('Data type:', img_batch.dtype) \n",
    "print('Label type:', label_batch.dtype) \n"
   ]
  },
  {
   "cell_type": "markdown",
   "metadata": {},
   "source": [
    "I will now save the high level features."
   ]
  },
  {
   "cell_type": "code",
   "execution_count": 40,
   "metadata": {},
   "outputs": [
    {
     "data": {
      "text/plain": [
       "(280, 2048)"
      ]
     },
     "execution_count": 40,
     "metadata": {},
     "output_type": "execute_result"
    }
   ],
   "source": [
    "features_tr.shape"
   ]
  },
  {
   "cell_type": "code",
   "execution_count": 41,
   "metadata": {},
   "outputs": [
    {
     "data": {
      "text/plain": [
       "(280,)"
      ]
     },
     "execution_count": 41,
     "metadata": {},
     "output_type": "execute_result"
    }
   ],
   "source": [
    "labels_tr.shape"
   ]
  },
  {
   "cell_type": "code",
   "execution_count": 42,
   "metadata": {},
   "outputs": [
    {
     "data": {
      "text/plain": [
       "(139, 2048)"
      ]
     },
     "execution_count": 42,
     "metadata": {},
     "output_type": "execute_result"
    }
   ],
   "source": [
    "features_valid.shape"
   ]
  },
  {
   "cell_type": "code",
   "execution_count": 43,
   "metadata": {},
   "outputs": [
    {
     "data": {
      "text/plain": [
       "(139,)"
      ]
     },
     "execution_count": 43,
     "metadata": {},
     "output_type": "execute_result"
    }
   ],
   "source": [
    "labels_valid.shape"
   ]
  },
  {
   "cell_type": "code",
   "execution_count": 44,
   "metadata": {},
   "outputs": [
    {
     "data": {
      "text/plain": [
       "5"
      ]
     },
     "execution_count": 44,
     "metadata": {},
     "output_type": "execute_result"
    }
   ],
   "source": [
    "len(validset)"
   ]
  },
  {
   "cell_type": "code",
   "execution_count": 45,
   "metadata": {},
   "outputs": [
    {
     "data": {
      "text/plain": [
       "(50, 2048)"
      ]
     },
     "execution_count": 45,
     "metadata": {},
     "output_type": "execute_result"
    }
   ],
   "source": [
    "features_test.shape"
   ]
  },
  {
   "cell_type": "code",
   "execution_count": 46,
   "metadata": {},
   "outputs": [
    {
     "data": {
      "text/plain": [
       "(50,)"
      ]
     },
     "execution_count": 46,
     "metadata": {},
     "output_type": "execute_result"
    }
   ],
   "source": [
    "labels_test.shape"
   ]
  },
  {
   "cell_type": "code",
   "execution_count": 47,
   "metadata": {},
   "outputs": [
    {
     "data": {
      "text/plain": [
       "(139, 2048)"
      ]
     },
     "execution_count": 47,
     "metadata": {},
     "output_type": "execute_result"
    }
   ],
   "source": [
    "features_valid.shape"
   ]
  },
  {
   "cell_type": "code",
   "execution_count": 48,
   "metadata": {},
   "outputs": [
    {
     "data": {
      "text/plain": [
       "280"
      ]
     },
     "execution_count": 48,
     "metadata": {},
     "output_type": "execute_result"
    }
   ],
   "source": [
    "len(features_tr)"
   ]
  },
  {
   "cell_type": "code",
   "execution_count": 49,
   "metadata": {},
   "outputs": [
    {
     "data": {
      "text/plain": [
       "(280, 2048)"
      ]
     },
     "execution_count": 49,
     "metadata": {},
     "output_type": "execute_result"
    }
   ],
   "source": [
    "np.shape(features_tr)"
   ]
  },
  {
   "cell_type": "code",
   "execution_count": 50,
   "metadata": {},
   "outputs": [
    {
     "data": {
      "text/plain": [
       "dtype('float32')"
      ]
     },
     "execution_count": 50,
     "metadata": {},
     "output_type": "execute_result"
    }
   ],
   "source": [
    "features_tr.dtype"
   ]
  },
  {
   "cell_type": "code",
   "execution_count": 51,
   "metadata": {},
   "outputs": [
    {
     "data": {
      "text/plain": [
       "numpy.ndarray"
      ]
     },
     "execution_count": 51,
     "metadata": {},
     "output_type": "execute_result"
    }
   ],
   "source": [
    "type(features_tr)"
   ]
  },
  {
   "cell_type": "code",
   "execution_count": 52,
   "metadata": {},
   "outputs": [
    {
     "data": {
      "text/plain": [
       "280"
      ]
     },
     "execution_count": 52,
     "metadata": {},
     "output_type": "execute_result"
    }
   ],
   "source": [
    "len(features_tr)"
   ]
  },
  {
   "cell_type": "code",
   "execution_count": 53,
   "metadata": {},
   "outputs": [
    {
     "data": {
      "text/plain": [
       "(280,)"
      ]
     },
     "execution_count": 53,
     "metadata": {},
     "output_type": "execute_result"
    }
   ],
   "source": [
    "labels_tr.shape"
   ]
  },
  {
   "cell_type": "code",
   "execution_count": 54,
   "metadata": {},
   "outputs": [
    {
     "data": {
      "text/plain": [
       "(139, 2048)"
      ]
     },
     "execution_count": 54,
     "metadata": {},
     "output_type": "execute_result"
    }
   ],
   "source": [
    "features_valid.shape"
   ]
  },
  {
   "cell_type": "code",
   "execution_count": 55,
   "metadata": {},
   "outputs": [
    {
     "data": {
      "text/plain": [
       "(139,)"
      ]
     },
     "execution_count": 55,
     "metadata": {},
     "output_type": "execute_result"
    }
   ],
   "source": [
    "labels_valid.shape"
   ]
  },
  {
   "cell_type": "code",
   "execution_count": 56,
   "metadata": {},
   "outputs": [
    {
     "data": {
      "text/plain": [
       "(50, 2048)"
      ]
     },
     "execution_count": 56,
     "metadata": {},
     "output_type": "execute_result"
    }
   ],
   "source": [
    "features_test.shape"
   ]
  },
  {
   "cell_type": "code",
   "execution_count": 57,
   "metadata": {},
   "outputs": [
    {
     "data": {
      "text/plain": [
       "(50,)"
      ]
     },
     "execution_count": 57,
     "metadata": {},
     "output_type": "execute_result"
    }
   ],
   "source": [
    "labels_test.shape"
   ]
  },
  {
   "cell_type": "code",
   "execution_count": 58,
   "metadata": {},
   "outputs": [
    {
     "data": {
      "image/png": "[encoded data removed]",
      "text/plain": [
       "<Figure size 432x288 with 1 Axes>"
      ]
     },
     "metadata": {
      "needs_background": "light"
     },
     "output_type": "display_data"
    }
   ],
   "source": [
    "plt.hist(features_tr[3], bins = 30)\n",
    "plt.title('Image high-level feature distribution')\n",
    "plt.show()"
   ]
  },
  {
   "cell_type": "code",
   "execution_count": 59,
   "metadata": {},
   "outputs": [
    {
     "data": {
      "image/png": "[encoded data removed]",
      "text/plain": [
       "<Figure size 432x288 with 1 Axes>"
      ]
     },
     "metadata": {
      "needs_background": "light"
     },
     "output_type": "display_data"
    }
   ],
   "source": [
    "plt.hist(features_tr[2], bins = 30)\n",
    "plt.title('Image high-level feature distribution')\n",
    "plt.show()"
   ]
  },
  {
   "cell_type": "markdown",
   "metadata": {},
   "source": [
    "I will now store the extracted high-level features in .npz file to quickly load them for other notebooks."
   ]
  },
  {
   "cell_type": "code",
   "execution_count": 60,
   "metadata": {},
   "outputs": [
    {
     "data": {
      "image/png": "[encoded data removed]",
      "text/plain": [
       "<Figure size 432x288 with 1 Axes>"
      ]
     },
     "metadata": {
      "needs_background": "light"
     },
     "output_type": "display_data"
    }
   ],
   "source": [
    "plt.hist(features_tr[3], bins = 30)\n",
    "plt.title('Image high-level feature distribution')\n",
    "plt.show()"
   ]
  },
  {
   "cell_type": "code",
   "execution_count": 61,
   "metadata": {},
   "outputs": [
    {
     "data": {
      "image/png": "[encoded data removed]",
      "text/plain": [
       "<Figure size 432x288 with 1 Axes>"
      ]
     },
     "metadata": {
      "needs_background": "light"
     },
     "output_type": "display_data"
    }
   ],
   "source": [
    "plt.hist(features_tr[200], bins = 30)\n",
    "plt.title('Image high-level feature distribution')\n",
    "plt.show()"
   ]
  },
  {
   "cell_type": "markdown",
   "metadata": {},
   "source": [
    "On the above histograms I have ploted the distribution of high-level features for three images. it is clear that some high-level features appear more aften than others "
   ]
  },
  {
   "cell_type": "code",
   "execution_count": 62,
   "metadata": {},
   "outputs": [],
   "source": [
    "np.save('features_tr', features_tr )"
   ]
  },
  {
   "cell_type": "code",
   "execution_count": 63,
   "metadata": {},
   "outputs": [],
   "source": [
    "np.savez('features_tr', features_tr)"
   ]
  },
  {
   "cell_type": "code",
   "execution_count": 64,
   "metadata": {},
   "outputs": [],
   "source": [
    "np.save('labels_tr', labels_tr)"
   ]
  },
  {
   "cell_type": "code",
   "execution_count": 65,
   "metadata": {},
   "outputs": [],
   "source": [
    "np.savez('labels_tr', labels_tr)"
   ]
  },
  {
   "cell_type": "code",
   "execution_count": 66,
   "metadata": {},
   "outputs": [],
   "source": [
    "np.save('features_valid', features_valid )"
   ]
  },
  {
   "cell_type": "code",
   "execution_count": 67,
   "metadata": {},
   "outputs": [],
   "source": [
    "np.savez('features_valid', features_valid)"
   ]
  },
  {
   "cell_type": "code",
   "execution_count": 68,
   "metadata": {},
   "outputs": [],
   "source": [
    "np.save('labels_valid', labels_valid)"
   ]
  },
  {
   "cell_type": "code",
   "execution_count": 69,
   "metadata": {},
   "outputs": [],
   "source": [
    "np.savez('labels_valid', labels_valid)"
   ]
  },
  {
   "cell_type": "code",
   "execution_count": 70,
   "metadata": {},
   "outputs": [],
   "source": [
    "np.save('features_test', features_test )"
   ]
  },
  {
   "cell_type": "code",
   "execution_count": 71,
   "metadata": {},
   "outputs": [],
   "source": [
    "np.savez('features_test', features_test)"
   ]
  },
  {
   "cell_type": "code",
   "execution_count": 72,
   "metadata": {},
   "outputs": [],
   "source": [
    "np.save('labels_test', labels_test)"
   ]
  },
  {
   "cell_type": "code",
   "execution_count": 73,
   "metadata": {},
   "outputs": [],
   "source": [
    "np.savez('labels_test', labels_test)"
   ]
  },
  {
   "cell_type": "code",
   "execution_count": null,
   "metadata": {},
   "outputs": [],
   "source": []
  },
  {
   "cell_type": "code",
   "execution_count": null,
   "metadata": {},
   "outputs": [],
   "source": []
  },
  {
   "cell_type": "code",
   "execution_count": null,
   "metadata": {},
   "outputs": [],
   "source": []
  },
  {
   "cell_type": "code",
   "execution_count": null,
   "metadata": {},
   "outputs": [],
   "source": []
  }
 ],
 "metadata": {
  "kernelspec": {
   "display_name": "Python 3",
   "language": "python",
   "name": "python3"
  },
  "language_info": {
   "codemirror_mode": {
    "name": "ipython",
    "version": 3
   },
   "file_extension": ".py",
   "mimetype": "text/x-python",
   "name": "python",
   "nbconvert_exporter": "python",
   "pygments_lexer": "ipython3",
   "version": "3.6.13"
  }
 },
 "nbformat": 4,
 "nbformat_minor": 4
}
