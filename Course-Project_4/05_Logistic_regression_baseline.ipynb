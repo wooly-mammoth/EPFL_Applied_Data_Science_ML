{
 "cells": [
  {
   "cell_type": "markdown",
   "metadata": {},
   "source": [
    "# Logistic regression\n",
    "Another strong baseline to evaluate is logistic regression\n",
    "\n",
    "- Evaluate a logistic regression model (without any hyperparameters tuning)\n",
    "- Tune its regularization strength parameter with cross-validated grid-search and compare the accuracy to the untuned one\n",
    "- Pick ten images and compute the probability for each class using the predict_proba() function of your estimator. Plot the results for each image and comment your findings. For example, you can plot the ten images in subplots and collect the probabilities in a DataFrame.\n",
    "\n",
    "Finally, vary the regularization strength of your estimator. What is the effect on the probabilities? Write your observations in a markdown cell."
   ]
  },
  {
   "cell_type": "code",
   "execution_count": 1,
   "metadata": {},
   "outputs": [
    {
     "name": "stderr",
     "output_type": "stream",
     "text": [
      "WARNING:absl:Some hub symbols are not available because TensorFlow version is less than 1.14\n"
     ]
    }
   ],
   "source": [
    "import tensorflow as tf\n",
    "import tensorflow_hub as hub\n",
    "import numpy as np\n",
    "import pandas as pd\n",
    "import os\n",
    "import PIL.Image as Image\n",
    "from tensorflow.keras.preprocessing.image import ImageDataGenerator\n",
    "from sklearn.pipeline import Pipeline\n",
    "from sklearn.pipeline import make_pipeline\n",
    "from sklearn.model_selection import GridSearchCV\n",
    "from sklearn.linear_model import LogisticRegression\n",
    "from sklearn.preprocessing import StandardScaler\n",
    "from sklearn.decomposition import PCA\n",
    "import matplotlib.pyplot as plt\n",
    "%matplotlib inline\n",
    "import re"
   ]
  },
  {
   "cell_type": "markdown",
   "metadata": {},
   "source": [
    "I load the high-level features exported from the 01 notebook."
   ]
  },
  {
   "cell_type": "code",
   "execution_count": 2,
   "metadata": {},
   "outputs": [],
   "source": [
    "X_tr = np.load('features_tr.npy')\n",
    "y_tr = np.load('labels_tr.npy')\n",
    "\n",
    "X_valid = np.load('features_valid.npy')\n",
    "y_valid = np.load('labels_valid.npy')\n",
    "\n",
    "X_test = np.load('features_test.npy')\n",
    "y_test = np.load('labels_test.npy')"
   ]
  },
  {
   "cell_type": "markdown",
   "metadata": {},
   "source": [
    "I now combine the two datasets in order to run a cross-validation with k-folds."
   ]
  },
  {
   "cell_type": "code",
   "execution_count": 3,
   "metadata": {},
   "outputs": [],
   "source": [
    "X_cv = np.concatenate((X_tr, X_valid), axis = 0)\n",
    "y_cv = np.concatenate((y_tr, y_valid), axis = 0)"
   ]
  },
  {
   "cell_type": "markdown",
   "metadata": {},
   "source": [
    "I evaluate logistic Regression without PCA and with PCA dimentionality reduction."
   ]
  },
  {
   "cell_type": "code",
   "execution_count": 4,
   "metadata": {},
   "outputs": [
    {
     "name": "stdout",
     "output_type": "stream",
     "text": [
      "Accuracy: 0.9400000\n"
     ]
    },
    {
     "name": "stderr",
     "output_type": "stream",
     "text": [
      "/Users/tgdstpej/opt/anaconda3/envs/exts-ml/lib/python3.6/site-packages/sklearn/linear_model/sag.py:334: ConvergenceWarning: The max_iter was reached which means the coef_ did not converge\n",
      "  \"the coef_ did not converge\", ConvergenceWarning)\n"
     ]
    },
    {
     "data": {
      "text/plain": [
       "0.94"
      ]
     },
     "execution_count": 4,
     "metadata": {},
     "output_type": "execute_result"
    }
   ],
   "source": [
    "logreg_pipe = Pipeline([\n",
    "    ('scaler', None),\n",
    "    ('pca', None),\n",
    "    ('logreg', LogisticRegression(multi_class='multinomial', solver='saga'))\n",
    "                ])\n",
    "logreg_pipe.fit(X_tr, y_tr)\n",
    "accuracy = logreg_pipe.score(X_test, y_test)\n",
    "\n",
    "print('Accuracy: {:.7f}'.format(accuracy))\n",
    "accuracy"
   ]
  },
  {
   "cell_type": "markdown",
   "metadata": {},
   "source": [
    "I will not use PCA since it is not required."
   ]
  },
  {
   "cell_type": "raw",
   "metadata": {},
   "source": [
    "logreg_pipe = Pipeline([\n",
    "    ('scaler', None),\n",
    "    ('pca', PCA(n_components = 170)),\n",
    "    ('logreg', LogisticRegression( multi_class='multinomial', solver='saga'))\n",
    "                ])\n",
    "logreg_pipe.fit(X_tr, y_tr)\n",
    "accuracy = logreg_pipe.score(X_test, y_test)\n",
    "\n",
    "print('Accuracy: {:.7f}'.format(accuracy))\n",
    "accuracy"
   ]
  },
  {
   "cell_type": "markdown",
   "metadata": {},
   "source": [
    "### Question: Why no difference in accuracy?"
   ]
  },
  {
   "cell_type": "markdown",
   "metadata": {},
   "source": [
    "surprisingly it plays no role inf PCA (170 first principal components) is used or not. "
   ]
  },
  {
   "cell_type": "code",
   "execution_count": 5,
   "metadata": {},
   "outputs": [
    {
     "data": {
      "text/plain": [
       "array([0., 0., 0., 0., 0., 0., 0., 0., 0., 0., 0., 0., 1., 1., 1., 1., 1.,\n",
       "       1., 1., 1., 1., 1., 1., 2., 2., 2., 2., 2., 2., 2., 2., 2., 3., 4.,\n",
       "       3., 3., 3., 3., 4., 4., 4., 4., 5., 4., 4., 5., 1., 5., 5., 5.],\n",
       "      dtype=float32)"
      ]
     },
     "execution_count": 5,
     "metadata": {},
     "output_type": "execute_result"
    }
   ],
   "source": [
    "logreg_pipe.predict(X_test)"
   ]
  },
  {
   "cell_type": "code",
   "execution_count": 6,
   "metadata": {},
   "outputs": [
    {
     "data": {
      "text/plain": [
       "array([[9.99970070e-01, 4.88378703e-06, 3.46221053e-06, 2.01768048e-05,\n",
       "        8.79899472e-07, 5.27690172e-07],\n",
       "       [9.99928887e-01, 1.52527582e-05, 4.77887753e-06, 4.70380102e-05,\n",
       "        2.64622503e-06, 1.39669506e-06],\n",
       "       [9.98662327e-01, 1.14707065e-04, 6.40082408e-04, 4.98423804e-04,\n",
       "        3.61982818e-05, 4.82611358e-05],\n",
       "       [9.98094637e-01, 6.06046620e-04, 1.54656266e-04, 1.06526221e-03,\n",
       "        5.35738347e-05, 2.58237408e-05],\n",
       "       [9.99605484e-01, 6.18126839e-05, 1.73466690e-04, 1.30713296e-04,\n",
       "        1.37758441e-05, 1.47478729e-05],\n",
       "       [9.63429976e-01, 1.05785093e-03, 3.16720107e-02, 2.07282116e-03,\n",
       "        1.52188574e-03, 2.45455017e-04],\n",
       "       [9.97104844e-01, 4.68092052e-05, 2.59737673e-03, 2.23897280e-04,\n",
       "        1.64033387e-05, 1.06691982e-05],\n",
       "       [9.97983486e-01, 6.26833781e-05, 4.14967264e-05, 1.88809130e-03,\n",
       "        1.59951583e-05, 8.24702804e-06],\n",
       "       [9.98176016e-01, 2.21288046e-05, 1.54844717e-03, 2.31251472e-04,\n",
       "        2.08895483e-05, 1.26676323e-06],\n",
       "       [9.99828377e-01, 3.29180370e-05, 1.54097718e-05, 1.01988548e-04,\n",
       "        1.31189491e-05, 8.18740498e-06],\n",
       "       [9.99648699e-01, 6.95943851e-05, 2.49900208e-05, 2.23413527e-04,\n",
       "        1.68227196e-05, 1.64805478e-05],\n",
       "       [9.98914072e-01, 7.15193118e-05, 6.33519650e-05, 9.28386425e-04,\n",
       "        1.73245720e-05, 5.34569242e-06],\n",
       "       [1.49093535e-04, 9.99357676e-01, 1.30552231e-04, 1.95829833e-04,\n",
       "        2.03817567e-05, 1.46466675e-04],\n",
       "       [4.81625086e-04, 9.94721543e-01, 5.31774202e-04, 8.28059266e-04,\n",
       "        9.12545629e-05, 3.34574388e-03],\n",
       "       [3.87561774e-04, 9.78121423e-01, 1.74639236e-04, 4.61511411e-04,\n",
       "        3.71232393e-04, 2.04836325e-02],\n",
       "       [1.89518132e-04, 9.99194714e-01, 6.78322003e-05, 2.78245084e-04,\n",
       "        1.07798317e-05, 2.58910551e-04],\n",
       "       [7.63466478e-05, 9.99738590e-01, 1.60519028e-05, 1.14862049e-04,\n",
       "        1.20204213e-05, 4.21293609e-05],\n",
       "       [1.85037975e-04, 9.98569444e-01, 8.81450508e-05, 1.45747803e-04,\n",
       "        1.69605931e-05, 9.94664665e-04],\n",
       "       [8.24634120e-03, 5.77639957e-01, 2.61835698e-03, 1.92802318e-02,\n",
       "        1.77129502e-02, 3.74502163e-01],\n",
       "       [1.21728095e-04, 9.99231344e-01, 2.84510620e-05, 4.53716220e-05,\n",
       "        1.40644172e-05, 5.59041230e-04],\n",
       "       [2.11675688e-04, 9.98536363e-01, 4.47668277e-05, 2.83172342e-04,\n",
       "        2.04185441e-05, 9.03603851e-04],\n",
       "       [2.23690180e-04, 9.96534709e-01, 6.86416888e-05, 1.01678866e-03,\n",
       "        1.77530297e-04, 1.97864050e-03],\n",
       "       [1.57442864e-03, 9.84207751e-01, 6.63319221e-04, 1.02720941e-03,\n",
       "        2.49909186e-03, 1.00281997e-02],\n",
       "       [1.85300174e-03, 3.48194996e-05, 9.97322459e-01, 7.32703173e-04,\n",
       "        4.31156194e-05, 1.39014296e-05],\n",
       "       [1.33955519e-05, 1.22218304e-05, 9.99932145e-01, 2.62695689e-05,\n",
       "        1.19247364e-05, 4.04281682e-06],\n",
       "       [4.39255539e-04, 9.02987756e-05, 9.98761813e-01, 6.24139053e-04,\n",
       "        8.03497974e-05, 4.14396966e-06],\n",
       "       [1.39147687e-03, 1.92555642e-04, 9.97994362e-01, 1.90749912e-04,\n",
       "        1.83898727e-04, 4.69572136e-05],\n",
       "       [2.65740761e-05, 6.99555491e-05, 9.98106345e-01, 1.50086473e-03,\n",
       "        2.87547740e-04, 8.71255196e-06],\n",
       "       [7.01112546e-05, 6.40716768e-05, 9.99592946e-01, 1.20413068e-04,\n",
       "        1.29894890e-04, 2.25634061e-05],\n",
       "       [1.62205177e-03, 3.18975215e-05, 9.98175673e-01, 1.23824631e-04,\n",
       "        4.11603413e-05, 5.39314380e-06],\n",
       "       [1.85456425e-04, 4.71673518e-05, 9.99520398e-01, 1.00319264e-04,\n",
       "        1.32139974e-04, 1.45187269e-05],\n",
       "       [7.39944282e-07, 9.72938713e-07, 9.99995839e-01, 1.35506070e-06,\n",
       "        7.38540634e-07, 3.54327060e-07],\n",
       "       [4.11504625e-05, 7.70018605e-05, 1.88676655e-04, 9.98640426e-01,\n",
       "        1.02357374e-03, 2.91716588e-05],\n",
       "       [9.71988549e-04, 2.71082933e-03, 2.11195691e-03, 1.06883570e-01,\n",
       "        8.83601167e-01, 3.72048781e-03],\n",
       "       [2.52580888e-03, 4.90913130e-03, 1.54676454e-03, 9.84966911e-01,\n",
       "        1.55118853e-03, 4.50019590e-03],\n",
       "       [1.37473983e-02, 5.09116495e-03, 8.48804639e-03, 9.31586570e-01,\n",
       "        1.95169990e-02, 2.15698217e-02],\n",
       "       [5.88458586e-05, 5.49874291e-05, 5.84484417e-05, 9.99646591e-01,\n",
       "        1.63973391e-04, 1.71534644e-05],\n",
       "       [1.18643528e-03, 8.41411925e-04, 3.68445302e-03, 9.60467369e-01,\n",
       "        3.35174063e-02, 3.02924193e-04],\n",
       "       [7.80709949e-03, 4.42897114e-03, 3.23893324e-03, 5.56287094e-02,\n",
       "        9.25138891e-01, 3.75739593e-03],\n",
       "       [2.60741364e-03, 2.73514854e-04, 9.50287266e-04, 2.79435622e-01,\n",
       "        7.09795637e-01, 6.93752517e-03],\n",
       "       [9.40152683e-04, 1.41013136e-03, 2.17082446e-03, 3.55763706e-01,\n",
       "        6.37399482e-01, 2.31570276e-03],\n",
       "       [5.66988949e-05, 1.24457218e-03, 1.90128634e-04, 2.24540277e-04,\n",
       "        9.97786470e-01, 4.97590158e-04],\n",
       "       [3.66438108e-04, 3.18278362e-04, 2.90988172e-04, 1.22140826e-03,\n",
       "        2.13364166e-02, 9.76466471e-01],\n",
       "       [2.76514152e-04, 3.52411022e-04, 3.26107368e-04, 1.95271492e-03,\n",
       "        9.96605267e-01, 4.86985450e-04],\n",
       "       [3.41295805e-04, 1.89302430e-04, 1.85980708e-04, 7.87085340e-04,\n",
       "        9.94404839e-01, 4.09149670e-03],\n",
       "       [4.22430812e-04, 2.29497490e-03, 1.84550146e-04, 1.74947579e-03,\n",
       "        5.16116061e-03, 9.90187408e-01],\n",
       "       [6.11849442e-03, 6.47314343e-01, 1.46534945e-03, 8.49886299e-03,\n",
       "        2.41036818e-03, 3.34192582e-01],\n",
       "       [3.72386582e-04, 4.34111754e-04, 8.46555580e-05, 5.30120349e-04,\n",
       "        1.83002097e-01, 8.15576629e-01],\n",
       "       [6.83997218e-03, 4.52424206e-02, 3.17302654e-03, 1.70127715e-02,\n",
       "        9.66798454e-02, 8.31051964e-01],\n",
       "       [1.50899333e-03, 4.02451386e-03, 8.18073240e-04, 5.76466453e-03,\n",
       "        8.47381550e-02, 9.03145600e-01]])"
      ]
     },
     "execution_count": 6,
     "metadata": {},
     "output_type": "execute_result"
    }
   ],
   "source": [
    "logreg_pipe.predict_proba(X_test)"
   ]
  },
  {
   "cell_type": "markdown",
   "metadata": {},
   "source": [
    "I define my grid for the cross-validation"
   ]
  },
  {
   "cell_type": "code",
   "execution_count": 7,
   "metadata": {},
   "outputs": [],
   "source": [
    "grid = {'logreg__C': np.logspace(-10, 10, num = 100)}\n",
    "\n",
    "grid_cv = GridSearchCV(logreg_pipe, grid, cv = 5,  return_train_score = True, verbose = 1, n_jobs = -1)"
   ]
  },
  {
   "cell_type": "code",
   "execution_count": 8,
   "metadata": {},
   "outputs": [
    {
     "name": "stdout",
     "output_type": "stream",
     "text": [
      "Fitting 5 folds for each of 100 candidates, totalling 500 fits\n"
     ]
    },
    {
     "name": "stderr",
     "output_type": "stream",
     "text": [
      "[Parallel(n_jobs=-1)]: Using backend LokyBackend with 8 concurrent workers.\n",
      "[Parallel(n_jobs=-1)]: Done  34 tasks      | elapsed:    5.2s\n",
      "[Parallel(n_jobs=-1)]: Done 184 tasks      | elapsed:  1.2min\n",
      "[Parallel(n_jobs=-1)]: Done 434 tasks      | elapsed:  3.7min\n",
      "[Parallel(n_jobs=-1)]: Done 500 out of 500 | elapsed:  4.3min finished\n",
      "/Users/tgdstpej/opt/anaconda3/envs/exts-ml/lib/python3.6/site-packages/sklearn/model_selection/_search.py:842: DeprecationWarning: The default of the `iid` parameter will change from True to False in version 0.22 and will be removed in 0.24. This will change numeric results when test-set sizes are unequal.\n",
      "  DeprecationWarning)\n",
      "/Users/tgdstpej/opt/anaconda3/envs/exts-ml/lib/python3.6/site-packages/sklearn/linear_model/sag.py:334: ConvergenceWarning: The max_iter was reached which means the coef_ did not converge\n",
      "  \"the coef_ did not converge\", ConvergenceWarning)\n"
     ]
    },
    {
     "data": {
      "text/plain": [
       "GridSearchCV(cv=5, error_score='raise-deprecating',\n",
       "       estimator=Pipeline(memory=None,\n",
       "     steps=[('scaler', None), ('pca', None), ('logreg', LogisticRegression(C=1.0, class_weight=None, dual=False, fit_intercept=True,\n",
       "          intercept_scaling=1, max_iter=100, multi_class='multinomial',\n",
       "          n_jobs=None, penalty='l2', random_state=None, solver='saga',\n",
       "          tol=0.0001, verbose=0, warm_start=False))]),\n",
       "       fit_params=None, iid='warn', n_jobs=-1,\n",
       "       param_grid={'logreg__C': array([1.00000e-10, 1.59228e-10, ..., 6.28029e+09, 1.00000e+10])},\n",
       "       pre_dispatch='2*n_jobs', refit=True, return_train_score=True,\n",
       "       scoring=None, verbose=1)"
      ]
     },
     "execution_count": 8,
     "metadata": {},
     "output_type": "execute_result"
    }
   ],
   "source": [
    "grid_cv.fit(X_cv, y_cv)"
   ]
  },
  {
   "cell_type": "code",
   "execution_count": 9,
   "metadata": {},
   "outputs": [
    {
     "data": {
      "text/plain": [
       "Pipeline(memory=None,\n",
       "     steps=[('scaler', None), ('pca', None), ('logreg', LogisticRegression(C=572236.765935022, class_weight=None, dual=False,\n",
       "          fit_intercept=True, intercept_scaling=1, max_iter=100,\n",
       "          multi_class='multinomial', n_jobs=None, penalty='l2',\n",
       "          random_state=None, solver='saga', tol=0.0001, verbose=0,\n",
       "          warm_start=False))])"
      ]
     },
     "execution_count": 9,
     "metadata": {},
     "output_type": "execute_result"
    }
   ],
   "source": [
    "grid_cv.best_estimator_"
   ]
  },
  {
   "cell_type": "code",
   "execution_count": 10,
   "metadata": {},
   "outputs": [
    {
     "data": {
      "text/plain": [
       "0.96"
      ]
     },
     "execution_count": 10,
     "metadata": {},
     "output_type": "execute_result"
    }
   ],
   "source": [
    "grid_cv.score(X_test, y_test)"
   ]
  },
  {
   "cell_type": "code",
   "execution_count": 11,
   "metadata": {},
   "outputs": [
    {
     "data": {
      "text/plain": [
       "array([0., 0., 0., 0., 0., 0., 0., 0., 0., 0., 0., 0., 1., 1., 1., 1., 1.,\n",
       "       1., 1., 1., 1., 1., 1., 2., 2., 2., 2., 2., 2., 2., 2., 2., 3., 4.,\n",
       "       3., 3., 3., 3., 4., 4., 4., 4., 5., 4., 4., 5., 5., 5., 5., 5.],\n",
       "      dtype=float32)"
      ]
     },
     "execution_count": 11,
     "metadata": {},
     "output_type": "execute_result"
    }
   ],
   "source": [
    "grid_cv.predict(X_test)"
   ]
  },
  {
   "cell_type": "markdown",
   "metadata": {},
   "source": [
    "Cross-check: This accuracy should be the same with:"
   ]
  },
  {
   "cell_type": "code",
   "execution_count": 12,
   "metadata": {},
   "outputs": [],
   "source": [
    "C=166.81005372000"
   ]
  },
  {
   "cell_type": "code",
   "execution_count": 13,
   "metadata": {},
   "outputs": [
    {
     "name": "stdout",
     "output_type": "stream",
     "text": [
      "Accuracy: 0.960\n"
     ]
    },
    {
     "name": "stderr",
     "output_type": "stream",
     "text": [
      "/Users/tgdstpej/opt/anaconda3/envs/exts-ml/lib/python3.6/site-packages/sklearn/linear_model/sag.py:334: ConvergenceWarning: The max_iter was reached which means the coef_ did not converge\n",
      "  \"the coef_ did not converge\", ConvergenceWarning)\n"
     ]
    },
    {
     "data": {
      "text/plain": [
       "0.96"
      ]
     },
     "execution_count": 13,
     "metadata": {},
     "output_type": "execute_result"
    }
   ],
   "source": [
    "logreg_pipe_tuned = Pipeline([\n",
    "    ('scaler', None),\n",
    "    ('pca', None),\n",
    "    ('logreg', LogisticRegression( multi_class='multinomial', solver='saga', C=8.111308307896856)) \n",
    "                ])\n",
    "logreg_pipe_tuned.fit(X_cv, y_cv)\n",
    "accuracy = logreg_pipe_tuned.score(X_test, y_test)\n",
    "\n",
    "print('Accuracy: {:.3f}'.format(accuracy))\n",
    "accuracy"
   ]
  },
  {
   "cell_type": "code",
   "execution_count": 14,
   "metadata": {},
   "outputs": [
    {
     "data": {
      "text/html": [
       "<div>\n",
       "<style scoped>\n",
       "    .dataframe tbody tr th:only-of-type {\n",
       "        vertical-align: middle;\n",
       "    }\n",
       "\n",
       "    .dataframe tbody tr th {\n",
       "        vertical-align: top;\n",
       "    }\n",
       "\n",
       "    .dataframe thead th {\n",
       "        text-align: right;\n",
       "    }\n",
       "</style>\n",
       "<table border=\"1\" class=\"dataframe\">\n",
       "  <thead>\n",
       "    <tr style=\"text-align: right;\">\n",
       "      <th></th>\n",
       "      <th>model</th>\n",
       "      <th>accuracy</th>\n",
       "    </tr>\n",
       "  </thead>\n",
       "  <tbody>\n",
       "    <tr>\n",
       "      <th>0</th>\n",
       "      <td>logistic</td>\n",
       "      <td>0.96</td>\n",
       "    </tr>\n",
       "  </tbody>\n",
       "</table>\n",
       "</div>"
      ],
      "text/plain": [
       "      model  accuracy\n",
       "0  logistic      0.96"
      ]
     },
     "execution_count": 14,
     "metadata": {},
     "output_type": "execute_result"
    }
   ],
   "source": [
    "results_logreg = { 'model': ['logistic'], 'accuracy' : [accuracy] }\n",
    "results_logreg = pd.DataFrame(results_logreg)\n",
    "np.save('results_logreg', results_logreg)\n",
    "results_logreg"
   ]
  },
  {
   "cell_type": "code",
   "execution_count": 15,
   "metadata": {},
   "outputs": [
    {
     "data": {
      "text/plain": [
       "dict_keys(['mean_fit_time', 'std_fit_time', 'mean_score_time', 'std_score_time', 'param_logreg__C', 'params', 'split0_test_score', 'split1_test_score', 'split2_test_score', 'split3_test_score', 'split4_test_score', 'mean_test_score', 'std_test_score', 'rank_test_score', 'split0_train_score', 'split1_train_score', 'split2_train_score', 'split3_train_score', 'split4_train_score', 'mean_train_score', 'std_train_score'])"
      ]
     },
     "execution_count": 15,
     "metadata": {},
     "output_type": "execute_result"
    }
   ],
   "source": [
    "grid_cv.cv_results_.keys()"
   ]
  },
  {
   "cell_type": "code",
   "execution_count": 16,
   "metadata": {},
   "outputs": [
    {
     "data": {
      "text/plain": [
       "array([0.45346062, 0.42720764, 0.34606205, 0.45107399, 0.36515513,\n",
       "       0.32458234, 0.32458234, 0.38186158, 0.38186158, 0.35799523,\n",
       "       0.46062053, 0.46062053, 0.46062053, 0.38424821, 0.35083532,\n",
       "       0.27446301, 0.23627685, 0.23627685, 0.23627685, 0.23627685,\n",
       "       0.23627685, 0.23627685, 0.23627685, 0.23866348, 0.33890215,\n",
       "       0.44630072, 0.46062053, 0.46539379, 0.52983294, 0.61575179,\n",
       "       0.63961814, 0.73031026, 0.77326969, 0.7947494 , 0.8424821 ,\n",
       "       0.87350835, 0.89976134, 0.92124105, 0.92362768, 0.92840095,\n",
       "       0.93078759, 0.93317422, 0.93556086, 0.93556086, 0.93556086,\n",
       "       0.94033413, 0.93794749, 0.93794749, 0.93794749, 0.93556086,\n",
       "       0.93794749, 0.93794749, 0.93794749, 0.93556086, 0.93794749,\n",
       "       0.93794749, 0.93794749, 0.93556086, 0.93794749, 0.93794749,\n",
       "       0.93794749, 0.93794749, 0.93794749, 0.93794749, 0.93794749,\n",
       "       0.93794749, 0.93794749, 0.93794749, 0.93556086, 0.94033413,\n",
       "       0.94033413, 0.94033413, 0.93794749, 0.93794749, 0.93556086,\n",
       "       0.93794749, 0.93556086, 0.94033413, 0.94272076, 0.93794749,\n",
       "       0.93556086, 0.93556086, 0.94033413, 0.94033413, 0.93556086,\n",
       "       0.93317422, 0.93794749, 0.93794749, 0.93794749, 0.93794749,\n",
       "       0.93556086, 0.93556086, 0.94033413, 0.93794749, 0.93794749,\n",
       "       0.94033413, 0.94033413, 0.93794749, 0.93556086, 0.93556086])"
      ]
     },
     "execution_count": 16,
     "metadata": {},
     "output_type": "execute_result"
    }
   ],
   "source": [
    "grid_cv.cv_results_['mean_test_score']"
   ]
  },
  {
   "cell_type": "code",
   "execution_count": 17,
   "metadata": {},
   "outputs": [
    {
     "data": {
      "text/html": [
       "<div>\n",
       "<style scoped>\n",
       "    .dataframe tbody tr th:only-of-type {\n",
       "        vertical-align: middle;\n",
       "    }\n",
       "\n",
       "    .dataframe tbody tr th {\n",
       "        vertical-align: top;\n",
       "    }\n",
       "\n",
       "    .dataframe thead th {\n",
       "        text-align: right;\n",
       "    }\n",
       "</style>\n",
       "<table border=\"1\" class=\"dataframe\">\n",
       "  <thead>\n",
       "    <tr style=\"text-align: right;\">\n",
       "      <th></th>\n",
       "      <th>mean_test_score</th>\n",
       "      <th>std_test_score</th>\n",
       "      <th>mean_train_score</th>\n",
       "      <th>std_train_score</th>\n",
       "      <th>param_logreg__C</th>\n",
       "    </tr>\n",
       "  </thead>\n",
       "  <tbody>\n",
       "    <tr>\n",
       "      <th>78</th>\n",
       "      <td>0.942721</td>\n",
       "      <td>0.013132</td>\n",
       "      <td>1.0</td>\n",
       "      <td>0.0</td>\n",
       "      <td>572237</td>\n",
       "    </tr>\n",
       "    <tr>\n",
       "      <th>70</th>\n",
       "      <td>0.940334</td>\n",
       "      <td>0.012209</td>\n",
       "      <td>1.0</td>\n",
       "      <td>0.0</td>\n",
       "      <td>13848.9</td>\n",
       "    </tr>\n",
       "    <tr>\n",
       "      <th>82</th>\n",
       "      <td>0.940334</td>\n",
       "      <td>0.012209</td>\n",
       "      <td>1.0</td>\n",
       "      <td>0.0</td>\n",
       "      <td>3.67838e+06</td>\n",
       "    </tr>\n",
       "    <tr>\n",
       "      <th>71</th>\n",
       "      <td>0.940334</td>\n",
       "      <td>0.012209</td>\n",
       "      <td>1.0</td>\n",
       "      <td>0.0</td>\n",
       "      <td>22051.3</td>\n",
       "    </tr>\n",
       "    <tr>\n",
       "      <th>77</th>\n",
       "      <td>0.940334</td>\n",
       "      <td>0.013968</td>\n",
       "      <td>1.0</td>\n",
       "      <td>0.0</td>\n",
       "      <td>359381</td>\n",
       "    </tr>\n",
       "  </tbody>\n",
       "</table>\n",
       "</div>"
      ],
      "text/plain": [
       "    mean_test_score  std_test_score  mean_train_score  std_train_score  \\\n",
       "78         0.942721        0.013132               1.0              0.0   \n",
       "70         0.940334        0.012209               1.0              0.0   \n",
       "82         0.940334        0.012209               1.0              0.0   \n",
       "71         0.940334        0.012209               1.0              0.0   \n",
       "77         0.940334        0.013968               1.0              0.0   \n",
       "\n",
       "   param_logreg__C  \n",
       "78          572237  \n",
       "70         13848.9  \n",
       "82     3.67838e+06  \n",
       "71         22051.3  \n",
       "77          359381  "
      ]
     },
     "execution_count": 17,
     "metadata": {},
     "output_type": "execute_result"
    }
   ],
   "source": [
    "cv_results = pd.DataFrame(grid_cv.cv_results_)\n",
    "cols = ['mean_test_score', 'std_test_score', 'mean_train_score', 'std_train_score', 'param_logreg__C']\n",
    "cv_results[cols].sort_values(by = 'mean_test_score', ascending = False).head()"
   ]
  },
  {
   "cell_type": "code",
   "execution_count": 18,
   "metadata": {},
   "outputs": [
    {
     "data": {
      "text/plain": [
       "0     0.453461\n",
       "1     0.427208\n",
       "2     0.346062\n",
       "3     0.451074\n",
       "4     0.365155\n",
       "5     0.324582\n",
       "6     0.324582\n",
       "7     0.381862\n",
       "8     0.381862\n",
       "9     0.357995\n",
       "10    0.460621\n",
       "11    0.460621\n",
       "12    0.460621\n",
       "13    0.384248\n",
       "14    0.350835\n",
       "15    0.274463\n",
       "16    0.236277\n",
       "17    0.236277\n",
       "18    0.236277\n",
       "19    0.236277\n",
       "20    0.236277\n",
       "21    0.236277\n",
       "22    0.236277\n",
       "23    0.238663\n",
       "24    0.338902\n",
       "25    0.446301\n",
       "26    0.460621\n",
       "27    0.465394\n",
       "28    0.529833\n",
       "29    0.615752\n",
       "        ...   \n",
       "70    0.940334\n",
       "71    0.940334\n",
       "72    0.937947\n",
       "73    0.937947\n",
       "74    0.935561\n",
       "75    0.937947\n",
       "76    0.935561\n",
       "77    0.940334\n",
       "78    0.942721\n",
       "79    0.937947\n",
       "80    0.935561\n",
       "81    0.935561\n",
       "82    0.940334\n",
       "83    0.940334\n",
       "84    0.935561\n",
       "85    0.933174\n",
       "86    0.937947\n",
       "87    0.937947\n",
       "88    0.937947\n",
       "89    0.937947\n",
       "90    0.935561\n",
       "91    0.935561\n",
       "92    0.940334\n",
       "93    0.937947\n",
       "94    0.937947\n",
       "95    0.940334\n",
       "96    0.940334\n",
       "97    0.937947\n",
       "98    0.935561\n",
       "99    0.935561\n",
       "Name: mean_test_score, Length: 100, dtype: float64"
      ]
     },
     "execution_count": 18,
     "metadata": {},
     "output_type": "execute_result"
    }
   ],
   "source": [
    "cv_results['mean_test_score']"
   ]
  },
  {
   "cell_type": "code",
   "execution_count": 19,
   "metadata": {},
   "outputs": [
    {
     "data": {
      "image/png": "[encoded data removed]",
      "text/plain": [
       "<Figure size 432x288 with 1 Axes>"
      ]
     },
     "metadata": {
      "needs_background": "light"
     },
     "output_type": "display_data"
    }
   ],
   "source": [
    "plt.semilogx(cv_results['param_logreg__C'], cv_results['mean_test_score'])\n",
    "plt.legend()\n",
    "plt.xlabel('C')\n",
    "plt.show()"
   ]
  },
  {
   "cell_type": "markdown",
   "metadata": {},
   "source": [
    "I will now pick 10 images from the test set and plot their propabilities"
   ]
  },
  {
   "cell_type": "code",
   "execution_count": 20,
   "metadata": {},
   "outputs": [
    {
     "data": {
      "text/plain": [
       "['car', '.DS_Store', 'bike', 'other', 'van', 'motorcycle', 'truck']"
      ]
     },
     "execution_count": 20,
     "metadata": {},
     "output_type": "execute_result"
    }
   ],
   "source": [
    "test_dir = os.path.join('swissroads', 'test')\n",
    "os.listdir(test_dir)"
   ]
  },
  {
   "cell_type": "code",
   "execution_count": 21,
   "metadata": {},
   "outputs": [
    {
     "name": "stdout",
     "output_type": "stream",
     "text": [
      "Found 50 images belonging to 6 classes.\n"
     ]
    }
   ],
   "source": [
    "test_generator = ImageDataGenerator(rescale = 1/255, horizontal_flip = True, rotation_range = 5)\n",
    "\n",
    "testset = test_generator.flow_from_directory(\n",
    "    os.path.join('swissroads','test'), batch_size = 1, target_size = (299,299), shuffle = True)"
   ]
  },
  {
   "cell_type": "code",
   "execution_count": 22,
   "metadata": {},
   "outputs": [
    {
     "data": {
      "text/plain": [
       "{'bike': 0, 'car': 1, 'motorcycle': 2, 'other': 3, 'truck': 4, 'van': 5}"
      ]
     },
     "execution_count": 22,
     "metadata": {},
     "output_type": "execute_result"
    }
   ],
   "source": [
    "testset.class_indices"
   ]
  },
  {
   "cell_type": "code",
   "execution_count": 23,
   "metadata": {},
   "outputs": [
    {
     "data": {
      "text/plain": [
       "50"
      ]
     },
     "execution_count": 23,
     "metadata": {},
     "output_type": "execute_result"
    }
   ],
   "source": [
    "len(testset)"
   ]
  },
  {
   "cell_type": "code",
   "execution_count": 24,
   "metadata": {},
   "outputs": [
    {
     "name": "stdout",
     "output_type": "stream",
     "text": [
      "[33, 11, 47, 15, 28, 32, 18, 43, 9, 19]\n"
     ]
    }
   ],
   "source": [
    "# pick 10 images randomly from the test set\n",
    "import random\n",
    "idx = random.choices(range(0, len(testset)), k=10)\n",
    "print(idx)"
   ]
  },
  {
   "cell_type": "code",
   "execution_count": 25,
   "metadata": {},
   "outputs": [
    {
     "name": "stdout",
     "output_type": "stream",
     "text": [
      "other/other-0050.png\n",
      "bike/bike-0111.png\n",
      "van/van-0040.png\n",
      "car/car-0100.png\n",
      "motorcycle/motorcycle-0082.png\n",
      "other/other-0049.png\n",
      "car/car-0103.png\n",
      "truck/truck-0069.png\n",
      "bike/bike-0109.png\n",
      "car/car-0104.png\n"
     ]
    }
   ],
   "source": [
    "path = []\n",
    "for i in idx:\n",
    "    print(testset.filenames[i])\n",
    "    #testset.filenames[i].extract('^[a-z]+/([a-z]+-\\d{4})')\n",
    "    path.append(testset.filenames[i])"
   ]
  },
  {
   "cell_type": "code",
   "execution_count": 26,
   "metadata": {},
   "outputs": [
    {
     "data": {
      "text/plain": [
       "0              other/other-0050.png\n",
       "1                bike/bike-0111.png\n",
       "2                  van/van-0040.png\n",
       "3                  car/car-0100.png\n",
       "4    motorcycle/motorcycle-0082.png\n",
       "5              other/other-0049.png\n",
       "6                  car/car-0103.png\n",
       "7              truck/truck-0069.png\n",
       "8                bike/bike-0109.png\n",
       "9                  car/car-0104.png\n",
       "dtype: object"
      ]
     },
     "execution_count": 26,
     "metadata": {},
     "output_type": "execute_result"
    }
   ],
   "source": [
    "image_path = pd.Series(path)\n",
    "image_path"
   ]
  },
  {
   "cell_type": "code",
   "execution_count": 27,
   "metadata": {},
   "outputs": [
    {
     "data": {
      "text/plain": [
       "list"
      ]
     },
     "execution_count": 27,
     "metadata": {},
     "output_type": "execute_result"
    }
   ],
   "source": [
    "type(path)"
   ]
  },
  {
   "cell_type": "code",
   "execution_count": 28,
   "metadata": {},
   "outputs": [
    {
     "data": {
      "text/plain": [
       "'bike/bike-0111.png'"
      ]
     },
     "execution_count": 28,
     "metadata": {},
     "output_type": "execute_result"
    }
   ],
   "source": [
    "item = image_path[1]\n",
    "item"
   ]
  },
  {
   "cell_type": "code",
   "execution_count": 29,
   "metadata": {},
   "outputs": [
    {
     "data": {
      "text/html": [
       "<div>\n",
       "<style scoped>\n",
       "    .dataframe tbody tr th:only-of-type {\n",
       "        vertical-align: middle;\n",
       "    }\n",
       "\n",
       "    .dataframe tbody tr th {\n",
       "        vertical-align: top;\n",
       "    }\n",
       "\n",
       "    .dataframe thead th {\n",
       "        text-align: right;\n",
       "    }\n",
       "</style>\n",
       "<table border=\"1\" class=\"dataframe\">\n",
       "  <thead>\n",
       "    <tr style=\"text-align: right;\">\n",
       "      <th></th>\n",
       "      <th>0</th>\n",
       "    </tr>\n",
       "  </thead>\n",
       "  <tbody>\n",
       "    <tr>\n",
       "      <th>0</th>\n",
       "      <td>other-0050</td>\n",
       "    </tr>\n",
       "    <tr>\n",
       "      <th>1</th>\n",
       "      <td>bike-0111</td>\n",
       "    </tr>\n",
       "    <tr>\n",
       "      <th>2</th>\n",
       "      <td>van-0040</td>\n",
       "    </tr>\n",
       "    <tr>\n",
       "      <th>3</th>\n",
       "      <td>car-0100</td>\n",
       "    </tr>\n",
       "    <tr>\n",
       "      <th>4</th>\n",
       "      <td>motorcycle-0082</td>\n",
       "    </tr>\n",
       "    <tr>\n",
       "      <th>5</th>\n",
       "      <td>other-0049</td>\n",
       "    </tr>\n",
       "    <tr>\n",
       "      <th>6</th>\n",
       "      <td>car-0103</td>\n",
       "    </tr>\n",
       "    <tr>\n",
       "      <th>7</th>\n",
       "      <td>truck-0069</td>\n",
       "    </tr>\n",
       "    <tr>\n",
       "      <th>8</th>\n",
       "      <td>bike-0109</td>\n",
       "    </tr>\n",
       "    <tr>\n",
       "      <th>9</th>\n",
       "      <td>car-0104</td>\n",
       "    </tr>\n",
       "  </tbody>\n",
       "</table>\n",
       "</div>"
      ],
      "text/plain": [
       "                 0\n",
       "0       other-0050\n",
       "1        bike-0111\n",
       "2         van-0040\n",
       "3         car-0100\n",
       "4  motorcycle-0082\n",
       "5       other-0049\n",
       "6         car-0103\n",
       "7       truck-0069\n",
       "8        bike-0109\n",
       "9         car-0104"
      ]
     },
     "execution_count": 29,
     "metadata": {},
     "output_type": "execute_result"
    }
   ],
   "source": [
    "names = image_path.str.extract('^[a-z]+/([a-z]+-\\d{4})')\n",
    "names"
   ]
  },
  {
   "cell_type": "code",
   "execution_count": 30,
   "metadata": {},
   "outputs": [
    {
     "data": {
      "text/plain": [
       "pandas.core.frame.DataFrame"
      ]
     },
     "execution_count": 30,
     "metadata": {},
     "output_type": "execute_result"
    }
   ],
   "source": [
    "type(names)"
   ]
  },
  {
   "cell_type": "markdown",
   "metadata": {},
   "source": [
    "to make a dataframe a series"
   ]
  },
  {
   "cell_type": "code",
   "execution_count": 31,
   "metadata": {},
   "outputs": [
    {
     "data": {
      "text/plain": [
       "0         other-0050\n",
       "1          bike-0111\n",
       "2           van-0040\n",
       "3           car-0100\n",
       "4    motorcycle-0082\n",
       "5         other-0049\n",
       "6           car-0103\n",
       "7         truck-0069\n",
       "8          bike-0109\n",
       "9           car-0104\n",
       "Name: 0, dtype: object"
      ]
     },
     "execution_count": 31,
     "metadata": {},
     "output_type": "execute_result"
    }
   ],
   "source": [
    "names.squeeze()"
   ]
  },
  {
   "cell_type": "code",
   "execution_count": 32,
   "metadata": {},
   "outputs": [
    {
     "data": {
      "text/plain": [
       "pandas.core.series.Series"
      ]
     },
     "execution_count": 32,
     "metadata": {},
     "output_type": "execute_result"
    }
   ],
   "source": [
    "type(names.squeeze())"
   ]
  },
  {
   "cell_type": "raw",
   "metadata": {},
   "source": [
    "# that doesn't work\n",
    "names.squeeze().extract('^[a-z]+/([a-z]+-\\d{4})')"
   ]
  },
  {
   "cell_type": "code",
   "execution_count": 33,
   "metadata": {},
   "outputs": [
    {
     "name": "stdout",
     "output_type": "stream",
     "text": [
      "0         other-0050\n",
      "1          bike-0111\n",
      "2           van-0040\n",
      "3           car-0100\n",
      "4    motorcycle-0082\n",
      "5         other-0049\n",
      "6           car-0103\n",
      "7         truck-0069\n",
      "8          bike-0109\n",
      "9           car-0104\n",
      "Name: 0, dtype: object\n"
     ]
    }
   ],
   "source": [
    "img_path = (image_path.str.extract('^[a-z]+/([a-z]+-\\d{4})', expand = True))\n",
    "img_names = []\n",
    "for i in img_path:\n",
    "    print(img_path[i])\n",
    "    img_names.append(img_path[i])\n",
    "img_names = pd.DataFrame(img_names)"
   ]
  },
  {
   "cell_type": "code",
   "execution_count": 34,
   "metadata": {},
   "outputs": [
    {
     "data": {
      "text/plain": [
       "['bike/bike-0100.png',\n",
       " 'bike/bike-0101.png',\n",
       " 'bike/bike-0102.png',\n",
       " 'bike/bike-0103.png',\n",
       " 'bike/bike-0104.png',\n",
       " 'bike/bike-0105.png',\n",
       " 'bike/bike-0106.png',\n",
       " 'bike/bike-0107.png',\n",
       " 'bike/bike-0108.png',\n",
       " 'bike/bike-0109.png',\n",
       " 'bike/bike-0110.png',\n",
       " 'bike/bike-0111.png',\n",
       " 'car/car-0097.png',\n",
       " 'car/car-0098.png',\n",
       " 'car/car-0099.png',\n",
       " 'car/car-0100.png',\n",
       " 'car/car-0101.png',\n",
       " 'car/car-0102.png',\n",
       " 'car/car-0103.png',\n",
       " 'car/car-0104.png',\n",
       " 'car/car-0105.png',\n",
       " 'car/car-0106.png',\n",
       " 'car/car-0107.png',\n",
       " 'motorcycle/motorcycle-0077.png',\n",
       " 'motorcycle/motorcycle-0078.png',\n",
       " 'motorcycle/motorcycle-0079.png',\n",
       " 'motorcycle/motorcycle-0080.png',\n",
       " 'motorcycle/motorcycle-0081.png',\n",
       " 'motorcycle/motorcycle-0082.png',\n",
       " 'motorcycle/motorcycle-0083.png',\n",
       " 'motorcycle/motorcycle-0084.png',\n",
       " 'motorcycle/motorcycle-0085.png',\n",
       " 'other/other-0049.png',\n",
       " 'other/other-0050.png',\n",
       " 'other/other-0051.png',\n",
       " 'other/other-0052.png',\n",
       " 'other/other-0053.png',\n",
       " 'other/other-0054.png',\n",
       " 'truck/truck-0064.png',\n",
       " 'truck/truck-0065.png',\n",
       " 'truck/truck-0066.png',\n",
       " 'truck/truck-0067.png',\n",
       " 'truck/truck-0068.png',\n",
       " 'truck/truck-0069.png',\n",
       " 'truck/truck-0070.png',\n",
       " 'van/van-0038.png',\n",
       " 'van/van-0039.png',\n",
       " 'van/van-0040.png',\n",
       " 'van/van-0041.png',\n",
       " 'van/van-0042.png']"
      ]
     },
     "execution_count": 34,
     "metadata": {},
     "output_type": "execute_result"
    }
   ],
   "source": [
    "testset.filenames[:]"
   ]
  },
  {
   "cell_type": "markdown",
   "metadata": {},
   "source": [
    "### I would like to discuss this"
   ]
  },
  {
   "cell_type": "code",
   "execution_count": 35,
   "metadata": {},
   "outputs": [
    {
     "data": {
      "text/plain": [
       "'van-0040'"
      ]
     },
     "execution_count": 35,
     "metadata": {},
     "output_type": "execute_result"
    }
   ],
   "source": [
    "img_names[2][0]"
   ]
  },
  {
   "cell_type": "code",
   "execution_count": 36,
   "metadata": {},
   "outputs": [
    {
     "data": {
      "text/plain": [
       "'truck-0069'"
      ]
     },
     "execution_count": 36,
     "metadata": {},
     "output_type": "execute_result"
    }
   ],
   "source": [
    "img_names[7][0]"
   ]
  },
  {
   "cell_type": "code",
   "execution_count": 37,
   "metadata": {},
   "outputs": [
    {
     "data": {
      "text/plain": [
       "0    car-0100\n",
       "Name: 3, dtype: object"
      ]
     },
     "execution_count": 37,
     "metadata": {},
     "output_type": "execute_result"
    }
   ],
   "source": [
    "img_names[3]"
   ]
  },
  {
   "cell_type": "code",
   "execution_count": 38,
   "metadata": {},
   "outputs": [
    {
     "data": {
      "text/plain": [
       "'car-0100'"
      ]
     },
     "execution_count": 38,
     "metadata": {},
     "output_type": "execute_result"
    }
   ],
   "source": [
    "img_names[3][0]"
   ]
  },
  {
   "cell_type": "code",
   "execution_count": 39,
   "metadata": {},
   "outputs": [
    {
     "data": {
      "text/plain": [
       "0    car-0100\n",
       "Name: 3, dtype: object"
      ]
     },
     "execution_count": 39,
     "metadata": {},
     "output_type": "execute_result"
    }
   ],
   "source": [
    "img_names[3]"
   ]
  },
  {
   "cell_type": "markdown",
   "metadata": {},
   "source": [
    "#### why does that not work?"
   ]
  },
  {
   "cell_type": "raw",
   "metadata": {},
   "source": [
    "(testset.filenames[2]).str.extract('^[a-z]+/([a-z]+-\\d{4})')"
   ]
  },
  {
   "cell_type": "code",
   "execution_count": 40,
   "metadata": {},
   "outputs": [
    {
     "data": {
      "text/plain": [
       "'bike/bike-0103.png'"
      ]
     },
     "execution_count": 40,
     "metadata": {},
     "output_type": "execute_result"
    }
   ],
   "source": [
    "testset.filenames[3]"
   ]
  },
  {
   "cell_type": "code",
   "execution_count": 41,
   "metadata": {},
   "outputs": [
    {
     "data": {
      "text/plain": [
       "'b'"
      ]
     },
     "execution_count": 41,
     "metadata": {},
     "output_type": "execute_result"
    }
   ],
   "source": [
    "testset.filenames[3][0]"
   ]
  },
  {
   "cell_type": "raw",
   "metadata": {},
   "source": [
    "# print for the first time the images\n",
    "for i in idx:\n",
    "    # print(testset.filenames[i])\n",
    "    class_directory = os.path.join(test_dir, testset.filenames[i])\n",
    "    print(class_directory)\n",
    "    img = Image.open(class_directory)\n",
    "    plt.imshow(img)\n",
    "    plt.show()"
   ]
  },
  {
   "cell_type": "markdown",
   "metadata": {},
   "source": [
    "I plot the 10 (pseudo)randomly selected images from the test set."
   ]
  },
  {
   "cell_type": "code",
   "execution_count": 42,
   "metadata": {},
   "outputs": [
    {
     "name": "stdout",
     "output_type": "stream",
     "text": [
      "swissroads/test/other/other-0050.png\n",
      "swissroads/test/bike/bike-0111.png\n",
      "swissroads/test/van/van-0040.png\n",
      "swissroads/test/car/car-0100.png\n",
      "swissroads/test/motorcycle/motorcycle-0082.png\n",
      "swissroads/test/other/other-0049.png\n",
      "swissroads/test/car/car-0103.png\n",
      "swissroads/test/truck/truck-0069.png\n",
      "swissroads/test/bike/bike-0109.png\n",
      "swissroads/test/car/car-0104.png\n"
     ]
    },
    {
     "data": {
      "image/png": "[encoded data removed]",
      "text/plain": [
       "<Figure size 1440x144 with 10 Axes>"
      ]
     },
     "metadata": {
      "needs_background": "light"
     },
     "output_type": "display_data"
    }
   ],
   "source": [
    "image_list = []\n",
    "for i in idx:\n",
    "    # print(testset.filenames[i])\n",
    "    class_directory = os.path.join(test_dir, testset.filenames[i])\n",
    "    print(class_directory)\n",
    "    img = Image.open(class_directory)\n",
    "    image_list.append(img)\n",
    "\n",
    "fig, axes = plt.subplots(nrows = 1, ncols = 10, figsize = (20,2))\n",
    "for i, axis in enumerate(axes):\n",
    "    image = image_list[i]\n",
    "    axis.imshow(image)\n",
    "    axis.title.set_text(img_names[i][0])\n",
    "    axis.get_xaxis().set_visible(False)\n",
    "    axis.get_yaxis().set_visible(False)\n",
    "plt.show()"
   ]
  },
  {
   "cell_type": "markdown",
   "metadata": {},
   "source": [
    "I make the predictions for these images. this means I calculate the probabilities of each image falling on one of the six categories."
   ]
  },
  {
   "cell_type": "code",
   "execution_count": 43,
   "metadata": {},
   "outputs": [
    {
     "name": "stdout",
     "output_type": "stream",
     "text": [
      "[0.00025660322563048364, 0.0030817078775865854, 0.0010920014732380453, 0.07896895533176329, 0.914718561613697, 0.0018821704780846607]\n",
      "[0.9998514217061786, 6.063489474265856e-06, 5.317536046422938e-06, 0.00013567944332303346, 9.08699544078424e-07, 6.091254336090152e-07]\n",
      "[0.00012506081776479146, 0.0002510828229059414, 2.387105812607958e-05, 0.00022890458553880496, 0.47660901431031183, 0.5227620664053525]\n",
      "[2.206679519060239e-05, 0.9997927314318836, 5.1696076585365565e-06, 5.0434108257887435e-05, 3.0584000471988484e-07, 0.00012929221700485469]\n",
      "[7.085772870023158e-06, 4.146637027779378e-06, 0.9999574594249759, 1.5207262846320928e-05, 1.5026286924999678e-05, 1.074615354942737e-06]\n",
      "[5.3563258946792814e-06, 2.4363782278704156e-05, 3.1798284806110095e-05, 0.9996996394961449, 0.00023649790705501474, 2.3442038204719077e-06]\n",
      "[0.0021150369555104492, 0.7974915465612541, 0.0006436119942462852, 0.0045169171047679665, 0.006115070797023964, 0.18911781658719723]\n",
      "[3.705425194196739e-05, 0.00018820841089153524, 4.7349244638155325e-05, 0.00027509537538953347, 0.9994347168380219, 1.75758791171068e-05]\n",
      "[0.9999824322125385, 4.117905896768404e-06, 7.606250435851409e-07, 1.1648109219365474e-05, 4.53525308933838e-07, 5.876219930430465e-07]\n",
      "[9.65774783575844e-06, 0.9996350113312898, 1.913903327285451e-06, 1.0772046315832835e-05, 2.38153212502801e-07, 0.00034240681801894887]\n"
     ]
    }
   ],
   "source": [
    "class_names = ['bike', 'car', 'motorcycle', 'other', 'truck', 'van']\n",
    "sample_proba = []\n",
    "for i in idx:\n",
    "    test_sample_prob = grid_cv.predict_proba(X_test[i].reshape(1,-1))\n",
    "    #print(test_sample_prob)\n",
    "    flat_sample_prob = [item for sublist in test_sample_prob for item in sublist]\n",
    "    print(flat_sample_prob)\n",
    "    sample_proba.append(flat_sample_prob)"
   ]
  },
  {
   "cell_type": "code",
   "execution_count": 44,
   "metadata": {},
   "outputs": [
    {
     "data": {
      "text/html": [
       "<div>\n",
       "<style scoped>\n",
       "    .dataframe tbody tr th:only-of-type {\n",
       "        vertical-align: middle;\n",
       "    }\n",
       "\n",
       "    .dataframe tbody tr th {\n",
       "        vertical-align: top;\n",
       "    }\n",
       "\n",
       "    .dataframe thead th {\n",
       "        text-align: right;\n",
       "    }\n",
       "</style>\n",
       "<table border=\"1\" class=\"dataframe\">\n",
       "  <thead>\n",
       "    <tr style=\"text-align: right;\">\n",
       "      <th></th>\n",
       "      <th>bike</th>\n",
       "      <th>car</th>\n",
       "      <th>motorcycle</th>\n",
       "      <th>other</th>\n",
       "      <th>truck</th>\n",
       "      <th>van</th>\n",
       "    </tr>\n",
       "  </thead>\n",
       "  <tbody>\n",
       "    <tr>\n",
       "      <th>0</th>\n",
       "      <td>0.000257</td>\n",
       "      <td>0.003082</td>\n",
       "      <td>1.092001e-03</td>\n",
       "      <td>0.078969</td>\n",
       "      <td>9.147186e-01</td>\n",
       "      <td>1.882170e-03</td>\n",
       "    </tr>\n",
       "    <tr>\n",
       "      <th>1</th>\n",
       "      <td>0.999851</td>\n",
       "      <td>0.000006</td>\n",
       "      <td>5.317536e-06</td>\n",
       "      <td>0.000136</td>\n",
       "      <td>9.086995e-07</td>\n",
       "      <td>6.091254e-07</td>\n",
       "    </tr>\n",
       "    <tr>\n",
       "      <th>2</th>\n",
       "      <td>0.000125</td>\n",
       "      <td>0.000251</td>\n",
       "      <td>2.387106e-05</td>\n",
       "      <td>0.000229</td>\n",
       "      <td>4.766090e-01</td>\n",
       "      <td>5.227621e-01</td>\n",
       "    </tr>\n",
       "    <tr>\n",
       "      <th>3</th>\n",
       "      <td>0.000022</td>\n",
       "      <td>0.999793</td>\n",
       "      <td>5.169608e-06</td>\n",
       "      <td>0.000050</td>\n",
       "      <td>3.058400e-07</td>\n",
       "      <td>1.292922e-04</td>\n",
       "    </tr>\n",
       "    <tr>\n",
       "      <th>4</th>\n",
       "      <td>0.000007</td>\n",
       "      <td>0.000004</td>\n",
       "      <td>9.999575e-01</td>\n",
       "      <td>0.000015</td>\n",
       "      <td>1.502629e-05</td>\n",
       "      <td>1.074615e-06</td>\n",
       "    </tr>\n",
       "    <tr>\n",
       "      <th>5</th>\n",
       "      <td>0.000005</td>\n",
       "      <td>0.000024</td>\n",
       "      <td>3.179828e-05</td>\n",
       "      <td>0.999700</td>\n",
       "      <td>2.364979e-04</td>\n",
       "      <td>2.344204e-06</td>\n",
       "    </tr>\n",
       "    <tr>\n",
       "      <th>6</th>\n",
       "      <td>0.002115</td>\n",
       "      <td>0.797492</td>\n",
       "      <td>6.436120e-04</td>\n",
       "      <td>0.004517</td>\n",
       "      <td>6.115071e-03</td>\n",
       "      <td>1.891178e-01</td>\n",
       "    </tr>\n",
       "    <tr>\n",
       "      <th>7</th>\n",
       "      <td>0.000037</td>\n",
       "      <td>0.000188</td>\n",
       "      <td>4.734924e-05</td>\n",
       "      <td>0.000275</td>\n",
       "      <td>9.994347e-01</td>\n",
       "      <td>1.757588e-05</td>\n",
       "    </tr>\n",
       "    <tr>\n",
       "      <th>8</th>\n",
       "      <td>0.999982</td>\n",
       "      <td>0.000004</td>\n",
       "      <td>7.606250e-07</td>\n",
       "      <td>0.000012</td>\n",
       "      <td>4.535253e-07</td>\n",
       "      <td>5.876220e-07</td>\n",
       "    </tr>\n",
       "    <tr>\n",
       "      <th>9</th>\n",
       "      <td>0.000010</td>\n",
       "      <td>0.999635</td>\n",
       "      <td>1.913903e-06</td>\n",
       "      <td>0.000011</td>\n",
       "      <td>2.381532e-07</td>\n",
       "      <td>3.424068e-04</td>\n",
       "    </tr>\n",
       "  </tbody>\n",
       "</table>\n",
       "</div>"
      ],
      "text/plain": [
       "       bike       car    motorcycle     other         truck           van\n",
       "0  0.000257  0.003082  1.092001e-03  0.078969  9.147186e-01  1.882170e-03\n",
       "1  0.999851  0.000006  5.317536e-06  0.000136  9.086995e-07  6.091254e-07\n",
       "2  0.000125  0.000251  2.387106e-05  0.000229  4.766090e-01  5.227621e-01\n",
       "3  0.000022  0.999793  5.169608e-06  0.000050  3.058400e-07  1.292922e-04\n",
       "4  0.000007  0.000004  9.999575e-01  0.000015  1.502629e-05  1.074615e-06\n",
       "5  0.000005  0.000024  3.179828e-05  0.999700  2.364979e-04  2.344204e-06\n",
       "6  0.002115  0.797492  6.436120e-04  0.004517  6.115071e-03  1.891178e-01\n",
       "7  0.000037  0.000188  4.734924e-05  0.000275  9.994347e-01  1.757588e-05\n",
       "8  0.999982  0.000004  7.606250e-07  0.000012  4.535253e-07  5.876220e-07\n",
       "9  0.000010  0.999635  1.913903e-06  0.000011  2.381532e-07  3.424068e-04"
      ]
     },
     "execution_count": 44,
     "metadata": {},
     "output_type": "execute_result"
    }
   ],
   "source": [
    "test_sample_probabilities = pd.DataFrame(sample_proba, columns = class_names)\n",
    "cols = class_names\n",
    "test_sample_probabilities"
   ]
  },
  {
   "cell_type": "code",
   "execution_count": 45,
   "metadata": {},
   "outputs": [
    {
     "data": {
      "text/html": [
       "<div>\n",
       "<style scoped>\n",
       "    .dataframe tbody tr th:only-of-type {\n",
       "        vertical-align: middle;\n",
       "    }\n",
       "\n",
       "    .dataframe tbody tr th {\n",
       "        vertical-align: top;\n",
       "    }\n",
       "\n",
       "    .dataframe thead th {\n",
       "        text-align: right;\n",
       "    }\n",
       "</style>\n",
       "<table border=\"1\" class=\"dataframe\">\n",
       "  <thead>\n",
       "    <tr style=\"text-align: right;\">\n",
       "      <th></th>\n",
       "      <th>bike</th>\n",
       "      <th>car</th>\n",
       "      <th>motorcycle</th>\n",
       "      <th>other</th>\n",
       "      <th>truck</th>\n",
       "      <th>van</th>\n",
       "    </tr>\n",
       "  </thead>\n",
       "  <tbody>\n",
       "    <tr>\n",
       "      <th>0</th>\n",
       "      <td>0.000257</td>\n",
       "      <td>0.003082</td>\n",
       "      <td>1.092001e-03</td>\n",
       "      <td>0.078969</td>\n",
       "      <td>9.147186e-01</td>\n",
       "      <td>1.882170e-03</td>\n",
       "    </tr>\n",
       "    <tr>\n",
       "      <th>1</th>\n",
       "      <td>0.999851</td>\n",
       "      <td>0.000006</td>\n",
       "      <td>5.317536e-06</td>\n",
       "      <td>0.000136</td>\n",
       "      <td>9.086995e-07</td>\n",
       "      <td>6.091254e-07</td>\n",
       "    </tr>\n",
       "    <tr>\n",
       "      <th>2</th>\n",
       "      <td>0.000125</td>\n",
       "      <td>0.000251</td>\n",
       "      <td>2.387106e-05</td>\n",
       "      <td>0.000229</td>\n",
       "      <td>4.766090e-01</td>\n",
       "      <td>5.227621e-01</td>\n",
       "    </tr>\n",
       "    <tr>\n",
       "      <th>3</th>\n",
       "      <td>0.000022</td>\n",
       "      <td>0.999793</td>\n",
       "      <td>5.169608e-06</td>\n",
       "      <td>0.000050</td>\n",
       "      <td>3.058400e-07</td>\n",
       "      <td>1.292922e-04</td>\n",
       "    </tr>\n",
       "    <tr>\n",
       "      <th>4</th>\n",
       "      <td>0.000007</td>\n",
       "      <td>0.000004</td>\n",
       "      <td>9.999575e-01</td>\n",
       "      <td>0.000015</td>\n",
       "      <td>1.502629e-05</td>\n",
       "      <td>1.074615e-06</td>\n",
       "    </tr>\n",
       "    <tr>\n",
       "      <th>5</th>\n",
       "      <td>0.000005</td>\n",
       "      <td>0.000024</td>\n",
       "      <td>3.179828e-05</td>\n",
       "      <td>0.999700</td>\n",
       "      <td>2.364979e-04</td>\n",
       "      <td>2.344204e-06</td>\n",
       "    </tr>\n",
       "    <tr>\n",
       "      <th>6</th>\n",
       "      <td>0.002115</td>\n",
       "      <td>0.797492</td>\n",
       "      <td>6.436120e-04</td>\n",
       "      <td>0.004517</td>\n",
       "      <td>6.115071e-03</td>\n",
       "      <td>1.891178e-01</td>\n",
       "    </tr>\n",
       "    <tr>\n",
       "      <th>7</th>\n",
       "      <td>0.000037</td>\n",
       "      <td>0.000188</td>\n",
       "      <td>4.734924e-05</td>\n",
       "      <td>0.000275</td>\n",
       "      <td>9.994347e-01</td>\n",
       "      <td>1.757588e-05</td>\n",
       "    </tr>\n",
       "    <tr>\n",
       "      <th>8</th>\n",
       "      <td>0.999982</td>\n",
       "      <td>0.000004</td>\n",
       "      <td>7.606250e-07</td>\n",
       "      <td>0.000012</td>\n",
       "      <td>4.535253e-07</td>\n",
       "      <td>5.876220e-07</td>\n",
       "    </tr>\n",
       "    <tr>\n",
       "      <th>9</th>\n",
       "      <td>0.000010</td>\n",
       "      <td>0.999635</td>\n",
       "      <td>1.913903e-06</td>\n",
       "      <td>0.000011</td>\n",
       "      <td>2.381532e-07</td>\n",
       "      <td>3.424068e-04</td>\n",
       "    </tr>\n",
       "  </tbody>\n",
       "</table>\n",
       "</div>"
      ],
      "text/plain": [
       "       bike       car    motorcycle     other         truck           van\n",
       "0  0.000257  0.003082  1.092001e-03  0.078969  9.147186e-01  1.882170e-03\n",
       "1  0.999851  0.000006  5.317536e-06  0.000136  9.086995e-07  6.091254e-07\n",
       "2  0.000125  0.000251  2.387106e-05  0.000229  4.766090e-01  5.227621e-01\n",
       "3  0.000022  0.999793  5.169608e-06  0.000050  3.058400e-07  1.292922e-04\n",
       "4  0.000007  0.000004  9.999575e-01  0.000015  1.502629e-05  1.074615e-06\n",
       "5  0.000005  0.000024  3.179828e-05  0.999700  2.364979e-04  2.344204e-06\n",
       "6  0.002115  0.797492  6.436120e-04  0.004517  6.115071e-03  1.891178e-01\n",
       "7  0.000037  0.000188  4.734924e-05  0.000275  9.994347e-01  1.757588e-05\n",
       "8  0.999982  0.000004  7.606250e-07  0.000012  4.535253e-07  5.876220e-07\n",
       "9  0.000010  0.999635  1.913903e-06  0.000011  2.381532e-07  3.424068e-04"
      ]
     },
     "execution_count": 45,
     "metadata": {},
     "output_type": "execute_result"
    }
   ],
   "source": [
    "test_sample_probabilities = pd.DataFrame(sample_proba, columns = class_names)\n",
    "test_sample_probabilities"
   ]
  },
  {
   "cell_type": "code",
   "execution_count": 46,
   "metadata": {},
   "outputs": [
    {
     "data": {
      "text/html": [
       "<div>\n",
       "<style scoped>\n",
       "    .dataframe tbody tr th:only-of-type {\n",
       "        vertical-align: middle;\n",
       "    }\n",
       "\n",
       "    .dataframe tbody tr th {\n",
       "        vertical-align: top;\n",
       "    }\n",
       "\n",
       "    .dataframe thead th {\n",
       "        text-align: right;\n",
       "    }\n",
       "</style>\n",
       "<table border=\"1\" class=\"dataframe\">\n",
       "  <thead>\n",
       "    <tr style=\"text-align: right;\">\n",
       "      <th></th>\n",
       "      <th>bike</th>\n",
       "      <th>car</th>\n",
       "      <th>motorcycle</th>\n",
       "      <th>other</th>\n",
       "      <th>truck</th>\n",
       "      <th>van</th>\n",
       "    </tr>\n",
       "    <tr>\n",
       "      <th></th>\n",
       "      <th></th>\n",
       "      <th></th>\n",
       "      <th></th>\n",
       "      <th></th>\n",
       "      <th></th>\n",
       "      <th></th>\n",
       "    </tr>\n",
       "  </thead>\n",
       "  <tbody>\n",
       "    <tr>\n",
       "      <th>other-0050</th>\n",
       "      <td>0.0</td>\n",
       "      <td>0.0</td>\n",
       "      <td>0.0</td>\n",
       "      <td>0.08</td>\n",
       "      <td>0.91</td>\n",
       "      <td>0.00</td>\n",
       "    </tr>\n",
       "    <tr>\n",
       "      <th>bike-0111</th>\n",
       "      <td>1.0</td>\n",
       "      <td>0.0</td>\n",
       "      <td>0.0</td>\n",
       "      <td>0.00</td>\n",
       "      <td>0.00</td>\n",
       "      <td>0.00</td>\n",
       "    </tr>\n",
       "    <tr>\n",
       "      <th>van-0040</th>\n",
       "      <td>0.0</td>\n",
       "      <td>0.0</td>\n",
       "      <td>0.0</td>\n",
       "      <td>0.00</td>\n",
       "      <td>0.48</td>\n",
       "      <td>0.52</td>\n",
       "    </tr>\n",
       "    <tr>\n",
       "      <th>car-0100</th>\n",
       "      <td>0.0</td>\n",
       "      <td>1.0</td>\n",
       "      <td>0.0</td>\n",
       "      <td>0.00</td>\n",
       "      <td>0.00</td>\n",
       "      <td>0.00</td>\n",
       "    </tr>\n",
       "    <tr>\n",
       "      <th>motorcycle-0082</th>\n",
       "      <td>0.0</td>\n",
       "      <td>0.0</td>\n",
       "      <td>1.0</td>\n",
       "      <td>0.00</td>\n",
       "      <td>0.00</td>\n",
       "      <td>0.00</td>\n",
       "    </tr>\n",
       "    <tr>\n",
       "      <th>other-0049</th>\n",
       "      <td>0.0</td>\n",
       "      <td>0.0</td>\n",
       "      <td>0.0</td>\n",
       "      <td>1.00</td>\n",
       "      <td>0.00</td>\n",
       "      <td>0.00</td>\n",
       "    </tr>\n",
       "    <tr>\n",
       "      <th>car-0103</th>\n",
       "      <td>0.0</td>\n",
       "      <td>0.8</td>\n",
       "      <td>0.0</td>\n",
       "      <td>0.00</td>\n",
       "      <td>0.01</td>\n",
       "      <td>0.19</td>\n",
       "    </tr>\n",
       "    <tr>\n",
       "      <th>truck-0069</th>\n",
       "      <td>0.0</td>\n",
       "      <td>0.0</td>\n",
       "      <td>0.0</td>\n",
       "      <td>0.00</td>\n",
       "      <td>1.00</td>\n",
       "      <td>0.00</td>\n",
       "    </tr>\n",
       "    <tr>\n",
       "      <th>bike-0109</th>\n",
       "      <td>1.0</td>\n",
       "      <td>0.0</td>\n",
       "      <td>0.0</td>\n",
       "      <td>0.00</td>\n",
       "      <td>0.00</td>\n",
       "      <td>0.00</td>\n",
       "    </tr>\n",
       "    <tr>\n",
       "      <th>car-0104</th>\n",
       "      <td>0.0</td>\n",
       "      <td>1.0</td>\n",
       "      <td>0.0</td>\n",
       "      <td>0.00</td>\n",
       "      <td>0.00</td>\n",
       "      <td>0.00</td>\n",
       "    </tr>\n",
       "  </tbody>\n",
       "</table>\n",
       "</div>"
      ],
      "text/plain": [
       "                 bike  car  motorcycle  other  truck   van\n",
       "                                                          \n",
       "other-0050        0.0  0.0         0.0   0.08   0.91  0.00\n",
       "bike-0111         1.0  0.0         0.0   0.00   0.00  0.00\n",
       "van-0040          0.0  0.0         0.0   0.00   0.48  0.52\n",
       "car-0100          0.0  1.0         0.0   0.00   0.00  0.00\n",
       "motorcycle-0082   0.0  0.0         1.0   0.00   0.00  0.00\n",
       "other-0049        0.0  0.0         0.0   1.00   0.00  0.00\n",
       "car-0103          0.0  0.8         0.0   0.00   0.01  0.19\n",
       "truck-0069        0.0  0.0         0.0   0.00   1.00  0.00\n",
       "bike-0109         1.0  0.0         0.0   0.00   0.00  0.00\n",
       "car-0104          0.0  1.0         0.0   0.00   0.00  0.00"
      ]
     },
     "execution_count": 46,
     "metadata": {},
     "output_type": "execute_result"
    }
   ],
   "source": [
    "prob_results = pd.concat([img_names.T, test_sample_probabilities], axis = 1).set_index(0).round(2)\n",
    "prob_results.index.name = \"\"\n",
    "prob_results"
   ]
  },
  {
   "cell_type": "code",
   "execution_count": 47,
   "metadata": {},
   "outputs": [
    {
     "data": {
      "text/html": [
       "<div>\n",
       "<style scoped>\n",
       "    .dataframe tbody tr th:only-of-type {\n",
       "        vertical-align: middle;\n",
       "    }\n",
       "\n",
       "    .dataframe tbody tr th {\n",
       "        vertical-align: top;\n",
       "    }\n",
       "\n",
       "    .dataframe thead th {\n",
       "        text-align: right;\n",
       "    }\n",
       "</style>\n",
       "<table border=\"1\" class=\"dataframe\">\n",
       "  <thead>\n",
       "    <tr style=\"text-align: right;\">\n",
       "      <th></th>\n",
       "      <th>bike</th>\n",
       "      <th>car</th>\n",
       "      <th>motorcycle</th>\n",
       "      <th>other</th>\n",
       "      <th>truck</th>\n",
       "      <th>van</th>\n",
       "    </tr>\n",
       "    <tr>\n",
       "      <th></th>\n",
       "      <th></th>\n",
       "      <th></th>\n",
       "      <th></th>\n",
       "      <th></th>\n",
       "      <th></th>\n",
       "      <th></th>\n",
       "    </tr>\n",
       "  </thead>\n",
       "  <tbody>\n",
       "    <tr>\n",
       "      <th>other-0050</th>\n",
       "      <td>0.0</td>\n",
       "      <td>0.0</td>\n",
       "      <td>0.0</td>\n",
       "      <td>0.08</td>\n",
       "      <td>0.91</td>\n",
       "      <td>0.00</td>\n",
       "    </tr>\n",
       "    <tr>\n",
       "      <th>bike-0111</th>\n",
       "      <td>1.0</td>\n",
       "      <td>0.0</td>\n",
       "      <td>0.0</td>\n",
       "      <td>0.00</td>\n",
       "      <td>0.00</td>\n",
       "      <td>0.00</td>\n",
       "    </tr>\n",
       "    <tr>\n",
       "      <th>van-0040</th>\n",
       "      <td>0.0</td>\n",
       "      <td>0.0</td>\n",
       "      <td>0.0</td>\n",
       "      <td>0.00</td>\n",
       "      <td>0.48</td>\n",
       "      <td>0.52</td>\n",
       "    </tr>\n",
       "    <tr>\n",
       "      <th>car-0100</th>\n",
       "      <td>0.0</td>\n",
       "      <td>1.0</td>\n",
       "      <td>0.0</td>\n",
       "      <td>0.00</td>\n",
       "      <td>0.00</td>\n",
       "      <td>0.00</td>\n",
       "    </tr>\n",
       "    <tr>\n",
       "      <th>motorcycle-0082</th>\n",
       "      <td>0.0</td>\n",
       "      <td>0.0</td>\n",
       "      <td>1.0</td>\n",
       "      <td>0.00</td>\n",
       "      <td>0.00</td>\n",
       "      <td>0.00</td>\n",
       "    </tr>\n",
       "    <tr>\n",
       "      <th>other-0049</th>\n",
       "      <td>0.0</td>\n",
       "      <td>0.0</td>\n",
       "      <td>0.0</td>\n",
       "      <td>1.00</td>\n",
       "      <td>0.00</td>\n",
       "      <td>0.00</td>\n",
       "    </tr>\n",
       "    <tr>\n",
       "      <th>car-0103</th>\n",
       "      <td>0.0</td>\n",
       "      <td>0.8</td>\n",
       "      <td>0.0</td>\n",
       "      <td>0.00</td>\n",
       "      <td>0.01</td>\n",
       "      <td>0.19</td>\n",
       "    </tr>\n",
       "    <tr>\n",
       "      <th>truck-0069</th>\n",
       "      <td>0.0</td>\n",
       "      <td>0.0</td>\n",
       "      <td>0.0</td>\n",
       "      <td>0.00</td>\n",
       "      <td>1.00</td>\n",
       "      <td>0.00</td>\n",
       "    </tr>\n",
       "    <tr>\n",
       "      <th>bike-0109</th>\n",
       "      <td>1.0</td>\n",
       "      <td>0.0</td>\n",
       "      <td>0.0</td>\n",
       "      <td>0.00</td>\n",
       "      <td>0.00</td>\n",
       "      <td>0.00</td>\n",
       "    </tr>\n",
       "    <tr>\n",
       "      <th>car-0104</th>\n",
       "      <td>0.0</td>\n",
       "      <td>1.0</td>\n",
       "      <td>0.0</td>\n",
       "      <td>0.00</td>\n",
       "      <td>0.00</td>\n",
       "      <td>0.00</td>\n",
       "    </tr>\n",
       "  </tbody>\n",
       "</table>\n",
       "</div>"
      ],
      "text/plain": [
       "                 bike  car  motorcycle  other  truck   van\n",
       "                                                          \n",
       "other-0050        0.0  0.0         0.0   0.08   0.91  0.00\n",
       "bike-0111         1.0  0.0         0.0   0.00   0.00  0.00\n",
       "van-0040          0.0  0.0         0.0   0.00   0.48  0.52\n",
       "car-0100          0.0  1.0         0.0   0.00   0.00  0.00\n",
       "motorcycle-0082   0.0  0.0         1.0   0.00   0.00  0.00\n",
       "other-0049        0.0  0.0         0.0   1.00   0.00  0.00\n",
       "car-0103          0.0  0.8         0.0   0.00   0.01  0.19\n",
       "truck-0069        0.0  0.0         0.0   0.00   1.00  0.00\n",
       "bike-0109         1.0  0.0         0.0   0.00   0.00  0.00\n",
       "car-0104          0.0  1.0         0.0   0.00   0.00  0.00"
      ]
     },
     "execution_count": 47,
     "metadata": {},
     "output_type": "execute_result"
    }
   ],
   "source": [
    "prob_results.index.name = \"\"\n",
    "prob_results"
   ]
  },
  {
   "cell_type": "markdown",
   "metadata": {},
   "source": [
    "I observe that the max probability correspond always to the correct class."
   ]
  },
  {
   "cell_type": "markdown",
   "metadata": {},
   "source": [
    "## Regularisation strength and class probability"
   ]
  },
  {
   "cell_type": "markdown",
   "metadata": {},
   "source": [
    "Finally, vary the regularization strength of your estimator. What is the effect on the probabilities? Write your observations in a markdown cell."
   ]
  },
  {
   "cell_type": "markdown",
   "metadata": {},
   "source": [
    "I will now vary the regularization strength to see the effect it has on the probabilities. I will investigate three cases:\n",
    " -  Case-1: the optimum C=8.111308307896856\n",
    " -  Case-2: a low C (high regularization) \n",
    " -  Case-3: a high C (low regularization)"
   ]
  },
  {
   "cell_type": "markdown",
   "metadata": {},
   "source": [
    "Case-1: the default C"
   ]
  },
  {
   "cell_type": "code",
   "execution_count": 48,
   "metadata": {},
   "outputs": [
    {
     "name": "stdout",
     "output_type": "stream",
     "text": [
      "Accuracy: 0.640\n"
     ]
    },
    {
     "data": {
      "text/plain": [
       "0.64"
      ]
     },
     "execution_count": 48,
     "metadata": {},
     "output_type": "execute_result"
    }
   ],
   "source": [
    "logreg_pipe_me = Pipeline([\n",
    "    ('scaler', None),\n",
    "    ('pca', None),\n",
    "    ('logreg', LogisticRegression( multi_class='multinomial', solver='saga', C=0.0001)) \n",
    "                ])\n",
    "logreg_pipe_me.fit(X_cv, y_cv)\n",
    "accuracy_me = logreg_pipe_me.score(X_test, y_test)\n",
    "\n",
    "print('Accuracy: {:.3f}'.format(accuracy_me))\n",
    "accuracy_me"
   ]
  },
  {
   "cell_type": "code",
   "execution_count": 49,
   "metadata": {},
   "outputs": [
    {
     "name": "stdout",
     "output_type": "stream",
     "text": [
      "[0.20297038397676026, 0.2260085048101272, 0.16127731482124716, 0.13229394187729573, 0.18251462249107328, 0.09493523202349628]\n",
      "[0.3403604412513321, 0.1910867020143401, 0.15481699493006176, 0.10624406938999369, 0.12842420538967825, 0.07906758702459431]\n",
      "[0.20422970998168968, 0.22230830236308635, 0.15282482547693835, 0.1229420935439636, 0.19125065651735715, 0.10644441211696481]\n",
      "[0.2025001335659122, 0.3227410850935933, 0.1485351044510614, 0.10726045711814118, 0.13190678916756599, 0.08705643060372595]\n",
      "[0.1923629615903574, 0.17852029217555498, 0.3046947476468311, 0.10747263777502704, 0.1353766907569726, 0.08157267005525698]\n",
      "[0.21052192352426186, 0.21550916360975314, 0.17323211333451924, 0.14316162648071348, 0.16791783174584674, 0.08965734130490564]\n",
      "[0.20603852310816312, 0.2655193490707041, 0.1602943426867537, 0.113960796834475, 0.1560509882881347, 0.0981360000117693]\n",
      "[0.2089498595179829, 0.2160868778074368, 0.16651332723047232, 0.12989959581145105, 0.18713275238650387, 0.09141758724615295]\n",
      "[0.34960296641041905, 0.1888851011547078, 0.15101241030273346, 0.10340923105158091, 0.12849581815157954, 0.07859447292897935]\n",
      "[0.19955777233131672, 0.3257937134984594, 0.14436431427955929, 0.10585534779442983, 0.13442381678755227, 0.09000503530868248]\n"
     ]
    }
   ],
   "source": [
    "class_names = ['bike', 'car', 'motorcycle', 'other', 'truck', 'van']\n",
    "sample_proba = []\n",
    "for i in idx:\n",
    "    test_sample_prob = logreg_pipe_me.predict_proba(X_test[i].reshape(1,-1))\n",
    "    #print(test_sample_prob)\n",
    "    flat_sample_prob = [item for sublist in test_sample_prob for item in sublist]\n",
    "    print(flat_sample_prob)\n",
    "    sample_proba.append(flat_sample_prob)"
   ]
  },
  {
   "cell_type": "code",
   "execution_count": 50,
   "metadata": {},
   "outputs": [
    {
     "data": {
      "text/html": [
       "<div>\n",
       "<style scoped>\n",
       "    .dataframe tbody tr th:only-of-type {\n",
       "        vertical-align: middle;\n",
       "    }\n",
       "\n",
       "    .dataframe tbody tr th {\n",
       "        vertical-align: top;\n",
       "    }\n",
       "\n",
       "    .dataframe thead th {\n",
       "        text-align: right;\n",
       "    }\n",
       "</style>\n",
       "<table border=\"1\" class=\"dataframe\">\n",
       "  <thead>\n",
       "    <tr style=\"text-align: right;\">\n",
       "      <th></th>\n",
       "      <th>bike</th>\n",
       "      <th>car</th>\n",
       "      <th>motorcycle</th>\n",
       "      <th>other</th>\n",
       "      <th>truck</th>\n",
       "      <th>van</th>\n",
       "    </tr>\n",
       "  </thead>\n",
       "  <tbody>\n",
       "    <tr>\n",
       "      <th>0</th>\n",
       "      <td>0.202970</td>\n",
       "      <td>0.226009</td>\n",
       "      <td>0.161277</td>\n",
       "      <td>0.132294</td>\n",
       "      <td>0.182515</td>\n",
       "      <td>0.094935</td>\n",
       "    </tr>\n",
       "    <tr>\n",
       "      <th>1</th>\n",
       "      <td>0.340360</td>\n",
       "      <td>0.191087</td>\n",
       "      <td>0.154817</td>\n",
       "      <td>0.106244</td>\n",
       "      <td>0.128424</td>\n",
       "      <td>0.079068</td>\n",
       "    </tr>\n",
       "    <tr>\n",
       "      <th>2</th>\n",
       "      <td>0.204230</td>\n",
       "      <td>0.222308</td>\n",
       "      <td>0.152825</td>\n",
       "      <td>0.122942</td>\n",
       "      <td>0.191251</td>\n",
       "      <td>0.106444</td>\n",
       "    </tr>\n",
       "    <tr>\n",
       "      <th>3</th>\n",
       "      <td>0.202500</td>\n",
       "      <td>0.322741</td>\n",
       "      <td>0.148535</td>\n",
       "      <td>0.107260</td>\n",
       "      <td>0.131907</td>\n",
       "      <td>0.087056</td>\n",
       "    </tr>\n",
       "    <tr>\n",
       "      <th>4</th>\n",
       "      <td>0.192363</td>\n",
       "      <td>0.178520</td>\n",
       "      <td>0.304695</td>\n",
       "      <td>0.107473</td>\n",
       "      <td>0.135377</td>\n",
       "      <td>0.081573</td>\n",
       "    </tr>\n",
       "    <tr>\n",
       "      <th>5</th>\n",
       "      <td>0.210522</td>\n",
       "      <td>0.215509</td>\n",
       "      <td>0.173232</td>\n",
       "      <td>0.143162</td>\n",
       "      <td>0.167918</td>\n",
       "      <td>0.089657</td>\n",
       "    </tr>\n",
       "    <tr>\n",
       "      <th>6</th>\n",
       "      <td>0.206039</td>\n",
       "      <td>0.265519</td>\n",
       "      <td>0.160294</td>\n",
       "      <td>0.113961</td>\n",
       "      <td>0.156051</td>\n",
       "      <td>0.098136</td>\n",
       "    </tr>\n",
       "    <tr>\n",
       "      <th>7</th>\n",
       "      <td>0.208950</td>\n",
       "      <td>0.216087</td>\n",
       "      <td>0.166513</td>\n",
       "      <td>0.129900</td>\n",
       "      <td>0.187133</td>\n",
       "      <td>0.091418</td>\n",
       "    </tr>\n",
       "    <tr>\n",
       "      <th>8</th>\n",
       "      <td>0.349603</td>\n",
       "      <td>0.188885</td>\n",
       "      <td>0.151012</td>\n",
       "      <td>0.103409</td>\n",
       "      <td>0.128496</td>\n",
       "      <td>0.078594</td>\n",
       "    </tr>\n",
       "    <tr>\n",
       "      <th>9</th>\n",
       "      <td>0.199558</td>\n",
       "      <td>0.325794</td>\n",
       "      <td>0.144364</td>\n",
       "      <td>0.105855</td>\n",
       "      <td>0.134424</td>\n",
       "      <td>0.090005</td>\n",
       "    </tr>\n",
       "  </tbody>\n",
       "</table>\n",
       "</div>"
      ],
      "text/plain": [
       "       bike       car  motorcycle     other     truck       van\n",
       "0  0.202970  0.226009    0.161277  0.132294  0.182515  0.094935\n",
       "1  0.340360  0.191087    0.154817  0.106244  0.128424  0.079068\n",
       "2  0.204230  0.222308    0.152825  0.122942  0.191251  0.106444\n",
       "3  0.202500  0.322741    0.148535  0.107260  0.131907  0.087056\n",
       "4  0.192363  0.178520    0.304695  0.107473  0.135377  0.081573\n",
       "5  0.210522  0.215509    0.173232  0.143162  0.167918  0.089657\n",
       "6  0.206039  0.265519    0.160294  0.113961  0.156051  0.098136\n",
       "7  0.208950  0.216087    0.166513  0.129900  0.187133  0.091418\n",
       "8  0.349603  0.188885    0.151012  0.103409  0.128496  0.078594\n",
       "9  0.199558  0.325794    0.144364  0.105855  0.134424  0.090005"
      ]
     },
     "execution_count": 50,
     "metadata": {},
     "output_type": "execute_result"
    }
   ],
   "source": [
    "test_sample_probabilities = pd.DataFrame(sample_proba, columns = class_names)\n",
    "test_sample_probabilities"
   ]
  },
  {
   "cell_type": "code",
   "execution_count": 51,
   "metadata": {},
   "outputs": [
    {
     "data": {
      "text/html": [
       "<div>\n",
       "<style scoped>\n",
       "    .dataframe tbody tr th:only-of-type {\n",
       "        vertical-align: middle;\n",
       "    }\n",
       "\n",
       "    .dataframe tbody tr th {\n",
       "        vertical-align: top;\n",
       "    }\n",
       "\n",
       "    .dataframe thead th {\n",
       "        text-align: right;\n",
       "    }\n",
       "</style>\n",
       "<table border=\"1\" class=\"dataframe\">\n",
       "  <thead>\n",
       "    <tr style=\"text-align: right;\">\n",
       "      <th></th>\n",
       "      <th>bike</th>\n",
       "      <th>car</th>\n",
       "      <th>motorcycle</th>\n",
       "      <th>other</th>\n",
       "      <th>truck</th>\n",
       "      <th>van</th>\n",
       "    </tr>\n",
       "    <tr>\n",
       "      <th></th>\n",
       "      <th></th>\n",
       "      <th></th>\n",
       "      <th></th>\n",
       "      <th></th>\n",
       "      <th></th>\n",
       "      <th></th>\n",
       "    </tr>\n",
       "  </thead>\n",
       "  <tbody>\n",
       "    <tr>\n",
       "      <th>other-0050</th>\n",
       "      <td>0.20</td>\n",
       "      <td>0.23</td>\n",
       "      <td>0.16</td>\n",
       "      <td>0.13</td>\n",
       "      <td>0.18</td>\n",
       "      <td>0.09</td>\n",
       "    </tr>\n",
       "    <tr>\n",
       "      <th>bike-0111</th>\n",
       "      <td>0.34</td>\n",
       "      <td>0.19</td>\n",
       "      <td>0.15</td>\n",
       "      <td>0.11</td>\n",
       "      <td>0.13</td>\n",
       "      <td>0.08</td>\n",
       "    </tr>\n",
       "    <tr>\n",
       "      <th>van-0040</th>\n",
       "      <td>0.20</td>\n",
       "      <td>0.22</td>\n",
       "      <td>0.15</td>\n",
       "      <td>0.12</td>\n",
       "      <td>0.19</td>\n",
       "      <td>0.11</td>\n",
       "    </tr>\n",
       "    <tr>\n",
       "      <th>car-0100</th>\n",
       "      <td>0.20</td>\n",
       "      <td>0.32</td>\n",
       "      <td>0.15</td>\n",
       "      <td>0.11</td>\n",
       "      <td>0.13</td>\n",
       "      <td>0.09</td>\n",
       "    </tr>\n",
       "    <tr>\n",
       "      <th>motorcycle-0082</th>\n",
       "      <td>0.19</td>\n",
       "      <td>0.18</td>\n",
       "      <td>0.30</td>\n",
       "      <td>0.11</td>\n",
       "      <td>0.14</td>\n",
       "      <td>0.08</td>\n",
       "    </tr>\n",
       "    <tr>\n",
       "      <th>other-0049</th>\n",
       "      <td>0.21</td>\n",
       "      <td>0.22</td>\n",
       "      <td>0.17</td>\n",
       "      <td>0.14</td>\n",
       "      <td>0.17</td>\n",
       "      <td>0.09</td>\n",
       "    </tr>\n",
       "    <tr>\n",
       "      <th>car-0103</th>\n",
       "      <td>0.21</td>\n",
       "      <td>0.27</td>\n",
       "      <td>0.16</td>\n",
       "      <td>0.11</td>\n",
       "      <td>0.16</td>\n",
       "      <td>0.10</td>\n",
       "    </tr>\n",
       "    <tr>\n",
       "      <th>truck-0069</th>\n",
       "      <td>0.21</td>\n",
       "      <td>0.22</td>\n",
       "      <td>0.17</td>\n",
       "      <td>0.13</td>\n",
       "      <td>0.19</td>\n",
       "      <td>0.09</td>\n",
       "    </tr>\n",
       "    <tr>\n",
       "      <th>bike-0109</th>\n",
       "      <td>0.35</td>\n",
       "      <td>0.19</td>\n",
       "      <td>0.15</td>\n",
       "      <td>0.10</td>\n",
       "      <td>0.13</td>\n",
       "      <td>0.08</td>\n",
       "    </tr>\n",
       "    <tr>\n",
       "      <th>car-0104</th>\n",
       "      <td>0.20</td>\n",
       "      <td>0.33</td>\n",
       "      <td>0.14</td>\n",
       "      <td>0.11</td>\n",
       "      <td>0.13</td>\n",
       "      <td>0.09</td>\n",
       "    </tr>\n",
       "  </tbody>\n",
       "</table>\n",
       "</div>"
      ],
      "text/plain": [
       "                 bike   car  motorcycle  other  truck   van\n",
       "                                                           \n",
       "other-0050       0.20  0.23        0.16   0.13   0.18  0.09\n",
       "bike-0111        0.34  0.19        0.15   0.11   0.13  0.08\n",
       "van-0040         0.20  0.22        0.15   0.12   0.19  0.11\n",
       "car-0100         0.20  0.32        0.15   0.11   0.13  0.09\n",
       "motorcycle-0082  0.19  0.18        0.30   0.11   0.14  0.08\n",
       "other-0049       0.21  0.22        0.17   0.14   0.17  0.09\n",
       "car-0103         0.21  0.27        0.16   0.11   0.16  0.10\n",
       "truck-0069       0.21  0.22        0.17   0.13   0.19  0.09\n",
       "bike-0109        0.35  0.19        0.15   0.10   0.13  0.08\n",
       "car-0104         0.20  0.33        0.14   0.11   0.13  0.09"
      ]
     },
     "execution_count": 51,
     "metadata": {},
     "output_type": "execute_result"
    }
   ],
   "source": [
    "prob_results_me = pd.concat([img_names.T, test_sample_probabilities], axis = 1).set_index(0).round(2)\n",
    "prob_results_me.index.name = \"\"\n",
    "prob_results_me"
   ]
  },
  {
   "cell_type": "markdown",
   "metadata": {},
   "source": [
    "In this case the results are not good, no dominant class can be identified."
   ]
  },
  {
   "cell_type": "markdown",
   "metadata": {},
   "source": [
    "Case-2: a low C (high regularization)"
   ]
  },
  {
   "cell_type": "code",
   "execution_count": 52,
   "metadata": {},
   "outputs": [
    {
     "name": "stdout",
     "output_type": "stream",
     "text": [
      "Accuracy: 0.240\n"
     ]
    },
    {
     "name": "stderr",
     "output_type": "stream",
     "text": [
      "/Users/tgdstpej/opt/anaconda3/envs/exts-ml/lib/python3.6/site-packages/sklearn/linear_model/sag.py:334: ConvergenceWarning: The max_iter was reached which means the coef_ did not converge\n",
      "  \"the coef_ did not converge\", ConvergenceWarning)\n"
     ]
    },
    {
     "data": {
      "text/plain": [
       "0.24"
      ]
     },
     "execution_count": 52,
     "metadata": {},
     "output_type": "execute_result"
    }
   ],
   "source": [
    "logreg_pipe_low = Pipeline([\n",
    "    ('scaler', None),\n",
    "    ('pca', None),\n",
    "    ('logreg', LogisticRegression( multi_class='multinomial', solver='saga', C=0.0000001)) \n",
    "                ])\n",
    "logreg_pipe_low.fit(X_cv, y_cv)\n",
    "accuracy_low = logreg_pipe_low.score(X_test, y_test)\n",
    "\n",
    "print('Accuracy: {:.3f}'.format(accuracy_low))\n",
    "accuracy_low"
   ]
  },
  {
   "cell_type": "code",
   "execution_count": 53,
   "metadata": {},
   "outputs": [
    {
     "name": "stdout",
     "output_type": "stream",
     "text": [
      "[0.1732442732076821, 0.17260425942468005, 0.16798726344769738, 0.16176008556336657, 0.1650492057256136, 0.15935491263096033]\n",
      "[0.17336991129471005, 0.17258838476859598, 0.16799353045681492, 0.16172730570528812, 0.16499490450624044, 0.15932596326835052]\n",
      "[0.17324220547530447, 0.1725989730332235, 0.16797583497727428, 0.16174935751703332, 0.1650578692819284, 0.15937575971523613]\n",
      "[0.17325263756545173, 0.1726813453556587, 0.1679802568452627, 0.1617342225646732, 0.16500089985075903, 0.15935063781819472]\n",
      "[0.1732273977785714, 0.1725480923879221, 0.16811936270235678, 0.16174407437216431, 0.16500738626550326, 0.159353686493482]\n",
      "[0.1732400314839183, 0.1725831561033232, 0.1679995632788234, 0.16178162209179411, 0.1650374919515509, 0.15935813509059008]\n",
      "[0.1732589469559514, 0.17264616906789446, 0.16799028032661512, 0.16173047891816242, 0.16502154142993014, 0.1593525833014465]\n",
      "[0.17322868050528126, 0.17257521014976057, 0.16799045678813512, 0.161773693345157, 0.16505915633352564, 0.15937280287814037]\n",
      "[0.17336644607168067, 0.17257791007405904, 0.16798839701114948, 0.16173148690116662, 0.1649986738940722, 0.15933708604787206]\n",
      "[0.1732621143292088, 0.17269531040088787, 0.16797662028350027, 0.16172259779808698, 0.1650010209505965, 0.15934233623771962]\n"
     ]
    },
    {
     "data": {
      "text/html": [
       "<div>\n",
       "<style scoped>\n",
       "    .dataframe tbody tr th:only-of-type {\n",
       "        vertical-align: middle;\n",
       "    }\n",
       "\n",
       "    .dataframe tbody tr th {\n",
       "        vertical-align: top;\n",
       "    }\n",
       "\n",
       "    .dataframe thead th {\n",
       "        text-align: right;\n",
       "    }\n",
       "</style>\n",
       "<table border=\"1\" class=\"dataframe\">\n",
       "  <thead>\n",
       "    <tr style=\"text-align: right;\">\n",
       "      <th></th>\n",
       "      <th>bike</th>\n",
       "      <th>car</th>\n",
       "      <th>motorcycle</th>\n",
       "      <th>other</th>\n",
       "      <th>truck</th>\n",
       "      <th>van</th>\n",
       "    </tr>\n",
       "  </thead>\n",
       "  <tbody>\n",
       "    <tr>\n",
       "      <th>0</th>\n",
       "      <td>0.173244</td>\n",
       "      <td>0.172604</td>\n",
       "      <td>0.167987</td>\n",
       "      <td>0.161760</td>\n",
       "      <td>0.165049</td>\n",
       "      <td>0.159355</td>\n",
       "    </tr>\n",
       "    <tr>\n",
       "      <th>1</th>\n",
       "      <td>0.173370</td>\n",
       "      <td>0.172588</td>\n",
       "      <td>0.167994</td>\n",
       "      <td>0.161727</td>\n",
       "      <td>0.164995</td>\n",
       "      <td>0.159326</td>\n",
       "    </tr>\n",
       "    <tr>\n",
       "      <th>2</th>\n",
       "      <td>0.173242</td>\n",
       "      <td>0.172599</td>\n",
       "      <td>0.167976</td>\n",
       "      <td>0.161749</td>\n",
       "      <td>0.165058</td>\n",
       "      <td>0.159376</td>\n",
       "    </tr>\n",
       "    <tr>\n",
       "      <th>3</th>\n",
       "      <td>0.173253</td>\n",
       "      <td>0.172681</td>\n",
       "      <td>0.167980</td>\n",
       "      <td>0.161734</td>\n",
       "      <td>0.165001</td>\n",
       "      <td>0.159351</td>\n",
       "    </tr>\n",
       "    <tr>\n",
       "      <th>4</th>\n",
       "      <td>0.173227</td>\n",
       "      <td>0.172548</td>\n",
       "      <td>0.168119</td>\n",
       "      <td>0.161744</td>\n",
       "      <td>0.165007</td>\n",
       "      <td>0.159354</td>\n",
       "    </tr>\n",
       "    <tr>\n",
       "      <th>5</th>\n",
       "      <td>0.173240</td>\n",
       "      <td>0.172583</td>\n",
       "      <td>0.168000</td>\n",
       "      <td>0.161782</td>\n",
       "      <td>0.165037</td>\n",
       "      <td>0.159358</td>\n",
       "    </tr>\n",
       "    <tr>\n",
       "      <th>6</th>\n",
       "      <td>0.173259</td>\n",
       "      <td>0.172646</td>\n",
       "      <td>0.167990</td>\n",
       "      <td>0.161730</td>\n",
       "      <td>0.165022</td>\n",
       "      <td>0.159353</td>\n",
       "    </tr>\n",
       "    <tr>\n",
       "      <th>7</th>\n",
       "      <td>0.173229</td>\n",
       "      <td>0.172575</td>\n",
       "      <td>0.167990</td>\n",
       "      <td>0.161774</td>\n",
       "      <td>0.165059</td>\n",
       "      <td>0.159373</td>\n",
       "    </tr>\n",
       "    <tr>\n",
       "      <th>8</th>\n",
       "      <td>0.173366</td>\n",
       "      <td>0.172578</td>\n",
       "      <td>0.167988</td>\n",
       "      <td>0.161731</td>\n",
       "      <td>0.164999</td>\n",
       "      <td>0.159337</td>\n",
       "    </tr>\n",
       "    <tr>\n",
       "      <th>9</th>\n",
       "      <td>0.173262</td>\n",
       "      <td>0.172695</td>\n",
       "      <td>0.167977</td>\n",
       "      <td>0.161723</td>\n",
       "      <td>0.165001</td>\n",
       "      <td>0.159342</td>\n",
       "    </tr>\n",
       "  </tbody>\n",
       "</table>\n",
       "</div>"
      ],
      "text/plain": [
       "       bike       car  motorcycle     other     truck       van\n",
       "0  0.173244  0.172604    0.167987  0.161760  0.165049  0.159355\n",
       "1  0.173370  0.172588    0.167994  0.161727  0.164995  0.159326\n",
       "2  0.173242  0.172599    0.167976  0.161749  0.165058  0.159376\n",
       "3  0.173253  0.172681    0.167980  0.161734  0.165001  0.159351\n",
       "4  0.173227  0.172548    0.168119  0.161744  0.165007  0.159354\n",
       "5  0.173240  0.172583    0.168000  0.161782  0.165037  0.159358\n",
       "6  0.173259  0.172646    0.167990  0.161730  0.165022  0.159353\n",
       "7  0.173229  0.172575    0.167990  0.161774  0.165059  0.159373\n",
       "8  0.173366  0.172578    0.167988  0.161731  0.164999  0.159337\n",
       "9  0.173262  0.172695    0.167977  0.161723  0.165001  0.159342"
      ]
     },
     "execution_count": 53,
     "metadata": {},
     "output_type": "execute_result"
    }
   ],
   "source": [
    "class_names = ['bike', 'car', 'motorcycle', 'other', 'truck', 'van']\n",
    "sample_proba = []\n",
    "for i in idx:\n",
    "    test_sample_prob = logreg_pipe_low.predict_proba(X_test[i].reshape(1,-1))\n",
    "    #print(test_sample_prob)\n",
    "    flat_sample_prob = [item for sublist in test_sample_prob for item in sublist]\n",
    "    print(flat_sample_prob)\n",
    "    sample_proba.append(flat_sample_prob)\n",
    "    \n",
    "test_sample_probabilities_low = pd.DataFrame(sample_proba, columns = class_names)\n",
    "test_sample_probabilities_low"
   ]
  },
  {
   "cell_type": "code",
   "execution_count": 54,
   "metadata": {},
   "outputs": [
    {
     "data": {
      "text/html": [
       "<div>\n",
       "<style scoped>\n",
       "    .dataframe tbody tr th:only-of-type {\n",
       "        vertical-align: middle;\n",
       "    }\n",
       "\n",
       "    .dataframe tbody tr th {\n",
       "        vertical-align: top;\n",
       "    }\n",
       "\n",
       "    .dataframe thead th {\n",
       "        text-align: right;\n",
       "    }\n",
       "</style>\n",
       "<table border=\"1\" class=\"dataframe\">\n",
       "  <thead>\n",
       "    <tr style=\"text-align: right;\">\n",
       "      <th></th>\n",
       "      <th>bike</th>\n",
       "      <th>car</th>\n",
       "      <th>motorcycle</th>\n",
       "      <th>other</th>\n",
       "      <th>truck</th>\n",
       "      <th>van</th>\n",
       "    </tr>\n",
       "    <tr>\n",
       "      <th></th>\n",
       "      <th></th>\n",
       "      <th></th>\n",
       "      <th></th>\n",
       "      <th></th>\n",
       "      <th></th>\n",
       "      <th></th>\n",
       "    </tr>\n",
       "  </thead>\n",
       "  <tbody>\n",
       "    <tr>\n",
       "      <th>other-0050</th>\n",
       "      <td>0.17</td>\n",
       "      <td>0.17</td>\n",
       "      <td>0.17</td>\n",
       "      <td>0.16</td>\n",
       "      <td>0.17</td>\n",
       "      <td>0.16</td>\n",
       "    </tr>\n",
       "    <tr>\n",
       "      <th>bike-0111</th>\n",
       "      <td>0.17</td>\n",
       "      <td>0.17</td>\n",
       "      <td>0.17</td>\n",
       "      <td>0.16</td>\n",
       "      <td>0.16</td>\n",
       "      <td>0.16</td>\n",
       "    </tr>\n",
       "    <tr>\n",
       "      <th>van-0040</th>\n",
       "      <td>0.17</td>\n",
       "      <td>0.17</td>\n",
       "      <td>0.17</td>\n",
       "      <td>0.16</td>\n",
       "      <td>0.17</td>\n",
       "      <td>0.16</td>\n",
       "    </tr>\n",
       "    <tr>\n",
       "      <th>car-0100</th>\n",
       "      <td>0.17</td>\n",
       "      <td>0.17</td>\n",
       "      <td>0.17</td>\n",
       "      <td>0.16</td>\n",
       "      <td>0.17</td>\n",
       "      <td>0.16</td>\n",
       "    </tr>\n",
       "    <tr>\n",
       "      <th>motorcycle-0082</th>\n",
       "      <td>0.17</td>\n",
       "      <td>0.17</td>\n",
       "      <td>0.17</td>\n",
       "      <td>0.16</td>\n",
       "      <td>0.17</td>\n",
       "      <td>0.16</td>\n",
       "    </tr>\n",
       "    <tr>\n",
       "      <th>other-0049</th>\n",
       "      <td>0.17</td>\n",
       "      <td>0.17</td>\n",
       "      <td>0.17</td>\n",
       "      <td>0.16</td>\n",
       "      <td>0.17</td>\n",
       "      <td>0.16</td>\n",
       "    </tr>\n",
       "    <tr>\n",
       "      <th>car-0103</th>\n",
       "      <td>0.17</td>\n",
       "      <td>0.17</td>\n",
       "      <td>0.17</td>\n",
       "      <td>0.16</td>\n",
       "      <td>0.17</td>\n",
       "      <td>0.16</td>\n",
       "    </tr>\n",
       "    <tr>\n",
       "      <th>truck-0069</th>\n",
       "      <td>0.17</td>\n",
       "      <td>0.17</td>\n",
       "      <td>0.17</td>\n",
       "      <td>0.16</td>\n",
       "      <td>0.17</td>\n",
       "      <td>0.16</td>\n",
       "    </tr>\n",
       "    <tr>\n",
       "      <th>bike-0109</th>\n",
       "      <td>0.17</td>\n",
       "      <td>0.17</td>\n",
       "      <td>0.17</td>\n",
       "      <td>0.16</td>\n",
       "      <td>0.16</td>\n",
       "      <td>0.16</td>\n",
       "    </tr>\n",
       "    <tr>\n",
       "      <th>car-0104</th>\n",
       "      <td>0.17</td>\n",
       "      <td>0.17</td>\n",
       "      <td>0.17</td>\n",
       "      <td>0.16</td>\n",
       "      <td>0.17</td>\n",
       "      <td>0.16</td>\n",
       "    </tr>\n",
       "  </tbody>\n",
       "</table>\n",
       "</div>"
      ],
      "text/plain": [
       "                 bike   car  motorcycle  other  truck   van\n",
       "                                                           \n",
       "other-0050       0.17  0.17        0.17   0.16   0.17  0.16\n",
       "bike-0111        0.17  0.17        0.17   0.16   0.16  0.16\n",
       "van-0040         0.17  0.17        0.17   0.16   0.17  0.16\n",
       "car-0100         0.17  0.17        0.17   0.16   0.17  0.16\n",
       "motorcycle-0082  0.17  0.17        0.17   0.16   0.17  0.16\n",
       "other-0049       0.17  0.17        0.17   0.16   0.17  0.16\n",
       "car-0103         0.17  0.17        0.17   0.16   0.17  0.16\n",
       "truck-0069       0.17  0.17        0.17   0.16   0.17  0.16\n",
       "bike-0109        0.17  0.17        0.17   0.16   0.16  0.16\n",
       "car-0104         0.17  0.17        0.17   0.16   0.17  0.16"
      ]
     },
     "execution_count": 54,
     "metadata": {},
     "output_type": "execute_result"
    }
   ],
   "source": [
    "prob_results_low = pd.concat([img_names.T, test_sample_probabilities_low], axis = 1).set_index(0).round(2)\n",
    "prob_results_low.index.name = \"\"\n",
    "prob_results_low"
   ]
  },
  {
   "cell_type": "markdown",
   "metadata": {},
   "source": [
    "We see here that the probabilities are almost evenly distributed across the classes and no classification is porssible. It is almost random."
   ]
  },
  {
   "cell_type": "code",
   "execution_count": 55,
   "metadata": {},
   "outputs": [
    {
     "data": {
      "image/png": "[encoded data removed]",
      "text/plain": [
       "<Figure size 432x288 with 1 Axes>"
      ]
     },
     "metadata": {
      "needs_background": "light"
     },
     "output_type": "display_data"
    }
   ],
   "source": [
    "plt.semilogx(cv_results['param_logreg__C'], cv_results['mean_test_score'])\n",
    "plt.xlabel('C')\n",
    "plt.ylabel('test score')\n",
    "plt.legend()\n",
    "plt.show()"
   ]
  },
  {
   "cell_type": "markdown",
   "metadata": {},
   "source": [
    "Case-3: a high C (low regularization)"
   ]
  },
  {
   "cell_type": "code",
   "execution_count": null,
   "metadata": {},
   "outputs": [],
   "source": []
  },
  {
   "cell_type": "code",
   "execution_count": 56,
   "metadata": {},
   "outputs": [
    {
     "name": "stdout",
     "output_type": "stream",
     "text": [
      "Accuracy: 0.960\n"
     ]
    },
    {
     "name": "stderr",
     "output_type": "stream",
     "text": [
      "/Users/tgdstpej/opt/anaconda3/envs/exts-ml/lib/python3.6/site-packages/sklearn/linear_model/sag.py:334: ConvergenceWarning: The max_iter was reached which means the coef_ did not converge\n",
      "  \"the coef_ did not converge\", ConvergenceWarning)\n"
     ]
    },
    {
     "data": {
      "text/plain": [
       "0.96"
      ]
     },
     "execution_count": 56,
     "metadata": {},
     "output_type": "execute_result"
    }
   ],
   "source": [
    "logreg_pipe_high = Pipeline([\n",
    "    ('scaler', None),\n",
    "    ('pca', None),\n",
    "    ('logreg', LogisticRegression( multi_class='multinomial', solver='saga', C=1000)) \n",
    "                ])\n",
    "logreg_pipe_high.fit(X_cv, y_cv)\n",
    "accuracy_high = logreg_pipe_high.score(X_test, y_test)\n",
    "\n",
    "print('Accuracy: {:.3f}'.format(accuracy_high))\n",
    "accuracy_high"
   ]
  },
  {
   "cell_type": "code",
   "execution_count": 57,
   "metadata": {},
   "outputs": [
    {
     "name": "stdout",
     "output_type": "stream",
     "text": [
      "[0.00023410185207662363, 0.0035988412704067293, 0.0011775633693642627, 0.08425602698430486, 0.9087499446275331, 0.0019835218963144014]\n",
      "[0.999868051737013, 6.990072079793568e-06, 5.13323960939822e-06, 0.00011856775722176524, 7.219141364990683e-07, 5.352799394116368e-07]\n",
      "[0.00012590792316317083, 0.0003065622600700031, 3.29796073845607e-05, 0.00022958229404773076, 0.4799784154279951, 0.5193265524873395]\n",
      "[1.947581877221751e-05, 0.9998325313934866, 6.720727190819758e-06, 3.2832627316295935e-05, 1.903781436176384e-07, 0.00010824905509055138]\n",
      "[1.1450253707746925e-05, 8.097629152927776e-06, 0.9999457461144492, 1.7335020136874555e-05, 1.560708124787214e-05, 1.76390130512864e-06]\n",
      "[3.643358052782609e-06, 1.9853066342712402e-05, 2.8273842037529887e-05, 0.9997582403145236, 0.00018787054862173021, 2.118870421387911e-06]\n",
      "[0.0019401027934768556, 0.7694403310055956, 0.0008010517406640141, 0.005727532020304437, 0.006878599185620953, 0.21521238325433822]\n",
      "[1.4709620160318228e-05, 0.00012182441613474735, 2.715221249653346e-05, 0.00024308086305120245, 0.9995814876579638, 1.1745230193375214e-05]\n",
      "[0.9999836888921622, 5.226932306822191e-06, 7.807565795066077e-07, 9.454467986477774e-06, 3.152313229160598e-07, 5.337196423573913e-07]\n",
      "[1.0340553544423151e-05, 0.9996048286988828, 3.2638232716660244e-06, 8.828367967810474e-06, 2.470124738869222e-07, 0.0003724915438592486]\n"
     ]
    },
    {
     "data": {
      "text/html": [
       "<div>\n",
       "<style scoped>\n",
       "    .dataframe tbody tr th:only-of-type {\n",
       "        vertical-align: middle;\n",
       "    }\n",
       "\n",
       "    .dataframe tbody tr th {\n",
       "        vertical-align: top;\n",
       "    }\n",
       "\n",
       "    .dataframe thead th {\n",
       "        text-align: right;\n",
       "    }\n",
       "</style>\n",
       "<table border=\"1\" class=\"dataframe\">\n",
       "  <thead>\n",
       "    <tr style=\"text-align: right;\">\n",
       "      <th></th>\n",
       "      <th>bike</th>\n",
       "      <th>car</th>\n",
       "      <th>motorcycle</th>\n",
       "      <th>other</th>\n",
       "      <th>truck</th>\n",
       "      <th>van</th>\n",
       "    </tr>\n",
       "  </thead>\n",
       "  <tbody>\n",
       "    <tr>\n",
       "      <th>0</th>\n",
       "      <td>0.000234</td>\n",
       "      <td>0.003599</td>\n",
       "      <td>1.177563e-03</td>\n",
       "      <td>0.084256</td>\n",
       "      <td>9.087499e-01</td>\n",
       "      <td>1.983522e-03</td>\n",
       "    </tr>\n",
       "    <tr>\n",
       "      <th>1</th>\n",
       "      <td>0.999868</td>\n",
       "      <td>0.000007</td>\n",
       "      <td>5.133240e-06</td>\n",
       "      <td>0.000119</td>\n",
       "      <td>7.219141e-07</td>\n",
       "      <td>5.352799e-07</td>\n",
       "    </tr>\n",
       "    <tr>\n",
       "      <th>2</th>\n",
       "      <td>0.000126</td>\n",
       "      <td>0.000307</td>\n",
       "      <td>3.297961e-05</td>\n",
       "      <td>0.000230</td>\n",
       "      <td>4.799784e-01</td>\n",
       "      <td>5.193266e-01</td>\n",
       "    </tr>\n",
       "    <tr>\n",
       "      <th>3</th>\n",
       "      <td>0.000019</td>\n",
       "      <td>0.999833</td>\n",
       "      <td>6.720727e-06</td>\n",
       "      <td>0.000033</td>\n",
       "      <td>1.903781e-07</td>\n",
       "      <td>1.082491e-04</td>\n",
       "    </tr>\n",
       "    <tr>\n",
       "      <th>4</th>\n",
       "      <td>0.000011</td>\n",
       "      <td>0.000008</td>\n",
       "      <td>9.999457e-01</td>\n",
       "      <td>0.000017</td>\n",
       "      <td>1.560708e-05</td>\n",
       "      <td>1.763901e-06</td>\n",
       "    </tr>\n",
       "    <tr>\n",
       "      <th>5</th>\n",
       "      <td>0.000004</td>\n",
       "      <td>0.000020</td>\n",
       "      <td>2.827384e-05</td>\n",
       "      <td>0.999758</td>\n",
       "      <td>1.878705e-04</td>\n",
       "      <td>2.118870e-06</td>\n",
       "    </tr>\n",
       "    <tr>\n",
       "      <th>6</th>\n",
       "      <td>0.001940</td>\n",
       "      <td>0.769440</td>\n",
       "      <td>8.010517e-04</td>\n",
       "      <td>0.005728</td>\n",
       "      <td>6.878599e-03</td>\n",
       "      <td>2.152124e-01</td>\n",
       "    </tr>\n",
       "    <tr>\n",
       "      <th>7</th>\n",
       "      <td>0.000015</td>\n",
       "      <td>0.000122</td>\n",
       "      <td>2.715221e-05</td>\n",
       "      <td>0.000243</td>\n",
       "      <td>9.995815e-01</td>\n",
       "      <td>1.174523e-05</td>\n",
       "    </tr>\n",
       "    <tr>\n",
       "      <th>8</th>\n",
       "      <td>0.999984</td>\n",
       "      <td>0.000005</td>\n",
       "      <td>7.807566e-07</td>\n",
       "      <td>0.000009</td>\n",
       "      <td>3.152313e-07</td>\n",
       "      <td>5.337196e-07</td>\n",
       "    </tr>\n",
       "    <tr>\n",
       "      <th>9</th>\n",
       "      <td>0.000010</td>\n",
       "      <td>0.999605</td>\n",
       "      <td>3.263823e-06</td>\n",
       "      <td>0.000009</td>\n",
       "      <td>2.470125e-07</td>\n",
       "      <td>3.724915e-04</td>\n",
       "    </tr>\n",
       "  </tbody>\n",
       "</table>\n",
       "</div>"
      ],
      "text/plain": [
       "       bike       car    motorcycle     other         truck           van\n",
       "0  0.000234  0.003599  1.177563e-03  0.084256  9.087499e-01  1.983522e-03\n",
       "1  0.999868  0.000007  5.133240e-06  0.000119  7.219141e-07  5.352799e-07\n",
       "2  0.000126  0.000307  3.297961e-05  0.000230  4.799784e-01  5.193266e-01\n",
       "3  0.000019  0.999833  6.720727e-06  0.000033  1.903781e-07  1.082491e-04\n",
       "4  0.000011  0.000008  9.999457e-01  0.000017  1.560708e-05  1.763901e-06\n",
       "5  0.000004  0.000020  2.827384e-05  0.999758  1.878705e-04  2.118870e-06\n",
       "6  0.001940  0.769440  8.010517e-04  0.005728  6.878599e-03  2.152124e-01\n",
       "7  0.000015  0.000122  2.715221e-05  0.000243  9.995815e-01  1.174523e-05\n",
       "8  0.999984  0.000005  7.807566e-07  0.000009  3.152313e-07  5.337196e-07\n",
       "9  0.000010  0.999605  3.263823e-06  0.000009  2.470125e-07  3.724915e-04"
      ]
     },
     "execution_count": 57,
     "metadata": {},
     "output_type": "execute_result"
    }
   ],
   "source": [
    "class_names = ['bike', 'car', 'motorcycle', 'other', 'truck', 'van']\n",
    "sample_proba = []\n",
    "for i in idx:\n",
    "    test_sample_prob = logreg_pipe_high.predict_proba(X_test[i].reshape(1,-1))\n",
    "    #print(test_sample_prob)\n",
    "    flat_sample_prob = [item for sublist in test_sample_prob for item in sublist]\n",
    "    print(flat_sample_prob)\n",
    "    sample_proba.append(flat_sample_prob)\n",
    "    \n",
    "test_sample_probabilities_high = pd.DataFrame(sample_proba, columns = class_names)\n",
    "test_sample_probabilities_high"
   ]
  },
  {
   "cell_type": "code",
   "execution_count": 58,
   "metadata": {},
   "outputs": [
    {
     "data": {
      "text/html": [
       "<div>\n",
       "<style scoped>\n",
       "    .dataframe tbody tr th:only-of-type {\n",
       "        vertical-align: middle;\n",
       "    }\n",
       "\n",
       "    .dataframe tbody tr th {\n",
       "        vertical-align: top;\n",
       "    }\n",
       "\n",
       "    .dataframe thead th {\n",
       "        text-align: right;\n",
       "    }\n",
       "</style>\n",
       "<table border=\"1\" class=\"dataframe\">\n",
       "  <thead>\n",
       "    <tr style=\"text-align: right;\">\n",
       "      <th></th>\n",
       "      <th>bike</th>\n",
       "      <th>car</th>\n",
       "      <th>motorcycle</th>\n",
       "      <th>other</th>\n",
       "      <th>truck</th>\n",
       "      <th>van</th>\n",
       "    </tr>\n",
       "    <tr>\n",
       "      <th></th>\n",
       "      <th></th>\n",
       "      <th></th>\n",
       "      <th></th>\n",
       "      <th></th>\n",
       "      <th></th>\n",
       "      <th></th>\n",
       "    </tr>\n",
       "  </thead>\n",
       "  <tbody>\n",
       "    <tr>\n",
       "      <th>other-0050</th>\n",
       "      <td>0.0</td>\n",
       "      <td>0.00</td>\n",
       "      <td>0.0</td>\n",
       "      <td>0.08</td>\n",
       "      <td>0.91</td>\n",
       "      <td>0.00</td>\n",
       "    </tr>\n",
       "    <tr>\n",
       "      <th>bike-0111</th>\n",
       "      <td>1.0</td>\n",
       "      <td>0.00</td>\n",
       "      <td>0.0</td>\n",
       "      <td>0.00</td>\n",
       "      <td>0.00</td>\n",
       "      <td>0.00</td>\n",
       "    </tr>\n",
       "    <tr>\n",
       "      <th>van-0040</th>\n",
       "      <td>0.0</td>\n",
       "      <td>0.00</td>\n",
       "      <td>0.0</td>\n",
       "      <td>0.00</td>\n",
       "      <td>0.48</td>\n",
       "      <td>0.52</td>\n",
       "    </tr>\n",
       "    <tr>\n",
       "      <th>car-0100</th>\n",
       "      <td>0.0</td>\n",
       "      <td>1.00</td>\n",
       "      <td>0.0</td>\n",
       "      <td>0.00</td>\n",
       "      <td>0.00</td>\n",
       "      <td>0.00</td>\n",
       "    </tr>\n",
       "    <tr>\n",
       "      <th>motorcycle-0082</th>\n",
       "      <td>0.0</td>\n",
       "      <td>0.00</td>\n",
       "      <td>1.0</td>\n",
       "      <td>0.00</td>\n",
       "      <td>0.00</td>\n",
       "      <td>0.00</td>\n",
       "    </tr>\n",
       "    <tr>\n",
       "      <th>other-0049</th>\n",
       "      <td>0.0</td>\n",
       "      <td>0.00</td>\n",
       "      <td>0.0</td>\n",
       "      <td>1.00</td>\n",
       "      <td>0.00</td>\n",
       "      <td>0.00</td>\n",
       "    </tr>\n",
       "    <tr>\n",
       "      <th>car-0103</th>\n",
       "      <td>0.0</td>\n",
       "      <td>0.77</td>\n",
       "      <td>0.0</td>\n",
       "      <td>0.01</td>\n",
       "      <td>0.01</td>\n",
       "      <td>0.22</td>\n",
       "    </tr>\n",
       "    <tr>\n",
       "      <th>truck-0069</th>\n",
       "      <td>0.0</td>\n",
       "      <td>0.00</td>\n",
       "      <td>0.0</td>\n",
       "      <td>0.00</td>\n",
       "      <td>1.00</td>\n",
       "      <td>0.00</td>\n",
       "    </tr>\n",
       "    <tr>\n",
       "      <th>bike-0109</th>\n",
       "      <td>1.0</td>\n",
       "      <td>0.00</td>\n",
       "      <td>0.0</td>\n",
       "      <td>0.00</td>\n",
       "      <td>0.00</td>\n",
       "      <td>0.00</td>\n",
       "    </tr>\n",
       "    <tr>\n",
       "      <th>car-0104</th>\n",
       "      <td>0.0</td>\n",
       "      <td>1.00</td>\n",
       "      <td>0.0</td>\n",
       "      <td>0.00</td>\n",
       "      <td>0.00</td>\n",
       "      <td>0.00</td>\n",
       "    </tr>\n",
       "  </tbody>\n",
       "</table>\n",
       "</div>"
      ],
      "text/plain": [
       "                 bike   car  motorcycle  other  truck   van\n",
       "                                                           \n",
       "other-0050        0.0  0.00         0.0   0.08   0.91  0.00\n",
       "bike-0111         1.0  0.00         0.0   0.00   0.00  0.00\n",
       "van-0040          0.0  0.00         0.0   0.00   0.48  0.52\n",
       "car-0100          0.0  1.00         0.0   0.00   0.00  0.00\n",
       "motorcycle-0082   0.0  0.00         1.0   0.00   0.00  0.00\n",
       "other-0049        0.0  0.00         0.0   1.00   0.00  0.00\n",
       "car-0103          0.0  0.77         0.0   0.01   0.01  0.22\n",
       "truck-0069        0.0  0.00         0.0   0.00   1.00  0.00\n",
       "bike-0109         1.0  0.00         0.0   0.00   0.00  0.00\n",
       "car-0104          0.0  1.00         0.0   0.00   0.00  0.00"
      ]
     },
     "execution_count": 58,
     "metadata": {},
     "output_type": "execute_result"
    }
   ],
   "source": [
    "prob_results_high = pd.concat([img_names.T, test_sample_probabilities_high], axis = 1).set_index(0).round(2)\n",
    "prob_results_high.index.name = \"\"\n",
    "prob_results_high"
   ]
  },
  {
   "cell_type": "markdown",
   "metadata": {},
   "source": [
    "Int his case the classification works very well."
   ]
  },
  {
   "cell_type": "code",
   "execution_count": null,
   "metadata": {},
   "outputs": [],
   "source": []
  }
 ],
 "metadata": {
  "kernelspec": {
   "display_name": "Python 3",
   "language": "python",
   "name": "python3"
  },
  "language_info": {
   "codemirror_mode": {
    "name": "ipython",
    "version": 3
   },
   "file_extension": ".py",
   "mimetype": "text/x-python",
   "name": "python",
   "nbconvert_exporter": "python",
   "pygments_lexer": "ipython3",
   "version": "3.6.13"
  }
 },
 "nbformat": 4,
 "nbformat_minor": 4
}
